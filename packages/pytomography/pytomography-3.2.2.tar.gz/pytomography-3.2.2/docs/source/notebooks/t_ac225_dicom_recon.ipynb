{
 "cells": [
  {
   "cell_type": "markdown",
   "id": "03498682",
   "metadata": {
    "papermill": {
     "duration": 0.00348,
     "end_time": "2024-08-01T00:35:19.186359",
     "exception": false,
     "start_time": "2024-08-01T00:35:19.182879",
     "status": "completed"
    },
    "tags": []
   },
   "source": [
    "# Ac-225 Advanced PSF Modeling (DICOM)"
   ]
  },
  {
   "cell_type": "markdown",
   "id": "8fba0269",
   "metadata": {
    "papermill": {
     "duration": 0.004641,
     "end_time": "2024-08-01T00:35:19.196506",
     "exception": false,
     "start_time": "2024-08-01T00:35:19.191865",
     "status": "completed"
    },
    "tags": []
   },
   "source": [
    "This tutorial uses the PSF operators obtained using the SPECTPSF toolbox to reconstruct Ac225 data. The operator was obtained using tutorial 5, available at this [link](https://github.com/lukepolson/SPECTPSFToolbox/blob/main/tutorials/5_optimization_ac225.ipynb). Use of this operator requires the SPECTPSFToolbox to be installed; instructions for installing can be found on the README [here](https://github.com/lukepolson/SPECTPSFToolbox/tree/main)"
   ]
  },
  {
   "cell_type": "code",
   "execution_count": 1,
   "id": "d79369fa",
   "metadata": {
    "execution": {
     "iopub.execute_input": "2024-08-01T00:35:19.204653Z",
     "iopub.status.busy": "2024-08-01T00:35:19.203822Z",
     "iopub.status.idle": "2024-08-01T00:35:24.325011Z",
     "shell.execute_reply": "2024-08-01T00:35:24.324218Z"
    },
    "papermill": {
     "duration": 5.127815,
     "end_time": "2024-08-01T00:35:24.327111",
     "exception": false,
     "start_time": "2024-08-01T00:35:19.199296",
     "status": "completed"
    },
    "tags": []
   },
   "outputs": [
    {
     "name": "stdout",
     "output_type": "stream",
     "text": [
      "\n",
      "          -  -  -  -  -  -  -  -   -  -  -  -\n",
      "          P  A  R  A  L  L  E  L | P  R  O  J\n",
      "          -  -  -  -  -  -  -  -   -  -  -  -\n",
      "\n",
      "    =================================================\n",
      "\n",
      "         Please consider citing our publication\n",
      "      ---------------------------------------------\n",
      "      Georg Schramm and Kris Thielemans:\n",
      "      \"PARALLELPROJ—an open-source framework for\n",
      "       fast calculation of projections in\n",
      "       tomography\"\n",
      "      Front. Nucl. Med., 08 January 2024\n",
      "      Sec. PET and SPECT, Vol 3\n",
      "      https://doi.org/10.3389/fnume.2023.1324562\n",
      "\n",
      "    =================================================\n",
      " \n",
      "    parallelproj C    lib: /data/anaconda/envs/pytomo_install_test/lib/libparallelproj_c.so.1.8.0\n",
      "    parallelproj CUDA lib: /data/anaconda/envs/pytomo_install_test/lib/libparallelproj_cuda.so.1.8.0\n",
      "    \n"
     ]
    }
   ],
   "source": [
    "import matplotlib.pyplot as plt\n",
    "import torch # needed for kernels\n",
    "import pytomography\n",
    "from pytomography.projectors.SPECT import SPECTSystemMatrix\n",
    "from pytomography.io.SPECT import dicom\n",
    "from pytomography.algorithms import OSEM\n",
    "from pytomography.likelihoods import PoissonLogLikelihood\n",
    "from pytomography.transforms.SPECT import SPECTAttenuationTransform, SPECTPSFTransform\n",
    "from pytomography.transforms.shared import GaussianFilter\n",
    "from pytomography.io.SPECT.shared import subsample_projections_and_modify_metadata\n",
    "import dill\n",
    "import os"
   ]
  },
  {
   "cell_type": "markdown",
   "id": "e192c2c8",
   "metadata": {
    "papermill": {
     "duration": 0.00305,
     "end_time": "2024-08-01T00:35:24.333896",
     "exception": false,
     "start_time": "2024-08-01T00:35:24.330846",
     "status": "completed"
    },
    "tags": []
   },
   "source": [
    "Tutorial data path"
   ]
  },
  {
   "cell_type": "code",
   "execution_count": 2,
   "id": "1de46494",
   "metadata": {
    "execution": {
     "iopub.execute_input": "2024-08-01T00:35:24.341427Z",
     "iopub.status.busy": "2024-08-01T00:35:24.340787Z",
     "iopub.status.idle": "2024-08-01T00:35:24.344406Z",
     "shell.execute_reply": "2024-08-01T00:35:24.343785Z"
    },
    "papermill": {
     "duration": 0.008795,
     "end_time": "2024-08-01T00:35:24.345664",
     "exception": false,
     "start_time": "2024-08-01T00:35:24.336869",
     "status": "completed"
    },
    "tags": []
   },
   "outputs": [],
   "source": [
    "path  = '/disk1/pytomography_tutorial_data'"
   ]
  },
  {
   "cell_type": "markdown",
   "id": "793e12d3",
   "metadata": {
    "papermill": {
     "duration": 0.003062,
     "end_time": "2024-08-01T00:35:24.351700",
     "exception": false,
     "start_time": "2024-08-01T00:35:24.348638",
     "status": "completed"
    },
    "tags": []
   },
   "source": [
    "Location of files"
   ]
  },
  {
   "cell_type": "code",
   "execution_count": 3,
   "id": "81409907",
   "metadata": {
    "execution": {
     "iopub.execute_input": "2024-08-01T00:35:24.358876Z",
     "iopub.status.busy": "2024-08-01T00:35:24.358346Z",
     "iopub.status.idle": "2024-08-01T00:35:24.362433Z",
     "shell.execute_reply": "2024-08-01T00:35:24.361810Z"
    },
    "papermill": {
     "duration": 0.008962,
     "end_time": "2024-08-01T00:35:24.363685",
     "exception": false,
     "start_time": "2024-08-01T00:35:24.354723",
     "status": "completed"
    },
    "tags": []
   },
   "outputs": [],
   "source": [
    "pathCT = os.path.join(path, 'ac225_tutorials', 'dicom', 'CT')\n",
    "files_CT = [os.path.join(pathCT, file) for file in os.listdir(pathCT)]\n",
    "file_NM = os.path.join(path, 'ac225_tutorials', 'dicom', 'projection_data.IMA')"
   ]
  },
  {
   "cell_type": "markdown",
   "id": "141eb774",
   "metadata": {
    "papermill": {
     "duration": 0.003832,
     "end_time": "2024-08-01T00:35:24.370497",
     "exception": false,
     "start_time": "2024-08-01T00:35:24.366665",
     "status": "completed"
    },
    "tags": []
   },
   "source": [
    "Open the PSF operator created in [this tutorial](https://github.com/lukepolson/SPECTPSFToolbox/blob/main/tutorials/5_optimization_ac225.ipynb)"
   ]
  },
  {
   "cell_type": "code",
   "execution_count": 4,
   "id": "e6a7b810",
   "metadata": {
    "execution": {
     "iopub.execute_input": "2024-08-01T00:35:24.377781Z",
     "iopub.status.busy": "2024-08-01T00:35:24.377468Z",
     "iopub.status.idle": "2024-08-01T00:35:25.029401Z",
     "shell.execute_reply": "2024-08-01T00:35:25.028460Z"
    },
    "papermill": {
     "duration": 0.657954,
     "end_time": "2024-08-01T00:35:25.031434",
     "exception": false,
     "start_time": "2024-08-01T00:35:24.373480",
     "status": "completed"
    },
    "tags": []
   },
   "outputs": [],
   "source": [
    "with open(os.path.join(path, 'ac225_tutorials', 'psf_operator_ac225.pkl'), 'rb') as f:\n",
    "    psf_operator = dill.load(f)\n",
    "    psf_operator.set_device(pytomography.device)"
   ]
  },
  {
   "cell_type": "markdown",
   "id": "0c77dc88",
   "metadata": {
    "papermill": {
     "duration": 0.003172,
     "end_time": "2024-08-01T00:35:25.038445",
     "exception": false,
     "start_time": "2024-08-01T00:35:25.035273",
     "status": "completed"
    },
    "tags": []
   },
   "source": [
    "Define the peak, lower, and upper indices"
   ]
  },
  {
   "cell_type": "code",
   "execution_count": 5,
   "id": "f8f4a96c",
   "metadata": {
    "execution": {
     "iopub.execute_input": "2024-08-01T00:35:25.045983Z",
     "iopub.status.busy": "2024-08-01T00:35:25.045510Z",
     "iopub.status.idle": "2024-08-01T00:35:31.239435Z",
     "shell.execute_reply": "2024-08-01T00:35:31.238601Z"
    },
    "papermill": {
     "duration": 6.200007,
     "end_time": "2024-08-01T00:35:31.241456",
     "exception": false,
     "start_time": "2024-08-01T00:35:25.041449",
     "status": "completed"
    },
    "tags": []
   },
   "outputs": [
    {
     "name": "stderr",
     "output_type": "stream",
     "text": [
      "/data/home/gpuvmadm/PyTomography/src/pytomography/io/SPECT/attenuation_map.py:92: Warning: Could not find cortical bone peak: defaulting to 75% kVp value\n",
      "  warnings.warn(\"Could not find cortical bone peak: defaulting to 75% kVp value\", category=Warning)\n"
     ]
    }
   ],
   "source": [
    "index_peak = 3\n",
    "index_lower = 4\n",
    "index_upper = 5\n",
    "object_meta, proj_meta = dicom.get_metadata(file_NM, index_peak=index_peak)\n",
    "projections = dicom.get_projections(file_NM)\n",
    "attenuation_map = dicom.get_attenuation_map_from_CT_slices(files_CT, file_NM, index_peak=index_peak, HU2mu_technique='from_cortical_bone_fit')"
   ]
  },
  {
   "cell_type": "markdown",
   "id": "35dc77da",
   "metadata": {
    "papermill": {
     "duration": 0.003124,
     "end_time": "2024-08-01T00:35:31.248751",
     "exception": false,
     "start_time": "2024-08-01T00:35:31.245627",
     "status": "completed"
    },
    "tags": []
   },
   "source": [
    "Subsample the metadata and projections so that there are only 32 angles instead of 96. \n",
    "\n",
    "* When we obtain the scatter we also apply Gaussian blurring with standard deviations of 2 degrees, 0.48cm, and 0.48cm in the angular, radial, and axial directions respectively."
   ]
  },
  {
   "cell_type": "code",
   "execution_count": 6,
   "id": "b6e95d21",
   "metadata": {
    "execution": {
     "iopub.execute_input": "2024-08-01T00:35:31.256437Z",
     "iopub.status.busy": "2024-08-01T00:35:31.255951Z",
     "iopub.status.idle": "2024-08-01T00:35:31.475014Z",
     "shell.execute_reply": "2024-08-01T00:35:31.474208Z"
    },
    "papermill": {
     "duration": 0.225143,
     "end_time": "2024-08-01T00:35:31.477016",
     "exception": false,
     "start_time": "2024-08-01T00:35:31.251873",
     "status": "completed"
    },
    "tags": []
   },
   "outputs": [],
   "source": [
    "object_meta, proj_meta, projections = subsample_projections_and_modify_metadata(object_meta, proj_meta, projections, N_angle=3)\n",
    "photopeak = projections[index_peak]\n",
    "scatter = dicom.get_energy_window_scatter_estimate_projections(file_NM, projections, index_peak=index_peak, index_lower=index_lower, index_upper=index_upper, sigma_theta=2, sigma_r=0.48, sigma_z=0.48, proj_meta=proj_meta)"
   ]
  },
  {
   "cell_type": "markdown",
   "id": "ac75c0ae",
   "metadata": {
    "papermill": {
     "duration": 0.003284,
     "end_time": "2024-08-01T00:35:31.484317",
     "exception": false,
     "start_time": "2024-08-01T00:35:31.481033",
     "status": "completed"
    },
    "tags": []
   },
   "source": [
    "Define system matrix"
   ]
  },
  {
   "cell_type": "code",
   "execution_count": 7,
   "id": "a682c202",
   "metadata": {
    "execution": {
     "iopub.execute_input": "2024-08-01T00:35:31.492226Z",
     "iopub.status.busy": "2024-08-01T00:35:31.491733Z",
     "iopub.status.idle": "2024-08-01T00:35:31.503151Z",
     "shell.execute_reply": "2024-08-01T00:35:31.502523Z"
    },
    "papermill": {
     "duration": 0.016933,
     "end_time": "2024-08-01T00:35:31.504447",
     "exception": false,
     "start_time": "2024-08-01T00:35:31.487514",
     "status": "completed"
    },
    "tags": []
   },
   "outputs": [],
   "source": [
    "att_transform = SPECTAttenuationTransform(attenuation_map=attenuation_map)\n",
    "psf_transform = SPECTPSFTransform(psf_operator=psf_operator)\n",
    "system_matrix = SPECTSystemMatrix(\n",
    "        obj2obj_transforms = [att_transform,psf_transform],\n",
    "        proj2proj_transforms = [],\n",
    "        object_meta = object_meta,\n",
    "        proj_meta = proj_meta)"
   ]
  },
  {
   "cell_type": "markdown",
   "id": "9ef0b359",
   "metadata": {
    "papermill": {
     "duration": 0.003128,
     "end_time": "2024-08-01T00:35:31.511049",
     "exception": false,
     "start_time": "2024-08-01T00:35:31.507921",
     "status": "completed"
    },
    "tags": []
   },
   "source": [
    "Define likelihood and algorithm"
   ]
  },
  {
   "cell_type": "code",
   "execution_count": 8,
   "id": "55d75660",
   "metadata": {
    "execution": {
     "iopub.execute_input": "2024-08-01T00:35:31.518710Z",
     "iopub.status.busy": "2024-08-01T00:35:31.518250Z",
     "iopub.status.idle": "2024-08-01T00:35:31.523420Z",
     "shell.execute_reply": "2024-08-01T00:35:31.522811Z"
    },
    "papermill": {
     "duration": 0.010434,
     "end_time": "2024-08-01T00:35:31.524709",
     "exception": false,
     "start_time": "2024-08-01T00:35:31.514275",
     "status": "completed"
    },
    "tags": []
   },
   "outputs": [],
   "source": [
    "likelihood = PoissonLogLikelihood(system_matrix, photopeak, scatter)\n",
    "algorithm = OSEM(likelihood)"
   ]
  },
  {
   "cell_type": "markdown",
   "id": "f00736bc",
   "metadata": {
    "papermill": {
     "duration": 0.003195,
     "end_time": "2024-08-01T00:35:31.531552",
     "exception": false,
     "start_time": "2024-08-01T00:35:31.528357",
     "status": "completed"
    },
    "tags": []
   },
   "source": [
    "Reconstruct using MLEM 100it"
   ]
  },
  {
   "cell_type": "code",
   "execution_count": 9,
   "id": "71bb1b88",
   "metadata": {
    "execution": {
     "iopub.execute_input": "2024-08-01T00:35:31.539504Z",
     "iopub.status.busy": "2024-08-01T00:35:31.539122Z",
     "iopub.status.idle": "2024-08-01T00:35:32.246994Z",
     "shell.execute_reply": "2024-08-01T00:35:32.245983Z"
    },
    "papermill": {
     "duration": 0.713381,
     "end_time": "2024-08-01T00:35:32.248138",
     "exception": true,
     "start_time": "2024-08-01T00:35:31.534757",
     "status": "failed"
    },
    "tags": []
   },
   "outputs": [],
   "source": [
    "recon = algorithm(n_iters=100, n_subsets=1)"
   ]
  },
  {
   "cell_type": "markdown",
   "id": "33430f2f",
   "metadata": {
    "papermill": {
     "duration": null,
     "end_time": null,
     "exception": null,
     "start_time": null,
     "status": "pending"
    },
    "tags": []
   },
   "source": [
    "Smooth the reconstructed image using a Gaussian filter with FWHM of 2cm."
   ]
  },
  {
   "cell_type": "code",
   "execution_count": 10,
   "id": "f24d4164",
   "metadata": {
    "papermill": {
     "duration": null,
     "end_time": null,
     "exception": null,
     "start_time": null,
     "status": "pending"
    },
    "tags": []
   },
   "outputs": [],
   "source": [
    "filter = GaussianFilter(3) # 2cm FWHM\n",
    "filter.configure(object_meta, proj_meta)\n",
    "recon_smoothed = filter(recon)"
   ]
  },
  {
   "cell_type": "markdown",
   "id": "6b785c28",
   "metadata": {
    "papermill": {
     "duration": null,
     "end_time": null,
     "exception": null,
     "start_time": null,
     "status": "pending"
    },
    "tags": []
   },
   "source": [
    "Show an axial slice of the smoothed reconstruction. We'll also show the attenuation map in the background:"
   ]
  },
  {
   "cell_type": "code",
   "execution_count": 11,
   "id": "bf4165f4",
   "metadata": {
    "papermill": {
     "duration": null,
     "end_time": null,
     "exception": null,
     "start_time": null,
     "status": "pending"
    },
    "tags": []
   },
   "outputs": [
    {
     "data": {
      "image/png": "[encoded data removed]",
      "text/plain": [
       "<Figure size 1000x400 with 2 Axes>"
      ]
     },
     "metadata": {},
     "output_type": "display_data"
    }
   ],
   "source": [
    "slice_pytomography = recon_smoothed.cpu()[:,:,70].T\n",
    "slice_amap = attenuation_map.cpu()[:,:,70].T\n",
    "plt.figure(figsize=(10,4))\n",
    "plt.subplot(121)\n",
    "plt.title('440keV Peak: OSEM4it8ss')\n",
    "plt.imshow(slice_amap, cmap='Greys_r', interpolation='gaussian', vmin=0.1)\n",
    "plt.imshow(slice_pytomography, cmap='magma', interpolation='gaussian', alpha=0.5)\n",
    "plt.axis('off')\n",
    "plt.xlim(35,95)\n",
    "plt.ylim(47,107)\n",
    "plt.colorbar(label='Counts')\n",
    "plt.show()"
   ]
  },
  {
   "cell_type": "markdown",
   "id": "a9c1aada",
   "metadata": {
    "papermill": {
     "duration": null,
     "end_time": null,
     "exception": null,
     "start_time": null,
     "status": "pending"
    },
    "tags": []
   },
   "source": [
    "Activity can be seen in the largest sphere, which is of 60mm diameter. The smaller sphere at the bottom, which is of diameter 37mm, also appears to have some counts. The SPECT reconstructions are of poor quality since there is so little data collected in standard Ac225 protocols. Soon we will be releasing a paper showing the uncertainty in each of the spheres, as well as a high count reconstruction; the link to that will be shared here ASAP."
   ]
  }
 ],
 "metadata": {
  "kernelspec": {
   "display_name": "pytomo_install_test",
   "language": "python",
   "name": "python3"
  },
  "language_info": {
   "codemirror_mode": {
    "name": "ipython",
    "version": 3
   },
   "file_extension": ".py",
   "mimetype": "text/x-python",
   "name": "python",
   "nbconvert_exporter": "python",
   "pygments_lexer": "ipython3",
   "version": "3.11.6"
  },
  "papermill": {
   "default_parameters": {},
   "duration": 17.031517,
   "end_time": "2024-08-01T00:35:35.442059",
   "environment_variables": {},
   "exception": true,
   "input_path": "t_ac225_dicom_recon.ipynb",
   "output_path": "t_ac225_dicom_recon.ipynb",
   "parameters": {},
   "start_time": "2024-08-01T00:35:18.410542",
   "version": "2.6.0"
  }
 },
 "nbformat": 4,
 "nbformat_minor": 5
}
