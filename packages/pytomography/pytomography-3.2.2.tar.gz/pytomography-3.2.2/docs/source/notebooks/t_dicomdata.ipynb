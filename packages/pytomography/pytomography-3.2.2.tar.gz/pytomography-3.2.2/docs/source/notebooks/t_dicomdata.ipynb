{
 "cells": [
  {
   "attachments": {},
   "cell_type": "markdown",
   "id": "d42c0672",
   "metadata": {
    "papermill": {
     "duration": 0.007273,
     "end_time": "2024-08-01T00:32:20.931388",
     "exception": false,
     "start_time": "2024-08-01T00:32:20.924115",
     "status": "completed"
    },
    "tags": []
   },
   "source": [
    "# DICOM Introduction"
   ]
  },
  {
   "cell_type": "code",
   "execution_count": 1,
   "id": "18553297",
   "metadata": {
    "execution": {
     "iopub.execute_input": "2024-08-01T00:32:20.946054Z",
     "iopub.status.busy": "2024-08-01T00:32:20.945312Z",
     "iopub.status.idle": "2024-08-01T00:32:25.766911Z",
     "shell.execute_reply": "2024-08-01T00:32:25.766169Z"
    },
    "papermill": {
     "duration": 4.830744,
     "end_time": "2024-08-01T00:32:25.768556",
     "exception": false,
     "start_time": "2024-08-01T00:32:20.937812",
     "status": "completed"
    },
    "tags": []
   },
   "outputs": [
    {
     "name": "stdout",
     "output_type": "stream",
     "text": [
      "\n",
      "          -  -  -  -  -  -  -  -   -  -  -  -\n",
      "          P  A  R  A  L  L  E  L | P  R  O  J\n",
      "          -  -  -  -  -  -  -  -   -  -  -  -\n",
      "\n",
      "    =================================================\n",
      "\n",
      "         Please consider citing our publication\n",
      "      ---------------------------------------------\n",
      "      Georg Schramm and Kris Thielemans:\n",
      "      \"PARALLELPROJ—an open-source framework for\n",
      "       fast calculation of projections in\n",
      "       tomography\"\n",
      "      Front. Nucl. Med., 08 January 2024\n",
      "      Sec. PET and SPECT, Vol 3\n",
      "      https://doi.org/10.3389/fnume.2023.1324562\n",
      "\n",
      "    =================================================\n",
      " \n",
      "    parallelproj C    lib: /data/anaconda/envs/pytomo_install_test/lib/libparallelproj_c.so.1.8.0\n",
      "    parallelproj CUDA lib: /data/anaconda/envs/pytomo_install_test/lib/libparallelproj_cuda.so.1.8.0\n",
      "    \n"
     ]
    }
   ],
   "source": [
    "import os\n",
    "import numpy as np\n",
    "from pytomography.io.SPECT import dicom\n",
    "from pytomography.transforms.SPECT import SPECTAttenuationTransform, SPECTPSFTransform\n",
    "from pytomography.algorithms import OSEM\n",
    "from pytomography.projectors.SPECT import SPECTSystemMatrix\n",
    "from pytomography.likelihoods import PoissonLogLikelihood\n",
    "from pytomography.utils import print_collimator_parameters\n",
    "import matplotlib.pyplot as plt\n",
    "import pydicom\n",
    "import shutil"
   ]
  },
  {
   "cell_type": "markdown",
   "id": "fcaad5aa",
   "metadata": {
    "papermill": {
     "duration": 0.006237,
     "end_time": "2024-08-01T00:32:25.781794",
     "exception": false,
     "start_time": "2024-08-01T00:32:25.775557",
     "status": "completed"
    },
    "tags": []
   },
   "source": [
    "## Part 1: Opening Data"
   ]
  },
  {
   "attachments": {},
   "cell_type": "markdown",
   "id": "272f9ffa",
   "metadata": {
    "papermill": {
     "duration": 0.006157,
     "end_time": "2024-08-01T00:32:25.794123",
     "exception": false,
     "start_time": "2024-08-01T00:32:25.787966",
     "status": "completed"
    },
    "tags": []
   },
   "source": [
    "First we specify the required filepaths to open the SPECT scan (`file_NM`) and the CT data files (`files_CT`)."
   ]
  },
  {
   "cell_type": "code",
   "execution_count": 2,
   "id": "eab43513",
   "metadata": {
    "execution": {
     "iopub.execute_input": "2024-08-01T00:32:25.808135Z",
     "iopub.status.busy": "2024-08-01T00:32:25.807400Z",
     "iopub.status.idle": "2024-08-01T00:32:25.811792Z",
     "shell.execute_reply": "2024-08-01T00:32:25.811217Z"
    },
    "papermill": {
     "duration": 0.01267,
     "end_time": "2024-08-01T00:32:25.812983",
     "exception": false,
     "start_time": "2024-08-01T00:32:25.800313",
     "status": "completed"
    },
    "tags": []
   },
   "outputs": [],
   "source": [
    "# initialize the `path`` variable below to specify the location of the required data\n",
    "path = '/disk1/pytomography_tutorial_data/dicom_intro_tutorial/' \n",
    "path_CT = os.path.join(path, 'CT')\n",
    "files_CT = [os.path.join(path_CT, file) for file in os.listdir(path_CT)]\n",
    "file_NM = os.path.join(path, 'projection_data.dcm')"
   ]
  },
  {
   "cell_type": "markdown",
   "id": "ef816082",
   "metadata": {
    "papermill": {
     "duration": 0.00621,
     "end_time": "2024-08-01T00:32:25.825566",
     "exception": false,
     "start_time": "2024-08-01T00:32:25.819356",
     "status": "completed"
    },
    "tags": []
   },
   "source": [
    "The metadata for object space and projection space can be obtained from the projection data file using `dicom.get_metadata`\n",
    "\n",
    "* This contains informaiton such as the voxel size, number of angles, scanner radius, etc."
   ]
  },
  {
   "cell_type": "code",
   "execution_count": 3,
   "id": "1a38b044",
   "metadata": {
    "execution": {
     "iopub.execute_input": "2024-08-01T00:32:25.839100Z",
     "iopub.status.busy": "2024-08-01T00:32:25.838589Z",
     "iopub.status.idle": "2024-08-01T00:32:26.323637Z",
     "shell.execute_reply": "2024-08-01T00:32:26.322894Z"
    },
    "papermill": {
     "duration": 0.493941,
     "end_time": "2024-08-01T00:32:26.325658",
     "exception": false,
     "start_time": "2024-08-01T00:32:25.831717",
     "status": "completed"
    },
    "tags": []
   },
   "outputs": [],
   "source": [
    "object_meta, proj_meta = dicom.get_metadata(file_NM, index_peak=0)"
   ]
  },
  {
   "cell_type": "markdown",
   "id": "004b3e30",
   "metadata": {
    "papermill": {
     "duration": 0.006177,
     "end_time": "2024-08-01T00:32:26.339071",
     "exception": false,
     "start_time": "2024-08-01T00:32:26.332894",
     "status": "completed"
    },
    "tags": []
   },
   "source": [
    "We can get the photopeak projection data from the DICOM file provided we know the indices of each of the energy windows. We can obtain that as follows:"
   ]
  },
  {
   "cell_type": "code",
   "execution_count": 4,
   "id": "25c71173",
   "metadata": {
    "execution": {
     "iopub.execute_input": "2024-08-01T00:32:26.353575Z",
     "iopub.status.busy": "2024-08-01T00:32:26.352974Z",
     "iopub.status.idle": "2024-08-01T00:32:26.369401Z",
     "shell.execute_reply": "2024-08-01T00:32:26.368751Z"
    },
    "papermill": {
     "duration": 0.025064,
     "end_time": "2024-08-01T00:32:26.370860",
     "exception": false,
     "start_time": "2024-08-01T00:32:26.345796",
     "status": "completed"
    },
    "tags": []
   },
   "outputs": [
    {
     "name": "stdout",
     "output_type": "stream",
     "text": [
      "[(0054, 0013)  Energy Window Range Sequence  1 item(s) ---- \n",
      "   (0054, 0014) Energy Window Lower Limit           DS: '187.19999694824'\n",
      "   (0054, 0015) Energy Window Upper Limit           DS: '228.80000305176'\n",
      "   ---------\n",
      "(0054, 0018) Energy Window Name                  SH: 'Window Group A'(0054, 0013)  Energy Window Range Sequence  1 item(s) ---- \n",
      "   (0054, 0014) Energy Window Lower Limit           DS: '166.39999389648'\n",
      "   (0054, 0015) Energy Window Upper Limit           DS: '187.19999694824'\n",
      "   ---------\n",
      "(0054, 0018) Energy Window Name                  SH: 'Window Group B'(0054, 0013)  Energy Window Range Sequence  1 item(s) ---- \n",
      "   (0054, 0014) Energy Window Lower Limit           DS: '228.80000305176'\n",
      "   (0054, 0015) Energy Window Upper Limit           DS: '249.60000610352'\n",
      "   ---------\n",
      "(0054, 0018) Energy Window Name                  SH: 'Window Group C'(0054, 0013)  Energy Window Range Sequence  1 item(s) ---- \n",
      "   (0054, 0014) Energy Window Lower Limit           DS: '101.69999694824'\n",
      "   (0054, 0015) Energy Window Upper Limit           DS: '124.30000305176'\n",
      "   ---------\n",
      "(0054, 0018) Energy Window Name                  SH: 'Window Group D'(0054, 0013)  Energy Window Range Sequence  1 item(s) ---- \n",
      "   (0054, 0014) Energy Window Lower Limit           DS: '85.879997253418'\n",
      "   (0054, 0015) Energy Window Upper Limit           DS: '101.69999694824'\n",
      "   ---------\n",
      "(0054, 0018) Energy Window Name                  SH: 'Window Group E'(0054, 0013)  Energy Window Range Sequence  1 item(s) ---- \n",
      "   (0054, 0014) Energy Window Lower Limit           DS: '124.30000305176'\n",
      "   (0054, 0015) Energy Window Upper Limit           DS: '146.89999389648'\n",
      "   ---------\n",
      "(0054, 0018) Energy Window Name                  SH: 'Window Group F']\n"
     ]
    }
   ],
   "source": [
    "print(pydicom.read_file(file_NM).EnergyWindowInformationSequence)"
   ]
  },
  {
   "attachments": {},
   "cell_type": "markdown",
   "id": "b0b23350",
   "metadata": {
    "papermill": {
     "duration": 0.006475,
     "end_time": "2024-08-01T00:32:26.384103",
     "exception": false,
     "start_time": "2024-08-01T00:32:26.377628",
     "status": "completed"
    },
    "tags": []
   },
   "source": [
    "In this case, we specify `index_peak=0`, so it only returns the projections corresponding to the 187-228 energy window above."
   ]
  },
  {
   "cell_type": "code",
   "execution_count": 5,
   "id": "0bab5813",
   "metadata": {
    "execution": {
     "iopub.execute_input": "2024-08-01T00:32:26.398109Z",
     "iopub.status.busy": "2024-08-01T00:32:26.397636Z",
     "iopub.status.idle": "2024-08-01T00:32:26.512811Z",
     "shell.execute_reply": "2024-08-01T00:32:26.512180Z"
    },
    "papermill": {
     "duration": 0.12377,
     "end_time": "2024-08-01T00:32:26.514209",
     "exception": false,
     "start_time": "2024-08-01T00:32:26.390439",
     "status": "completed"
    },
    "tags": []
   },
   "outputs": [
    {
     "data": {
      "text/plain": [
       "torch.Size([96, 128, 128])"
      ]
     },
     "execution_count": 5,
     "metadata": {},
     "output_type": "execute_result"
    }
   ],
   "source": [
    "photopeak = dicom.get_projections(file_NM, index_peak=0)\n",
    "photopeak.shape"
   ]
  },
  {
   "cell_type": "markdown",
   "id": "23f8b4ce",
   "metadata": {
    "papermill": {
     "duration": 0.006421,
     "end_time": "2024-08-01T00:32:26.527932",
     "exception": false,
     "start_time": "2024-08-01T00:32:26.521511",
     "status": "completed"
    },
    "tags": []
   },
   "source": [
    "The shape of the photopeak is $(N_{angles}, \\text{Width}, \\text{Height})$."
   ]
  },
  {
   "cell_type": "code",
   "execution_count": 6,
   "id": "b811f6b8",
   "metadata": {
    "execution": {
     "iopub.execute_input": "2024-08-01T00:32:26.542033Z",
     "iopub.status.busy": "2024-08-01T00:32:26.541633Z",
     "iopub.status.idle": "2024-08-01T00:32:26.685291Z",
     "shell.execute_reply": "2024-08-01T00:32:26.684553Z"
    },
    "papermill": {
     "duration": 0.152381,
     "end_time": "2024-08-01T00:32:26.686717",
     "exception": false,
     "start_time": "2024-08-01T00:32:26.534336",
     "status": "completed"
    },
    "tags": []
   },
   "outputs": [
    {
     "data": {
      "text/plain": [
       "<matplotlib.colorbar.Colorbar at 0x7f4752b0eb10>"
      ]
     },
     "execution_count": 6,
     "metadata": {},
     "output_type": "execute_result"
    },
    {
     "data": {
      "image/png": "[encoded data removed]",
      "text/plain": [
       "<Figure size 700x600 with 2 Axes>"
      ]
     },
     "metadata": {},
     "output_type": "display_data"
    }
   ],
   "source": [
    "plt.figure(figsize=(7,6))\n",
    "plt.pcolormesh(photopeak[0].cpu().T, cmap='nipy_spectral')\n",
    "plt.axis('off')\n",
    "plt.colorbar(label='Counts')"
   ]
  },
  {
   "attachments": {},
   "cell_type": "markdown",
   "id": "233f5cb3",
   "metadata": {
    "papermill": {
     "duration": 0.006724,
     "end_time": "2024-08-01T00:32:26.700927",
     "exception": false,
     "start_time": "2024-08-01T00:32:26.694203",
     "status": "completed"
    },
    "tags": []
   },
   "source": [
    "Scatter projections can be estimated using the triple energy window function `dicom_get_scatterTEW`. One needs to specify the index of the peak, and lower/upper energy windows"
   ]
  },
  {
   "cell_type": "code",
   "execution_count": 7,
   "id": "5c653ab8",
   "metadata": {
    "execution": {
     "iopub.execute_input": "2024-08-01T00:32:26.716034Z",
     "iopub.status.busy": "2024-08-01T00:32:26.715598Z",
     "iopub.status.idle": "2024-08-01T00:32:26.877006Z",
     "shell.execute_reply": "2024-08-01T00:32:26.876135Z"
    },
    "papermill": {
     "duration": 0.171321,
     "end_time": "2024-08-01T00:32:26.879142",
     "exception": false,
     "start_time": "2024-08-01T00:32:26.707821",
     "status": "completed"
    },
    "tags": []
   },
   "outputs": [],
   "source": [
    "scatter = dicom.get_energy_window_scatter_estimate(file_NM, index_peak=0, index_lower=1, index_upper=2)"
   ]
  },
  {
   "cell_type": "markdown",
   "id": "4f057acd",
   "metadata": {
    "papermill": {
     "duration": 0.007244,
     "end_time": "2024-08-01T00:32:26.894319",
     "exception": false,
     "start_time": "2024-08-01T00:32:26.887075",
     "status": "completed"
    },
    "tags": []
   },
   "source": [
    "## Part 2: Modeling"
   ]
  },
  {
   "cell_type": "markdown",
   "id": "8153f02b",
   "metadata": {
    "papermill": {
     "duration": 0.006882,
     "end_time": "2024-08-01T00:32:26.908075",
     "exception": false,
     "start_time": "2024-08-01T00:32:26.901193",
     "status": "completed"
    },
    "tags": []
   },
   "source": [
    "### Attenuation Transform"
   ]
  },
  {
   "cell_type": "markdown",
   "id": "fd7f5ffc",
   "metadata": {
    "papermill": {
     "duration": 0.006762,
     "end_time": "2024-08-01T00:32:26.921816",
     "exception": false,
     "start_time": "2024-08-01T00:32:26.915054",
     "status": "completed"
    },
    "tags": []
   },
   "source": [
    "The attenuation transform is used to \"correct\" for the fact that some photons get atteunated in the patient before they reach the detector. PyTomography has functionality to do attenuation correction provided either (i) an argument `attenuation_map=...` OR (ii) an argument `filepath=...` is provided to the `SPECTAttenuationTransform`.\n",
    "\n",
    "* `attenuation_map` must be aligned with the SPECT projection data and have units of cm $^{-1}$ .\n",
    "* `filepath` specifies the directory of some CT scan which will be used for attenuation correction. PyTomography has functionality to align this with the SPECT projections and convert to units of cm $^{-1}$.\n",
    "\n",
    "In this case, since we're reconstructing DICOM data, it's easier to use `filepath` than to manually align/rescale the CT data"
   ]
  },
  {
   "cell_type": "code",
   "execution_count": 8,
   "id": "66f048d2",
   "metadata": {
    "execution": {
     "iopub.execute_input": "2024-08-01T00:32:26.939096Z",
     "iopub.status.busy": "2024-08-01T00:32:26.938346Z",
     "iopub.status.idle": "2024-08-01T00:32:28.343453Z",
     "shell.execute_reply": "2024-08-01T00:32:28.342637Z"
    },
    "papermill": {
     "duration": 1.415853,
     "end_time": "2024-08-01T00:32:28.345455",
     "exception": false,
     "start_time": "2024-08-01T00:32:26.929602",
     "status": "completed"
    },
    "tags": []
   },
   "outputs": [],
   "source": [
    "att_transform = SPECTAttenuationTransform(filepath=files_CT)"
   ]
  },
  {
   "cell_type": "markdown",
   "id": "675f9e64",
   "metadata": {
    "papermill": {
     "duration": 0.006812,
     "end_time": "2024-08-01T00:32:28.360108",
     "exception": false,
     "start_time": "2024-08-01T00:32:28.353296",
     "status": "completed"
    },
    "tags": []
   },
   "source": [
    "If we want to view the attenuation map, we need to *configure* the `att_transform` so that (i) the CT data can be aligned with SPECT projection data and (ii) the CT data can be converted to attenuation coefficients.\n",
    "\n",
    "* *Note*: This is not required if you don't want to view the attenuation map. Later, when the system matrix is built, it automatically configures all the transforms"
   ]
  },
  {
   "cell_type": "code",
   "execution_count": 9,
   "id": "9632593e",
   "metadata": {
    "execution": {
     "iopub.execute_input": "2024-08-01T00:32:28.375076Z",
     "iopub.status.busy": "2024-08-01T00:32:28.374631Z",
     "iopub.status.idle": "2024-08-01T00:32:30.967071Z",
     "shell.execute_reply": "2024-08-01T00:32:30.966310Z"
    },
    "papermill": {
     "duration": 2.602259,
     "end_time": "2024-08-01T00:32:30.969134",
     "exception": false,
     "start_time": "2024-08-01T00:32:28.366875",
     "status": "completed"
    },
    "tags": []
   },
   "outputs": [
    {
     "name": "stdout",
     "output_type": "stream",
     "text": [
      "Given photopeak energy 208.0 keV and CT energy 130 keV from the CT DICOM header, the HU->mu conversion from the following configuration is used: 208.0 keV SPECT energy, 130 keV CT energy, and scanner model symbiat2\n"
     ]
    }
   ],
   "source": [
    "att_transform.configure(object_meta, proj_meta)\n",
    "attenuation_map = att_transform.attenuation_map"
   ]
  },
  {
   "attachments": {},
   "cell_type": "markdown",
   "id": "c41ac6a9",
   "metadata": {
    "papermill": {
     "duration": 0.006901,
     "end_time": "2024-08-01T00:32:30.984005",
     "exception": false,
     "start_time": "2024-08-01T00:32:30.977104",
     "status": "completed"
    },
    "tags": []
   },
   "source": [
    "Viewing the attenuation map allows for a consistency check to ensure that it's properly aligned with the projection data"
   ]
  },
  {
   "cell_type": "code",
   "execution_count": 10,
   "id": "3e8e4c05",
   "metadata": {
    "execution": {
     "iopub.execute_input": "2024-08-01T00:32:30.999887Z",
     "iopub.status.busy": "2024-08-01T00:32:30.999348Z",
     "iopub.status.idle": "2024-08-01T00:32:31.003977Z",
     "shell.execute_reply": "2024-08-01T00:32:31.003399Z"
    },
    "papermill": {
     "duration": 0.014175,
     "end_time": "2024-08-01T00:32:31.005299",
     "exception": false,
     "start_time": "2024-08-01T00:32:30.991124",
     "status": "completed"
    },
    "tags": []
   },
   "outputs": [],
   "source": [
    "sample_slice = attenuation_map.cpu()[:,70].T"
   ]
  },
  {
   "cell_type": "code",
   "execution_count": 11,
   "id": "699e1dc0",
   "metadata": {
    "execution": {
     "iopub.execute_input": "2024-08-01T00:32:31.021261Z",
     "iopub.status.busy": "2024-08-01T00:32:31.020873Z",
     "iopub.status.idle": "2024-08-01T00:32:31.312557Z",
     "shell.execute_reply": "2024-08-01T00:32:31.311777Z"
    },
    "papermill": {
     "duration": 0.301648,
     "end_time": "2024-08-01T00:32:31.314031",
     "exception": false,
     "start_time": "2024-08-01T00:32:31.012383",
     "status": "completed"
    },
    "tags": []
   },
   "outputs": [
    {
     "data": {
      "text/plain": [
       "<matplotlib.colorbar.Colorbar at 0x7f4755acd190>"
      ]
     },
     "execution_count": 11,
     "metadata": {},
     "output_type": "execute_result"
    },
    {
     "data": {
      "image/png": "[encoded data removed]",
      "text/plain": [
       "<Figure size 700x300 with 4 Axes>"
      ]
     },
     "metadata": {},
     "output_type": "display_data"
    }
   ],
   "source": [
    "plt.subplots(1,2,figsize=(7,3))\n",
    "plt.subplot(121)\n",
    "plt.title('Projection Data')\n",
    "plt.pcolormesh(photopeak[0].cpu().T, cmap='nipy_spectral')\n",
    "plt.axis('off')\n",
    "plt.colorbar(label='Counts')\n",
    "plt.subplot(122)\n",
    "plt.title('From CT Slices')\n",
    "plt.pcolormesh(sample_slice, cmap='Greys_r')\n",
    "plt.axis('off')\n",
    "plt.colorbar()"
   ]
  },
  {
   "cell_type": "markdown",
   "id": "5a06b768",
   "metadata": {
    "papermill": {
     "duration": 0.00735,
     "end_time": "2024-08-01T00:32:31.329822",
     "exception": false,
     "start_time": "2024-08-01T00:32:31.322472",
     "status": "completed"
    },
    "tags": []
   },
   "source": [
    "### PSF Modeling"
   ]
  },
  {
   "attachments": {},
   "cell_type": "markdown",
   "id": "b21aeb9b",
   "metadata": {
    "papermill": {
     "duration": 0.007258,
     "end_time": "2024-08-01T00:32:31.344442",
     "exception": false,
     "start_time": "2024-08-01T00:32:31.337184",
     "status": "completed"
    },
    "tags": []
   },
   "source": [
    "PSF modeling requires knowing the parameters of the collimators used for the scan. A list of all supported collimator types can be determined by uncommenting the following line and running it"
   ]
  },
  {
   "cell_type": "code",
   "execution_count": 12,
   "id": "5f310bef",
   "metadata": {
    "execution": {
     "iopub.execute_input": "2024-08-01T00:32:31.360681Z",
     "iopub.status.busy": "2024-08-01T00:32:31.360085Z",
     "iopub.status.idle": "2024-08-01T00:32:31.363705Z",
     "shell.execute_reply": "2024-08-01T00:32:31.362946Z"
    },
    "papermill": {
     "duration": 0.01342,
     "end_time": "2024-08-01T00:32:31.365142",
     "exception": false,
     "start_time": "2024-08-01T00:32:31.351722",
     "status": "completed"
    },
    "tags": []
   },
   "outputs": [],
   "source": [
    "#print_collimator_parameters()"
   ]
  },
  {
   "cell_type": "markdown",
   "id": "358a99e4",
   "metadata": {
    "papermill": {
     "duration": 0.007407,
     "end_time": "2024-08-01T00:32:31.379897",
     "exception": false,
     "start_time": "2024-08-01T00:32:31.372490",
     "status": "completed"
    },
    "tags": []
   },
   "source": [
    "In our case, we know that this scan was performed on a Siemens Symbia scanner with medium energy collimators and 3/8'' crystals\n",
    "* There is an option to use intrinsic resolution of the crystals of the scanner (if you know it); this has a minor impact on the reconstruction"
   ]
  },
  {
   "cell_type": "code",
   "execution_count": 13,
   "id": "7c403021",
   "metadata": {
    "execution": {
     "iopub.execute_input": "2024-08-01T00:32:31.395891Z",
     "iopub.status.busy": "2024-08-01T00:32:31.395431Z",
     "iopub.status.idle": "2024-08-01T00:32:31.404498Z",
     "shell.execute_reply": "2024-08-01T00:32:31.402650Z"
    },
    "papermill": {
     "duration": 0.018387,
     "end_time": "2024-08-01T00:32:31.405810",
     "exception": false,
     "start_time": "2024-08-01T00:32:31.387423",
     "status": "completed"
    },
    "tags": []
   },
   "outputs": [
    {
     "name": "stdout",
     "output_type": "stream",
     "text": [
      "kernel_dimensions = 2D\n",
      "min_sigmas = 3\n",
      "sigma_fit_params = [0.03161992134409504, 0.1248503046423388, 0.16137114205472364]\n",
      "\n"
     ]
    }
   ],
   "source": [
    "collimator_name = 'SY-ME'\n",
    "energy_kev = 208 #keV\n",
    "intrinsic_resolution=0.38 #mm\n",
    "psf_meta = dicom.get_psfmeta_from_scanner_params(\n",
    "    collimator_name,\n",
    "    energy_kev,\n",
    "    intrinsic_resolution=intrinsic_resolution\n",
    ")\n",
    "print(psf_meta)"
   ]
  },
  {
   "cell_type": "markdown",
   "id": "da253908",
   "metadata": {
    "papermill": {
     "duration": 0.007373,
     "end_time": "2024-08-01T00:32:31.420977",
     "exception": false,
     "start_time": "2024-08-01T00:32:31.413604",
     "status": "completed"
    },
    "tags": []
   },
   "source": [
    "Now we can build our PSF transform required to create the system matrix"
   ]
  },
  {
   "cell_type": "code",
   "execution_count": 14,
   "id": "f59ac1ac",
   "metadata": {
    "execution": {
     "iopub.execute_input": "2024-08-01T00:32:31.437436Z",
     "iopub.status.busy": "2024-08-01T00:32:31.437014Z",
     "iopub.status.idle": "2024-08-01T00:32:31.440405Z",
     "shell.execute_reply": "2024-08-01T00:32:31.439824Z"
    },
    "papermill": {
     "duration": 0.013134,
     "end_time": "2024-08-01T00:32:31.441703",
     "exception": false,
     "start_time": "2024-08-01T00:32:31.428569",
     "status": "completed"
    },
    "tags": []
   },
   "outputs": [],
   "source": [
    "psf_transform = SPECTPSFTransform(psf_meta)"
   ]
  },
  {
   "cell_type": "markdown",
   "id": "8522b4af",
   "metadata": {
    "papermill": {
     "duration": 0.007384,
     "end_time": "2024-08-01T00:32:31.456615",
     "exception": false,
     "start_time": "2024-08-01T00:32:31.449231",
     "status": "completed"
    },
    "tags": []
   },
   "source": [
    "## System Matrix"
   ]
  },
  {
   "cell_type": "markdown",
   "id": "eadc002a",
   "metadata": {
    "papermill": {
     "duration": 0.007322,
     "end_time": "2024-08-01T00:32:31.471386",
     "exception": false,
     "start_time": "2024-08-01T00:32:31.464064",
     "status": "completed"
    },
    "tags": []
   },
   "source": [
    "Now that we have the required transforms, we can begin to build the system matrix. It requires:\n",
    "1. `obj2obj_transforms`. These map from object space to object space. In the case of SPECT imaging, both the attenuation transform and PSF transform correspond to these types of transforms.\n",
    "2. `proj2proj_transforms`: These map from projection to projection space. Though we have none here, they would be used to model PSF in PET imaging.\n",
    "3. `object_meta` and `proj_meta`. These are used to initialize the transforms. For example, data from `object_meta` is used to align the attenuation map, and radial position from `proj_meta` is used to get proper blurring parameters for the PSF transform"
   ]
  },
  {
   "cell_type": "code",
   "execution_count": 15,
   "id": "4f2371df",
   "metadata": {
    "execution": {
     "iopub.execute_input": "2024-08-01T00:32:31.487462Z",
     "iopub.status.busy": "2024-08-01T00:32:31.487027Z",
     "iopub.status.idle": "2024-08-01T00:32:34.200176Z",
     "shell.execute_reply": "2024-08-01T00:32:34.199440Z"
    },
    "papermill": {
     "duration": 2.723106,
     "end_time": "2024-08-01T00:32:34.201967",
     "exception": false,
     "start_time": "2024-08-01T00:32:31.478861",
     "status": "completed"
    },
    "tags": []
   },
   "outputs": [
    {
     "name": "stdout",
     "output_type": "stream",
     "text": [
      "Given photopeak energy 208.0 keV and CT energy 130 keV from the CT DICOM header, the HU->mu conversion from the following configuration is used: 208.0 keV SPECT energy, 130 keV CT energy, and scanner model symbiat2\n"
     ]
    }
   ],
   "source": [
    "system_matrix = SPECTSystemMatrix(\n",
    "        obj2obj_transforms = [att_transform,psf_transform],\n",
    "        proj2proj_transforms = [],\n",
    "        object_meta = object_meta,\n",
    "        proj_meta = proj_meta)"
   ]
  },
  {
   "cell_type": "markdown",
   "id": "730619bf",
   "metadata": {
    "papermill": {
     "duration": 0.007563,
     "end_time": "2024-08-01T00:32:34.218160",
     "exception": false,
     "start_time": "2024-08-01T00:32:34.210597",
     "status": "completed"
    },
    "tags": []
   },
   "source": [
    "The system matrix $H$ represents the imaging system and maps an object $f$ to a corresponding image $g$ under the imaging system"
   ]
  },
  {
   "cell_type": "markdown",
   "id": "b22a7707",
   "metadata": {
    "papermill": {
     "duration": 0.007447,
     "end_time": "2024-08-01T00:32:34.233151",
     "exception": false,
     "start_time": "2024-08-01T00:32:34.225704",
     "status": "completed"
    },
    "tags": []
   },
   "source": [
    "## Likelihood"
   ]
  },
  {
   "cell_type": "code",
   "execution_count": 16,
   "id": "c48b18b2",
   "metadata": {
    "execution": {
     "iopub.execute_input": "2024-08-01T00:32:34.249716Z",
     "iopub.status.busy": "2024-08-01T00:32:34.249255Z",
     "iopub.status.idle": "2024-08-01T00:32:34.252843Z",
     "shell.execute_reply": "2024-08-01T00:32:34.252265Z"
    },
    "papermill": {
     "duration": 0.013504,
     "end_time": "2024-08-01T00:32:34.254242",
     "exception": false,
     "start_time": "2024-08-01T00:32:34.240738",
     "status": "completed"
    },
    "tags": []
   },
   "outputs": [],
   "source": [
    "likelihood = PoissonLogLikelihood(system_matrix, photopeak, scatter)"
   ]
  },
  {
   "attachments": {},
   "cell_type": "markdown",
   "id": "c8014eff",
   "metadata": {
    "papermill": {
     "duration": 0.007412,
     "end_time": "2024-08-01T00:32:34.269162",
     "exception": false,
     "start_time": "2024-08-01T00:32:34.261750",
     "status": "completed"
    },
    "tags": []
   },
   "source": [
    "# Reconstruct the object"
   ]
  },
  {
   "cell_type": "markdown",
   "id": "3c31e20a",
   "metadata": {
    "papermill": {
     "duration": 0.007488,
     "end_time": "2024-08-01T00:32:34.285197",
     "exception": false,
     "start_time": "2024-08-01T00:32:34.277709",
     "status": "completed"
    },
    "tags": []
   },
   "source": [
    "We'll reconstruct the object using OSEM. For this, we need to specify the measured projection data (`photopeak`/`scatter`) and the `system_matrix`"
   ]
  },
  {
   "cell_type": "code",
   "execution_count": 17,
   "id": "5e07e874",
   "metadata": {
    "execution": {
     "iopub.execute_input": "2024-08-01T00:32:34.301459Z",
     "iopub.status.busy": "2024-08-01T00:32:34.301043Z",
     "iopub.status.idle": "2024-08-01T00:32:34.307863Z",
     "shell.execute_reply": "2024-08-01T00:32:34.307191Z"
    },
    "papermill": {
     "duration": 0.016581,
     "end_time": "2024-08-01T00:32:34.309338",
     "exception": false,
     "start_time": "2024-08-01T00:32:34.292757",
     "status": "completed"
    },
    "tags": []
   },
   "outputs": [],
   "source": [
    "reconstruction_algorithm = OSEM(likelihood)"
   ]
  },
  {
   "cell_type": "markdown",
   "id": "376c0192",
   "metadata": {
    "papermill": {
     "duration": 0.007775,
     "end_time": "2024-08-01T00:32:34.325195",
     "exception": false,
     "start_time": "2024-08-01T00:32:34.317420",
     "status": "completed"
    },
    "tags": []
   },
   "source": [
    "We can reconstruct the object by calling the reconstruction algorithm for a given number of iterations/subsets."
   ]
  },
  {
   "cell_type": "code",
   "execution_count": 18,
   "id": "e24adf5a",
   "metadata": {
    "execution": {
     "iopub.execute_input": "2024-08-01T00:32:34.341617Z",
     "iopub.status.busy": "2024-08-01T00:32:34.341199Z",
     "iopub.status.idle": "2024-08-01T00:32:40.765460Z",
     "shell.execute_reply": "2024-08-01T00:32:40.764727Z"
    },
    "papermill": {
     "duration": 6.434631,
     "end_time": "2024-08-01T00:32:40.767437",
     "exception": false,
     "start_time": "2024-08-01T00:32:34.332806",
     "status": "completed"
    },
    "tags": []
   },
   "outputs": [],
   "source": [
    "reconstructed_object = reconstruction_algorithm(n_iters=4, n_subsets=8)"
   ]
  },
  {
   "attachments": {},
   "cell_type": "markdown",
   "id": "8a366340",
   "metadata": {
    "papermill": {
     "duration": 0.007443,
     "end_time": "2024-08-01T00:32:40.783220",
     "exception": false,
     "start_time": "2024-08-01T00:32:40.775777",
     "status": "completed"
    },
    "tags": []
   },
   "source": [
    "We can compare this reconstruction to one done by the vendor:\n",
    "\n",
    "* Note: we divide the vendor reconstruction by 96 because this particualr vendor multiplies by the number of acquisition angles when saving the data. (*some vendors alternatively divide by 48, the number of projection angles, so be careful*)"
   ]
  },
  {
   "cell_type": "code",
   "execution_count": 19,
   "id": "c27122df",
   "metadata": {
    "execution": {
     "iopub.execute_input": "2024-08-01T00:32:40.799958Z",
     "iopub.status.busy": "2024-08-01T00:32:40.799409Z",
     "iopub.status.idle": "2024-08-01T00:32:40.856323Z",
     "shell.execute_reply": "2024-08-01T00:32:40.855604Z"
    },
    "papermill": {
     "duration": 0.067249,
     "end_time": "2024-08-01T00:32:40.858208",
     "exception": false,
     "start_time": "2024-08-01T00:32:40.790959",
     "status": "completed"
    },
    "tags": []
   },
   "outputs": [],
   "source": [
    "ds_recon = pydicom.read_file(os.path.join(path, 'scanner_recon.dcm'))\n",
    "recon_vendor = ds_recon.pixel_array / proj_meta.num_projections\n",
    "recon_vendor = np.transpose(recon_vendor, (2,1,0))"
   ]
  },
  {
   "attachments": {},
   "cell_type": "markdown",
   "id": "519423ed",
   "metadata": {
    "papermill": {
     "duration": 0.007543,
     "end_time": "2024-08-01T00:32:40.874105",
     "exception": false,
     "start_time": "2024-08-01T00:32:40.866562",
     "status": "completed"
    },
    "tags": []
   },
   "source": [
    "We can looks at axial slices from all three reconstructions."
   ]
  },
  {
   "cell_type": "code",
   "execution_count": 20,
   "id": "20e3c8d3",
   "metadata": {
    "execution": {
     "iopub.execute_input": "2024-08-01T00:32:40.890681Z",
     "iopub.status.busy": "2024-08-01T00:32:40.890106Z",
     "iopub.status.idle": "2024-08-01T00:32:40.898224Z",
     "shell.execute_reply": "2024-08-01T00:32:40.897663Z"
    },
    "papermill": {
     "duration": 0.018555,
     "end_time": "2024-08-01T00:32:40.900166",
     "exception": false,
     "start_time": "2024-08-01T00:32:40.881611",
     "status": "completed"
    },
    "tags": []
   },
   "outputs": [],
   "source": [
    "idx_z = 61\n",
    "slice_pytomography = reconstructed_object.cpu()[:,:,idx_z].T\n",
    "slice_vendor = recon_vendor[:,:,idx_z].T"
   ]
  },
  {
   "cell_type": "code",
   "execution_count": 21,
   "id": "6d6a9571",
   "metadata": {
    "execution": {
     "iopub.execute_input": "2024-08-01T00:32:40.916858Z",
     "iopub.status.busy": "2024-08-01T00:32:40.916486Z",
     "iopub.status.idle": "2024-08-01T00:32:41.129199Z",
     "shell.execute_reply": "2024-08-01T00:32:41.128577Z"
    },
    "papermill": {
     "duration": 0.22248,
     "end_time": "2024-08-01T00:32:41.130565",
     "exception": false,
     "start_time": "2024-08-01T00:32:40.908085",
     "status": "completed"
    },
    "tags": []
   },
   "outputs": [
    {
     "data": {
      "image/png": "[encoded data removed]",
      "text/plain": [
       "<Figure size 700x300 with 4 Axes>"
      ]
     },
     "metadata": {},
     "output_type": "display_data"
    }
   ],
   "source": [
    "plt.subplots(1,2,figsize=(7,3))\n",
    "plt.subplot(121)\n",
    "plt.title('PyTomography')\n",
    "plt.pcolormesh(slice_pytomography , cmap='magma', vmax=27)\n",
    "plt.axis('off')\n",
    "plt.colorbar()\n",
    "plt.subplot(122)\n",
    "plt.title('Vendor')\n",
    "plt.pcolormesh(slice_vendor, cmap='magma', vmax=27)\n",
    "plt.axis('off')\n",
    "plt.colorbar()\n",
    "plt.show()"
   ]
  },
  {
   "cell_type": "markdown",
   "id": "a5fefb40",
   "metadata": {
    "papermill": {
     "duration": 0.008028,
     "end_time": "2024-08-01T00:32:41.147188",
     "exception": false,
     "start_time": "2024-08-01T00:32:41.139160",
     "status": "completed"
    },
    "tags": []
   },
   "source": [
    "## Saving Data"
   ]
  },
  {
   "cell_type": "markdown",
   "id": "f8c49be3",
   "metadata": {
    "papermill": {
     "duration": 0.010334,
     "end_time": "2024-08-01T00:32:41.165479",
     "exception": false,
     "start_time": "2024-08-01T00:32:41.155145",
     "status": "completed"
    },
    "tags": []
   },
   "source": [
    "PyTomography has functionality for saving DICOM data. There are a few things required:\n",
    "\n",
    "1. The folder where you want to save the data. The folder can't exist already (has to be a new folder); this prevents overwriting potential data.\n",
    "2. The reconstructed object itself: in this case, `recon_CTslices`\n",
    "3. The filepath of the projection data `file_NM`. Much of the study/patient information is copied over from this file to the reconstructed file.\n",
    "4. An optional string that represents the type of reconstruction performed. If left blank, will be an empty string `''`"
   ]
  },
  {
   "cell_type": "markdown",
   "id": "49b269c4",
   "metadata": {
    "papermill": {
     "duration": 0.007821,
     "end_time": "2024-08-01T00:32:41.181450",
     "exception": false,
     "start_time": "2024-08-01T00:32:41.173629",
     "status": "completed"
    },
    "tags": []
   },
   "source": [
    "**Note: Some vendor reconstructions (i) multiply by the total number of projections and/or (ii) normalize to counts/second when they save their SPECT reconstructions. Make sure to multiply `reconstructed_object` by these values before you save if you want to do such comparisons.**"
   ]
  },
  {
   "cell_type": "code",
   "execution_count": 22,
   "id": "bf87b778",
   "metadata": {
    "execution": {
     "iopub.execute_input": "2024-08-01T00:32:41.203467Z",
     "iopub.status.busy": "2024-08-01T00:32:41.202899Z",
     "iopub.status.idle": "2024-08-01T00:32:41.870268Z",
     "shell.execute_reply": "2024-08-01T00:32:41.869547Z"
    },
    "papermill": {
     "duration": 0.68307,
     "end_time": "2024-08-01T00:32:41.872261",
     "exception": false,
     "start_time": "2024-08-01T00:32:41.189191",
     "status": "completed"
    },
    "tags": []
   },
   "outputs": [],
   "source": [
    "# Modify the path below to a location on your computer where you want to save the data\n",
    "save_path = '/disk1/pytomography_tutorial_data/dicom_intro_tutorial/output'\n",
    "# Code only works if folder doesnt exist, so delete it if present\n",
    "if os.path.exists(save_path) and os.path.isdir(save_path):\n",
    "    shutil.rmtree(save_path)\n",
    "# Save\n",
    "dicom.save_dcm(\n",
    "    save_path = save_path,\n",
    "    object = reconstructed_object,\n",
    "    file_NM = file_NM,\n",
    "    recon_name = 'OSEM_4it_8ss')"
   ]
  },
  {
   "cell_type": "markdown",
   "id": "fa1e5272",
   "metadata": {
    "papermill": {
     "duration": 0.00787,
     "end_time": "2024-08-01T00:32:41.889128",
     "exception": false,
     "start_time": "2024-08-01T00:32:41.881258",
     "status": "completed"
    },
    "tags": []
   },
   "source": [
    "The data can now be exported to any DICOM viewer of your choice!"
   ]
  }
 ],
 "metadata": {
  "kernelspec": {
   "display_name": "torch",
   "language": "python",
   "name": "python3"
  },
  "language_info": {
   "codemirror_mode": {
    "name": "ipython",
    "version": 3
   },
   "file_extension": ".py",
   "mimetype": "text/x-python",
   "name": "python",
   "nbconvert_exporter": "python",
   "pygments_lexer": "ipython3",
   "version": "3.11.6"
  },
  "papermill": {
   "default_parameters": {},
   "duration": 24.038137,
   "end_time": "2024-08-01T00:32:44.197891",
   "environment_variables": {},
   "exception": null,
   "input_path": "t_dicomdata.ipynb",
   "output_path": "t_dicomdata.ipynb",
   "parameters": {},
   "start_time": "2024-08-01T00:32:20.159754",
   "version": "2.6.0"
  }
 },
 "nbformat": 4,
 "nbformat_minor": 5
}