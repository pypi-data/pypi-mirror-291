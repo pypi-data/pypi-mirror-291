{
 "cells": [
  {
   "cell_type": "markdown",
   "id": "66912687",
   "metadata": {
    "papermill": {
     "duration": 0.005069,
     "end_time": "2024-08-01T00:33:58.009819",
     "exception": false,
     "start_time": "2024-08-01T00:33:58.004750",
     "status": "completed"
    },
    "tags": []
   },
   "source": [
    "# Uncertainty Estimation"
   ]
  },
  {
   "cell_type": "markdown",
   "id": "ed4cd800",
   "metadata": {
    "papermill": {
     "duration": 0.003999,
     "end_time": "2024-08-01T00:33:58.018925",
     "exception": false,
     "start_time": "2024-08-01T00:33:58.014926",
     "status": "completed"
    },
    "tags": []
   },
   "source": [
    "**Special thanks to Dr. Peyman Sheikhzadeh at the Tehran University Of Medical Science for providing this anonymized data**"
   ]
  },
  {
   "cell_type": "code",
   "execution_count": 1,
   "id": "7f9a8ba9",
   "metadata": {
    "execution": {
     "iopub.execute_input": "2024-08-01T00:33:58.029226Z",
     "iopub.status.busy": "2024-08-01T00:33:58.028637Z",
     "iopub.status.idle": "2024-08-01T00:34:02.998088Z",
     "shell.execute_reply": "2024-08-01T00:34:02.997356Z"
    },
    "papermill": {
     "duration": 4.97658,
     "end_time": "2024-08-01T00:34:02.999661",
     "exception": false,
     "start_time": "2024-08-01T00:33:58.023081",
     "status": "completed"
    },
    "tags": []
   },
   "outputs": [
    {
     "name": "stdout",
     "output_type": "stream",
     "text": [
      "\n",
      "          -  -  -  -  -  -  -  -   -  -  -  -\n",
      "          P  A  R  A  L  L  E  L | P  R  O  J\n",
      "          -  -  -  -  -  -  -  -   -  -  -  -\n",
      "\n",
      "    =================================================\n",
      "\n",
      "         Please consider citing our publication\n",
      "      ---------------------------------------------\n",
      "      Georg Schramm and Kris Thielemans:\n",
      "      \"PARALLELPROJ—an open-source framework for\n",
      "       fast calculation of projections in\n",
      "       tomography\"\n",
      "      Front. Nucl. Med., 08 January 2024\n",
      "      Sec. PET and SPECT, Vol 3\n",
      "      https://doi.org/10.3389/fnume.2023.1324562\n",
      "\n",
      "    =================================================\n",
      " \n",
      "    parallelproj C    lib: /data/anaconda/envs/pytomo_install_test/lib/libparallelproj_c.so.1.8.0\n",
      "    parallelproj CUDA lib: /data/anaconda/envs/pytomo_install_test/lib/libparallelproj_cuda.so.1.8.0\n",
      "    \n"
     ]
    }
   ],
   "source": [
    "import os\n",
    "import numpy as np\n",
    "from pytomography.io.SPECT import dicom\n",
    "from pytomography.transforms.SPECT import SPECTAttenuationTransform, SPECTPSFTransform\n",
    "from pytomography.algorithms import OSEM, PGAAMultiBedSPECT\n",
    "from pytomography.projectors.SPECT import SPECTSystemMatrix\n",
    "from pytomography.likelihoods import PoissonLogLikelihood\n",
    "from pytomography.utils import print_collimator_parameters\n",
    "import matplotlib.pyplot as plt\n",
    "import torch\n",
    "from rt_utils import RTStructBuilder\n",
    "from pytomography.callbacks import DataStorageCallback"
   ]
  },
  {
   "cell_type": "code",
   "execution_count": 2,
   "id": "8a2f4f0c",
   "metadata": {
    "execution": {
     "iopub.execute_input": "2024-08-01T00:34:03.011561Z",
     "iopub.status.busy": "2024-08-01T00:34:03.010773Z",
     "iopub.status.idle": "2024-08-01T00:34:03.014408Z",
     "shell.execute_reply": "2024-08-01T00:34:03.013824Z"
    },
    "papermill": {
     "duration": 0.010466,
     "end_time": "2024-08-01T00:34:03.015746",
     "exception": false,
     "start_time": "2024-08-01T00:34:03.005280",
     "status": "completed"
    },
    "tags": []
   },
   "outputs": [],
   "source": [
    "save_path = '/disk1/pytomography_tutorial_data'"
   ]
  },
  {
   "cell_type": "markdown",
   "id": "95aeb947",
   "metadata": {
    "papermill": {
     "duration": 0.004455,
     "end_time": "2024-08-01T00:34:03.024502",
     "exception": false,
     "start_time": "2024-08-01T00:34:03.020047",
     "status": "completed"
    },
    "tags": []
   },
   "source": [
    "The following code cell loads projection data and a corresponding CT file and creates a reconstruction algorithm; if you are unfamiliar with the code below or require more explanation, see that \"DICOM Data Introduction\" tutorial.\n",
    "* **The only difference is that we now get a variance estimate for the scatter in line 7 of the cell below, and then input that to the likelihood in line 22**\n",
    "* The collimator corresponding to this data is General Electric\n",
    "s medium energy general purpose collimator."
   ]
  },
  {
   "cell_type": "code",
   "execution_count": 3,
   "id": "78485fd2",
   "metadata": {
    "execution": {
     "iopub.execute_input": "2024-08-01T00:34:03.034434Z",
     "iopub.status.busy": "2024-08-01T00:34:03.034027Z",
     "iopub.status.idle": "2024-08-01T00:34:16.344881Z",
     "shell.execute_reply": "2024-08-01T00:34:16.344133Z"
    },
    "papermill": {
     "duration": 13.317879,
     "end_time": "2024-08-01T00:34:16.346846",
     "exception": false,
     "start_time": "2024-08-01T00:34:03.028967",
     "status": "completed"
    },
    "tags": []
   },
   "outputs": [
    {
     "name": "stdout",
     "output_type": "stream",
     "text": [
      "Given photopeak energy 208.0 keV and CT energy 120 keV from the CT DICOM header, the HU->mu conversion from the following configuration is used: 208.0 keV SPECT energy, 120 keV CT energy, and scanner model optimact540\n"
     ]
    }
   ],
   "source": [
    "file_NM = os.path.join(save_path, 'dicom_multibed_tutorial', 'bed2_projections.dcm')\n",
    "path_CT = os.path.join(save_path, 'dicom_multibed_tutorial', 'CT')\n",
    "files_CT = [os.path.join(path_CT, file) for file in os.listdir(path_CT)]\n",
    "object_meta, proj_meta = dicom.get_metadata(file_NM, index_peak=1)\n",
    "projections = dicom.get_projections(file_NM)\n",
    "photopeak = projections[1]\n",
    "scatter, scatter_variance_estimate = dicom.get_energy_window_scatter_estimate(file_NM, index_peak=1, index_lower=3, index_upper=2, return_scatter_variance_estimate=True)\n",
    "# Build system matrix\n",
    "attenuation_map = dicom.get_attenuation_map_from_CT_slices(files_CT, file_NM, index_peak=1)\n",
    "psf_meta = dicom.get_psfmeta_from_scanner_params('GI-MEGP', energy_keV=208)\n",
    "att_transform = SPECTAttenuationTransform(attenuation_map)\n",
    "psf_transform = SPECTPSFTransform(psf_meta)\n",
    "system_matrix = SPECTSystemMatrix(\n",
    "    obj2obj_transforms = [att_transform,psf_transform],\n",
    "    proj2proj_transforms = [],\n",
    "    object_meta = object_meta,\n",
    "    proj_meta = proj_meta)\n",
    "# Likelihood\n",
    "likelihood = PoissonLogLikelihood(system_matrix, photopeak, additive_term=scatter, additive_term_variance_estimate=scatter_variance_estimate)\n",
    "# Reconstruction algorithm\n",
    "recon_algorithm = OSEM(likelihood)"
   ]
  },
  {
   "cell_type": "markdown",
   "id": "bba6abcf",
   "metadata": {
    "papermill": {
     "duration": 0.00452,
     "end_time": "2024-08-01T00:34:16.357274",
     "exception": false,
     "start_time": "2024-08-01T00:34:16.352754",
     "status": "completed"
    },
    "tags": []
   },
   "source": [
    "Up to this point, we've created the reconstruction algorithm but we haven't performed reconstruction yet. If we plan on computing uncertainty in various VOIs, we are required to use the `DataStorageCallback` callback in the image reconstruction algorithm. This callback stores a copy of the reconstructed image at each iteration and subiteration: all this data is required when computing uncertainties later. It can be created as follows:"
   ]
  },
  {
   "cell_type": "code",
   "execution_count": 4,
   "id": "52b1fbba",
   "metadata": {
    "execution": {
     "iopub.execute_input": "2024-08-01T00:34:16.367752Z",
     "iopub.status.busy": "2024-08-01T00:34:16.367065Z",
     "iopub.status.idle": "2024-08-01T00:34:16.371019Z",
     "shell.execute_reply": "2024-08-01T00:34:16.370348Z"
    },
    "papermill": {
     "duration": 0.010765,
     "end_time": "2024-08-01T00:34:16.372307",
     "exception": false,
     "start_time": "2024-08-01T00:34:16.361542",
     "status": "completed"
    },
    "tags": []
   },
   "outputs": [],
   "source": [
    "data_storage_callback = DataStorageCallback(likelihood, torch.clone(recon_algorithm.object_prediction))"
   ]
  },
  {
   "cell_type": "markdown",
   "id": "c909c950",
   "metadata": {
    "papermill": {
     "duration": 0.004417,
     "end_time": "2024-08-01T00:34:16.381041",
     "exception": false,
     "start_time": "2024-08-01T00:34:16.376624",
     "status": "completed"
    },
    "tags": []
   },
   "source": [
    "Then we reconstruct using this callback:"
   ]
  },
  {
   "cell_type": "code",
   "execution_count": 5,
   "id": "f1d8655a",
   "metadata": {
    "execution": {
     "iopub.execute_input": "2024-08-01T00:34:16.390830Z",
     "iopub.status.busy": "2024-08-01T00:34:16.390435Z",
     "iopub.status.idle": "2024-08-01T00:34:21.167048Z",
     "shell.execute_reply": "2024-08-01T00:34:21.166244Z"
    },
    "papermill": {
     "duration": 4.783806,
     "end_time": "2024-08-01T00:34:21.169122",
     "exception": false,
     "start_time": "2024-08-01T00:34:16.385316",
     "status": "completed"
    },
    "tags": []
   },
   "outputs": [],
   "source": [
    "recon_OSEM = recon_algorithm(n_iters = 4, n_subsets = 8, callback=data_storage_callback)"
   ]
  },
  {
   "cell_type": "markdown",
   "id": "cf807646",
   "metadata": {
    "papermill": {
     "duration": 0.00443,
     "end_time": "2024-08-01T00:34:21.178846",
     "exception": false,
     "start_time": "2024-08-01T00:34:21.174416",
     "status": "completed"
    },
    "tags": []
   },
   "source": [
    "Here's a coronal maximum intensity projection of the reconstruction"
   ]
  },
  {
   "cell_type": "code",
   "execution_count": 6,
   "id": "c755d491",
   "metadata": {
    "execution": {
     "iopub.execute_input": "2024-08-01T00:34:21.189677Z",
     "iopub.status.busy": "2024-08-01T00:34:21.189080Z",
     "iopub.status.idle": "2024-08-01T00:34:21.197919Z",
     "shell.execute_reply": "2024-08-01T00:34:21.197244Z"
    },
    "papermill": {
     "duration": 0.016019,
     "end_time": "2024-08-01T00:34:21.199507",
     "exception": false,
     "start_time": "2024-08-01T00:34:21.183488",
     "status": "completed"
    },
    "tags": []
   },
   "outputs": [],
   "source": [
    "maximum_intensity_projection = recon_OSEM.max(axis=1)[0].cpu()"
   ]
  },
  {
   "cell_type": "code",
   "execution_count": 7,
   "id": "c1aea5dd",
   "metadata": {
    "execution": {
     "iopub.execute_input": "2024-08-01T00:34:21.210311Z",
     "iopub.status.busy": "2024-08-01T00:34:21.209730Z",
     "iopub.status.idle": "2024-08-01T00:34:21.265928Z",
     "shell.execute_reply": "2024-08-01T00:34:21.265247Z"
    },
    "papermill": {
     "duration": 0.063189,
     "end_time": "2024-08-01T00:34:21.267471",
     "exception": false,
     "start_time": "2024-08-01T00:34:21.204282",
     "status": "completed"
    },
    "tags": []
   },
   "outputs": [
    {
     "data": {
      "image/png": "[encoded data removed]",
      "text/plain": [
       "<Figure size 400x400 with 1 Axes>"
      ]
     },
     "metadata": {},
     "output_type": "display_data"
    }
   ],
   "source": [
    "plt.figure(figsize=(4,4))\n",
    "plt.pcolormesh(maximum_intensity_projection.T, cmap='Greys', vmax=4)\n",
    "plt.axis('off')\n",
    "plt.show()"
   ]
  },
  {
   "cell_type": "markdown",
   "id": "2172e650",
   "metadata": {
    "papermill": {
     "duration": 0.005241,
     "end_time": "2024-08-01T00:34:21.278190",
     "exception": false,
     "start_time": "2024-08-01T00:34:21.272949",
     "status": "completed"
    },
    "tags": []
   },
   "source": [
    "Suppose we want to estimate the uncertainty in activity in one of the kidneys. Let's obtain it from an RTStruct file containing segmentations of all the organs. (The cell below is not required for this, but it will allow us to determine the mask names contained in the RTStruct file):"
   ]
  },
  {
   "cell_type": "code",
   "execution_count": 8,
   "id": "110fa625",
   "metadata": {
    "execution": {
     "iopub.execute_input": "2024-08-01T00:34:21.291737Z",
     "iopub.status.busy": "2024-08-01T00:34:21.290910Z",
     "iopub.status.idle": "2024-08-01T00:34:23.223516Z",
     "shell.execute_reply": "2024-08-01T00:34:23.222715Z"
    },
    "papermill": {
     "duration": 1.940824,
     "end_time": "2024-08-01T00:34:23.224976",
     "exception": false,
     "start_time": "2024-08-01T00:34:21.284152",
     "status": "completed"
    },
    "tags": []
   },
   "outputs": [
    {
     "name": "stdout",
     "output_type": "stream",
     "text": [
      "['spleen', 'kidney_right', 'kidney_left', 'gallbladder', 'liver', 'stomach', 'pancreas', 'adrenal_gland_right', 'adrenal_gland_left', 'lung_upper_lobe_left', 'lung_lower_lobe_left', 'lung_upper_lobe_right', 'lung_middle_lobe_right', 'lung_lower_lobe_right', 'esophagus', 'trachea', 'thyroid_gland', 'small_bowel', 'duodenum', 'colon', 'urinary_bladder', 'sacrum', 'vertebrae_S1', 'vertebrae_L5', 'vertebrae_L4', 'vertebrae_L3', 'vertebrae_L2', 'vertebrae_L1', 'vertebrae_T12', 'vertebrae_T11', 'vertebrae_T10', 'vertebrae_T9', 'vertebrae_T8', 'vertebrae_T7', 'vertebrae_T6', 'vertebrae_T5', 'vertebrae_T4', 'vertebrae_T3', 'vertebrae_T2', 'vertebrae_T1', 'vertebrae_C7', 'vertebrae_C6', 'vertebrae_C5', 'vertebrae_C4', 'vertebrae_C3', 'vertebrae_C2', 'vertebrae_C1', 'heart', 'aorta', 'pulmonary_vein', 'brachiocephalic_trunk', 'subclavian_artery_right', 'subclavian_artery_left', 'common_carotid_artery_right', 'common_carotid_artery_left', 'brachiocephalic_vein_left', 'brachiocephalic_vein_right', 'atrial_appendage_left', 'superior_vena_cava', 'inferior_vena_cava', 'portal_vein_and_splenic_vein', 'iliac_artery_left', 'iliac_artery_right', 'iliac_vena_left', 'iliac_vena_right', 'humerus_left', 'humerus_right', 'scapula_left', 'scapula_right', 'clavicula_left', 'clavicula_right', 'femur_right', 'hip_left', 'hip_right', 'spinal_cord', 'gluteus_maximus_left', 'gluteus_maximus_right', 'gluteus_medius_left', 'gluteus_medius_right', 'gluteus_minimus_left', 'gluteus_minimus_right', 'autochthon_left', 'autochthon_right', 'iliopsoas_left', 'iliopsoas_right', 'brain', 'skull', 'rib_right_4', 'rib_right_3', 'rib_left_1', 'rib_left_2', 'rib_left_3', 'rib_left_4', 'rib_left_5', 'rib_left_6', 'rib_left_7', 'rib_left_8', 'rib_left_9', 'rib_left_10', 'rib_left_11', 'rib_left_12', 'rib_right_1', 'rib_right_2', 'rib_right_5', 'rib_right_6', 'rib_right_7', 'rib_right_8', 'rib_right_9', 'rib_right_10', 'rib_right_11', 'rib_right_12', 'sternum', 'costal_cartilages']\n"
     ]
    }
   ],
   "source": [
    "file_RT = os.path.join(save_path, 'dicom_multibed_tutorial', 'segmentations.dcm')\n",
    "rtstruct = RTStructBuilder.create_from(\n",
    "        dicom_series_path=path_CT, \n",
    "        rt_struct_path=file_RT\n",
    "    )\n",
    "print(rtstruct.get_roi_names())"
   ]
  },
  {
   "cell_type": "markdown",
   "id": "d24b1f29",
   "metadata": {
    "papermill": {
     "duration": 0.005064,
     "end_time": "2024-08-01T00:34:23.235439",
     "exception": false,
     "start_time": "2024-08-01T00:34:23.230375",
     "status": "completed"
    },
    "tags": []
   },
   "source": [
    "We can see the `'kidney_right'` is listed as one of the available masks. We can obtain this mask as follows:\n",
    "* `file_RT` is the path to the RTStruct file\n",
    "* `file_NM` is the path the the SPECT projection data; this is required for aligning the mask\n",
    "* `dicom_series_path` is the reference DICOM path of the RTStruct\n",
    "* `rt_struct_name` is the name of the RTStruct we wish to open"
   ]
  },
  {
   "cell_type": "code",
   "execution_count": 9,
   "id": "c37bc5b6",
   "metadata": {
    "execution": {
     "iopub.execute_input": "2024-08-01T00:34:23.247129Z",
     "iopub.status.busy": "2024-08-01T00:34:23.246483Z",
     "iopub.status.idle": "2024-08-01T00:34:23.251611Z",
     "shell.execute_reply": "2024-08-01T00:34:23.250969Z"
    },
    "papermill": {
     "duration": 0.012375,
     "end_time": "2024-08-01T00:34:23.253038",
     "exception": false,
     "start_time": "2024-08-01T00:34:23.240663",
     "status": "completed"
    },
    "tags": []
   },
   "outputs": [
    {
     "data": {
      "text/plain": [
       "'/disk1/pytomography_tutorial_data/dicom_multibed_tutorial/bed2_projections.dcm'"
      ]
     },
     "execution_count": 9,
     "metadata": {},
     "output_type": "execute_result"
    }
   ],
   "source": [
    "file_NM"
   ]
  },
  {
   "cell_type": "code",
   "execution_count": 10,
   "id": "57027624",
   "metadata": {
    "execution": {
     "iopub.execute_input": "2024-08-01T00:34:23.263940Z",
     "iopub.status.busy": "2024-08-01T00:34:23.263456Z",
     "iopub.status.idle": "2024-08-01T00:34:26.851294Z",
     "shell.execute_reply": "2024-08-01T00:34:26.850490Z"
    },
    "papermill": {
     "duration": 3.595371,
     "end_time": "2024-08-01T00:34:26.853357",
     "exception": false,
     "start_time": "2024-08-01T00:34:23.257986",
     "status": "completed"
    },
    "tags": []
   },
   "outputs": [],
   "source": [
    "mask_name = 'kidney_left'\n",
    "kidney_mask = dicom.get_aligned_rtstruct(\n",
    "    file_RT = file_RT,\n",
    "    file_NM = file_NM,\n",
    "    dicom_series_path = path_CT,\n",
    "    rt_struct_name = mask_name\n",
    ")"
   ]
  },
  {
   "cell_type": "markdown",
   "id": "24bf9411",
   "metadata": {
    "papermill": {
     "duration": 0.005122,
     "end_time": "2024-08-01T00:34:26.864113",
     "exception": false,
     "start_time": "2024-08-01T00:34:26.858991",
     "status": "completed"
    },
    "tags": []
   },
   "source": [
    "We can compute the relative and absolute uncertainty corresponding to counts in this region using the `compute_uncertainty` function of the reconstruction algorithm. We also need to pass in the `DataStorageCallback` which contains every iterative update to the objects."
   ]
  },
  {
   "cell_type": "code",
   "execution_count": 11,
   "id": "7b6a3bf1",
   "metadata": {
    "execution": {
     "iopub.execute_input": "2024-08-01T00:34:26.886955Z",
     "iopub.status.busy": "2024-08-01T00:34:26.886159Z",
     "iopub.status.idle": "2024-08-01T00:34:32.987792Z",
     "shell.execute_reply": "2024-08-01T00:34:32.986953Z"
    },
    "papermill": {
     "duration": 6.112593,
     "end_time": "2024-08-01T00:34:32.989310",
     "exception": false,
     "start_time": "2024-08-01T00:34:26.876717",
     "status": "completed"
    },
    "tags": []
   },
   "outputs": [
    {
     "name": "stdout",
     "output_type": "stream",
     "text": [
      "Estimated uncertainty in kidney_left: 0.94%\n"
     ]
    }
   ],
   "source": [
    "uncertainty_abs, uncertainty_pct = recon_algorithm.compute_uncertainty(\n",
    "    mask = kidney_mask,\n",
    "    data_storage_callback = data_storage_callback,\n",
    "    return_pct = True,\n",
    "    include_additive_term=True # must have additive_term_variance_estimate in likelihood\n",
    ")\n",
    "print(f'Estimated uncertainty in {mask_name}: {uncertainty_pct:.2f}%')"
   ]
  },
  {
   "cell_type": "markdown",
   "id": "599e77ba",
   "metadata": {
    "papermill": {
     "duration": 0.004756,
     "end_time": "2024-08-01T00:34:32.999802",
     "exception": false,
     "start_time": "2024-08-01T00:34:32.995046",
     "status": "completed"
    },
    "tags": []
   },
   "source": [
    "This can be repeated for any of the masks above! In addition, you can play around the with iterations, subsets (or even try different reconstruction algorithms) and see how it effects the estimated uncertainty."
   ]
  },
  {
   "cell_type": "markdown",
   "id": "5ee0ac2c",
   "metadata": {
    "papermill": {
     "duration": 0.005133,
     "end_time": "2024-08-01T00:34:33.009791",
     "exception": false,
     "start_time": "2024-08-01T00:34:33.004658",
     "status": "completed"
    },
    "tags": []
   },
   "source": [
    "## Multiple Bed Positions"
   ]
  },
  {
   "cell_type": "markdown",
   "id": "3905d686",
   "metadata": {
    "papermill": {
     "duration": 0.004883,
     "end_time": "2024-08-01T00:34:33.019438",
     "exception": false,
     "start_time": "2024-08-01T00:34:33.014555",
     "status": "completed"
    },
    "tags": []
   },
   "source": [
    "PyTomography is also capable of uncertainty estimation in masks that are contained in two seperate bed positions. This uncertainty estimation takes into account the stitching weights between two different bed positions (if the mask is near the edge) when computing the organ variance in each seperate region.\n",
    "\n",
    "* The code below is a summary of the multibed position tutorial, except that we now include a DataStorageCallback for each bed position"
   ]
  },
  {
   "cell_type": "code",
   "execution_count": 12,
   "id": "1295937e",
   "metadata": {
    "execution": {
     "iopub.execute_input": "2024-08-01T00:34:33.031236Z",
     "iopub.status.busy": "2024-08-01T00:34:33.030712Z",
     "iopub.status.idle": "2024-08-01T00:34:33.145720Z",
     "shell.execute_reply": "2024-08-01T00:34:33.144891Z"
    },
    "papermill": {
     "duration": 0.124051,
     "end_time": "2024-08-01T00:34:33.148370",
     "exception": false,
     "start_time": "2024-08-01T00:34:33.024319",
     "status": "completed"
    },
    "tags": []
   },
   "outputs": [],
   "source": [
    "files_NM = [\n",
    "    os.path.join(save_path, 'dicom_multibed_tutorial', 'bed1_projections.dcm'),\n",
    "    os.path.join(save_path, 'dicom_multibed_tutorial', 'bed2_projections.dcm'),\n",
    "]\n",
    "path_CT = os.path.join(save_path, 'dicom_multibed_tutorial', 'CT')\n",
    "files_CT = [os.path.join(path_CT, file) for file in os.listdir(path_CT)]\n",
    "\n",
    "projectionss = dicom.load_multibed_projections(files_NM)\n",
    "\n",
    "\n",
    "def initialize_reconstruction_algorithm_singlebed(i):\n",
    "    # Change these depending on your file:\n",
    "    index_peak = 1\n",
    "    index_lower = 3\n",
    "    index_upper = 2\n",
    "    projections = projectionss[i]\n",
    "    file_NM = files_NM[i]\n",
    "    object_meta, proj_meta = dicom.get_metadata(file_NM, index_peak=index_peak)\n",
    "    photopeak = projections[index_peak]\n",
    "    scatter = dicom.get_energy_window_scatter_estimate_projections(file_NM, projections, index_peak, index_lower, index_upper)\n",
    "    # Build system matrix\n",
    "    attenuation_map = dicom.get_attenuation_map_from_CT_slices(files_CT, file_NM, index_peak=index_peak)\n",
    "    psf_meta = dicom.get_psfmeta_from_scanner_params('GI-MEGP', energy_keV=208)\n",
    "    att_transform = SPECTAttenuationTransform(attenuation_map)\n",
    "    psf_transform = SPECTPSFTransform(psf_meta)\n",
    "    # Create system matrix\n",
    "    system_matrix = SPECTSystemMatrix(\n",
    "        obj2obj_transforms = [att_transform,psf_transform],\n",
    "        proj2proj_transforms= [],\n",
    "        object_meta = object_meta,\n",
    "        proj_meta = proj_meta)\n",
    "    likelihood = PoissonLogLikelihood(system_matrix, photopeak, additive_term=scatter)\n",
    "    reconstruction_algorithm = OSEM(likelihood)\n",
    "    # Return only the reconstruction algorithm initialization (not calling it for any iterations/subsets yet)\n",
    "    return reconstruction_algorithm"
   ]
  },
  {
   "cell_type": "markdown",
   "id": "df6e1284",
   "metadata": {
    "papermill": {
     "duration": 0.005235,
     "end_time": "2024-08-01T00:34:33.159277",
     "exception": false,
     "start_time": "2024-08-01T00:34:33.154042",
     "status": "completed"
    },
    "tags": []
   },
   "source": [
    "In order to compute uncertainty, we need to use the `PGAAMultiBedWrapper` reconstruction algorithm, which takes in multiple initialized reconstruction algorithms for each bed position (this class can also be used to reconstruct multiple bed positions without uncertainty as well)"
   ]
  },
  {
   "cell_type": "code",
   "execution_count": 13,
   "id": "eb4626f9",
   "metadata": {
    "execution": {
     "iopub.execute_input": "2024-08-01T00:34:33.170909Z",
     "iopub.status.busy": "2024-08-01T00:34:33.170212Z",
     "iopub.status.idle": "2024-08-01T00:35:06.926272Z",
     "shell.execute_reply": "2024-08-01T00:35:06.925491Z"
    },
    "papermill": {
     "duration": 33.764173,
     "end_time": "2024-08-01T00:35:06.928328",
     "exception": false,
     "start_time": "2024-08-01T00:34:33.164155",
     "status": "completed"
    },
    "tags": []
   },
   "outputs": [
    {
     "name": "stdout",
     "output_type": "stream",
     "text": [
      "Given photopeak energy 208.0 keV and CT energy 120 keV from the CT DICOM header, the HU->mu conversion from the following configuration is used: 208.0 keV SPECT energy, 120 keV CT energy, and scanner model optimact540\n"
     ]
    },
    {
     "name": "stdout",
     "output_type": "stream",
     "text": [
      "Given photopeak energy 208.0 keV and CT energy 120 keV from the CT DICOM header, the HU->mu conversion from the following configuration is used: 208.0 keV SPECT energy, 120 keV CT energy, and scanner model optimact540\n"
     ]
    }
   ],
   "source": [
    "recon_algo_upper = initialize_reconstruction_algorithm_singlebed(0)\n",
    "recon_algo_lower  = initialize_reconstruction_algorithm_singlebed(1)\n",
    "recon_algo = PGAAMultiBedSPECT(files_NM, [recon_algo_upper, recon_algo_lower])\n",
    "# Initialize callback for each bed position\n",
    "callbacks = [DataStorageCallback(r.likelihood, r.object_prediction) for r in recon_algo.reconstruction_algorithms]\n",
    "reconstructed_image_multibed = recon_algo(4, 8, callback=callbacks)"
   ]
  },
  {
   "cell_type": "markdown",
   "id": "62f60190",
   "metadata": {
    "papermill": {
     "duration": 0.004958,
     "end_time": "2024-08-01T00:35:06.939345",
     "exception": false,
     "start_time": "2024-08-01T00:35:06.934387",
     "status": "completed"
    },
    "tags": []
   },
   "source": [
    "Lets plot the reconstruction (note how the liver overlaps two different bed positions, since it spans the center of the image)"
   ]
  },
  {
   "cell_type": "code",
   "execution_count": 14,
   "id": "95fbefff",
   "metadata": {
    "execution": {
     "iopub.execute_input": "2024-08-01T00:35:06.950770Z",
     "iopub.status.busy": "2024-08-01T00:35:06.950256Z",
     "iopub.status.idle": "2024-08-01T00:35:06.997873Z",
     "shell.execute_reply": "2024-08-01T00:35:06.997225Z"
    },
    "papermill": {
     "duration": 0.054982,
     "end_time": "2024-08-01T00:35:06.999299",
     "exception": false,
     "start_time": "2024-08-01T00:35:06.944317",
     "status": "completed"
    },
    "tags": []
   },
   "outputs": [
    {
     "data": {
      "image/png": "[encoded data removed]",
      "text/plain": [
       "<Figure size 300x500 with 1 Axes>"
      ]
     },
     "metadata": {},
     "output_type": "display_data"
    }
   ],
   "source": [
    "maximum_intensity_projection = reconstructed_image_multibed.max(axis=1)[0].cpu()\n",
    "plt.figure(figsize=(3,5))\n",
    "plt.pcolormesh(maximum_intensity_projection.T, cmap='Greys', vmax=5)\n",
    "plt.axis('off')\n",
    "plt.show()"
   ]
  },
  {
   "cell_type": "markdown",
   "id": "b5f8ee25",
   "metadata": {
    "papermill": {
     "duration": 0.005353,
     "end_time": "2024-08-01T00:35:07.010465",
     "exception": false,
     "start_time": "2024-08-01T00:35:07.005112",
     "status": "completed"
    },
    "tags": []
   },
   "source": [
    "When we obtain the organ mask, we need to \n",
    "1. Specify the shape as the shape of the reconstructed image (not the batch dimension, so we use `[1:]`)\n",
    "2. Specify the `file_NM` in the most superior bed position"
   ]
  },
  {
   "cell_type": "code",
   "execution_count": 15,
   "id": "e11f80b8",
   "metadata": {
    "execution": {
     "iopub.execute_input": "2024-08-01T00:35:07.023374Z",
     "iopub.status.busy": "2024-08-01T00:35:07.022740Z",
     "iopub.status.idle": "2024-08-01T00:35:10.827564Z",
     "shell.execute_reply": "2024-08-01T00:35:10.826809Z"
    },
    "papermill": {
     "duration": 3.813423,
     "end_time": "2024-08-01T00:35:10.829655",
     "exception": false,
     "start_time": "2024-08-01T00:35:07.016232",
     "status": "completed"
    },
    "tags": []
   },
   "outputs": [],
   "source": [
    "mask_name = 'liver'\n",
    "liver_mask = dicom.get_aligned_rtstruct(\n",
    "    file_RT = file_RT,\n",
    "    file_NM = files_NM[0],\n",
    "    dicom_series_path = path_CT,\n",
    "    rt_struct_name = mask_name,\n",
    "    shape=reconstructed_image_multibed.shape\n",
    ")"
   ]
  },
  {
   "cell_type": "markdown",
   "id": "6df93d50",
   "metadata": {
    "papermill": {
     "duration": 0.005567,
     "end_time": "2024-08-01T00:35:10.841489",
     "exception": false,
     "start_time": "2024-08-01T00:35:10.835922",
     "status": "completed"
    },
    "tags": []
   },
   "source": [
    "Now we can compute the uncertainty in the liver, which spans both bed positions"
   ]
  },
  {
   "cell_type": "code",
   "execution_count": 16,
   "id": "1f5732f4",
   "metadata": {
    "execution": {
     "iopub.execute_input": "2024-08-01T00:35:10.853833Z",
     "iopub.status.busy": "2024-08-01T00:35:10.853171Z",
     "iopub.status.idle": "2024-08-01T00:35:15.521823Z",
     "shell.execute_reply": "2024-08-01T00:35:15.521072Z"
    },
    "papermill": {
     "duration": 4.677086,
     "end_time": "2024-08-01T00:35:15.523899",
     "exception": false,
     "start_time": "2024-08-01T00:35:10.846813",
     "status": "completed"
    },
    "tags": []
   },
   "outputs": [],
   "source": [
    "uncertainty_abs, uncertainty_pct = recon_algo.compute_uncertainty(liver_mask, callbacks, return_pct=True)"
   ]
  },
  {
   "cell_type": "code",
   "execution_count": 17,
   "id": "1b8b9ae0",
   "metadata": {
    "execution": {
     "iopub.execute_input": "2024-08-01T00:35:15.537336Z",
     "iopub.status.busy": "2024-08-01T00:35:15.536893Z",
     "iopub.status.idle": "2024-08-01T00:35:15.540888Z",
     "shell.execute_reply": "2024-08-01T00:35:15.540283Z"
    },
    "papermill": {
     "duration": 0.011667,
     "end_time": "2024-08-01T00:35:15.542169",
     "exception": false,
     "start_time": "2024-08-01T00:35:15.530502",
     "status": "completed"
    },
    "tags": []
   },
   "outputs": [
    {
     "name": "stdout",
     "output_type": "stream",
     "text": [
      "Estimated uncertainty in liver: 1.56%\n"
     ]
    }
   ],
   "source": [
    "print(f'Estimated uncertainty in {mask_name}: {uncertainty_pct:.2f}%')"
   ]
  }
 ],
 "metadata": {
  "kernelspec": {
   "display_name": "pytomo_install_test",
   "language": "python",
   "name": "python3"
  },
  "language_info": {
   "codemirror_mode": {
    "name": "ipython",
    "version": 3
   },
   "file_extension": ".py",
   "mimetype": "text/x-python",
   "name": "python",
   "nbconvert_exporter": "python",
   "pygments_lexer": "ipython3",
   "version": "3.11.6"
  },
  "papermill": {
   "default_parameters": {},
   "duration": 81.07027,
   "end_time": "2024-08-01T00:35:18.367228",
   "environment_variables": {},
   "exception": null,
   "input_path": "t_uncertainty_spect.ipynb",
   "output_path": "t_uncertainty_spect.ipynb",
   "parameters": {},
   "start_time": "2024-08-01T00:33:57.296958",
   "version": "2.6.0"
  }
 },
 "nbformat": 4,
 "nbformat_minor": 5
}