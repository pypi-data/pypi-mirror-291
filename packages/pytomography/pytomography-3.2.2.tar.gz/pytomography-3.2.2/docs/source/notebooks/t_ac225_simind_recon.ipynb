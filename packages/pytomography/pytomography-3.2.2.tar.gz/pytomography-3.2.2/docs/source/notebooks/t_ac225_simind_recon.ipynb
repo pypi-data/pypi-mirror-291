{
 "cells": [
  {
   "cell_type": "markdown",
   "id": "b9a3bee9",
   "metadata": {
    "papermill": {
     "duration": 0.003647,
     "end_time": "2024-08-01T03:55:38.456048",
     "exception": false,
     "start_time": "2024-08-01T03:55:38.452401",
     "status": "completed"
    },
    "tags": []
   },
   "source": [
    "# Ac-225 Advanced PSF Modeling (SIMIND)"
   ]
  },
  {
   "cell_type": "markdown",
   "id": "4f60caca",
   "metadata": {
    "papermill": {
     "duration": 0.002527,
     "end_time": "2024-08-01T03:55:38.461523",
     "exception": false,
     "start_time": "2024-08-01T03:55:38.458996",
     "status": "completed"
    },
    "tags": []
   },
   "source": [
    "This tutorial uses the PSF operators obtained using the SPECTPSF toolbox to reconstruct Ac225 data. The operator was obtained using tutorial 5, available at this [link](https://github.com/lukepolson/SPECTPSFToolbox/blob/main/tutorials/5_optimization_ac225.ipynb). Use of this operator requires the SPECTPSFToolbox to be installed; instructions for installing can be found on the README [here](https://github.com/lukepolson/SPECTPSFToolbox/tree/main)"
   ]
  },
  {
   "cell_type": "code",
   "execution_count": 1,
   "id": "0509a980",
   "metadata": {
    "execution": {
     "iopub.execute_input": "2024-08-01T03:55:38.471235Z",
     "iopub.status.busy": "2024-08-01T03:55:38.470692Z",
     "iopub.status.idle": "2024-08-01T03:55:41.667314Z",
     "shell.execute_reply": "2024-08-01T03:55:41.666621Z"
    },
    "papermill": {
     "duration": 3.204711,
     "end_time": "2024-08-01T03:55:41.668874",
     "exception": false,
     "start_time": "2024-08-01T03:55:38.464163",
     "status": "completed"
    },
    "tags": []
   },
   "outputs": [
    {
     "name": "stdout",
     "output_type": "stream",
     "text": [
      "\n",
      "          -  -  -  -  -  -  -  -   -  -  -  -\n",
      "          P  A  R  A  L  L  E  L | P  R  O  J\n",
      "          -  -  -  -  -  -  -  -   -  -  -  -\n",
      "\n",
      "    =================================================\n",
      "\n",
      "         Please consider citing our publication\n",
      "      ---------------------------------------------\n",
      "      Georg Schramm and Kris Thielemans:\n",
      "      \"PARALLELPROJ—an open-source framework for\n",
      "       fast calculation of projections in\n",
      "       tomography\"\n",
      "      Front. Nucl. Med., 08 January 2024\n",
      "      Sec. PET and SPECT, Vol 3\n",
      "      https://doi.org/10.3389/fnume.2023.1324562\n",
      "\n",
      "    =================================================\n",
      " \n",
      "    parallelproj C    lib: /data/anaconda/envs/pytomo_install_test/lib/libparallelproj_c.so.1.8.0\n",
      "    parallelproj CUDA lib: /data/anaconda/envs/pytomo_install_test/lib/libparallelproj_cuda.so.1.8.0\n",
      "    \n"
     ]
    }
   ],
   "source": [
    "import os\n",
    "import torch\n",
    "import dill\n",
    "import pytomography\n",
    "from pytomography.io.SPECT import simind\n",
    "from pytomography.projectors.SPECT import SPECTSystemMatrix\n",
    "from pytomography.transforms.SPECT  import SPECTAttenuationTransform, SPECTPSFTransform\n",
    "from pytomography.algorithms import OSEM\n",
    "from pytomography.io.SPECT.shared import subsample_projections_and_modify_metadata, subsample_amap\n",
    "from pytomography.likelihoods import PoissonLogLikelihood\n",
    "import matplotlib.pyplot as plt"
   ]
  },
  {
   "cell_type": "code",
   "execution_count": 2,
   "id": "90753cf1",
   "metadata": {
    "execution": {
     "iopub.execute_input": "2024-08-01T03:55:41.676766Z",
     "iopub.status.busy": "2024-08-01T03:55:41.676166Z",
     "iopub.status.idle": "2024-08-01T03:55:41.679692Z",
     "shell.execute_reply": "2024-08-01T03:55:41.678983Z"
    },
    "papermill": {
     "duration": 0.008777,
     "end_time": "2024-08-01T03:55:41.681049",
     "exception": false,
     "start_time": "2024-08-01T03:55:41.672272",
     "status": "completed"
    },
    "tags": []
   },
   "outputs": [],
   "source": [
    "path = '/disk1/pytomography_tutorial_data/ac225_tutorials/'"
   ]
  },
  {
   "cell_type": "markdown",
   "id": "846534d4",
   "metadata": {
    "papermill": {
     "duration": 0.002735,
     "end_time": "2024-08-01T03:55:41.686518",
     "exception": false,
     "start_time": "2024-08-01T03:55:41.683783",
     "status": "completed"
    },
    "tags": []
   },
   "source": [
    "Load the SIMIND data. In this case, we'll use the ground truth scatter from SIMIND."
   ]
  },
  {
   "cell_type": "code",
   "execution_count": 3,
   "id": "e45a3064",
   "metadata": {
    "execution": {
     "iopub.execute_input": "2024-08-01T03:55:41.693138Z",
     "iopub.status.busy": "2024-08-01T03:55:41.692776Z",
     "iopub.status.idle": "2024-08-01T03:55:42.330042Z",
     "shell.execute_reply": "2024-08-01T03:55:42.329349Z"
    },
    "papermill": {
     "duration": 0.643489,
     "end_time": "2024-08-01T03:55:42.332825",
     "exception": false,
     "start_time": "2024-08-01T03:55:41.689336",
     "status": "completed"
    },
    "tags": []
   },
   "outputs": [],
   "source": [
    "dT = 3.5 * 60 # seconds per projection\n",
    "activity = 100 # mBq\n",
    "CPSpMBq = 19.4796\n",
    "\n",
    "# We only consider Bi213 here, since Fr221 doesnt contribute to this window\n",
    "photopeak_path = os.path.join(path, 'bi213_phantom_data', 'tot_w8.h00')\n",
    "scatter_path = os.path.join(path, 'bi213_phantom_data', 'sca_w8.h00')\n",
    "amap = simind.get_attenuation_map(os.path.join(path, 'bi213_phantom_data', 'amap.hct'))\n",
    "object_meta, proj_meta = simind.get_metadata(photopeak_path)\n",
    "projectionss = simind.get_projections([photopeak_path, scatter_path])"
   ]
  },
  {
   "cell_type": "markdown",
   "id": "ca228773",
   "metadata": {
    "papermill": {
     "duration": 0.002734,
     "end_time": "2024-08-01T03:55:42.338881",
     "exception": false,
     "start_time": "2024-08-01T03:55:42.336147",
     "status": "completed"
    },
    "tags": []
   },
   "source": [
    "The projection data is 96 angles and 256x256 here. The function below allows us to reduce the projections to 32 angles and 128x128 which corresponds to typical Ac225 acquisition."
   ]
  },
  {
   "cell_type": "code",
   "execution_count": 4,
   "id": "4fb7f631",
   "metadata": {
    "execution": {
     "iopub.execute_input": "2024-08-01T03:55:42.345711Z",
     "iopub.status.busy": "2024-08-01T03:55:42.345187Z",
     "iopub.status.idle": "2024-08-01T03:55:42.361772Z",
     "shell.execute_reply": "2024-08-01T03:55:42.361056Z"
    },
    "papermill": {
     "duration": 0.021734,
     "end_time": "2024-08-01T03:55:42.363292",
     "exception": false,
     "start_time": "2024-08-01T03:55:42.341558",
     "status": "completed"
    },
    "tags": []
   },
   "outputs": [],
   "source": [
    "object_meta, proj_meta, projectionss = subsample_projections_and_modify_metadata(object_meta, proj_meta, projectionss, N_pixel = 2, N_angle=4)\n",
    "amap = subsample_amap(amap, N=2)"
   ]
  },
  {
   "cell_type": "markdown",
   "id": "c7a3cd96",
   "metadata": {
    "papermill": {
     "duration": 0.002719,
     "end_time": "2024-08-01T03:55:42.368891",
     "exception": false,
     "start_time": "2024-08-01T03:55:42.366172",
     "status": "completed"
    },
    "tags": []
   },
   "source": [
    "Get photopeak and scatter:"
   ]
  },
  {
   "cell_type": "code",
   "execution_count": 5,
   "id": "aad8fcc0",
   "metadata": {
    "execution": {
     "iopub.execute_input": "2024-08-01T03:55:42.375399Z",
     "iopub.status.busy": "2024-08-01T03:55:42.375015Z",
     "iopub.status.idle": "2024-08-01T03:55:42.400070Z",
     "shell.execute_reply": "2024-08-01T03:55:42.399394Z"
    },
    "papermill": {
     "duration": 0.030145,
     "end_time": "2024-08-01T03:55:42.401694",
     "exception": false,
     "start_time": "2024-08-01T03:55:42.371549",
     "status": "completed"
    },
    "tags": []
   },
   "outputs": [],
   "source": [
    "photopeak = torch.poisson(projectionss[0]*activity*dT)\n",
    "scatter = torch.poisson(projectionss[1]*activity*dT)"
   ]
  },
  {
   "cell_type": "markdown",
   "id": "6c080296",
   "metadata": {
    "papermill": {
     "duration": 0.002753,
     "end_time": "2024-08-01T03:55:42.407408",
     "exception": false,
     "start_time": "2024-08-01T03:55:42.404655",
     "status": "completed"
    },
    "tags": []
   },
   "source": [
    "The code below reconstructs using MLEM(30it,1ss)"
   ]
  },
  {
   "cell_type": "code",
   "execution_count": 6,
   "id": "0c961aea",
   "metadata": {
    "execution": {
     "iopub.execute_input": "2024-08-01T03:55:42.413922Z",
     "iopub.status.busy": "2024-08-01T03:55:42.413549Z",
     "iopub.status.idle": "2024-08-01T03:55:42.417527Z",
     "shell.execute_reply": "2024-08-01T03:55:42.416968Z"
    },
    "papermill": {
     "duration": 0.008662,
     "end_time": "2024-08-01T03:55:42.418682",
     "exception": false,
     "start_time": "2024-08-01T03:55:42.410020",
     "status": "completed"
    },
    "tags": []
   },
   "outputs": [],
   "source": [
    "def perform_reconstruction(psf_transform):\n",
    "    att_transform = SPECTAttenuationTransform(attenuation_map=amap)\n",
    "    system_matrix = SPECTSystemMatrix(\n",
    "            obj2obj_transforms = [att_transform,psf_transform],\n",
    "            proj2proj_transforms = [],\n",
    "            object_meta = object_meta,\n",
    "            proj_meta = proj_meta)\n",
    "    likelihood = PoissonLogLikelihood(system_matrix, photopeak, scatter)\n",
    "    algorithm = OSEM(likelihood)\n",
    "    return algorithm(n_iters=30, n_subsets=1)"
   ]
  },
  {
   "cell_type": "markdown",
   "id": "b86383c8",
   "metadata": {
    "papermill": {
     "duration": 0.002743,
     "end_time": "2024-08-01T03:55:42.424070",
     "exception": false,
     "start_time": "2024-08-01T03:55:42.421327",
     "status": "completed"
    },
    "tags": []
   },
   "source": [
    "Reconstruct using the operator saved from SPECTPSFToolbox:"
   ]
  },
  {
   "cell_type": "code",
   "execution_count": 7,
   "id": "658544c9",
   "metadata": {
    "execution": {
     "iopub.execute_input": "2024-08-01T03:55:42.430479Z",
     "iopub.status.busy": "2024-08-01T03:55:42.430008Z",
     "iopub.status.idle": "2024-08-01T03:56:35.062417Z",
     "shell.execute_reply": "2024-08-01T03:56:35.061645Z"
    },
    "papermill": {
     "duration": 52.64078,
     "end_time": "2024-08-01T03:56:35.067490",
     "exception": false,
     "start_time": "2024-08-01T03:55:42.426710",
     "status": "completed"
    },
    "tags": []
   },
   "outputs": [],
   "source": [
    "with open(os.path.join(path, 'psf_operator_ac225.pkl'), 'rb') as f:\n",
    "    psf_operator = dill.load(f)\n",
    "psf_operator.set_device(pytomography.device)\n",
    "psf_transform = SPECTPSFTransform(psf_operator=psf_operator)\n",
    "recon_1Dfit = perform_reconstruction(psf_transform)"
   ]
  },
  {
   "cell_type": "markdown",
   "id": "3dc2d2fb",
   "metadata": {
    "papermill": {
     "duration": 0.002615,
     "end_time": "2024-08-01T03:56:35.073514",
     "exception": false,
     "start_time": "2024-08-01T03:56:35.070899",
     "status": "completed"
    },
    "tags": []
   },
   "source": [
    "Reconstruct using the Gaussian modeling which doesn't account for the septal penetration and septal scatter:"
   ]
  },
  {
   "cell_type": "code",
   "execution_count": 8,
   "id": "385bdd76",
   "metadata": {
    "execution": {
     "iopub.execute_input": "2024-08-01T03:56:35.080372Z",
     "iopub.status.busy": "2024-08-01T03:56:35.079962Z",
     "iopub.status.idle": "2024-08-01T03:56:46.323338Z",
     "shell.execute_reply": "2024-08-01T03:56:46.322648Z"
    },
    "papermill": {
     "duration": 11.248961,
     "end_time": "2024-08-01T03:56:46.325139",
     "exception": false,
     "start_time": "2024-08-01T03:56:35.076178",
     "status": "completed"
    },
    "tags": []
   },
   "outputs": [],
   "source": [
    "psf_meta = simind.get_psfmeta_from_header(photopeak_path)\n",
    "psf_transform = SPECTPSFTransform(psf_meta)\n",
    "reconbad = perform_reconstruction(psf_transform)"
   ]
  },
  {
   "cell_type": "markdown",
   "id": "ddc98aeb",
   "metadata": {
    "papermill": {
     "duration": 0.002785,
     "end_time": "2024-08-01T03:56:46.331335",
     "exception": false,
     "start_time": "2024-08-01T03:56:46.328550",
     "status": "completed"
    },
    "tags": []
   },
   "source": [
    "Lets compare the two reconstructions: the first one using the fitted PSF and the second one using the Monte Carlo kernels. Note that the fitted one was over twice as fast for reconstructing!"
   ]
  },
  {
   "cell_type": "code",
   "execution_count": 9,
   "id": "4b8abb4b",
   "metadata": {
    "execution": {
     "iopub.execute_input": "2024-08-01T03:56:46.337867Z",
     "iopub.status.busy": "2024-08-01T03:56:46.337444Z",
     "iopub.status.idle": "2024-08-01T03:56:46.340666Z",
     "shell.execute_reply": "2024-08-01T03:56:46.340136Z"
    },
    "papermill": {
     "duration": 0.00786,
     "end_time": "2024-08-01T03:56:46.341841",
     "exception": false,
     "start_time": "2024-08-01T03:56:46.333981",
     "status": "completed"
    },
    "tags": []
   },
   "outputs": [],
   "source": [
    "recons = [reconbad, recon_1Dfit]\n",
    "titles = ['Gaussian PSF [GC Only]', 'Full PSF']"
   ]
  },
  {
   "cell_type": "code",
   "execution_count": 10,
   "id": "81470adb",
   "metadata": {
    "execution": {
     "iopub.execute_input": "2024-08-01T03:56:46.348360Z",
     "iopub.status.busy": "2024-08-01T03:56:46.347870Z",
     "iopub.status.idle": "2024-08-01T03:56:46.623202Z",
     "shell.execute_reply": "2024-08-01T03:56:46.622602Z"
    },
    "papermill": {
     "duration": 0.280351,
     "end_time": "2024-08-01T03:56:46.624877",
     "exception": false,
     "start_time": "2024-08-01T03:56:46.344526",
     "status": "completed"
    },
    "tags": []
   },
   "outputs": [
    {
     "data": {
      "image/png": "[encoded data removed]",
      "text/plain": [
       "<Figure size 800x400 with 2 Axes>"
      ]
     },
     "metadata": {},
     "output_type": "display_data"
    }
   ],
   "source": [
    "fig, ax = plt.subplots(1,2,figsize=(8,4))\n",
    "vmax = recons[1].max()\n",
    "for i in range(2):\n",
    "    plt.sca(ax[i])\n",
    "    plt.imshow(recons[i].cpu().numpy()[:,:,64], cmap='hot', interpolation='gaussian', vmax=vmax)\n",
    "    plt.title(titles[i])\n",
    "    plt.axis('off')\n",
    "    plt.xlim(35,95)\n",
    "    plt.ylim(35,95)\n",
    "fig.tight_layout()"
   ]
  }
 ],
 "metadata": {
  "kernelspec": {
   "display_name": "pytomo_install_test",
   "language": "python",
   "name": "python3"
  },
  "language_info": {
   "codemirror_mode": {
    "name": "ipython",
    "version": 3
   },
   "file_extension": ".py",
   "mimetype": "text/x-python",
   "name": "python",
   "nbconvert_exporter": "python",
   "pygments_lexer": "ipython3",
   "version": "3.11.6"
  },
  "papermill": {
   "default_parameters": {},
   "duration": 70.920599,
   "end_time": "2024-08-01T03:56:48.250494",
   "environment_variables": {},
   "exception": null,
   "input_path": "t_ac225_simind_recon.ipynb",
   "output_path": "t_ac225_simind_recon.ipynb",
   "parameters": {},
   "start_time": "2024-08-01T03:55:37.329895",
   "version": "2.6.0"
  }
 },
 "nbformat": 4,
 "nbformat_minor": 5
}