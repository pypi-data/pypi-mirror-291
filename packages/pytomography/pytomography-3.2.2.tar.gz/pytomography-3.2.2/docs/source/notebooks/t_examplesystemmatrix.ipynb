{
 "cells": [
  {
   "cell_type": "markdown",
   "id": "9fba7144",
   "metadata": {
    "papermill": {
     "duration": 0.011039,
     "end_time": "2024-08-01T04:11:59.573009",
     "exception": false,
     "start_time": "2024-08-01T04:11:59.561970",
     "status": "completed"
    },
    "tags": []
   },
   "source": [
    "# Implementing New System Matrices"
   ]
  },
  {
   "cell_type": "code",
   "execution_count": 1,
   "id": "664a5b9e",
   "metadata": {
    "execution": {
     "iopub.execute_input": "2024-08-01T04:11:59.594937Z",
     "iopub.status.busy": "2024-08-01T04:11:59.594484Z",
     "iopub.status.idle": "2024-08-01T04:12:02.867440Z",
     "shell.execute_reply": "2024-08-01T04:12:02.866647Z"
    },
    "papermill": {
     "duration": 3.286117,
     "end_time": "2024-08-01T04:12:02.869331",
     "exception": false,
     "start_time": "2024-08-01T04:11:59.583214",
     "status": "completed"
    },
    "tags": []
   },
   "outputs": [],
   "source": [
    "import pytomography\n",
    "from pytomography.algorithms import OSEM, MLEM\n",
    "from pytomography.metadata import ObjectMeta, ProjMeta\n",
    "from pytomography.projectors import SystemMatrix\n",
    "from pytomography.likelihoods import NegativeMSELikelihood\n",
    "import matplotlib.pyplot as plt\n",
    "import torch"
   ]
  },
  {
   "cell_type": "markdown",
   "id": "608c20bb",
   "metadata": {
    "papermill": {
     "duration": 0.010611,
     "end_time": "2024-08-01T04:12:02.891907",
     "exception": false,
     "start_time": "2024-08-01T04:12:02.881296",
     "status": "completed"
    },
    "tags": []
   },
   "source": [
    "For now, we'll set `pytomography.device='cpu'` since all the objects we'll be creating/testing on will be on CPU, but this can be changed (provided all created objects are placed on GPU)."
   ]
  },
  {
   "cell_type": "code",
   "execution_count": 2,
   "id": "a5e573b5",
   "metadata": {
    "execution": {
     "iopub.execute_input": "2024-08-01T04:12:02.948770Z",
     "iopub.status.busy": "2024-08-01T04:12:02.947940Z",
     "iopub.status.idle": "2024-08-01T04:12:02.951747Z",
     "shell.execute_reply": "2024-08-01T04:12:02.951125Z"
    },
    "papermill": {
     "duration": 0.016158,
     "end_time": "2024-08-01T04:12:02.953007",
     "exception": false,
     "start_time": "2024-08-01T04:12:02.936849",
     "status": "completed"
    },
    "tags": []
   },
   "outputs": [],
   "source": [
    "pytomography.device = 'cpu'"
   ]
  },
  {
   "cell_type": "markdown",
   "id": "c8b3a6ea",
   "metadata": {
    "papermill": {
     "duration": 0.011395,
     "end_time": "2024-08-01T04:12:02.974273",
     "exception": false,
     "start_time": "2024-08-01T04:12:02.962878",
     "status": "completed"
    },
    "tags": []
   },
   "source": [
    "This tutorial demonstrates how to implement new system matrices in PyTomography that interface with all the available likelihoods/reconstruction algorithms. We will consider a very simple scenario of an imaging system where \n",
    "\n",
    "* data is acquired at two angles (0 and 90 degrees)\n",
    "* detector consists of an MxM grid that perfectly aligns with an object of shape $M \\times M \\times M$\n",
    "* each detector pixel has a different sensitivity $s_j$\n",
    "\n",
    "The value of each pixel is thus\n",
    "\n",
    "$$ p_j = s_j \\sum_{i \\in \\text{line}_j} x_i$$\n",
    "\n",
    "<img src=\"../images/example_scanner_sm.png\"  width=\"500\">\n",
    "\n",
    "\n",
    "\n",
    " We'll call this system the **Example Scanner**, (or *EXS* for short) "
   ]
  },
  {
   "cell_type": "code",
   "execution_count": 3,
   "id": "9d74de56",
   "metadata": {
    "execution": {
     "iopub.execute_input": "2024-08-01T04:12:02.998064Z",
     "iopub.status.busy": "2024-08-01T04:12:02.997544Z",
     "iopub.status.idle": "2024-08-01T04:12:03.002039Z",
     "shell.execute_reply": "2024-08-01T04:12:03.000949Z"
    },
    "papermill": {
     "duration": 0.021503,
     "end_time": "2024-08-01T04:12:03.007848",
     "exception": false,
     "start_time": "2024-08-01T04:12:02.986345",
     "status": "completed"
    },
    "tags": []
   },
   "outputs": [],
   "source": [
    "M = 3\n",
    "object_meta = ObjectMeta(dr=(1.5,1.5,1.5), shape=(M,M,M))"
   ]
  },
  {
   "cell_type": "markdown",
   "id": "622a1606",
   "metadata": {
    "papermill": {
     "duration": 0.017573,
     "end_time": "2024-08-01T04:12:03.036523",
     "exception": false,
     "start_time": "2024-08-01T04:12:03.018950",
     "status": "completed"
    },
    "tags": []
   },
   "source": [
    "The objects we consider thus have dimensions of $3 \\times 3 \\times 3$ with voxel dimensions of $1.5 \\times 1.5 \\times 1.5$. The units of the voxel dimensions can be whatever (mm/cm): their units are defined by the system matrix."
   ]
  },
  {
   "cell_type": "markdown",
   "id": "9fd14578",
   "metadata": {
    "papermill": {
     "duration": 0.015669,
     "end_time": "2024-08-01T04:12:03.066836",
     "exception": false,
     "start_time": "2024-08-01T04:12:03.051167",
     "status": "completed"
    },
    "tags": []
   },
   "source": [
    "# Example 1: Non-ListMode"
   ]
  },
  {
   "cell_type": "markdown",
   "id": "4180e797",
   "metadata": {
    "papermill": {
     "duration": 0.010809,
     "end_time": "2024-08-01T04:12:03.087498",
     "exception": false,
     "start_time": "2024-08-01T04:12:03.076689",
     "status": "completed"
    },
    "tags": []
   },
   "source": [
    "## Metadata"
   ]
  },
  {
   "cell_type": "markdown",
   "id": "4364c1e4",
   "metadata": {
    "papermill": {
     "duration": 0.009932,
     "end_time": "2024-08-01T04:12:03.108314",
     "exception": false,
     "start_time": "2024-08-01T04:12:03.098382",
     "status": "completed"
    },
    "tags": []
   },
   "source": [
    "We'll start by creating a projection metadata class which will interface with the system matrix\n",
    "* It should be a subclass of the `ProjMeta` class of PyTomography"
   ]
  },
  {
   "cell_type": "code",
   "execution_count": 4,
   "id": "1a5f16fb",
   "metadata": {
    "execution": {
     "iopub.execute_input": "2024-08-01T04:12:03.131680Z",
     "iopub.status.busy": "2024-08-01T04:12:03.131288Z",
     "iopub.status.idle": "2024-08-01T04:12:03.135804Z",
     "shell.execute_reply": "2024-08-01T04:12:03.135228Z"
    },
    "papermill": {
     "duration": 0.018237,
     "end_time": "2024-08-01T04:12:03.137093",
     "exception": false,
     "start_time": "2024-08-01T04:12:03.118856",
     "status": "completed"
    },
    "tags": []
   },
   "outputs": [],
   "source": [
    "class EXSProjMeta(ProjMeta):\n",
    "    def __init__(self, M, sensitivity_factor):\n",
    "        self.M = M\n",
    "        self.sensitivity_factor = sensitivity_factor\n",
    "        if (sensitivity_factor.shape[0]!=M)*(sensitivity_factor.shape[1]!=M):\n",
    "            raise ValueError(\"sensitivity_factor should have side dimensions M\")"
   ]
  },
  {
   "cell_type": "code",
   "execution_count": 5,
   "id": "66d71c60",
   "metadata": {
    "execution": {
     "iopub.execute_input": "2024-08-01T04:12:03.158284Z",
     "iopub.status.busy": "2024-08-01T04:12:03.157797Z",
     "iopub.status.idle": "2024-08-01T04:12:03.167787Z",
     "shell.execute_reply": "2024-08-01T04:12:03.161513Z"
    },
    "papermill": {
     "duration": 0.024137,
     "end_time": "2024-08-01T04:12:03.171293",
     "exception": false,
     "start_time": "2024-08-01T04:12:03.147156",
     "status": "completed"
    },
    "tags": []
   },
   "outputs": [],
   "source": [
    "M = object_meta.shape[0]\n",
    "# Note: the sensitivty factor is the same for each projection angle, a single detector is \"rotating\" between angle 0 and 90\n",
    "sensitivity_factor = torch.ones((M,M))+0.3*torch.rand((M,M))\n",
    "proj_meta = EXSProjMeta(M, sensitivity_factor)"
   ]
  },
  {
   "cell_type": "markdown",
   "id": "c35a1fb7",
   "metadata": {
    "papermill": {
     "duration": 0.01008,
     "end_time": "2024-08-01T04:12:03.191524",
     "exception": false,
     "start_time": "2024-08-01T04:12:03.181444",
     "status": "completed"
    },
    "tags": []
   },
   "source": [
    "## System Matrix\n",
    "\n",
    "### Part 1: Understanding the Forward/Backward PRojections"
   ]
  },
  {
   "cell_type": "markdown",
   "id": "af64ab91",
   "metadata": {
    "papermill": {
     "duration": 0.010099,
     "end_time": "2024-08-01T04:12:03.211783",
     "exception": false,
     "start_time": "2024-08-01T04:12:03.201684",
     "status": "completed"
    },
    "tags": []
   },
   "source": [
    "Before we begin to build the system matrix, lets understand the operations required to implement this system matrix. \n",
    "\n",
    "* Forward projection requires summing the object along its $x$-axis and $y$-axis respectively, and then concatenating together.\n",
    "* In PyTomography, our object is 3D, so it's shape is `[Lx,Ly,Lz]`; our projections have shape `[2,M,M]`"
   ]
  },
  {
   "cell_type": "code",
   "execution_count": 6,
   "id": "590d28dc",
   "metadata": {
    "execution": {
     "iopub.execute_input": "2024-08-01T04:12:03.234212Z",
     "iopub.status.busy": "2024-08-01T04:12:03.233684Z",
     "iopub.status.idle": "2024-08-01T04:12:03.249267Z",
     "shell.execute_reply": "2024-08-01T04:12:03.248641Z"
    },
    "papermill": {
     "duration": 0.028828,
     "end_time": "2024-08-01T04:12:03.250560",
     "exception": false,
     "start_time": "2024-08-01T04:12:03.221732",
     "status": "completed"
    },
    "tags": []
   },
   "outputs": [
    {
     "data": {
      "text/plain": [
       "torch.Size([2, 3, 3])"
      ]
     },
     "execution_count": 6,
     "metadata": {},
     "output_type": "execute_result"
    }
   ],
   "source": [
    "sample_object = torch.rand(object_meta.shape) \n",
    "# Sum object along x to get projection at 0 degrees\n",
    "sample_projection_0degrees = sample_object.sum(dim=0) * proj_meta.sensitivity_factor\n",
    "# Sum object along y to get projection at 90 degrees\n",
    "sample_projection_90degrees = sample_object.sum(dim=1) * proj_meta.sensitivity_factor\n",
    "# Concatenate to get the full set of projections\n",
    "sample_projections = torch.stack([sample_projection_0degrees, sample_projection_90degrees], dim=0)\n",
    "sample_projections.shape"
   ]
  },
  {
   "cell_type": "markdown",
   "id": "e1f378ca",
   "metadata": {
    "papermill": {
     "duration": 0.010066,
     "end_time": "2024-08-01T04:12:03.271290",
     "exception": false,
     "start_time": "2024-08-01T04:12:03.261224",
     "status": "completed"
    },
    "tags": []
   },
   "source": [
    "Let's plot the projections at each angle"
   ]
  },
  {
   "cell_type": "code",
   "execution_count": 7,
   "id": "bb35936b",
   "metadata": {
    "execution": {
     "iopub.execute_input": "2024-08-01T04:12:03.301938Z",
     "iopub.status.busy": "2024-08-01T04:12:03.301644Z",
     "iopub.status.idle": "2024-08-01T04:12:03.480874Z",
     "shell.execute_reply": "2024-08-01T04:12:03.480082Z"
    },
    "papermill": {
     "duration": 0.192041,
     "end_time": "2024-08-01T04:12:03.482406",
     "exception": false,
     "start_time": "2024-08-01T04:12:03.290365",
     "status": "completed"
    },
    "tags": []
   },
   "outputs": [
    {
     "data": {
      "image/png": "[encoded data removed]",
      "text/plain": [
       "<Figure size 400x150 with 4 Axes>"
      ]
     },
     "metadata": {},
     "output_type": "display_data"
    }
   ],
   "source": [
    "plt.figure(figsize=(4,1.5))\n",
    "plt.subplot(121)\n",
    "plt.pcolormesh(sample_projections[0].cpu().T, vmin=0, vmax=2)\n",
    "plt.colorbar()\n",
    "plt.axis('off')\n",
    "plt.title('Angle 0')\n",
    "plt.subplot(122)\n",
    "plt.pcolormesh(sample_projections[1].cpu().T, vmin=0, vmax=2)\n",
    "plt.colorbar()\n",
    "plt.axis('off')\n",
    "plt.title('Angle 90')\n",
    "plt.show()"
   ]
  },
  {
   "cell_type": "markdown",
   "id": "298ad3af",
   "metadata": {
    "papermill": {
     "duration": 0.011582,
     "end_time": "2024-08-01T04:12:03.505746",
     "exception": false,
     "start_time": "2024-08-01T04:12:03.494164",
     "status": "completed"
    },
    "tags": []
   },
   "source": [
    "* Back projection: The transpose of summing along X and Y is duplication along X and Y"
   ]
  },
  {
   "cell_type": "code",
   "execution_count": 8,
   "id": "539cdaa5",
   "metadata": {
    "execution": {
     "iopub.execute_input": "2024-08-01T04:12:03.531203Z",
     "iopub.status.busy": "2024-08-01T04:12:03.530486Z",
     "iopub.status.idle": "2024-08-01T04:12:03.535699Z",
     "shell.execute_reply": "2024-08-01T04:12:03.535103Z"
    },
    "papermill": {
     "duration": 0.019172,
     "end_time": "2024-08-01T04:12:03.536918",
     "exception": false,
     "start_time": "2024-08-01T04:12:03.517746",
     "status": "completed"
    },
    "tags": []
   },
   "outputs": [],
   "source": [
    "# First adjust projections by sensitivity factor\n",
    "sample_projections_angle_0_sensitivity_adjusted = sample_projections[0]*proj_meta.sensitivity_factor\n",
    "# Back project at angle 0 by duplication\n",
    "sample_object_BP_angle0 = sample_projections_angle_0_sensitivity_adjusted.unsqueeze(0).repeat(object_meta.shape[0],1,1)\n",
    "# Back project at angle 90 by duplication\n",
    "sample_projections_angle_90_sensitivity_adjusted = sample_projections[1]*proj_meta.sensitivity_factor\n",
    "sample_object_BP_angle90 = sample_projections_angle_90_sensitivity_adjusted.unsqueeze(1).repeat(1,object_meta.shape[0],1)\n",
    "# Back projected object is sum of each\n",
    "sample_object_BP = sample_object_BP_angle0 + sample_object_BP_angle90"
   ]
  },
  {
   "cell_type": "code",
   "execution_count": 9,
   "id": "189754b7",
   "metadata": {
    "execution": {
     "iopub.execute_input": "2024-08-01T04:12:03.559254Z",
     "iopub.status.busy": "2024-08-01T04:12:03.558886Z",
     "iopub.status.idle": "2024-08-01T04:12:03.601785Z",
     "shell.execute_reply": "2024-08-01T04:12:03.601208Z"
    },
    "papermill": {
     "duration": 0.055165,
     "end_time": "2024-08-01T04:12:03.603081",
     "exception": false,
     "start_time": "2024-08-01T04:12:03.547916",
     "status": "completed"
    },
    "tags": []
   },
   "outputs": [
    {
     "data": {
      "image/png": "[encoded data removed]",
      "text/plain": [
       "<Figure size 200x200 with 1 Axes>"
      ]
     },
     "metadata": {},
     "output_type": "display_data"
    }
   ],
   "source": [
    "plt.figure(figsize=(2,2))\n",
    "plt.title('Top Z-Slice BP')\n",
    "plt.pcolormesh(sample_object_BP[:,:,-1].T)\n",
    "plt.axis('off')\n",
    "plt.show()"
   ]
  },
  {
   "cell_type": "markdown",
   "id": "48019e0f",
   "metadata": {
    "papermill": {
     "duration": 0.010429,
     "end_time": "2024-08-01T04:12:03.624222",
     "exception": false,
     "start_time": "2024-08-01T04:12:03.613793",
     "status": "completed"
    },
    "tags": []
   },
   "source": [
    "### Part 2: Implementing The Forward/Backward Projections in the System Matrix Class"
   ]
  },
  {
   "cell_type": "markdown",
   "id": "3be6e522",
   "metadata": {
    "papermill": {
     "duration": 0.010321,
     "end_time": "2024-08-01T04:12:03.645268",
     "exception": false,
     "start_time": "2024-08-01T04:12:03.634947",
     "status": "completed"
    },
    "tags": []
   },
   "source": [
    "We can now create a system matrix class that implements forward and back projection\n",
    "\n",
    "* We inherit from the `SystemMatrix` class of PyTomography\n",
    "* The method for forward projection should be called `forward`, while the method for back projection should be called `backward`"
   ]
  },
  {
   "cell_type": "code",
   "execution_count": 10,
   "id": "65933c32",
   "metadata": {
    "execution": {
     "iopub.execute_input": "2024-08-01T04:12:03.667795Z",
     "iopub.status.busy": "2024-08-01T04:12:03.667374Z",
     "iopub.status.idle": "2024-08-01T04:12:03.672417Z",
     "shell.execute_reply": "2024-08-01T04:12:03.671848Z"
    },
    "papermill": {
     "duration": 0.018042,
     "end_time": "2024-08-01T04:12:03.673642",
     "exception": false,
     "start_time": "2024-08-01T04:12:03.655600",
     "status": "completed"
    },
    "tags": []
   },
   "outputs": [],
   "source": [
    "class EXSSystemMatrix(SystemMatrix):\n",
    "    def forward(self, object, subset_idx = None):\n",
    "        projection_0degrees = object.sum(dim=0)\n",
    "        projection_90degrees = object.sum(dim=1)\n",
    "        projections = torch.stack([projection_0degrees, projection_90degrees], dim=0)\n",
    "        projections *= self.proj_meta.sensitivity_factor\n",
    "        return projections\n",
    "    def backward(self, projections, subset_idx = None):\n",
    "        object_BP_angle0 = (projections[0]*self.proj_meta.sensitivity_factor).unsqueeze(0).repeat(self.proj_meta.M,1,1)\n",
    "        object_BP_angle90 = (projections[1]*self.proj_meta.sensitivity_factor).unsqueeze(1).repeat(1,self.proj_meta.M,1)\n",
    "        object_BP = object_BP_angle0 + object_BP_angle90\n",
    "        return object_BP"
   ]
  },
  {
   "cell_type": "markdown",
   "id": "2da28fc9",
   "metadata": {
    "papermill": {
     "duration": 0.010424,
     "end_time": "2024-08-01T04:12:03.694430",
     "exception": false,
     "start_time": "2024-08-01T04:12:03.684006",
     "status": "completed"
    },
    "tags": []
   },
   "source": [
    "This system matrix can now be used for forward/backward projection"
   ]
  },
  {
   "cell_type": "code",
   "execution_count": 11,
   "id": "6902f897",
   "metadata": {
    "execution": {
     "iopub.execute_input": "2024-08-01T04:12:03.716856Z",
     "iopub.status.busy": "2024-08-01T04:12:03.716414Z",
     "iopub.status.idle": "2024-08-01T04:12:03.720322Z",
     "shell.execute_reply": "2024-08-01T04:12:03.719722Z"
    },
    "papermill": {
     "duration": 0.01649,
     "end_time": "2024-08-01T04:12:03.721554",
     "exception": false,
     "start_time": "2024-08-01T04:12:03.705064",
     "status": "completed"
    },
    "tags": []
   },
   "outputs": [],
   "source": [
    "system_matrix = EXSSystemMatrix(object_meta=object_meta, proj_meta=proj_meta)\n",
    "FP = system_matrix.forward(sample_object)\n",
    "BP = system_matrix.forward(sample_object)"
   ]
  },
  {
   "cell_type": "markdown",
   "id": "003cc694",
   "metadata": {
    "papermill": {
     "duration": 0.010566,
     "end_time": "2024-08-01T04:12:03.743486",
     "exception": false,
     "start_time": "2024-08-01T04:12:03.732920",
     "status": "completed"
    },
    "tags": []
   },
   "source": [
    "In order to use the system matrix in reconstruction algorithms, one of the requirements is the computation of a normalization factor $H^T 1$. For this, we need to define the `compute_normalization_factor` method:"
   ]
  },
  {
   "cell_type": "code",
   "execution_count": 12,
   "id": "b60c3988",
   "metadata": {
    "execution": {
     "iopub.execute_input": "2024-08-01T04:12:03.765944Z",
     "iopub.status.busy": "2024-08-01T04:12:03.765582Z",
     "iopub.status.idle": "2024-08-01T04:12:03.771290Z",
     "shell.execute_reply": "2024-08-01T04:12:03.770622Z"
    },
    "papermill": {
     "duration": 0.01868,
     "end_time": "2024-08-01T04:12:03.772584",
     "exception": false,
     "start_time": "2024-08-01T04:12:03.753904",
     "status": "completed"
    },
    "tags": []
   },
   "outputs": [],
   "source": [
    "class EXSSystemMatrix(SystemMatrix):\n",
    "    def compute_normalization_factor(self):\n",
    "        # A clever implementation of this function will only compute the normalization factor once, and then store it for future use (e.g. using a boolean flag)\n",
    "        norm_projections = torch.ones((2,self.proj_meta.M, self.proj_meta.M))\n",
    "        return self.backward(norm_projections)\n",
    "    def forward(self, object, subset_idx = None):\n",
    "        projection_0degrees = object.sum(dim=0)\n",
    "        projection_90degrees = object.sum(dim=1)\n",
    "        projections = torch.stack([projection_0degrees, projection_90degrees], dim=0)\n",
    "        projections *= self.proj_meta.sensitivity_factor\n",
    "        return projections\n",
    "    def backward(self, projections, subset_idx = None):\n",
    "        object_BP_angle0 = (projections[0]*self.proj_meta.sensitivity_factor).unsqueeze(0).repeat(self.proj_meta.M,1,1)\n",
    "        object_BP_angle90 = (projections[1]*self.proj_meta.sensitivity_factor).unsqueeze(1).repeat(1,self.proj_meta.M,1)\n",
    "        object_BP = object_BP_angle0 + object_BP_angle90\n",
    "        return object_BP"
   ]
  },
  {
   "cell_type": "markdown",
   "id": "43a98f9c",
   "metadata": {
    "papermill": {
     "duration": 0.010698,
     "end_time": "2024-08-01T04:12:03.796325",
     "exception": false,
     "start_time": "2024-08-01T04:12:03.785627",
     "status": "completed"
    },
    "tags": []
   },
   "source": [
    "Then we can compute the normalization factor as follows:"
   ]
  },
  {
   "cell_type": "code",
   "execution_count": 13,
   "id": "0d12725e",
   "metadata": {
    "execution": {
     "iopub.execute_input": "2024-08-01T04:12:03.819545Z",
     "iopub.status.busy": "2024-08-01T04:12:03.818910Z",
     "iopub.status.idle": "2024-08-01T04:12:03.824421Z",
     "shell.execute_reply": "2024-08-01T04:12:03.822344Z"
    },
    "papermill": {
     "duration": 0.018679,
     "end_time": "2024-08-01T04:12:03.825813",
     "exception": false,
     "start_time": "2024-08-01T04:12:03.807134",
     "status": "completed"
    },
    "tags": []
   },
   "outputs": [],
   "source": [
    "system_matrix = EXSSystemMatrix(object_meta=object_meta, proj_meta=proj_meta)\n",
    "norm_factor = system_matrix.compute_normalization_factor()"
   ]
  },
  {
   "cell_type": "code",
   "execution_count": 14,
   "id": "75a1f5ec",
   "metadata": {
    "execution": {
     "iopub.execute_input": "2024-08-01T04:12:03.851162Z",
     "iopub.status.busy": "2024-08-01T04:12:03.850461Z",
     "iopub.status.idle": "2024-08-01T04:12:03.948323Z",
     "shell.execute_reply": "2024-08-01T04:12:03.947701Z"
    },
    "papermill": {
     "duration": 0.112306,
     "end_time": "2024-08-01T04:12:03.949803",
     "exception": false,
     "start_time": "2024-08-01T04:12:03.837497",
     "status": "completed"
    },
    "tags": []
   },
   "outputs": [
    {
     "data": {
      "image/png": "[encoded data removed]",
      "text/plain": [
       "<Figure size 200x200 with 2 Axes>"
      ]
     },
     "metadata": {},
     "output_type": "display_data"
    }
   ],
   "source": [
    "plt.figure(figsize=(2,2))\n",
    "plt.title('Top Z-Slice Norm')\n",
    "plt.pcolormesh(norm_factor[:,:,-1].T)\n",
    "plt.colorbar()\n",
    "plt.axis('off')\n",
    "plt.show()"
   ]
  },
  {
   "cell_type": "markdown",
   "id": "f464c7b7",
   "metadata": {
    "papermill": {
     "duration": 0.01089,
     "end_time": "2024-08-01T04:12:03.972552",
     "exception": false,
     "start_time": "2024-08-01T04:12:03.961662",
     "status": "completed"
    },
    "tags": []
   },
   "source": [
    "Now that the system matrix has been defined, we can reconstruct using the available reconstruction algorithms (up to this point, we haven't defined any subset functionality, so we can only use non-subset based algorithms) "
   ]
  },
  {
   "cell_type": "code",
   "execution_count": 15,
   "id": "345794a5",
   "metadata": {
    "execution": {
     "iopub.execute_input": "2024-08-01T04:12:03.995971Z",
     "iopub.status.busy": "2024-08-01T04:12:03.995450Z",
     "iopub.status.idle": "2024-08-01T04:12:03.999494Z",
     "shell.execute_reply": "2024-08-01T04:12:03.998867Z"
    },
    "papermill": {
     "duration": 0.0174,
     "end_time": "2024-08-01T04:12:04.000798",
     "exception": false,
     "start_time": "2024-08-01T04:12:03.983398",
     "status": "completed"
    },
    "tags": []
   },
   "outputs": [],
   "source": [
    "sample_object = torch.rand(object_meta.shape) # object has batch dimension\n",
    "sample_projections = system_matrix.forward(sample_object)"
   ]
  },
  {
   "cell_type": "code",
   "execution_count": 16,
   "id": "dc1136c9",
   "metadata": {
    "execution": {
     "iopub.execute_input": "2024-08-01T04:12:04.024396Z",
     "iopub.status.busy": "2024-08-01T04:12:04.023996Z",
     "iopub.status.idle": "2024-08-01T04:12:04.027776Z",
     "shell.execute_reply": "2024-08-01T04:12:04.027236Z"
    },
    "papermill": {
     "duration": 0.016768,
     "end_time": "2024-08-01T04:12:04.028993",
     "exception": false,
     "start_time": "2024-08-01T04:12:04.012225",
     "status": "completed"
    },
    "tags": []
   },
   "outputs": [],
   "source": [
    "# Define system matrix\n",
    "system_matrix = EXSSystemMatrix(object_meta=object_meta, proj_meta=proj_meta)\n",
    "# Define likelihood that characterizes measured data (for SPECT/PET, this is PoissonLog, but here we'll use NegativeMSE)\n",
    "likelihood = NegativeMSELikelihood(system_matrix, projections=sample_projections, scaling_constant=0.01)\n",
    "# Define \n",
    "reconstruction_algorithm = MLEM(likelihood)"
   ]
  },
  {
   "cell_type": "code",
   "execution_count": 17,
   "id": "2385a26b",
   "metadata": {
    "execution": {
     "iopub.execute_input": "2024-08-01T04:12:04.052997Z",
     "iopub.status.busy": "2024-08-01T04:12:04.052545Z",
     "iopub.status.idle": "2024-08-01T04:12:04.065241Z",
     "shell.execute_reply": "2024-08-01T04:12:04.064642Z"
    },
    "papermill": {
     "duration": 0.02687,
     "end_time": "2024-08-01T04:12:04.066624",
     "exception": false,
     "start_time": "2024-08-01T04:12:04.039754",
     "status": "completed"
    },
    "tags": []
   },
   "outputs": [],
   "source": [
    "recon = reconstruction_algorithm(n_iters=40)"
   ]
  },
  {
   "cell_type": "markdown",
   "id": "bb5e6b72",
   "metadata": {
    "papermill": {
     "duration": 0.011065,
     "end_time": "2024-08-01T04:12:04.088723",
     "exception": false,
     "start_time": "2024-08-01T04:12:04.077658",
     "status": "completed"
    },
    "tags": []
   },
   "source": [
    "In this case our system matrix is underdetermined so we have no way of ensuring we get the right solution"
   ]
  },
  {
   "cell_type": "code",
   "execution_count": 18,
   "id": "30ff4c3c",
   "metadata": {
    "execution": {
     "iopub.execute_input": "2024-08-01T04:12:04.111438Z",
     "iopub.status.busy": "2024-08-01T04:12:04.111059Z",
     "iopub.status.idle": "2024-08-01T04:12:04.271938Z",
     "shell.execute_reply": "2024-08-01T04:12:04.271339Z"
    },
    "papermill": {
     "duration": 0.173497,
     "end_time": "2024-08-01T04:12:04.273342",
     "exception": false,
     "start_time": "2024-08-01T04:12:04.099845",
     "status": "completed"
    },
    "tags": []
   },
   "outputs": [
    {
     "data": {
      "text/plain": [
       "<matplotlib.colorbar.Colorbar at 0x7f06f753acd0>"
      ]
     },
     "execution_count": 18,
     "metadata": {},
     "output_type": "execute_result"
    },
    {
     "data": {
      "image/png": "[encoded data removed]",
      "text/plain": [
       "<Figure size 400x200 with 4 Axes>"
      ]
     },
     "metadata": {},
     "output_type": "display_data"
    }
   ],
   "source": [
    "plt.figure(figsize=(4,2))\n",
    "plt.subplot(121)\n",
    "plt.pcolormesh(sample_object[:,:,0], vmin=0, vmax=1)\n",
    "plt.axis('off')\n",
    "plt.colorbar()\n",
    "plt.subplot(122)\n",
    "plt.pcolormesh(recon[:,:,0])\n",
    "plt.axis('off')\n",
    "plt.colorbar()"
   ]
  },
  {
   "cell_type": "markdown",
   "id": "1b6d7e80",
   "metadata": {
    "papermill": {
     "duration": 0.01109,
     "end_time": "2024-08-01T04:12:04.296289",
     "exception": false,
     "start_time": "2024-08-01T04:12:04.285199",
     "status": "completed"
    },
    "tags": []
   },
   "source": [
    "### Part 3: Incorporating Subsets"
   ]
  },
  {
   "cell_type": "markdown",
   "id": "f8d501ea",
   "metadata": {
    "papermill": {
     "duration": 0.010618,
     "end_time": "2024-08-01T04:12:04.317674",
     "exception": false,
     "start_time": "2024-08-01T04:12:04.307056",
     "status": "completed"
    },
    "tags": []
   },
   "source": [
    "Up until now, we've ignored the `subset_idx` which specifies how projection data can be split into subsets in ordered subset based reconstruction algorithms. In such algorithms, the projection data is split up into disjoint subsets: in SPECT/PET, one typically partitions using the projection angle. We will do the same thing here, giving the option of `subset_idx=0` for the first projection angle and `subset_idx=1` for the second:"
   ]
  },
  {
   "cell_type": "code",
   "execution_count": 19,
   "id": "880773c9",
   "metadata": {
    "execution": {
     "iopub.execute_input": "2024-08-01T04:12:04.341446Z",
     "iopub.status.busy": "2024-08-01T04:12:04.341127Z",
     "iopub.status.idle": "2024-08-01T04:12:04.347390Z",
     "shell.execute_reply": "2024-08-01T04:12:04.346809Z"
    },
    "papermill": {
     "duration": 0.019983,
     "end_time": "2024-08-01T04:12:04.348781",
     "exception": false,
     "start_time": "2024-08-01T04:12:04.328798",
     "status": "completed"
    },
    "tags": []
   },
   "outputs": [],
   "source": [
    "class EXSSystemMatrix(SystemMatrix):\n",
    "    def compute_normalization_factor(self):\n",
    "        norm_projections = torch.ones((2,self.proj_meta.M, self.proj_meta.M))\n",
    "        return self.backward(norm_projections)\n",
    "    def forward(self, object, subset_idx = None):\n",
    "        projection_0degrees = object.sum(dim=0)\n",
    "        projection_90degrees = object.sum(dim=0)\n",
    "        if subset_idx==0:\n",
    "            projections = projection_0degrees\n",
    "        elif subset_idx==1:\n",
    "            projections = projection_90degrees\n",
    "        else:\n",
    "            projections = torch.stack([projection_0degrees, projection_90degrees], dim=0)\n",
    "        projections *= self.proj_meta.sensitivity_factor\n",
    "        return projections\n",
    "    def backward(self, proj, subset_idx = None):\n",
    "        # Back projection expects projections in their subset\n",
    "        if subset_idx is not None:\n",
    "            object_BP = (proj[0]*self.proj_meta.sensitivity_factor).unsqueeze(subset_idx).repeat_interleave(self.proj_meta.M, subset_idx)\n",
    "        else:\n",
    "            object_BP_angle0 = (proj[0]*self.proj_meta.sensitivity_factor).unsqueeze(0).repeat(self.proj_meta.M,1,1)\n",
    "            object_BP_angle90 = (proj[1]*self.proj_meta.sensitivity_factor).unsqueeze(1).repeat(1,self.proj_meta.M,1)\n",
    "            object_BP = object_BP_angle0 + object_BP_angle90\n",
    "        return object_BP"
   ]
  },
  {
   "cell_type": "code",
   "execution_count": 20,
   "id": "0e7d5b2f",
   "metadata": {
    "execution": {
     "iopub.execute_input": "2024-08-01T04:12:04.372237Z",
     "iopub.status.busy": "2024-08-01T04:12:04.371853Z",
     "iopub.status.idle": "2024-08-01T04:12:04.376235Z",
     "shell.execute_reply": "2024-08-01T04:12:04.375630Z"
    },
    "papermill": {
     "duration": 0.017607,
     "end_time": "2024-08-01T04:12:04.377472",
     "exception": false,
     "start_time": "2024-08-01T04:12:04.359865",
     "status": "completed"
    },
    "tags": []
   },
   "outputs": [],
   "source": [
    "system_matrix = EXSSystemMatrix(object_meta=object_meta, proj_meta=proj_meta)\n",
    "FP_subset0 = system_matrix.forward(sample_object, subset_idx=0)\n",
    "FP_subset1 = system_matrix.forward(sample_object, subset_idx=1)\n",
    "BP_subset0 = system_matrix.backward(FP_subset0, subset_idx=0)\n",
    "BP_subset1 = system_matrix.backward(FP_subset0, subset_idx=1)"
   ]
  },
  {
   "cell_type": "code",
   "execution_count": 21,
   "id": "847a197b",
   "metadata": {
    "execution": {
     "iopub.execute_input": "2024-08-01T04:12:04.400828Z",
     "iopub.status.busy": "2024-08-01T04:12:04.400251Z",
     "iopub.status.idle": "2024-08-01T04:12:04.479876Z",
     "shell.execute_reply": "2024-08-01T04:12:04.479191Z"
    },
    "papermill": {
     "duration": 0.092682,
     "end_time": "2024-08-01T04:12:04.481415",
     "exception": false,
     "start_time": "2024-08-01T04:12:04.388733",
     "status": "completed"
    },
    "tags": []
   },
   "outputs": [
    {
     "data": {
      "image/png": "[encoded data removed]",
      "text/plain": [
       "<Figure size 400x200 with 2 Axes>"
      ]
     },
     "metadata": {},
     "output_type": "display_data"
    }
   ],
   "source": [
    "plt.figure(figsize=(4,2))\n",
    "plt.subplot(121)\n",
    "plt.title('Top Z-Slice BP Sub0')\n",
    "plt.pcolormesh(BP_subset0[:,:,-1].T)\n",
    "plt.axis('off')\n",
    "plt.subplot(122)\n",
    "plt.title('Top Z-Slice BP Sub1')\n",
    "plt.pcolormesh(BP_subset1[:,:,-1].T)\n",
    "plt.axis('off')\n",
    "plt.show()"
   ]
  },
  {
   "cell_type": "markdown",
   "id": "341ec6bb",
   "metadata": {
    "papermill": {
     "duration": 0.012053,
     "end_time": "2024-08-01T04:12:04.505898",
     "exception": false,
     "start_time": "2024-08-01T04:12:04.493845",
     "status": "completed"
    },
    "tags": []
   },
   "source": [
    "There are a couple other methods we need to implement for subset based image reconstruction algorithms:\n",
    "* `set_n_subsets`: Sets the number of \"subsets\" used in an iterative reconstruction algorithm. This requires partitioning the projection data into N distinct subsets. In general, the way in which this is done depends on the particular imaging modality (in SPECT/PET, one typically partitions using the projection angle).In our case, we have only set up our forward/back projectors to consider 2 subsets (we only have two possible angles). More advanced system matrices will need to consider implementation of arbitrary numbers of subsets \n",
    "* `get_projection_subset`: Returns the projection data corresponding to the ith subset \n",
    "* `get_weighting_subset`: This is used for scaling prior functions used in Bayesian reconstruction algorithms. It should be equal to the fraction of data elements in the particular subset. (For $N$ even subsets, this factor is $1/N$ for each subset, but sometimes the subsets aren't even)\n",
    "* We need to modify `compute_normalization_factor` so it can get the normalization factor of the $m$ th subset"
   ]
  },
  {
   "cell_type": "code",
   "execution_count": 22,
   "id": "c697007d",
   "metadata": {
    "execution": {
     "iopub.execute_input": "2024-08-01T04:12:04.530025Z",
     "iopub.status.busy": "2024-08-01T04:12:04.529515Z",
     "iopub.status.idle": "2024-08-01T04:12:04.537159Z",
     "shell.execute_reply": "2024-08-01T04:12:04.536494Z"
    },
    "papermill": {
     "duration": 0.021428,
     "end_time": "2024-08-01T04:12:04.538431",
     "exception": false,
     "start_time": "2024-08-01T04:12:04.517003",
     "status": "completed"
    },
    "tags": []
   },
   "outputs": [],
   "source": [
    "class EXSSystemMatrix(SystemMatrix):\n",
    "    # ----\n",
    "    # NEW METHODS\n",
    "    # ----\n",
    "    def set_n_subsets(self, n_subsets):\n",
    "        self.n_subsets = n_subsets\n",
    "    def get_projection_subset(self, projections, subset_idx):\n",
    "        # Called when n_subsets>1 in internal pytomography code, in this case, assumes 2 subsets since thats the only possible number of subsets we have. In general, this should split data evenly (see SPECTSystemMatrix source code)\n",
    "        return projections[subset_idx].unsqueeze(0)\n",
    "    def compute_normalization_factor(self, subset_idx = None):\n",
    "        # This function generally looks the same for all system matrices\n",
    "        norm_projections = torch.ones((2,self.proj_meta.M, self.proj_meta.M))\n",
    "        if subset_idx is not None:\n",
    "            norm_projections = self.get_projection_subset(norm_projections, subset_idx)\n",
    "        return self.backward(norm_projections, subset_idx)\n",
    "    def get_weighting_subset(self, subset_idx):\n",
    "        if subset_idx is None:\n",
    "            return 1\n",
    "        elif self.n_subsets==2:\n",
    "            return 0.5 # equal weighting in this case, in general need to be careful with this\n",
    "    # ----\n",
    "    # SAME AS PREVIOUS\n",
    "    # ----\n",
    "    def forward(self, object, subset_idx = None):\n",
    "        projection_0degrees = object.sum(dim=0)\n",
    "        projection_90degrees = object.sum(dim=0)\n",
    "        if subset_idx==0:\n",
    "            projections = projection_0degrees\n",
    "        elif subset_idx==1:\n",
    "            projections = projection_90degrees\n",
    "        else:\n",
    "            projections = torch.stack([projection_0degrees, projection_90degrees], dim=0)\n",
    "        projections *= self.proj_meta.sensitivity_factor\n",
    "        return projections\n",
    "    def backward(self, proj, subset_idx = None):\n",
    "        # Back projection expects projections in their subset\n",
    "        if subset_idx is not None:\n",
    "            object_BP = (proj[0]*self.proj_meta.sensitivity_factor).unsqueeze(subset_idx).repeat_interleave(self.proj_meta.M, subset_idx)\n",
    "        else:\n",
    "            object_BP_angle0 = (proj[0]*self.proj_meta.sensitivity_factor).unsqueeze(0).repeat(self.proj_meta.M,1,1)\n",
    "            object_BP_angle90 = (proj[1]*self.proj_meta.sensitivity_factor).unsqueeze(1).repeat(1,self.proj_meta.M,1)\n",
    "            object_BP = object_BP_angle0 + object_BP_angle90\n",
    "        return object_BP"
   ]
  },
  {
   "cell_type": "code",
   "execution_count": 23,
   "id": "96b4bc58",
   "metadata": {
    "execution": {
     "iopub.execute_input": "2024-08-01T04:12:04.561853Z",
     "iopub.status.busy": "2024-08-01T04:12:04.561493Z",
     "iopub.status.idle": "2024-08-01T04:12:04.564608Z",
     "shell.execute_reply": "2024-08-01T04:12:04.564022Z"
    },
    "papermill": {
     "duration": 0.016283,
     "end_time": "2024-08-01T04:12:04.565956",
     "exception": false,
     "start_time": "2024-08-01T04:12:04.549673",
     "status": "completed"
    },
    "tags": []
   },
   "outputs": [],
   "source": [
    "system_matrix = EXSSystemMatrix(object_meta=object_meta, proj_meta=proj_meta)"
   ]
  },
  {
   "cell_type": "markdown",
   "id": "55228d8e",
   "metadata": {
    "papermill": {
     "duration": 0.010774,
     "end_time": "2024-08-01T04:12:04.587822",
     "exception": false,
     "start_time": "2024-08-01T04:12:04.577048",
     "status": "completed"
    },
    "tags": []
   },
   "source": [
    "Our system matrix can now be used in reconstruction algorithms. Let's reconstruct our simulated data. Like the tutorials online, we now create a likelihood function and then a reconstruction algorithm:"
   ]
  },
  {
   "cell_type": "code",
   "execution_count": 24,
   "id": "47d21aef",
   "metadata": {
    "execution": {
     "iopub.execute_input": "2024-08-01T04:12:04.611778Z",
     "iopub.status.busy": "2024-08-01T04:12:04.611343Z",
     "iopub.status.idle": "2024-08-01T04:12:04.615003Z",
     "shell.execute_reply": "2024-08-01T04:12:04.614386Z"
    },
    "papermill": {
     "duration": 0.017241,
     "end_time": "2024-08-01T04:12:04.616242",
     "exception": false,
     "start_time": "2024-08-01T04:12:04.599001",
     "status": "completed"
    },
    "tags": []
   },
   "outputs": [],
   "source": [
    "sample_object = torch.rand(object_meta.shape) # object has batch dimension\n",
    "sample_projections = system_matrix.forward(sample_object)"
   ]
  },
  {
   "cell_type": "code",
   "execution_count": 25,
   "id": "9d4bfbea",
   "metadata": {
    "execution": {
     "iopub.execute_input": "2024-08-01T04:12:04.639236Z",
     "iopub.status.busy": "2024-08-01T04:12:04.638870Z",
     "iopub.status.idle": "2024-08-01T04:12:04.642444Z",
     "shell.execute_reply": "2024-08-01T04:12:04.641877Z"
    },
    "papermill": {
     "duration": 0.016268,
     "end_time": "2024-08-01T04:12:04.643674",
     "exception": false,
     "start_time": "2024-08-01T04:12:04.627406",
     "status": "completed"
    },
    "tags": []
   },
   "outputs": [],
   "source": [
    "system_matrix = EXSSystemMatrix(object_meta=object_meta, proj_meta=proj_meta)\n",
    "likelihood = NegativeMSELikelihood(system_matrix, projections=sample_projections, scaling_constant=0.01)\n",
    "reconstruction_algorithm = OSEM(likelihood)"
   ]
  },
  {
   "cell_type": "code",
   "execution_count": 26,
   "id": "fc7c44b2",
   "metadata": {
    "execution": {
     "iopub.execute_input": "2024-08-01T04:12:04.667271Z",
     "iopub.status.busy": "2024-08-01T04:12:04.666874Z",
     "iopub.status.idle": "2024-08-01T04:12:04.684468Z",
     "shell.execute_reply": "2024-08-01T04:12:04.683785Z"
    },
    "papermill": {
     "duration": 0.030968,
     "end_time": "2024-08-01T04:12:04.685823",
     "exception": false,
     "start_time": "2024-08-01T04:12:04.654855",
     "status": "completed"
    },
    "tags": []
   },
   "outputs": [],
   "source": [
    "recon = reconstruction_algorithm(n_iters=40, n_subsets=2)"
   ]
  },
  {
   "cell_type": "code",
   "execution_count": 27,
   "id": "a2b79907",
   "metadata": {
    "execution": {
     "iopub.execute_input": "2024-08-01T04:12:04.709687Z",
     "iopub.status.busy": "2024-08-01T04:12:04.709305Z",
     "iopub.status.idle": "2024-08-01T04:12:04.858745Z",
     "shell.execute_reply": "2024-08-01T04:12:04.858149Z"
    },
    "papermill": {
     "duration": 0.162937,
     "end_time": "2024-08-01T04:12:04.860172",
     "exception": false,
     "start_time": "2024-08-01T04:12:04.697235",
     "status": "completed"
    },
    "tags": []
   },
   "outputs": [
    {
     "data": {
      "text/plain": [
       "<matplotlib.collections.QuadMesh at 0x7f06f7409a90>"
      ]
     },
     "execution_count": 27,
     "metadata": {},
     "output_type": "execute_result"
    },
    {
     "data": {
      "image/png": "[encoded data removed]",
      "text/plain": [
       "<Figure size 400x200 with 2 Axes>"
      ]
     },
     "metadata": {},
     "output_type": "display_data"
    }
   ],
   "source": [
    "plt.figure(figsize=(4,2))\n",
    "plt.subplot(121)\n",
    "plt.pcolormesh(sample_object[:,:,-1])\n",
    "plt.subplot(122)\n",
    "plt.pcolormesh(recon[:,:,-1])"
   ]
  },
  {
   "cell_type": "markdown",
   "id": "33e97a20",
   "metadata": {
    "papermill": {
     "duration": 0.012817,
     "end_time": "2024-08-01T04:12:04.884981",
     "exception": false,
     "start_time": "2024-08-01T04:12:04.872164",
     "status": "completed"
    },
    "tags": []
   },
   "source": [
    "# Example 2: List Mode System Matrices"
   ]
  },
  {
   "cell_type": "markdown",
   "id": "bb66c947",
   "metadata": {
    "papermill": {
     "duration": 0.011184,
     "end_time": "2024-08-01T04:12:04.908637",
     "exception": false,
     "start_time": "2024-08-01T04:12:04.897453",
     "status": "completed"
    },
    "tags": []
   },
   "source": [
    "Modalities containing listmode data can also be implemented in PyTomography; their implementation may look slightly different than above, however. Regardless, if implemented properly, they are still usable with all available reconstruction algorithms\n",
    "\n",
    "For our simple imaging system, listmode data might be stored via a list of integers where each integer specifies a given pixel in projection space. Since we have 2 projections, each with $M \\times M$ pixels, the total number of detector elements is $2M^2$.\n",
    "\n",
    "We can simulate 100 random events as follows (in reality, a more sophisticated program, such as GATE, would be required to give a proper distribution according to a specific phantom/source distribution)"
   ]
  },
  {
   "cell_type": "code",
   "execution_count": 28,
   "id": "49218215",
   "metadata": {
    "execution": {
     "iopub.execute_input": "2024-08-01T04:12:04.933837Z",
     "iopub.status.busy": "2024-08-01T04:12:04.933338Z",
     "iopub.status.idle": "2024-08-01T04:12:04.940537Z",
     "shell.execute_reply": "2024-08-01T04:12:04.939831Z"
    },
    "papermill": {
     "duration": 0.021889,
     "end_time": "2024-08-01T04:12:04.942014",
     "exception": false,
     "start_time": "2024-08-01T04:12:04.920125",
     "status": "completed"
    },
    "tags": []
   },
   "outputs": [
    {
     "data": {
      "text/plain": [
       "tensor([14, 15, 14,  7,  1,  0,  0, 13, 11,  0,  1, 11,  1,  2,  1,  8, 14, 11,\n",
       "        12,  7,  3, 17, 16,  3,  2,  5,  3,  1,  0,  8, 16, 17,  4, 11,  0, 17,\n",
       "         3, 16,  6, 14,  7,  6, 14, 14,  5, 10,  7,  6,  1,  2, 17, 16,  4, 11,\n",
       "         2, 14,  0,  6,  0, 14,  5, 10,  6,  5,  4, 11,  9, 15, 16, 10, 10, 17,\n",
       "        17, 13,  7,  1, 16, 15, 14,  5, 16,  2, 17, 11,  3, 17, 14,  7, 11, 11,\n",
       "        13, 14, 11,  4, 17,  0,  1,  0, 13, 15,  1,  5, 10, 14,  4, 12,  3, 12,\n",
       "        13,  1, 13, 10,  3,  3,  3, 14, 17,  3, 16, 14,  6,  2, 15,  9, 10,  3,\n",
       "        12, 12,  0, 12, 15,  4,  4,  0, 16,  3, 16,  7, 10,  1, 12,  9,  5,  1,\n",
       "         7, 17, 12,  4,  4, 15, 13, 15,  3,  2,  2,  6, 13,  4,  4,  0,  3,  6,\n",
       "        10,  0, 15,  4, 10, 10, 17, 10, 17, 14, 10,  1,  0, 12,  3, 14, 13, 13,\n",
       "        13, 10,  7, 14, 15,  8,  7,  1, 14, 10, 11,  1,  5,  1, 13, 11, 11,  1,\n",
       "         5, 14,  1,  3,  5,  4, 14,  0,  4,  3, 16,  6, 10,  9, 12,  6,  4, 16,\n",
       "         9, 10, 16, 13,  4, 12, 13,  5, 15, 13,  0, 13,  6,  3,  2,  1, 17,  9,\n",
       "        14,  8,  2, 10, 14, 15, 16,  3,  6, 17,  0,  4,  8,  5, 17,  7, 17,  0,\n",
       "        14, 16, 12, 13, 12,  4, 11,  2, 15, 17,  8,  9, 12, 10,  6, 13,  2,  5,\n",
       "        15, 13,  5,  6,  6,  6, 17,  8, 16, 15, 16,  1, 17,  0,  9, 11,  7, 16,\n",
       "        11,  3, 16,  1,  4,  4,  9,  6, 14,  6, 14,  8, 10, 17,  8, 17,  2,  2,\n",
       "        15,  8, 12,  0, 12,  6, 16, 16, 13, 16,  8,  7,  3,  3,  9,  8, 16,  4,\n",
       "        17,  9,  4,  2, 12,  3, 15, 12, 11, 16, 10, 16,  8, 13,  5, 13,  9, 14,\n",
       "        14,  8,  9,  3,  4, 17,  7, 15,  1, 10,  0, 15,  1,  6,  3, 11, 17,  1,\n",
       "         4,  3, 11,  3,  0,  7, 10,  9, 14,  8, 13,  1,  7,  8,  7,  5,  3,  4,\n",
       "        11, 12,  9, 14,  2,  6,  2,  2,  9,  5,  7, 17,  6, 12,  3, 15, 13,  8,\n",
       "        16,  6,  5,  2])"
      ]
     },
     "execution_count": 28,
     "metadata": {},
     "output_type": "execute_result"
    }
   ],
   "source": [
    "detector_ids = torch.randint(low=0, high=2*M**2, size=(400,))\n",
    "detector_ids"
   ]
  },
  {
   "cell_type": "markdown",
   "id": "73f224b9",
   "metadata": {
    "papermill": {
     "duration": 0.012088,
     "end_time": "2024-08-01T04:12:04.966052",
     "exception": false,
     "start_time": "2024-08-01T04:12:04.953964",
     "status": "completed"
    },
    "tags": []
   },
   "source": [
    "## MetaData"
   ]
  },
  {
   "cell_type": "markdown",
   "id": "e4d87c3f",
   "metadata": {
    "papermill": {
     "duration": 0.012408,
     "end_time": "2024-08-01T04:12:04.991118",
     "exception": false,
     "start_time": "2024-08-01T04:12:04.978710",
     "status": "completed"
    },
    "tags": []
   },
   "source": [
    "Each integer corresponds to a given detector element where a count has been measured.First, we may want to generate a lookup table for these integer values and corresponding detector coordinates:"
   ]
  },
  {
   "cell_type": "code",
   "execution_count": 29,
   "id": "bd4f61ce",
   "metadata": {
    "execution": {
     "iopub.execute_input": "2024-08-01T04:12:05.018500Z",
     "iopub.status.busy": "2024-08-01T04:12:05.017886Z",
     "iopub.status.idle": "2024-08-01T04:12:05.025163Z",
     "shell.execute_reply": "2024-08-01T04:12:05.024550Z"
    },
    "papermill": {
     "duration": 0.022886,
     "end_time": "2024-08-01T04:12:05.026605",
     "exception": false,
     "start_time": "2024-08-01T04:12:05.003719",
     "status": "completed"
    },
    "tags": []
   },
   "outputs": [
    {
     "data": {
      "text/plain": [
       "tensor([[0, 0, 0],\n",
       "        [0, 0, 1],\n",
       "        [0, 0, 2],\n",
       "        [0, 1, 0],\n",
       "        [0, 1, 1],\n",
       "        [0, 1, 2],\n",
       "        [0, 2, 0],\n",
       "        [0, 2, 1],\n",
       "        [0, 2, 2],\n",
       "        [1, 0, 0],\n",
       "        [1, 0, 1],\n",
       "        [1, 0, 2],\n",
       "        [1, 1, 0],\n",
       "        [1, 1, 1],\n",
       "        [1, 1, 2],\n",
       "        [1, 2, 0],\n",
       "        [1, 2, 1],\n",
       "        [1, 2, 2]])"
      ]
     },
     "execution_count": 29,
     "metadata": {},
     "output_type": "execute_result"
    }
   ],
   "source": [
    "scanner_LUT = torch.cartesian_prod(\n",
    "    torch.tensor([0,1]), # Angle\n",
    "    torch.arange(M), # row\n",
    "    torch.arange(M), # column\n",
    ")\n",
    "scanner_LUT"
   ]
  },
  {
   "cell_type": "markdown",
   "id": "fbc876df",
   "metadata": {
    "papermill": {
     "duration": 0.012863,
     "end_time": "2024-08-01T04:12:05.052011",
     "exception": false,
     "start_time": "2024-08-01T04:12:05.039148",
     "status": "completed"
    },
    "tags": []
   },
   "source": [
    "This lookup table gives the angle index, row index, and column index in projection space for each detector ID. For example, if we want the location corresponding to detector ID 11:"
   ]
  },
  {
   "cell_type": "code",
   "execution_count": 30,
   "id": "6ae5406e",
   "metadata": {
    "execution": {
     "iopub.execute_input": "2024-08-01T04:12:05.078325Z",
     "iopub.status.busy": "2024-08-01T04:12:05.077809Z",
     "iopub.status.idle": "2024-08-01T04:12:05.082995Z",
     "shell.execute_reply": "2024-08-01T04:12:05.082430Z"
    },
    "papermill": {
     "duration": 0.019369,
     "end_time": "2024-08-01T04:12:05.084244",
     "exception": false,
     "start_time": "2024-08-01T04:12:05.064875",
     "status": "completed"
    },
    "tags": []
   },
   "outputs": [
    {
     "data": {
      "text/plain": [
       "tensor([0, 1, 2])"
      ]
     },
     "execution_count": 30,
     "metadata": {},
     "output_type": "execute_result"
    }
   ],
   "source": [
    "scanner_LUT[5]"
   ]
  },
  {
   "cell_type": "markdown",
   "id": "09dcf616",
   "metadata": {
    "papermill": {
     "duration": 0.011391,
     "end_time": "2024-08-01T04:12:05.107236",
     "exception": false,
     "start_time": "2024-08-01T04:12:05.095845",
     "status": "completed"
    },
    "tags": []
   },
   "source": [
    "Similarily, if we wanted the location corresponding to the first 5 measured events:"
   ]
  },
  {
   "cell_type": "code",
   "execution_count": 31,
   "id": "5e4d9228",
   "metadata": {
    "execution": {
     "iopub.execute_input": "2024-08-01T04:12:05.131536Z",
     "iopub.status.busy": "2024-08-01T04:12:05.131138Z",
     "iopub.status.idle": "2024-08-01T04:12:05.136822Z",
     "shell.execute_reply": "2024-08-01T04:12:05.136264Z"
    },
    "papermill": {
     "duration": 0.019143,
     "end_time": "2024-08-01T04:12:05.138053",
     "exception": false,
     "start_time": "2024-08-01T04:12:05.118910",
     "status": "completed"
    },
    "tags": []
   },
   "outputs": [
    {
     "data": {
      "text/plain": [
       "tensor([[1, 1, 2],\n",
       "        [1, 2, 0],\n",
       "        [1, 1, 2],\n",
       "        [0, 2, 1],\n",
       "        [0, 0, 1]])"
      ]
     },
     "execution_count": 31,
     "metadata": {},
     "output_type": "execute_result"
    }
   ],
   "source": [
    "scanner_LUT[detector_ids[0:5]]"
   ]
  },
  {
   "cell_type": "markdown",
   "id": "240aa164",
   "metadata": {
    "papermill": {
     "duration": 0.011444,
     "end_time": "2024-08-01T04:12:05.161600",
     "exception": false,
     "start_time": "2024-08-01T04:12:05.150156",
     "status": "completed"
    },
    "tags": []
   },
   "source": [
    "We can also get the sensitivity factor for each listmode event:"
   ]
  },
  {
   "cell_type": "code",
   "execution_count": 32,
   "id": "dd743f9e",
   "metadata": {
    "execution": {
     "iopub.execute_input": "2024-08-01T04:12:05.185728Z",
     "iopub.status.busy": "2024-08-01T04:12:05.185234Z",
     "iopub.status.idle": "2024-08-01T04:12:05.192786Z",
     "shell.execute_reply": "2024-08-01T04:12:05.192250Z"
    },
    "papermill": {
     "duration": 0.020843,
     "end_time": "2024-08-01T04:12:05.193944",
     "exception": false,
     "start_time": "2024-08-01T04:12:05.173101",
     "status": "completed"
    },
    "tags": []
   },
   "outputs": [
    {
     "data": {
      "text/plain": [
       "tensor([1.2031, 1.2252, 1.2031, 1.2355, 1.0299, 1.0299, 1.0299, 1.2031, 1.0208,\n",
       "        1.0299, 1.0299, 1.0208, 1.0299, 1.0299, 1.0299, 1.2355, 1.2031, 1.0208,\n",
       "        1.2031, 1.2355, 1.0947, 1.2252, 1.2252, 1.0947, 1.0299, 1.0947, 1.0947,\n",
       "        1.0299, 1.0299, 1.2355, 1.2252, 1.2252, 1.0947, 1.0208, 1.0299, 1.2252,\n",
       "        1.0947, 1.2252, 1.2355, 1.2031, 1.2355, 1.2355, 1.2031, 1.2031, 1.0947,\n",
       "        1.0208, 1.2355, 1.2355, 1.0299, 1.0299, 1.2252, 1.2252, 1.0947, 1.0208,\n",
       "        1.0299, 1.2031, 1.0299, 1.2355, 1.0299, 1.2031, 1.0947, 1.0208, 1.2355,\n",
       "        1.0947, 1.0947, 1.0208, 1.0208, 1.2252, 1.2252, 1.0208, 1.0208, 1.2252,\n",
       "        1.2252, 1.2031, 1.2355, 1.0299, 1.2252, 1.2252, 1.2031, 1.0947, 1.2252,\n",
       "        1.0299, 1.2252, 1.0208, 1.0947, 1.2252, 1.2031, 1.2355, 1.0208, 1.0208,\n",
       "        1.2031, 1.2031, 1.0208, 1.0947, 1.2252, 1.0299, 1.0299, 1.0299, 1.2031,\n",
       "        1.2252, 1.0299, 1.0947, 1.0208, 1.2031, 1.0947, 1.2031, 1.0947, 1.2031,\n",
       "        1.2031, 1.0299, 1.2031, 1.0208, 1.0947, 1.0947, 1.0947, 1.2031, 1.2252,\n",
       "        1.0947, 1.2252, 1.2031, 1.2355, 1.0299, 1.2252, 1.0208, 1.0208, 1.0947,\n",
       "        1.2031, 1.2031, 1.0299, 1.2031, 1.2252, 1.0947, 1.0947, 1.0299, 1.2252,\n",
       "        1.0947, 1.2252, 1.2355, 1.0208, 1.0299, 1.2031, 1.0208, 1.0947, 1.0299,\n",
       "        1.2355, 1.2252, 1.2031, 1.0947, 1.0947, 1.2252, 1.2031, 1.2252, 1.0947,\n",
       "        1.0299, 1.0299, 1.2355, 1.2031, 1.0947, 1.0947, 1.0299, 1.0947, 1.2355,\n",
       "        1.0208, 1.0299, 1.2252, 1.0947, 1.0208, 1.0208, 1.2252, 1.0208, 1.2252,\n",
       "        1.2031, 1.0208, 1.0299, 1.0299, 1.2031, 1.0947, 1.2031, 1.2031, 1.2031,\n",
       "        1.2031, 1.0208, 1.2355, 1.2031, 1.2252, 1.2355, 1.2355, 1.0299, 1.2031,\n",
       "        1.0208, 1.0208, 1.0299, 1.0947, 1.0299, 1.2031, 1.0208, 1.0208, 1.0299,\n",
       "        1.0947, 1.2031, 1.0299, 1.0947, 1.0947, 1.0947, 1.2031, 1.0299, 1.0947,\n",
       "        1.0947, 1.2252, 1.2355, 1.0208, 1.0208, 1.2031, 1.2355, 1.0947, 1.2252,\n",
       "        1.0208, 1.0208, 1.2252, 1.2031, 1.0947, 1.2031, 1.2031, 1.0947, 1.2252,\n",
       "        1.2031, 1.0299, 1.2031, 1.2355, 1.0947, 1.0299, 1.0299, 1.2252, 1.0208,\n",
       "        1.2031, 1.2355, 1.0299, 1.0208, 1.2031, 1.2252, 1.2252, 1.0947, 1.2355,\n",
       "        1.2252, 1.0299, 1.0947, 1.2355, 1.0947, 1.2252, 1.2355, 1.2252, 1.0299,\n",
       "        1.2031, 1.2252, 1.2031, 1.2031, 1.2031, 1.0947, 1.0208, 1.0299, 1.2252,\n",
       "        1.2252, 1.2355, 1.0208, 1.2031, 1.0208, 1.2355, 1.2031, 1.0299, 1.0947,\n",
       "        1.2252, 1.2031, 1.0947, 1.2355, 1.2355, 1.2355, 1.2252, 1.2355, 1.2252,\n",
       "        1.2252, 1.2252, 1.0299, 1.2252, 1.0299, 1.0208, 1.0208, 1.2355, 1.2252,\n",
       "        1.0208, 1.0947, 1.2252, 1.0299, 1.0947, 1.0947, 1.0208, 1.2355, 1.2031,\n",
       "        1.2355, 1.2031, 1.2355, 1.0208, 1.2252, 1.2355, 1.2252, 1.0299, 1.0299,\n",
       "        1.2252, 1.2355, 1.2031, 1.0299, 1.2031, 1.2355, 1.2252, 1.2252, 1.2031,\n",
       "        1.2252, 1.2355, 1.2355, 1.0947, 1.0947, 1.0208, 1.2355, 1.2252, 1.0947,\n",
       "        1.2252, 1.0208, 1.0947, 1.0299, 1.2031, 1.0947, 1.2252, 1.2031, 1.0208,\n",
       "        1.2252, 1.0208, 1.2252, 1.2355, 1.2031, 1.0947, 1.2031, 1.0208, 1.2031,\n",
       "        1.2031, 1.2355, 1.0208, 1.0947, 1.0947, 1.2252, 1.2355, 1.2252, 1.0299,\n",
       "        1.0208, 1.0299, 1.2252, 1.0299, 1.2355, 1.0947, 1.0208, 1.2252, 1.0299,\n",
       "        1.0947, 1.0947, 1.0208, 1.0947, 1.0299, 1.2355, 1.0208, 1.0208, 1.2031,\n",
       "        1.2355, 1.2031, 1.0299, 1.2355, 1.2355, 1.2355, 1.0947, 1.0947, 1.0947,\n",
       "        1.0208, 1.2031, 1.0208, 1.2031, 1.0299, 1.2355, 1.0299, 1.0299, 1.0208,\n",
       "        1.0947, 1.2355, 1.2252, 1.2355, 1.2031, 1.0947, 1.2252, 1.2031, 1.2355,\n",
       "        1.2252, 1.2355, 1.0947, 1.0299])"
      ]
     },
     "execution_count": 32,
     "metadata": {},
     "output_type": "execute_result"
    }
   ],
   "source": [
    "sensitivity_factor[*scanner_LUT[detector_ids][:,:2].T]"
   ]
  },
  {
   "cell_type": "markdown",
   "id": "c5ccca9f",
   "metadata": {
    "papermill": {
     "duration": 0.011561,
     "end_time": "2024-08-01T04:12:05.217159",
     "exception": false,
     "start_time": "2024-08-01T04:12:05.205598",
     "status": "completed"
    },
    "tags": []
   },
   "source": [
    "With this in mind, we can define our new listmode projection metadata class:"
   ]
  },
  {
   "cell_type": "code",
   "execution_count": 33,
   "id": "412ad17d",
   "metadata": {
    "execution": {
     "iopub.execute_input": "2024-08-01T04:12:05.242105Z",
     "iopub.status.busy": "2024-08-01T04:12:05.241672Z",
     "iopub.status.idle": "2024-08-01T04:12:05.246688Z",
     "shell.execute_reply": "2024-08-01T04:12:05.246075Z"
    },
    "papermill": {
     "duration": 0.019139,
     "end_time": "2024-08-01T04:12:05.247994",
     "exception": false,
     "start_time": "2024-08-01T04:12:05.228855",
     "status": "completed"
    },
    "tags": []
   },
   "outputs": [],
   "source": [
    "class EXSListmodeProjMeta(ProjMeta):\n",
    "    def __init__(self, shape, scanner_LUT, detector_ids, sensitivity_factor):\n",
    "        self.scanner_LUT = scanner_LUT\n",
    "        self.detector_ids = detector_ids\n",
    "        self.sensitivity_at_ids = sensitivity_factor[*scanner_LUT[:,1:].T]\n",
    "        self.shape = shape\n",
    "        if (sensitivity_factor.shape[0]!=M)*(sensitivity_factor.shape[1]!=M):\n",
    "            raise ValueError(\"sensitivity_factor should have side dimensions M\")\n",
    "proj_meta_listmode = EXSListmodeProjMeta((2,M,M), scanner_LUT, detector_ids, sensitivity_factor)"
   ]
  },
  {
   "cell_type": "markdown",
   "id": "6ecf19f2",
   "metadata": {
    "papermill": {
     "duration": 0.011619,
     "end_time": "2024-08-01T04:12:05.271521",
     "exception": false,
     "start_time": "2024-08-01T04:12:05.259902",
     "status": "completed"
    },
    "tags": []
   },
   "source": [
    "Lets now implement the forward/backward methods of the system matrix. We'll start with forward projection, which forward projects an object to each `id` form the listmode data."
   ]
  },
  {
   "cell_type": "code",
   "execution_count": 34,
   "id": "49fe35e1",
   "metadata": {
    "execution": {
     "iopub.execute_input": "2024-08-01T04:12:05.295982Z",
     "iopub.status.busy": "2024-08-01T04:12:05.295455Z",
     "iopub.status.idle": "2024-08-01T04:12:05.300094Z",
     "shell.execute_reply": "2024-08-01T04:12:05.299545Z"
    },
    "papermill": {
     "duration": 0.01816,
     "end_time": "2024-08-01T04:12:05.301315",
     "exception": false,
     "start_time": "2024-08-01T04:12:05.283155",
     "status": "completed"
    },
    "tags": []
   },
   "outputs": [],
   "source": [
    "class EXSListmodeSystemMatrix(SystemMatrix):\n",
    "    def forward(self, object, subset_idx = None):\n",
    "        # There is probably a faster implementation, but I am trying to keep it simple for illustration purposes\n",
    "        projections = []\n",
    "        for i, detector_id in enumerate(self.proj_meta.detector_ids):\n",
    "            coord = self.proj_meta.scanner_LUT[detector_id]\n",
    "            sensitivity_factor_i = self.proj_meta.sensitivity_at_ids[detector_id]\n",
    "            if coord[0]==0: # If angle 0:\n",
    "                projections.append(object[:,coord[1],coord[2]].sum() *  sensitivity_factor_i) # sum along x\n",
    "            elif coord[0]==1: # If angle 90:\n",
    "                projections.append(object[coord[1],:,coord[2]].sum() * sensitivity_factor_i)  # sum along y\n",
    "        return torch.tensor(projections)"
   ]
  },
  {
   "cell_type": "code",
   "execution_count": 35,
   "id": "15285752",
   "metadata": {
    "execution": {
     "iopub.execute_input": "2024-08-01T04:12:05.325634Z",
     "iopub.status.busy": "2024-08-01T04:12:05.325268Z",
     "iopub.status.idle": "2024-08-01T04:12:05.350939Z",
     "shell.execute_reply": "2024-08-01T04:12:05.350366Z"
    },
    "papermill": {
     "duration": 0.039225,
     "end_time": "2024-08-01T04:12:05.352227",
     "exception": false,
     "start_time": "2024-08-01T04:12:05.313002",
     "status": "completed"
    },
    "tags": []
   },
   "outputs": [
    {
     "data": {
      "text/plain": [
       "tensor([2.2145, 1.9468, 2.2145, 1.1839, 2.2900, 1.6242, 1.6242, 1.6220, 1.9494,\n",
       "        1.6242, 2.2900, 1.9494, 2.2900, 3.1421, 2.2900, 1.2255, 2.2145, 1.9494,\n",
       "        2.2152, 1.1839, 1.6704, 2.5107, 1.4108, 1.6704, 3.1421, 2.4655, 1.6704,\n",
       "        2.2900, 1.6242, 1.2255, 1.4108, 2.5107, 1.0478, 1.9494, 1.6242, 2.5107,\n",
       "        1.6704, 1.4108, 1.2555, 2.2145, 1.1839, 1.2555, 2.2145, 2.2145, 2.4655,\n",
       "        1.5342, 1.1839, 1.2555, 2.2900, 3.1421, 2.5107, 1.4108, 1.0478, 1.9494,\n",
       "        3.1421, 2.2145, 1.6242, 1.2555, 1.6242, 2.2145, 2.4655, 1.5342, 1.2555,\n",
       "        2.4655, 1.0478, 1.9494, 0.4536, 1.9468, 1.4108, 1.5342, 1.5342, 2.5107,\n",
       "        2.5107, 1.6220, 1.1839, 2.2900, 1.4108, 1.9468, 2.2145, 2.4655, 1.4108,\n",
       "        3.1421, 2.5107, 1.9494, 1.6704, 2.5107, 2.2145, 1.1839, 1.9494, 1.9494,\n",
       "        1.6220, 2.2145, 1.9494, 1.0478, 2.5107, 1.6242, 2.2900, 1.6242, 1.6220,\n",
       "        1.9468, 2.2900, 2.4655, 1.5342, 2.2145, 1.0478, 2.2152, 1.6704, 2.2152,\n",
       "        1.6220, 2.2900, 1.6220, 1.5342, 1.6704, 1.6704, 1.6704, 2.2145, 2.5107,\n",
       "        1.6704, 1.4108, 2.2145, 1.2555, 3.1421, 1.9468, 0.4536, 1.5342, 1.6704,\n",
       "        2.2152, 2.2152, 1.6242, 2.2152, 1.9468, 1.0478, 1.0478, 1.6242, 1.4108,\n",
       "        1.6704, 1.4108, 1.1839, 1.5342, 2.2900, 2.2152, 0.4536, 2.4655, 2.2900,\n",
       "        1.1839, 2.5107, 2.2152, 1.0478, 1.0478, 1.9468, 1.6220, 1.9468, 1.6704,\n",
       "        3.1421, 3.1421, 1.2555, 1.6220, 1.0478, 1.0478, 1.6242, 1.6704, 1.2555,\n",
       "        1.5342, 1.6242, 1.9468, 1.0478, 1.5342, 1.5342, 2.5107, 1.5342, 2.5107,\n",
       "        2.2145, 1.5342, 2.2900, 1.6242, 2.2152, 1.6704, 2.2145, 1.6220, 1.6220,\n",
       "        1.6220, 1.5342, 1.1839, 2.2145, 1.9468, 1.2255, 1.1839, 2.2900, 2.2145,\n",
       "        1.5342, 1.9494, 2.2900, 2.4655, 2.2900, 1.6220, 1.9494, 1.9494, 2.2900,\n",
       "        2.4655, 2.2145, 2.2900, 1.6704, 2.4655, 1.0478, 2.2145, 1.6242, 1.0478,\n",
       "        1.6704, 1.4108, 1.2555, 1.5342, 0.4536, 2.2152, 1.2555, 1.0478, 1.4108,\n",
       "        0.4536, 1.5342, 1.4108, 1.6220, 1.0478, 2.2152, 1.6220, 2.4655, 1.9468,\n",
       "        1.6220, 1.6242, 1.6220, 1.2555, 1.6704, 3.1421, 2.2900, 2.5107, 0.4536,\n",
       "        2.2145, 1.2255, 3.1421, 1.5342, 2.2145, 1.9468, 1.4108, 1.6704, 1.2555,\n",
       "        2.5107, 1.6242, 1.0478, 1.2255, 2.4655, 2.5107, 1.1839, 2.5107, 1.6242,\n",
       "        2.2145, 1.4108, 2.2152, 1.6220, 2.2152, 1.0478, 1.9494, 3.1421, 1.9468,\n",
       "        2.5107, 1.2255, 0.4536, 2.2152, 1.5342, 1.2555, 1.6220, 3.1421, 2.4655,\n",
       "        1.9468, 1.6220, 2.4655, 1.2555, 1.2555, 1.2555, 2.5107, 1.2255, 1.4108,\n",
       "        1.9468, 1.4108, 2.2900, 2.5107, 1.6242, 0.4536, 1.9494, 1.1839, 1.4108,\n",
       "        1.9494, 1.6704, 1.4108, 2.2900, 1.0478, 1.0478, 0.4536, 1.2555, 2.2145,\n",
       "        1.2555, 2.2145, 1.2255, 1.5342, 2.5107, 1.2255, 2.5107, 3.1421, 3.1421,\n",
       "        1.9468, 1.2255, 2.2152, 1.6242, 2.2152, 1.2555, 1.4108, 1.4108, 1.6220,\n",
       "        1.4108, 1.2255, 1.1839, 1.6704, 1.6704, 0.4536, 1.2255, 1.4108, 1.0478,\n",
       "        2.5107, 0.4536, 1.0478, 3.1421, 2.2152, 1.6704, 1.9468, 2.2152, 1.9494,\n",
       "        1.4108, 1.5342, 1.4108, 1.2255, 1.6220, 2.4655, 1.6220, 0.4536, 2.2145,\n",
       "        2.2145, 1.2255, 0.4536, 1.6704, 1.0478, 2.5107, 1.1839, 1.9468, 2.2900,\n",
       "        1.5342, 1.6242, 1.9468, 2.2900, 1.2555, 1.6704, 1.9494, 2.5107, 2.2900,\n",
       "        1.0478, 1.6704, 1.9494, 1.6704, 1.6242, 1.1839, 1.5342, 0.4536, 2.2145,\n",
       "        1.2255, 1.6220, 2.2900, 1.1839, 1.2255, 1.1839, 2.4655, 1.6704, 1.0478,\n",
       "        1.9494, 2.2152, 0.4536, 2.2145, 3.1421, 1.2555, 3.1421, 3.1421, 0.4536,\n",
       "        2.4655, 1.1839, 2.5107, 1.2555, 2.2152, 1.6704, 1.9468, 1.6220, 1.2255,\n",
       "        1.4108, 1.2555, 2.4655, 3.1421])"
      ]
     },
     "execution_count": 35,
     "metadata": {},
     "output_type": "execute_result"
    }
   ],
   "source": [
    "system_matrix = EXSListmodeSystemMatrix(object_meta=object_meta, proj_meta=proj_meta_listmode)\n",
    "sample_object = torch.rand(object_meta.shape) # object has batch dimension\n",
    "sample_projections = system_matrix.forward(sample_object)\n",
    "sample_projections"
   ]
  },
  {
   "cell_type": "markdown",
   "id": "1aa08b40",
   "metadata": {
    "papermill": {
     "duration": 0.011706,
     "end_time": "2024-08-01T04:12:05.376350",
     "exception": false,
     "start_time": "2024-08-01T04:12:05.364644",
     "status": "completed"
    },
    "tags": []
   },
   "source": [
    "Note that our \"projections\" are now in listmode format: namely, these correspond to forward projected values at all the \"detector_ids\" which formed our listmode dataset. The backward method is analogous:"
   ]
  },
  {
   "cell_type": "code",
   "execution_count": 36,
   "id": "43e643fa",
   "metadata": {
    "execution": {
     "iopub.execute_input": "2024-08-01T04:12:05.401078Z",
     "iopub.status.busy": "2024-08-01T04:12:05.400692Z",
     "iopub.status.idle": "2024-08-01T04:12:05.406955Z",
     "shell.execute_reply": "2024-08-01T04:12:05.406313Z"
    },
    "papermill": {
     "duration": 0.02014,
     "end_time": "2024-08-01T04:12:05.408224",
     "exception": false,
     "start_time": "2024-08-01T04:12:05.388084",
     "status": "completed"
    },
    "tags": []
   },
   "outputs": [],
   "source": [
    "class EXSListmodeSystemMatrix(SystemMatrix):\n",
    "    # ----\n",
    "    # SAME AS ABOVE\n",
    "    # ----\n",
    "    def forward(self, object, subset_idx = None):\n",
    "        # There is probably a faster implementation, but I am trying to keep it simple for illustration purposes\n",
    "        projections = []\n",
    "        for i, detector_id in enumerate(self.proj_meta.detector_ids):\n",
    "            coord = self.proj_meta.scanner_LUT[detector_id]\n",
    "            sensitivity_factor_i = self.proj_meta.sensitivity_at_ids[detector_id]\n",
    "            if coord[0]==0: # If angle 0:\n",
    "                projections.append(object[:,coord[1],coord[2]].sum() *  sensitivity_factor_i) # sum along x\n",
    "            elif coord[0]==1: # If angle 90:\n",
    "                projections.append(object[coord[1],:,coord[2]].sum() * sensitivity_factor_i)  # sum along y\n",
    "        return torch.tensor(projections)\n",
    "    # ---\n",
    "    # NEW CODE\n",
    "    # ---\n",
    "    def backward(self, projections, subset_idx = None):\n",
    "        # There is probably a faster implementation, but I am trying to keep it simple for illustration purposes\n",
    "        object = torch.zeros(object_meta.shape)\n",
    "        projections *= self.proj_meta.sensitivity_at_ids[self.proj_meta.detector_ids]\n",
    "        for i, detector_id in enumerate(detector_ids):\n",
    "            coord = self.proj_meta.scanner_LUT[detector_id]\n",
    "            if coord[0]==0: # If angle 0:\n",
    "                object[:,coord[1],coord[2]] += projections[i]\n",
    "            elif coord[0]==1: # If angle 90:\n",
    "                object[coord[1],:,coord[2]] += projections[i]\n",
    "        return object"
   ]
  },
  {
   "cell_type": "code",
   "execution_count": 37,
   "id": "0cf8e99a",
   "metadata": {
    "execution": {
     "iopub.execute_input": "2024-08-01T04:12:05.434702Z",
     "iopub.status.busy": "2024-08-01T04:12:05.434191Z",
     "iopub.status.idle": "2024-08-01T04:12:05.475013Z",
     "shell.execute_reply": "2024-08-01T04:12:05.474289Z"
    },
    "papermill": {
     "duration": 0.056494,
     "end_time": "2024-08-01T04:12:05.476412",
     "exception": false,
     "start_time": "2024-08-01T04:12:05.419918",
     "status": "completed"
    },
    "tags": []
   },
   "outputs": [],
   "source": [
    "system_matrix = EXSListmodeSystemMatrix(object_meta=object_meta, proj_meta=proj_meta_listmode)\n",
    "sample_object = torch.rand(object_meta.shape) # object has batch dimension\n",
    "FP = system_matrix.forward(sample_object)\n",
    "BP = system_matrix.backward(FP)"
   ]
  },
  {
   "cell_type": "markdown",
   "id": "1e69772e",
   "metadata": {
    "papermill": {
     "duration": 0.011812,
     "end_time": "2024-08-01T04:12:05.500460",
     "exception": false,
     "start_time": "2024-08-01T04:12:05.488648",
     "status": "completed"
    },
    "tags": []
   },
   "source": [
    "The computation of the normalization factor for listmode reconstruction is slightly more nuanced since it requires defining a \"projection of all 1s\". In this case, the projection of all 1s corresponds to a value of 1 in each location of the scanner LUT.\n",
    "\n",
    "* This is distinct from the regular forward/back projection which projects to all the measured detector IDs. For example, if we measure 1000 events, then forward projection produces an array of size 1000, and back projection takes in projections of size 1000 to produce an object. Computation of the normalization factor, however, takes in detector IDs corresponding to each detector, in the case $M=3$, it would take in 18 detector IDs"
   ]
  },
  {
   "cell_type": "code",
   "execution_count": 38,
   "id": "b9aeacd0",
   "metadata": {
    "execution": {
     "iopub.execute_input": "2024-08-01T04:12:05.526420Z",
     "iopub.status.busy": "2024-08-01T04:12:05.525990Z",
     "iopub.status.idle": "2024-08-01T04:12:05.534040Z",
     "shell.execute_reply": "2024-08-01T04:12:05.533356Z"
    },
    "papermill": {
     "duration": 0.022853,
     "end_time": "2024-08-01T04:12:05.535373",
     "exception": false,
     "start_time": "2024-08-01T04:12:05.512520",
     "status": "completed"
    },
    "tags": []
   },
   "outputs": [],
   "source": [
    "class EXSListmodeSystemMatrix(SystemMatrix):\n",
    "    # ----\n",
    "    # SAME AS ABOVE\n",
    "    # ----\n",
    "    def forward(self, object, subset_idx = None):\n",
    "        # There is probably a faster implementation, but I am trying to keep it simple for illustration purposes\n",
    "        projections = []\n",
    "        for i, detector_id in enumerate(self.proj_meta.detector_ids):\n",
    "            coord = self.proj_meta.scanner_LUT[detector_id]\n",
    "            sensitivity_factor_i = self.proj_meta.sensitivity_at_ids[detector_id]\n",
    "            if coord[0]==0: # If angle 0:\n",
    "                projections.append(object[:,coord[1],coord[2]].sum() *  sensitivity_factor_i) # sum along x\n",
    "            elif coord[0]==1: # If angle 90:\n",
    "                projections.append(object[coord[1],:,coord[2]].sum() * sensitivity_factor_i)  # sum along y\n",
    "        return torch.tensor(projections)\n",
    "    def backward(self, projections, subset_idx = None):\n",
    "        # There is probably a faster implementation, but I am trying to keep it simple for illustration purposes\n",
    "        object = torch.zeros(object_meta.shape)\n",
    "        projections *= self.proj_meta.sensitivity_at_ids[self.proj_meta.detector_ids]\n",
    "        for i, detector_id in enumerate(detector_ids):\n",
    "            coord = self.proj_meta.scanner_LUT[detector_id]\n",
    "            if coord[0]==0: # If angle 0:\n",
    "                object[:,coord[1],coord[2]] += projections[i]\n",
    "            elif coord[0]==1: # If angle 90:\n",
    "                object[coord[1],:,coord[2]] += projections[i]\n",
    "        return object\n",
    "    # ----\n",
    "    # NEW CODE\n",
    "    # ----\n",
    "    def compute_normalization_factor(self):\n",
    "        norm_BP = torch.zeros(object_meta.shape)\n",
    "        # Now we loop through unique detector ids instead\n",
    "        unique_detector_ids = torch.arange(scanner_LUT.shape[0])\n",
    "        for i, detector_id in enumerate(unique_detector_ids):\n",
    "            coord = self.proj_meta.scanner_LUT[detector_id]\n",
    "            sensitivity_factor_i = self.proj_meta.sensitivity_at_ids[detector_id]\n",
    "            if coord[0]==0: # If angle 0:\n",
    "                norm_BP[:,coord[1],coord[2]] += sensitivity_factor_i\n",
    "            elif coord[0]==1: # If angle 90:\n",
    "                norm_BP[coord[1],:,coord[2]] += sensitivity_factor_i\n",
    "        return norm_BP"
   ]
  },
  {
   "cell_type": "code",
   "execution_count": 39,
   "id": "92cb175c",
   "metadata": {
    "execution": {
     "iopub.execute_input": "2024-08-01T04:12:05.565529Z",
     "iopub.status.busy": "2024-08-01T04:12:05.565212Z",
     "iopub.status.idle": "2024-08-01T04:12:05.570762Z",
     "shell.execute_reply": "2024-08-01T04:12:05.570054Z"
    },
    "papermill": {
     "duration": 0.024501,
     "end_time": "2024-08-01T04:12:05.572119",
     "exception": false,
     "start_time": "2024-08-01T04:12:05.547618",
     "status": "completed"
    },
    "tags": []
   },
   "outputs": [
    {
     "data": {
      "text/plain": [
       "tensor([[1.0299, 1.0947, 1.2355],\n",
       "        [1.0208, 1.2031, 1.2252],\n",
       "        [1.1465, 1.0650, 1.0982]])"
      ]
     },
     "execution_count": 39,
     "metadata": {},
     "output_type": "execute_result"
    }
   ],
   "source": [
    "sensitivity_factor"
   ]
  },
  {
   "cell_type": "code",
   "execution_count": 40,
   "id": "8fa09e9a",
   "metadata": {
    "execution": {
     "iopub.execute_input": "2024-08-01T04:12:05.600121Z",
     "iopub.status.busy": "2024-08-01T04:12:05.599736Z",
     "iopub.status.idle": "2024-08-01T04:12:05.604811Z",
     "shell.execute_reply": "2024-08-01T04:12:05.604164Z"
    },
    "papermill": {
     "duration": 0.020648,
     "end_time": "2024-08-01T04:12:05.606175",
     "exception": false,
     "start_time": "2024-08-01T04:12:05.585527",
     "status": "completed"
    },
    "tags": []
   },
   "outputs": [],
   "source": [
    "system_matrix = EXSListmodeSystemMatrix(object_meta=object_meta, proj_meta=proj_meta_listmode)\n",
    "norm_BP = system_matrix.compute_normalization_factor()"
   ]
  },
  {
   "cell_type": "code",
   "execution_count": 41,
   "id": "ed422116",
   "metadata": {
    "execution": {
     "iopub.execute_input": "2024-08-01T04:12:05.634092Z",
     "iopub.status.busy": "2024-08-01T04:12:05.633515Z",
     "iopub.status.idle": "2024-08-01T04:12:05.761696Z",
     "shell.execute_reply": "2024-08-01T04:12:05.760995Z"
    },
    "papermill": {
     "duration": 0.143209,
     "end_time": "2024-08-01T04:12:05.763165",
     "exception": false,
     "start_time": "2024-08-01T04:12:05.619956",
     "status": "completed"
    },
    "tags": []
   },
   "outputs": [
    {
     "data": {
      "text/plain": [
       "<matplotlib.colorbar.Colorbar at 0x7f06f7412cd0>"
      ]
     },
     "execution_count": 41,
     "metadata": {},
     "output_type": "execute_result"
    },
    {
     "data": {
      "image/png": "[encoded data removed]",
      "text/plain": [
       "<Figure size 200x200 with 2 Axes>"
      ]
     },
     "metadata": {},
     "output_type": "display_data"
    }
   ],
   "source": [
    "plt.figure(figsize=(2,2))\n",
    "plt.pcolormesh(norm_BP[:,:,1])\n",
    "plt.colorbar()"
   ]
  },
  {
   "cell_type": "markdown",
   "id": "ce5513ff",
   "metadata": {
    "papermill": {
     "duration": 0.01447,
     "end_time": "2024-08-01T04:12:05.791538",
     "exception": false,
     "start_time": "2024-08-01T04:12:05.777068",
     "status": "completed"
    },
    "tags": []
   },
   "source": [
    "Now we can use the listmode system matrix with the rest of the library.\n",
    "\n",
    "**For list mode system matrices, we no longer need to provide `projections` to the likelihood function**"
   ]
  },
  {
   "cell_type": "code",
   "execution_count": 42,
   "id": "90bce2c6",
   "metadata": {
    "execution": {
     "iopub.execute_input": "2024-08-01T04:12:05.821698Z",
     "iopub.status.busy": "2024-08-01T04:12:05.820978Z",
     "iopub.status.idle": "2024-08-01T04:12:05.825611Z",
     "shell.execute_reply": "2024-08-01T04:12:05.824877Z"
    },
    "papermill": {
     "duration": 0.022098,
     "end_time": "2024-08-01T04:12:05.827124",
     "exception": false,
     "start_time": "2024-08-01T04:12:05.805026",
     "status": "completed"
    },
    "tags": []
   },
   "outputs": [],
   "source": [
    "system_matrix = EXSListmodeSystemMatrix(object_meta=object_meta, proj_meta=proj_meta_listmode)\n",
    "likelihood = NegativeMSELikelihood(system_matrix, scaling_constant=0.01)\n",
    "reconstruction_algorithm = OSEM(likelihood)"
   ]
  },
  {
   "cell_type": "code",
   "execution_count": 43,
   "id": "9893b652",
   "metadata": {
    "execution": {
     "iopub.execute_input": "2024-08-01T04:12:05.856867Z",
     "iopub.status.busy": "2024-08-01T04:12:05.856332Z",
     "iopub.status.idle": "2024-08-01T04:12:07.291942Z",
     "shell.execute_reply": "2024-08-01T04:12:07.291189Z"
    },
    "papermill": {
     "duration": 1.452135,
     "end_time": "2024-08-01T04:12:07.293744",
     "exception": false,
     "start_time": "2024-08-01T04:12:05.841609",
     "status": "completed"
    },
    "tags": []
   },
   "outputs": [],
   "source": [
    "recon = reconstruction_algorithm(n_iters=40)"
   ]
  },
  {
   "cell_type": "code",
   "execution_count": 44,
   "id": "83b34a34",
   "metadata": {
    "execution": {
     "iopub.execute_input": "2024-08-01T04:12:07.321138Z",
     "iopub.status.busy": "2024-08-01T04:12:07.320694Z",
     "iopub.status.idle": "2024-08-01T04:12:07.403749Z",
     "shell.execute_reply": "2024-08-01T04:12:07.403162Z"
    },
    "papermill": {
     "duration": 0.097645,
     "end_time": "2024-08-01T04:12:07.405039",
     "exception": false,
     "start_time": "2024-08-01T04:12:07.307394",
     "status": "completed"
    },
    "tags": []
   },
   "outputs": [
    {
     "data": {
      "text/plain": [
       "<matplotlib.colorbar.Colorbar at 0x7f06f730c1d0>"
      ]
     },
     "execution_count": 44,
     "metadata": {},
     "output_type": "execute_result"
    },
    {
     "data": {
      "image/png": "[encoded data removed]",
      "text/plain": [
       "<Figure size 200x200 with 2 Axes>"
      ]
     },
     "metadata": {},
     "output_type": "display_data"
    }
   ],
   "source": [
    "plt.figure(figsize=(2,2))\n",
    "plt.pcolormesh(recon[:,:,1], vmin=0, cmap='nipy_spectral')\n",
    "plt.axis('off')\n",
    "plt.colorbar()"
   ]
  },
  {
   "cell_type": "markdown",
   "id": "dc2a8e5b",
   "metadata": {
    "papermill": {
     "duration": 0.012409,
     "end_time": "2024-08-01T04:12:07.431391",
     "exception": false,
     "start_time": "2024-08-01T04:12:07.418982",
     "status": "completed"
    },
    "tags": []
   },
   "source": [
    "## Part 2: Incorporating Subsets"
   ]
  },
  {
   "cell_type": "markdown",
   "id": "0ac55a2f",
   "metadata": {
    "papermill": {
     "duration": 0.012408,
     "end_time": "2024-08-01T04:12:07.456701",
     "exception": false,
     "start_time": "2024-08-01T04:12:07.444293",
     "status": "completed"
    },
    "tags": []
   },
   "source": [
    "Incorporating subsets is slightly more intuitive with listmode data. In this case, we split up all the detected events into $N$ approximately equal subsets using the `torch.tensor_split` function"
   ]
  },
  {
   "cell_type": "code",
   "execution_count": 45,
   "id": "7ddc7653",
   "metadata": {
    "execution": {
     "iopub.execute_input": "2024-08-01T04:12:07.482974Z",
     "iopub.status.busy": "2024-08-01T04:12:07.482660Z",
     "iopub.status.idle": "2024-08-01T04:12:07.493004Z",
     "shell.execute_reply": "2024-08-01T04:12:07.492414Z"
    },
    "papermill": {
     "duration": 0.025265,
     "end_time": "2024-08-01T04:12:07.494232",
     "exception": false,
     "start_time": "2024-08-01T04:12:07.468967",
     "status": "completed"
    },
    "tags": []
   },
   "outputs": [],
   "source": [
    "class EXSListmodeSystemMatrix(SystemMatrix):\n",
    "    # ----\n",
    "    # NEW CODE\n",
    "    # ----\n",
    "    def set_n_subsets(self, n_subsets):\n",
    "        self.n_subsets = n_subsets\n",
    "        idx = torch.arange(proj_meta_listmode.detector_ids.shape[0])\n",
    "        self.subset_indices_array = torch.tensor_split(idx, self.n_subsets)\n",
    "    def get_projection_subset(self, projections, subset_idx):\n",
    "        # Needs to consider cases where projection is simply a 1 element tensor in the numerator, but also cases of scatter where it is a longer tensor\n",
    "        if (projections.shape[0]>1)*(subset_idx is not None):\n",
    "            subset_indices = self.subset_indices_array[subset_idx]\n",
    "            proj_subset = projections[subset_indices]\n",
    "        else:\n",
    "            proj_subset = projections\n",
    "        return proj_subset\n",
    "    def get_weighting_subset(self, subset_idx):\n",
    "        if subset_idx is None:\n",
    "            return 1\n",
    "        else:\n",
    "            # Fraction of events in the subset\n",
    "            return self.subset_indices_array[subset_idx].shape[0] / proj_meta_listmode.detector_ids.shape[0]\n",
    "    def forward(self, object, subset_idx = None):\n",
    "        # There is probably a faster implementation, but I am trying to keep it simple for illustration purposes\n",
    "        projections = []\n",
    "        if subset_idx is None:\n",
    "            detector_ids_subset = self.proj_meta.detector_ids\n",
    "        else:\n",
    "            detector_ids_subset = self.proj_meta.detector_ids[self.subset_indices_array[subset_idx]]\n",
    "        for i, detector_id in enumerate(detector_ids_subset):\n",
    "            coord = self.proj_meta.scanner_LUT[detector_id]\n",
    "            sensitivity_factor_i = self.proj_meta.sensitivity_at_ids[detector_id]\n",
    "            if coord[0]==0: # If angle 0:\n",
    "                projections.append(object[:,coord[1],coord[2]].sum() *  sensitivity_factor_i) # sum along x\n",
    "            elif coord[0]==1: # If angle 90:\n",
    "                projections.append(object[coord[1],:,coord[2]].sum() * sensitivity_factor_i)  # sum along y\n",
    "        return torch.tensor(projections)\n",
    "    def backward(self, projections, subset_idx = None):\n",
    "        # There is probably a faster implementation, but I am trying to keep it simple for illustration purposes\n",
    "        object = torch.zeros(object_meta.shape)\n",
    "        if subset_idx is None:\n",
    "            detector_ids_subset = self.proj_meta.detector_ids\n",
    "        else:\n",
    "            detector_ids_subset = self.proj_meta.detector_ids[self.subset_indices_array[subset_idx]]\n",
    "        projections *= self.proj_meta.sensitivity_at_ids[detector_ids_subset]\n",
    "        for i, detector_id in enumerate(detector_ids_subset):\n",
    "            coord = self.proj_meta.scanner_LUT[detector_id]\n",
    "            if coord[0]==0: # If angle 0:\n",
    "                object[:,coord[1],coord[2]] += projections[i]\n",
    "            elif coord[0]==1: # If angle 90:\n",
    "                object[coord[1],:,coord[2]] += projections[i]\n",
    "        return object\n",
    "    def compute_normalization_factor(self, subset_idx=None):\n",
    "        fraction_considered = self.get_weighting_subset(subset_idx)\n",
    "        norm_BP = torch.zeros(object_meta.shape)\n",
    "        # Now we loop through unique detector ids instead\n",
    "        unique_detector_ids = torch.arange(scanner_LUT.shape[0])\n",
    "        for i, detector_id in enumerate(unique_detector_ids):\n",
    "            coord = self.proj_meta.scanner_LUT[detector_id]\n",
    "            sensitivity_factor_i = self.proj_meta.sensitivity_at_ids[detector_id]\n",
    "            if coord[0]==0: # If angle 0:\n",
    "                norm_BP[:,coord[1],coord[2]] += sensitivity_factor_i\n",
    "            elif coord[0]==1: # If angle 90:\n",
    "                norm_BP[coord[1],:,coord[2]] += sensitivity_factor_i\n",
    "        return norm_BP * fraction_considered"
   ]
  },
  {
   "cell_type": "code",
   "execution_count": 46,
   "id": "a2debf5a",
   "metadata": {
    "execution": {
     "iopub.execute_input": "2024-08-01T04:12:07.520645Z",
     "iopub.status.busy": "2024-08-01T04:12:07.520273Z",
     "iopub.status.idle": "2024-08-01T04:12:07.524143Z",
     "shell.execute_reply": "2024-08-01T04:12:07.523440Z"
    },
    "papermill": {
     "duration": 0.018895,
     "end_time": "2024-08-01T04:12:07.525383",
     "exception": false,
     "start_time": "2024-08-01T04:12:07.506488",
     "status": "completed"
    },
    "tags": []
   },
   "outputs": [],
   "source": [
    "system_matrix = EXSListmodeSystemMatrix(object_meta=object_meta, proj_meta=proj_meta_listmode)\n",
    "likelihood = NegativeMSELikelihood(system_matrix, scaling_constant=0.01)\n",
    "reconstruction_algorithm = OSEM(likelihood)"
   ]
  },
  {
   "cell_type": "code",
   "execution_count": 47,
   "id": "66a7cea9",
   "metadata": {
    "execution": {
     "iopub.execute_input": "2024-08-01T04:12:07.550918Z",
     "iopub.status.busy": "2024-08-01T04:12:07.550525Z",
     "iopub.status.idle": "2024-08-01T04:12:09.713873Z",
     "shell.execute_reply": "2024-08-01T04:12:09.713151Z"
    },
    "papermill": {
     "duration": 2.178047,
     "end_time": "2024-08-01T04:12:09.715703",
     "exception": false,
     "start_time": "2024-08-01T04:12:07.537656",
     "status": "completed"
    },
    "tags": []
   },
   "outputs": [],
   "source": [
    "recon_2subsets = reconstruction_algorithm(n_iters=20, n_subsets=2)\n",
    "reconstruction_algorithm = OSEM(likelihood)\n",
    "recon_1subset = reconstruction_algorithm(n_iters=40)"
   ]
  },
  {
   "cell_type": "markdown",
   "id": "1371e63c",
   "metadata": {
    "papermill": {
     "duration": 0.012286,
     "end_time": "2024-08-01T04:12:09.741554",
     "exception": false,
     "start_time": "2024-08-01T04:12:09.729268",
     "status": "completed"
    },
    "tags": []
   },
   "source": [
    "Now lets plot the reconstructions:"
   ]
  },
  {
   "cell_type": "code",
   "execution_count": 48,
   "id": "8e190a1d",
   "metadata": {
    "execution": {
     "iopub.execute_input": "2024-08-01T04:12:09.767254Z",
     "iopub.status.busy": "2024-08-01T04:12:09.766851Z",
     "iopub.status.idle": "2024-08-01T04:12:09.918907Z",
     "shell.execute_reply": "2024-08-01T04:12:09.918138Z"
    },
    "papermill": {
     "duration": 0.166563,
     "end_time": "2024-08-01T04:12:09.920312",
     "exception": false,
     "start_time": "2024-08-01T04:12:09.753749",
     "status": "completed"
    },
    "tags": []
   },
   "outputs": [
    {
     "data": {
      "text/plain": [
       "<matplotlib.colorbar.Colorbar at 0x7f06f71fee50>"
      ]
     },
     "execution_count": 48,
     "metadata": {},
     "output_type": "execute_result"
    },
    {
     "data": {
      "image/png": "[encoded data removed]",
      "text/plain": [
       "<Figure size 400x200 with 4 Axes>"
      ]
     },
     "metadata": {},
     "output_type": "display_data"
    }
   ],
   "source": [
    "max_value = max([recon_1subset[:,:,1].max().item(), recon_1subset[:,:,1].max().item()])\n",
    "plt.figure(figsize=(4,2))\n",
    "plt.subplot(121)\n",
    "plt.pcolormesh(recon_1subset[:,:,1], vmin=0, vmax=max_value, cmap='nipy_spectral')\n",
    "plt.axis('off')\n",
    "plt.colorbar()\n",
    "plt.subplot(122)\n",
    "plt.pcolormesh(recon_2subsets[:,:,1], vmin=0, vmax=max_value, cmap='nipy_spectral')\n",
    "plt.axis('off')\n",
    "plt.colorbar()"
   ]
  },
  {
   "cell_type": "markdown",
   "id": "73b08003",
   "metadata": {
    "papermill": {
     "duration": 0.012366,
     "end_time": "2024-08-01T04:12:09.947468",
     "exception": false,
     "start_time": "2024-08-01T04:12:09.935102",
     "status": "completed"
    },
    "tags": []
   },
   "source": [
    "For a better imaging system (we're not collecting nearly enough angles here), these two images should look very similar."
   ]
  }
 ],
 "metadata": {
  "kernelspec": {
   "display_name": "pytomo_install_test",
   "language": "python",
   "name": "python3"
  },
  "language_info": {
   "codemirror_mode": {
    "name": "ipython",
    "version": 3
   },
   "file_extension": ".py",
   "mimetype": "text/x-python",
   "name": "python",
   "nbconvert_exporter": "python",
   "pygments_lexer": "ipython3",
   "version": "3.11.6"
  },
  "papermill": {
   "default_parameters": {},
   "duration": 12.445283,
   "end_time": "2024-08-01T04:12:11.180038",
   "environment_variables": {},
   "exception": null,
   "input_path": "t_examplesystemmatrix.ipynb",
   "output_path": "t_examplesystemmatrix.ipynb",
   "parameters": {},
   "start_time": "2024-08-01T04:11:58.734755",
   "version": "2.6.0"
  }
 },
 "nbformat": 4,
 "nbformat_minor": 5
}