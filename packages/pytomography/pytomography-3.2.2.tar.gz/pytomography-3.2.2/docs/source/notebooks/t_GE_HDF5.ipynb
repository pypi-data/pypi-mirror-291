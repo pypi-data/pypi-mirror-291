{
 "cells": [
  {
   "cell_type": "markdown",
   "id": "71990519",
   "metadata": {
    "papermill": {
     "duration": 0.003391,
     "end_time": "2024-08-01T03:10:20.344179",
     "exception": false,
     "start_time": "2024-08-01T03:10:20.340788",
     "status": "completed"
    },
    "tags": []
   },
   "source": [
    "# GE Discovery MI (Listmode Reconstruction; With Time of Flight)"
   ]
  },
  {
   "cell_type": "markdown",
   "id": "7c513fdf",
   "metadata": {
    "papermill": {
     "duration": 0.002587,
     "end_time": "2024-08-01T03:10:20.349954",
     "exception": false,
     "start_time": "2024-08-01T03:10:20.347367",
     "status": "completed"
    },
    "tags": []
   },
   "source": [
    "This tutorial demonstrates how to reconstruct data listmode data in HDF5 data obtain from GE scanners. In this tutorial, we'll reconstruct using time-of-flight listmode. The data can be obtained from https://zenodo.org/records/8404015"
   ]
  },
  {
   "cell_type": "code",
   "execution_count": 1,
   "id": "ea48e0e5",
   "metadata": {
    "execution": {
     "iopub.execute_input": "2024-08-01T03:10:20.357080Z",
     "iopub.status.busy": "2024-08-01T03:10:20.356543Z",
     "iopub.status.idle": "2024-08-01T03:10:25.125283Z",
     "shell.execute_reply": "2024-08-01T03:10:25.124563Z"
    },
    "papermill": {
     "duration": 4.774721,
     "end_time": "2024-08-01T03:10:25.127307",
     "exception": false,
     "start_time": "2024-08-01T03:10:20.352586",
     "status": "completed"
    },
    "tags": []
   },
   "outputs": [
    {
     "name": "stdout",
     "output_type": "stream",
     "text": [
      "\n",
      "          -  -  -  -  -  -  -  -   -  -  -  -\n",
      "          P  A  R  A  L  L  E  L | P  R  O  J\n",
      "          -  -  -  -  -  -  -  -   -  -  -  -\n",
      "\n",
      "    =================================================\n",
      "\n",
      "         Please consider citing our publication\n",
      "      ---------------------------------------------\n",
      "      Georg Schramm and Kris Thielemans:\n",
      "      \"PARALLELPROJ—an open-source framework for\n",
      "       fast calculation of projections in\n",
      "       tomography\"\n",
      "      Front. Nucl. Med., 08 January 2024\n",
      "      Sec. PET and SPECT, Vol 3\n",
      "      https://doi.org/10.3389/fnume.2023.1324562\n",
      "\n",
      "    =================================================\n",
      " \n",
      "    parallelproj C    lib: /data/anaconda/envs/pytomo_install_test/lib/libparallelproj_c.so.1.8.0\n",
      "    parallelproj CUDA lib: /data/anaconda/envs/pytomo_install_test/lib/libparallelproj_cuda.so.1.8.0\n",
      "    \n"
     ]
    }
   ],
   "source": [
    "from pytomography.metadata import ObjectMeta\n",
    "from pytomography.metadata.PET import PETLMProjMeta\n",
    "from pytomography.projectors.PET import PETLMSystemMatrix\n",
    "from pytomography.algorithms import OSEM, BSREM\n",
    "from pytomography.priors import RelativeDifferencePrior\n",
    "from pytomography.likelihoods import PoissonLogLikelihood\n",
    "from pytomography.transforms.shared import GaussianFilter\n",
    "import matplotlib.pyplot as plt\n",
    "from pytomography.io.PET import clinical"
   ]
  },
  {
   "cell_type": "markdown",
   "id": "fc81208e",
   "metadata": {
    "papermill": {
     "duration": 0.00277,
     "end_time": "2024-08-01T03:10:25.133681",
     "exception": false,
     "start_time": "2024-08-01T03:10:25.130911",
     "status": "completed"
    },
    "tags": []
   },
   "source": [
    "We first need to get the required PET geometry information dictionary from the scanner name. Currently, we only support `discovery_MI`, but feel free to make a commit to support other scanners (add to the `src/data/pet_scanner_info.txt` file)"
   ]
  },
  {
   "cell_type": "code",
   "execution_count": 2,
   "id": "b9b22ab3",
   "metadata": {
    "execution": {
     "iopub.execute_input": "2024-08-01T03:10:25.140740Z",
     "iopub.status.busy": "2024-08-01T03:10:25.140150Z",
     "iopub.status.idle": "2024-08-01T03:10:25.156242Z",
     "shell.execute_reply": "2024-08-01T03:10:25.155659Z"
    },
    "papermill": {
     "duration": 0.020994,
     "end_time": "2024-08-01T03:10:25.157432",
     "exception": false,
     "start_time": "2024-08-01T03:10:25.136438",
     "status": "completed"
    },
    "tags": []
   },
   "outputs": [],
   "source": [
    "scanner_name = 'discovery_MI'\n",
    "info = clinical.get_detector_info(scanner_name)"
   ]
  },
  {
   "cell_type": "markdown",
   "id": "fc6ba139",
   "metadata": {
    "papermill": {
     "duration": 0.002737,
     "end_time": "2024-08-01T03:10:25.162931",
     "exception": false,
     "start_time": "2024-08-01T03:10:25.160194",
     "status": "completed"
    },
    "tags": []
   },
   "source": [
    "Now we obtain the required data from the listmode files."
   ]
  },
  {
   "cell_type": "code",
   "execution_count": 3,
   "id": "2d2bd0c3",
   "metadata": {
    "execution": {
     "iopub.execute_input": "2024-08-01T03:10:25.169608Z",
     "iopub.status.busy": "2024-08-01T03:10:25.169246Z",
     "iopub.status.idle": "2024-08-01T03:11:00.415295Z",
     "shell.execute_reply": "2024-08-01T03:11:00.414408Z"
    },
    "papermill": {
     "duration": 35.251418,
     "end_time": "2024-08-01T03:11:00.417201",
     "exception": false,
     "start_time": "2024-08-01T03:10:25.165783",
     "status": "completed"
    },
    "tags": []
   },
   "outputs": [],
   "source": [
    "# Get listmode events\n",
    "detector_ids = clinical.get_detector_ids_hdf5('/disk1/ge_discovery_tof_mi_pet/dmi_nema_lm/LIST0000.BLF', scanner_name)\n",
    "# Get scatter/random correction term at each event\n",
    "additive_term = clinical.get_additive_term_hdf5('/disk1/ge_discovery_tof_mi_pet/dmi_nema_lm/corrections.h5')\n",
    "# Get multiplicative weights (attenuation/normalization) at each event\n",
    "weights = clinical.get_weights_hdf5('/disk1/ge_discovery_tof_mi_pet/dmi_nema_lm/corrections.h5')\n",
    "# Get ALL valid detector-pairs and corresponding multiplicative weights\n",
    "detector_ids_sensitivity, weights_sensitivity = clinical.get_sensitivity_ids_and_weights_hdf5('/disk1/ge_discovery_tof_mi_pet/dmi_nema_lm/corrections.h5', scanner_name)"
   ]
  },
  {
   "cell_type": "code",
   "execution_count": 4,
   "id": "436c4ed0",
   "metadata": {
    "execution": {
     "iopub.execute_input": "2024-08-01T03:11:00.424863Z",
     "iopub.status.busy": "2024-08-01T03:11:00.424391Z",
     "iopub.status.idle": "2024-08-01T03:11:00.435232Z",
     "shell.execute_reply": "2024-08-01T03:11:00.434652Z"
    },
    "papermill": {
     "duration": 0.015788,
     "end_time": "2024-08-01T03:11:00.436476",
     "exception": false,
     "start_time": "2024-08-01T03:11:00.420688",
     "status": "completed"
    },
    "tags": []
   },
   "outputs": [
    {
     "data": {
      "text/plain": [
       "tensor([0.0125, 0.0170, 0.0246,  ..., 0.0379, 0.0363, 0.0026])"
      ]
     },
     "execution_count": 4,
     "metadata": {},
     "output_type": "execute_result"
    }
   ],
   "source": [
    "additive_term"
   ]
  },
  {
   "cell_type": "code",
   "execution_count": 5,
   "id": "1a4013d9",
   "metadata": {
    "execution": {
     "iopub.execute_input": "2024-08-01T03:11:00.443517Z",
     "iopub.status.busy": "2024-08-01T03:11:00.443157Z",
     "iopub.status.idle": "2024-08-01T03:11:00.453492Z",
     "shell.execute_reply": "2024-08-01T03:11:00.452872Z"
    },
    "papermill": {
     "duration": 0.015129,
     "end_time": "2024-08-01T03:11:00.454776",
     "exception": false,
     "start_time": "2024-08-01T03:11:00.439647",
     "status": "completed"
    },
    "tags": []
   },
   "outputs": [],
   "source": [
    "from pytomography.io.PET import shared\n",
    "scanner_LUT = shared.get_scanner_LUT(info)"
   ]
  },
  {
   "cell_type": "markdown",
   "id": "f025ba63",
   "metadata": {
    "papermill": {
     "duration": 0.002825,
     "end_time": "2024-08-01T03:11:00.460681",
     "exception": false,
     "start_time": "2024-08-01T03:11:00.457856",
     "status": "completed"
    },
    "tags": []
   },
   "source": [
    "First we'll get the required object space and projection space metadata.\n",
    "\n",
    "* The `object_meta` specifies the size of each voxel, and the number of voxels in each direction\n",
    "* The `proj_meta` specifies the list of all measured listmode events (`detector_ids`), the time-of-flight metadata, and the detector IDs / weights used for computing the sensitivity image."
   ]
  },
  {
   "cell_type": "code",
   "execution_count": 6,
   "id": "0bc888ff",
   "metadata": {
    "execution": {
     "iopub.execute_input": "2024-08-01T03:11:00.467927Z",
     "iopub.status.busy": "2024-08-01T03:11:00.467538Z",
     "iopub.status.idle": "2024-08-01T03:11:00.482329Z",
     "shell.execute_reply": "2024-08-01T03:11:00.481648Z"
    },
    "papermill": {
     "duration": 0.019885,
     "end_time": "2024-08-01T03:11:00.483723",
     "exception": false,
     "start_time": "2024-08-01T03:11:00.463838",
     "status": "completed"
    },
    "tags": []
   },
   "outputs": [],
   "source": [
    "# Define object space reconstruction matrix\n",
    "object_meta = ObjectMeta(\n",
    "    dr=(2.78,2.78,2.78), #mm\n",
    "    shape=(192,192,71) #voxels\n",
    ")\n",
    "# Get time-of-flight metadata and define projection space metadata\n",
    "tof_meta = clinical.get_tof_meta(scanner_name)\n",
    "proj_meta = PETLMProjMeta(\n",
    "    detector_ids,\n",
    "    info,\n",
    "    tof_meta=tof_meta,\n",
    "    detector_ids_sensitivity=detector_ids_sensitivity,\n",
    "    weights_sensitivity=weights_sensitivity\n",
    "    )"
   ]
  },
  {
   "cell_type": "markdown",
   "id": "344fe1e5",
   "metadata": {
    "papermill": {
     "duration": 0.00296,
     "end_time": "2024-08-01T03:11:00.489850",
     "exception": false,
     "start_time": "2024-08-01T03:11:00.486890",
     "status": "completed"
    },
    "tags": []
   },
   "source": [
    "Now we'll define the system matrix for the PET system. In this case we'll use 4.5mm PSF modeling."
   ]
  },
  {
   "cell_type": "code",
   "execution_count": 7,
   "id": "9daf97ba",
   "metadata": {
    "execution": {
     "iopub.execute_input": "2024-08-01T03:11:00.496907Z",
     "iopub.status.busy": "2024-08-01T03:11:00.496422Z",
     "iopub.status.idle": "2024-08-01T03:11:05.138634Z",
     "shell.execute_reply": "2024-08-01T03:11:05.137870Z"
    },
    "papermill": {
     "duration": 4.647821,
     "end_time": "2024-08-01T03:11:05.140575",
     "exception": false,
     "start_time": "2024-08-01T03:11:00.492754",
     "status": "completed"
    },
    "tags": []
   },
   "outputs": [],
   "source": [
    "psf_transform = GaussianFilter(4.5) # 2mm gaussian blurring\n",
    "system_matrix = PETLMSystemMatrix(\n",
    "    object_meta,\n",
    "    proj_meta,\n",
    "    obj2obj_transforms = [psf_transform],\n",
    "    N_splits=8,\n",
    ")"
   ]
  },
  {
   "cell_type": "markdown",
   "id": "561328db",
   "metadata": {
    "papermill": {
     "duration": 0.002915,
     "end_time": "2024-08-01T03:11:05.147103",
     "exception": false,
     "start_time": "2024-08-01T03:11:05.144188",
     "status": "completed"
    },
    "tags": []
   },
   "source": [
    "Now we'll define the likelihood function (`PoissonLogLikelihood` for PET systems). The additive term contains scatters/randoms and needs to be normalized by the `weights`."
   ]
  },
  {
   "cell_type": "code",
   "execution_count": 8,
   "id": "e7ff8d16",
   "metadata": {
    "execution": {
     "iopub.execute_input": "2024-08-01T03:11:05.154175Z",
     "iopub.status.busy": "2024-08-01T03:11:05.153774Z",
     "iopub.status.idle": "2024-08-01T03:11:05.218030Z",
     "shell.execute_reply": "2024-08-01T03:11:05.217229Z"
    },
    "papermill": {
     "duration": 0.069844,
     "end_time": "2024-08-01T03:11:05.219949",
     "exception": false,
     "start_time": "2024-08-01T03:11:05.150105",
     "status": "completed"
    },
    "tags": []
   },
   "outputs": [],
   "source": [
    "likelihood = PoissonLogLikelihood(\n",
    "    system_matrix,\n",
    "    additive_term=additive_term/weights,\n",
    ")"
   ]
  },
  {
   "cell_type": "markdown",
   "id": "bb8c61cc",
   "metadata": {
    "papermill": {
     "duration": 0.002871,
     "end_time": "2024-08-01T03:11:05.226268",
     "exception": false,
     "start_time": "2024-08-01T03:11:05.223397",
     "status": "completed"
    },
    "tags": []
   },
   "source": [
    "We can now reconstruct using a variety of reconstruction algorithms:"
   ]
  },
  {
   "cell_type": "code",
   "execution_count": 9,
   "id": "b83a54d6",
   "metadata": {
    "execution": {
     "iopub.execute_input": "2024-08-01T03:11:05.233330Z",
     "iopub.status.busy": "2024-08-01T03:11:05.232930Z",
     "iopub.status.idle": "2024-08-01T03:11:38.727153Z",
     "shell.execute_reply": "2024-08-01T03:11:38.726399Z"
    },
    "papermill": {
     "duration": 33.499796,
     "end_time": "2024-08-01T03:11:38.729004",
     "exception": false,
     "start_time": "2024-08-01T03:11:05.229208",
     "status": "completed"
    },
    "tags": []
   },
   "outputs": [],
   "source": [
    "recon_algorithm = OSEM(likelihood)\n",
    "recon_OSEM = recon_algorithm(n_iters=6, n_subsets=34)"
   ]
  },
  {
   "cell_type": "code",
   "execution_count": 10,
   "id": "85c06fa9",
   "metadata": {
    "execution": {
     "iopub.execute_input": "2024-08-01T03:11:38.737150Z",
     "iopub.status.busy": "2024-08-01T03:11:38.736612Z",
     "iopub.status.idle": "2024-08-01T03:13:47.675144Z",
     "shell.execute_reply": "2024-08-01T03:13:47.674351Z"
    },
    "papermill": {
     "duration": 128.944263,
     "end_time": "2024-08-01T03:13:47.677108",
     "exception": false,
     "start_time": "2024-08-01T03:11:38.732845",
     "status": "completed"
    },
    "tags": []
   },
   "outputs": [],
   "source": [
    "# This is probably very similar to \"Q.Clear\" is ;)\n",
    "prior = RelativeDifferencePrior(beta=25, gamma=2)\n",
    "recon_algorithm = BSREM(likelihood, prior=prior)\n",
    "recon_BSREM = recon_algorithm(n_iters=20, n_subsets=34)"
   ]
  },
  {
   "cell_type": "markdown",
   "id": "94c2c796",
   "metadata": {
    "papermill": {
     "duration": 0.00305,
     "end_time": "2024-08-01T03:13:47.684078",
     "exception": false,
     "start_time": "2024-08-01T03:13:47.681028",
     "status": "completed"
    },
    "tags": []
   },
   "source": [
    "Plot axial slice of reconstruction:"
   ]
  },
  {
   "cell_type": "code",
   "execution_count": 11,
   "id": "da80f06d",
   "metadata": {
    "execution": {
     "iopub.execute_input": "2024-08-01T03:13:47.691476Z",
     "iopub.status.busy": "2024-08-01T03:13:47.691078Z",
     "iopub.status.idle": "2024-08-01T03:13:48.256413Z",
     "shell.execute_reply": "2024-08-01T03:13:48.255770Z"
    },
    "papermill": {
     "duration": 0.570856,
     "end_time": "2024-08-01T03:13:48.257900",
     "exception": false,
     "start_time": "2024-08-01T03:13:47.687044",
     "status": "completed"
    },
    "tags": []
   },
   "outputs": [
    {
     "data": {
      "image/png": "[encoded data removed]",
      "text/plain": [
       "<Figure size 550x300 with 2 Axes>"
      ]
     },
     "metadata": {},
     "output_type": "display_data"
    }
   ],
   "source": [
    "fig, ax = plt.subplots(1,2,figsize=(5.5,3))\n",
    "plt.subplot(121)\n",
    "plt.pcolormesh(recon_OSEM[:,:,20].T.cpu(), cmap='magma', shading='gouraud', vmax=0.5)\n",
    "plt.axis('off')\n",
    "plt.title('OSEM')\n",
    "plt.subplot(122)\n",
    "plt.pcolormesh(recon_BSREM[:,:,20].T.cpu(), cmap='magma', shading='gouraud', vmax=0.5)\n",
    "plt.axis('off')\n",
    "plt.title('BSREM+RDP')\n",
    "fig.tight_layout()\n",
    "plt.show()"
   ]
  }
 ],
 "metadata": {
  "kernelspec": {
   "display_name": "pytomo_install_test",
   "language": "python",
   "name": "python3"
  },
  "language_info": {
   "codemirror_mode": {
    "name": "ipython",
    "version": 3
   },
   "file_extension": ".py",
   "mimetype": "text/x-python",
   "name": "python",
   "nbconvert_exporter": "python",
   "pygments_lexer": "ipython3",
   "version": "3.11.6"
  },
  "papermill": {
   "default_parameters": {},
   "duration": 211.1218,
   "end_time": "2024-08-01T03:13:50.544139",
   "environment_variables": {},
   "exception": null,
   "input_path": "t_GE_HDF5.ipynb",
   "output_path": "t_GE_HDF5.ipynb",
   "parameters": {},
   "start_time": "2024-08-01T03:10:19.422339",
   "version": "2.6.0"
  }
 },
 "nbformat": 4,
 "nbformat_minor": 5
}