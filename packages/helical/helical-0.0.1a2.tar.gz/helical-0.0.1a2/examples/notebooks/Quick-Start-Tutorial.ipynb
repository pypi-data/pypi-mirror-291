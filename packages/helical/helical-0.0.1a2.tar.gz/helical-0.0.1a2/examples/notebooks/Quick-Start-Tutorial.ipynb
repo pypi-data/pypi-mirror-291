{
 "cells": [
  {
   "cell_type": "markdown",
   "id": "b84b04b5",
   "metadata": {},
   "source": [
    "# Helical Quick Start Tutorial\n",
    "\n",
    "Run this notebook on a colab notebook with a free GPU:\n",
    "\n",
    "[![Open In Colab](https://colab.research.google.com/assets/colab-badge.svg)](https://colab.research.google.com/github/helicalAI/helical/blob/main/examples/notebooks/Quick-Start-Tutorial.ipynb)\n",
    "\n",
    "This quick-start tutotial is meant to get you up and runninng quickly on Helical. If it is the first time you use helical, you can execute all cells sequentially (if you are already familiar with most concepts, you can jump to the most relevant section).\n",
    "\n",
    "Please check out our other example notebooks on our [github](https://github.com/helicalAI/helical) in the `example` folder or in our [documentation](https://helical.readthedocs.io/) to explore actual applications of bio foundation models."
   ]
  },
  {
   "cell_type": "markdown",
   "id": "6c79210c",
   "metadata": {},
   "source": [
    "## Installation/Update of the Helical package\n",
    "If you have never worked with helical, or if you want to have the latest version of Helical, be sure to run the cell below before getting started"
   ]
  },
  {
   "cell_type": "code",
   "execution_count": 1,
   "id": "d562f7eb",
   "metadata": {
    "tags": []
   },
   "outputs": [
    {
     "name": "stderr",
     "output_type": "stream",
     "text": [
      "UsageError: Cell magic `%%hide` not found.\n"
     ]
    }
   ],
   "source": [
    "%%hide output\n",
    "try:\n",
    "    import helical\n",
    "except:\n",
    "    !pip install git+https://github.com/helicalAI/helical.git |tail -n 1\n",
    "    !pip install numpy==1.23.5\n",
    "    import helical"
   ]
  },
  {
   "cell_type": "markdown",
   "id": "236ede6e",
   "metadata": {},
   "source": [
    "## Installation of the data set used in our example notebooks\n",
    "The data we will work with through out different examples is a subset of the human PBMC, comprising 54,760 training cells and 13,690 test cells, with 16,906 genes across 11 distinct cell types. We have provided an automatic download link below (it checks if the file already exsists and dowloads it if not).\n",
    "\n",
    "You can also download it form the following link manually:\n",
    "https://helicalpackage.blob.core.windows.net/helicalpackage/data/10k_pbmcs_proc.h5ad"
   ]
  },
  {
   "cell_type": "code",
   "execution_count": 2,
   "id": "c407542e",
   "metadata": {
    "tags": []
   },
   "outputs": [
    {
     "name": "stdout",
     "output_type": "stream",
     "text": [
      "Downloaded 10k_pbmcs_proc.h5ad successfully.\n"
     ]
    }
   ],
   "source": [
    "import os\n",
    "import requests\n",
    "\n",
    "url = \"https://helicalpackage.blob.core.windows.net/helicalpackage/data/10k_pbmcs_proc.h5ad\"\n",
    "\n",
    "# Extract the filename and download the file\n",
    "filename = url.split(\"/\")[-1]\n",
    "\n",
    "# Check if the file already exists in the current directory\n",
    "if os.path.exists(filename):\n",
    "    print(f\"{filename} already exist. Skipping downloads.\")\n",
    "else:\n",
    "    response = requests.get(url)\n",
    "    if response.status_code == 200:\n",
    "        with open(filename, \"wb\") as file:\n",
    "            file.write(response.content)\n",
    "        print(f\"Downloaded {filename} successfully.\")\n",
    "    else:\n",
    "        print(f\"Failed to download {filename}.\")"
   ]
  },
  {
   "cell_type": "code",
   "execution_count": 3,
   "id": "96de14bf",
   "metadata": {
    "tags": []
   },
   "outputs": [
    {
     "data": {
      "text/plain": [
       "AnnData object with n_obs × n_vars = 11990 × 12000\n",
       "    obs: 'n_counts', 'batch', 'labels', 'str_labels', 'cell_type'\n",
       "    var: 'gene_symbols', 'n_counts-0', 'n_counts-1', 'n_counts', 'highly_variable', 'highly_variable_rank', 'means', 'variances', 'variances_norm'\n",
       "    uns: 'cell_types', 'hvg'\n",
       "    obsm: 'design', 'normalized_qc', 'qc_pc', 'raw_qc'"
      ]
     },
     "execution_count": 2,
     "metadata": {},
     "output_type": "execute_result"
    }
   ],
   "source": [
    "import anndata as ad\n",
    "\n",
    "ann_data = ad.read_h5ad(\"10k_pbmcs_proc.h5ad\")\n",
    "ann_data"
   ]
  },
  {
   "cell_type": "markdown",
   "id": "bd26984f",
   "metadata": {},
   "source": [
    "Unamiliar with anndata ? anndata is a Python package for handling annotated data matrices in memory and on disk, positioned between pandas and xarray. You can find thei docuemntation [here](https://anndata.readthedocs.io/)."
   ]
  },
  {
   "cell_type": "markdown",
   "id": "7953e451",
   "metadata": {},
   "source": [
    "## Select the model you want to work with\n",
    "As of now, Helical allows you to work with the main RNA models. Over time new models trained on DNA, RNA and proteins will be added. The models are also outline in our [doc]().\n",
    "\n",
    "To query our models, you can use run the cell below:"
   ]
  },
  {
   "cell_type": "code",
   "execution_count": 4,
   "id": "b36f17be",
   "metadata": {
    "tags": []
   },
   "outputs": [
    {
     "name": "stdout",
     "output_type": "stream",
     "text": [
      "Model : geneformer\n",
      "Model : helical\n",
      "Model : scgpt\n",
      "Model : uce\n"
     ]
    }
   ],
   "source": [
    "from helical import models\n",
    "import pkgutil\n",
    "for model in pkgutil.iter_modules(models.__path__):\n",
    "    print(\"Model :\",model.name)"
   ]
  },
  {
   "cell_type": "markdown",
   "id": "0c5d2523",
   "metadata": {},
   "source": [
    "## Import and download the model of your choice\n",
    "We made it really easy for you here. The first time you want to work with a new model, by simply calling it, Helical will automatically download the model weights and all supporting files that you will require.\n",
    "\n",
    "In the example below, we want to work with Geneformer:"
   ]
  },
  {
   "cell_type": "code",
   "execution_count": 6,
   "id": "11eee63e",
   "metadata": {
    "tags": []
   },
   "outputs": [
    {
     "name": "stderr",
     "output_type": "stream",
     "text": [
      "OMP: Info #276: omp_set_nested routine deprecated, please use omp_set_max_active_levels instead.\n",
      "2024-05-06, 10:13:46.821 Downloader INFO File: '/Users/maximeallard/.cache/helical/models/geneformer/gene_median_dictionary.pkl' exists already. File is not overwritten and nothing is downloaded.\n",
      "2024-05-06, 10:13:46.821 Downloader INFO File saved to: '/Users/maximeallard/.cache/helical/models/geneformer/gene_median_dictionary.pkl'\n",
      "2024-05-06, 10:13:46.822 Downloader INFO File: '/Users/maximeallard/.cache/helical/models/geneformer/human_gene_to_ensemble_id.pkl' exists already. File is not overwritten and nothing is downloaded.\n",
      "2024-05-06, 10:13:46.822 Downloader INFO File saved to: '/Users/maximeallard/.cache/helical/models/geneformer/human_gene_to_ensemble_id.pkl'\n",
      "2024-05-06, 10:13:46.822 Downloader INFO File: '/Users/maximeallard/.cache/helical/models/geneformer/token_dictionary.pkl' exists already. File is not overwritten and nothing is downloaded.\n",
      "2024-05-06, 10:13:46.823 Downloader INFO File saved to: '/Users/maximeallard/.cache/helical/models/geneformer/token_dictionary.pkl'\n",
      "2024-05-06, 10:13:46.823 Downloader INFO File: '/Users/maximeallard/.cache/helical/models/geneformer/geneformer-12L-30M/config.json' exists already. File is not overwritten and nothing is downloaded.\n",
      "2024-05-06, 10:13:46.823 Downloader INFO File saved to: '/Users/maximeallard/.cache/helical/models/geneformer/geneformer-12L-30M/config.json'\n",
      "2024-05-06, 10:13:46.824 Downloader INFO File: '/Users/maximeallard/.cache/helical/models/geneformer/geneformer-12L-30M/pytorch_model.bin' exists already. File is not overwritten and nothing is downloaded.\n",
      "2024-05-06, 10:13:46.824 Downloader INFO File saved to: '/Users/maximeallard/.cache/helical/models/geneformer/geneformer-12L-30M/pytorch_model.bin'\n",
      "2024-05-06, 10:13:46.825 Downloader INFO File: '/Users/maximeallard/.cache/helical/models/geneformer/geneformer-12L-30M/training_args.bin' exists already. File is not overwritten and nothing is downloaded.\n",
      "2024-05-06, 10:13:46.825 Downloader INFO File saved to: '/Users/maximeallard/.cache/helical/models/geneformer/geneformer-12L-30M/training_args.bin'\n"
     ]
    }
   ],
   "source": [
    "from helical.models.geneformer.model import Geneformer, GeneformerConfig\n",
    "import torch\n",
    "\n",
    "device = \"cuda\" if torch.cuda.is_available() else \"cpu\"\n",
    "model_config = GeneformerConfig(batch_size=10,device=device)\n",
    "geneformer = Geneformer(configurer=model_config)"
   ]
  },
  {
   "cell_type": "code",
   "execution_count": null,
   "id": "9524d133",
   "metadata": {
    "tags": []
   },
   "outputs": [],
   "source": [
    "#from helical.models.uce.model import UCE,UCEConfig\n",
    "\n",
    "#model_config=UCEConfig(batch_size=10)\n",
    "#uce = UCE(configurer=model_config)"
   ]
  },
  {
   "cell_type": "markdown",
   "id": "6b5c366e",
   "metadata": {},
   "source": [
    "## Process the data\n",
    "Preprocessing your data can be complicated, especially when working with different models and benchmarking them. Our `process_data` function takes care of this for each model automatically."
   ]
  },
  {
   "cell_type": "code",
   "execution_count": 7,
   "id": "ec62e08d",
   "metadata": {
    "tags": []
   },
   "outputs": [
    {
     "name": "stdout",
     "output_type": "stream",
     "text": [
      "Creating dataset.\n"
     ]
    },
    {
     "name": "stderr",
     "output_type": "stream",
     "text": [
      "/Users/maximeallard/helical/git/helical/helical/models/geneformer/model.py:92: ImplicitModificationWarning: Trying to modify attribute `.var` of view, initializing view as actual.\n",
      "  data.var['ensembl_id'] = data.var['gene_symbols'].apply(lambda x: mappings.get(x,{\"id\":None})['id'])\n"
     ]
    },
    {
     "data": {
      "application/vnd.jupyter.widget-view+json": {
       "model_id": "7b944d4a7d7743c48052cc071cd3203f",
       "version_major": 2,
       "version_minor": 0
      },
      "text/plain": [
       "Map (num_proc=4):   0%|          | 0/100 [00:00<?, ? examples/s]"
      ]
     },
     "metadata": {},
     "output_type": "display_data"
    }
   ],
   "source": [
    "dataset = geneformer.process_data(ann_data[:100], nproc=1, gene_names=\"gene_symbols\", custom_attr_name_dict={\"cell_type\": \"cell_type\"})"
   ]
  },
  {
   "cell_type": "markdown",
   "id": "c8e82da5",
   "metadata": {},
   "source": [
    "## Generate Embeddings\n",
    "Let the magic happen!\n",
    "Use the `get_embeddings()` function of each model to use to infere the embedding of each data point. These embeddings contain all the information encoded by the foundation model and can later be used in diverse use cases suach as cell type annotations."
   ]
  },
  {
   "cell_type": "code",
   "execution_count": 8,
   "id": "151892b4",
   "metadata": {
    "tags": []
   },
   "outputs": [
    {
     "name": "stderr",
     "output_type": "stream",
     "text": [
      "2024-05-06, 09:59:09.264 Geneformer-Model INFO Inference started\n"
     ]
    },
    {
     "data": {
      "application/vnd.jupyter.widget-view+json": {
       "model_id": "f50d03b42b0e45e5b8012d1e3f9c096a",
       "version_major": 2,
       "version_minor": 0
      },
      "text/plain": [
       "  0%|          | 0/10 [00:00<?, ?it/s]"
      ]
     },
     "metadata": {},
     "output_type": "display_data"
    },
    {
     "name": "stdout",
     "output_type": "stream",
     "text": [
      "(100, 512)\n"
     ]
    }
   ],
   "source": [
    "embeddings = geneformer.get_embeddings(dataset)\n",
    "\n",
    "print(embeddings.shape)"
   ]
  },
  {
   "cell_type": "markdown",
   "id": "e71812d8",
   "metadata": {},
   "source": [
    "## Plot/visualize the embeddings\n",
    "Finally, you can visualize these embeddings by using dimensionality reduction techniques such as UMAP."
   ]
  },
  {
   "cell_type": "code",
   "execution_count": null,
   "id": "40d8d9af",
   "metadata": {
    "tags": []
   },
   "outputs": [
    {
     "data": {
      "image/png": "[encoded data removed]",
      "text/plain": [
       "<Figure size 1000x1000 with 1 Axes>"
      ]
     },
     "metadata": {},
     "output_type": "display_data"
    }
   ],
   "source": [
    "import umap\n",
    "import seaborn as sns\n",
    "import pandas as pd\n",
    "import matplotlib.pyplot as plt\n",
    "\n",
    "\n",
    "\n",
    "reducer = umap.UMAP(min_dist=0.1, n_components=2, n_epochs=None,n_neighbors=4)\n",
    "mapper = reducer.fit(embeddings)\n",
    "\n",
    "labels = dataset['cell_type']\n",
    "\n",
    "plot_df = pd.DataFrame(mapper.embedding_,columns=['px','py'])\n",
    "plot_df['Cell Type'] = labels\n",
    "\n",
    "plt.figure(figsize=(10,10))\n",
    "ax = plt.axes()\n",
    "sns.set_style('dark')\n",
    "plt.style.use(\"dark_background\")\n",
    "\n",
    "sns.scatterplot(data = plot_df,x='px',y='py',hue='Cell Type',sizes=(50,200),ax=ax,palette=\"pastel\")\n",
    "plt.title('UMAP of Reference Data')\n",
    "plt.show()"
   ]
  }
 ],
 "metadata": {
  "kernelspec": {
   "display_name": "Python 3 (ipykernel)",
   "language": "python",
   "name": "python3"
  },
  "language_info": {
   "codemirror_mode": {
    "name": "ipython",
    "version": 3
   },
   "file_extension": ".py",
   "mimetype": "text/x-python",
   "name": "python",
   "nbconvert_exporter": "python",
   "pygments_lexer": "ipython3",
   "version": "3.11.8"
  }
 },
 "nbformat": 4,
 "nbformat_minor": 5
}
