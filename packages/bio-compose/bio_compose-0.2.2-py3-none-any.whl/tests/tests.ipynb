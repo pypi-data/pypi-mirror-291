{
 "cells": [
  {
   "cell_type": "code",
   "execution_count": 1,
   "metadata": {},
   "outputs": [],
   "source": [
    "from bio_compose.runner import SimulationRunner"
   ]
  },
  {
   "cell_type": "code",
   "execution_count": 2,
   "metadata": {},
   "outputs": [
    {
     "name": "stdout",
     "output_type": "stream",
     "text": [
      "{'bio-composer-message': 'Hello from the BioComposer!'}\n"
     ]
    }
   ],
   "source": [
    "runner = SimulationRunner()"
   ]
  },
  {
   "cell_type": "code",
   "execution_count": 3,
   "metadata": {},
   "outputs": [],
   "source": [
    "fp = './fixtures/smoldyn/MinE.txt'\n",
    "result = runner.run_smoldyn_simulation(fp)"
   ]
  },
  {
   "cell_type": "code",
   "execution_count": 4,
   "metadata": {},
   "outputs": [
    {
     "data": {
      "text/plain": [
       "{'job_id': 'simulation-execution-smoldynb2c9e5c4-6bf5-4bfb-a9fd-7edb8bf1d194',\n",
       " 'timestamp': '2024-08-17 00:03:42.908390',\n",
       " 'status': 'PENDING',\n",
       " 'path': 'file_uploads/simulation-execution-smoldynb2c9e5c4-6bf5-4bfb-a9fd-7edb8bf1d194/MinE.txt',\n",
       " 'duration': None,\n",
       " 'dt': None}"
      ]
     },
     "execution_count": 4,
     "metadata": {},
     "output_type": "execute_result"
    }
   ],
   "source": [
    "result"
   ]
  },
  {
   "cell_type": "code",
   "execution_count": null,
   "metadata": {},
   "outputs": [],
   "source": []
  }
 ],
 "metadata": {
  "kernelspec": {
   "display_name": "bio-compose-DFUqqbT8-py3.10",
   "language": "python",
   "name": "python3"
  },
  "language_info": {
   "codemirror_mode": {
    "name": "ipython",
    "version": 3
   },
   "file_extension": ".py",
   "mimetype": "text/x-python",
   "name": "python",
   "nbconvert_exporter": "python",
   "pygments_lexer": "ipython3",
   "version": "3.10.14"
  }
 },
 "nbformat": 4,
 "nbformat_minor": 2
}
