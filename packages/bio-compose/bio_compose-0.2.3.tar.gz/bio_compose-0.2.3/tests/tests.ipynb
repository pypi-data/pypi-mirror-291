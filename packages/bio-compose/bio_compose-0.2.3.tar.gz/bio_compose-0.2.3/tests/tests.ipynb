{
 "cells": [
  {
   "cell_type": "code",
   "execution_count": 3,
   "metadata": {},
   "outputs": [],
   "source": [
    "from bio_compose.runner import SimulationRunner"
   ]
  },
  {
   "cell_type": "code",
   "execution_count": 4,
   "metadata": {},
   "outputs": [
    {
     "name": "stdout",
     "output_type": "stream",
     "text": [
      "{'bio-composer-message': 'Hello from the BioComposer!'}\n"
     ]
    }
   ],
   "source": [
    "runner = SimulationRunner()"
   ]
  },
  {
   "cell_type": "code",
   "execution_count": 9,
   "metadata": {},
   "outputs": [],
   "source": [
    "smoldyn_job_id = 'simulation-execution-smoldyn5624b470-ce90-4144-849c-8da896ab1147'\n",
    "\n",
    "output = runner.get_output(job_id=smoldyn_job_id, download_dest='./fixtures/smoldyn')"
   ]
  },
  {
   "cell_type": "code",
   "execution_count": 12,
   "metadata": {},
   "outputs": [
    {
     "data": {
      "text/plain": [
       "True"
      ]
     },
     "execution_count": 12,
     "metadata": {},
     "output_type": "execute_result"
    }
   ],
   "source": [
    "import os\n",
    "\n",
    "\n",
    "simularium_job_id = 'files-generate-simularium-filee58f06f8-98f3-403e-afc2-e34cb86f4151'\n",
    "simularium_output = runner.get_output(job_id=simularium_job_id, download_dest='./fixtures/smoldyn')\n",
    "\n",
    "os.path.exists(simularium_output['results_file'])"
   ]
  },
  {
   "cell_type": "code",
   "execution_count": null,
   "metadata": {},
   "outputs": [],
   "source": []
  }
 ],
 "metadata": {
  "kernelspec": {
   "display_name": "bio-compose-DFUqqbT8-py3.10",
   "language": "python",
   "name": "python3"
  },
  "language_info": {
   "codemirror_mode": {
    "name": "ipython",
    "version": 3
   },
   "file_extension": ".py",
   "mimetype": "text/x-python",
   "name": "python",
   "nbconvert_exporter": "python",
   "pygments_lexer": "ipython3",
   "version": "3.10.14"
  }
 },
 "nbformat": 4,
 "nbformat_minor": 2
}
