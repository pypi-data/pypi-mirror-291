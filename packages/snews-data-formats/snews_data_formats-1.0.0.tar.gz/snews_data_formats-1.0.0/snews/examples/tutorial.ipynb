{
 "cells": [
  {
   "cell_type": "markdown",
   "metadata": {},
   "source": [
    "# SNEWS Data Formats Tutorial"
   ]
  },
  {
   "cell_type": "code",
   "execution_count": 5,
   "metadata": {},
   "outputs": [],
   "source": [
    "import pprint"
   ]
  },
  {
   "cell_type": "markdown",
   "metadata": {},
   "source": [
    "## Data"
   ]
  },
  {
   "cell_type": "code",
   "execution_count": 2,
   "metadata": {},
   "outputs": [],
   "source": [
    "from snews import data"
   ]
  },
  {
   "cell_type": "markdown",
   "metadata": {},
   "source": [
    "### Detector data"
   ]
  },
  {
   "cell_type": "code",
   "execution_count": 6,
   "metadata": {},
   "outputs": [
    {
     "name": "stdout",
     "output_type": "stream",
     "text": [
      "['all', 'names']\n",
      "\n",
      "[Detector(id=1, name='Super-K', name_full='Super-Kamiokande', type=<DetectorType.WATER_CERENKOV: 'Water Cerenkov'>, experiment='Super-Kamiokande', mass_kt=30.0, depth_meters=1000.0, depth_mwe=0.0, facility='Kamioka Observatory', latitude=36.4256, longitude=-137.3103, city='Hida', region='Gifu', country='JP', website=Url('http://www-sk.icrr.u-tokyo.ac.jp/sk/index-e.html'), logo=Url('http://www-sk.icrr.u-tokyo.ac.jp/sk/images/sk_logo.gif'), snews_member_status=True, snews_member_since=datetime.date(2014, 1, 1))]\n",
      "\n",
      "['Super-K']\n",
      "\n",
      "Detector(id=1, name='Super-K', name_full='Super-Kamiokande', type=<DetectorType.WATER_CERENKOV: 'Water Cerenkov'>, experiment='Super-Kamiokande', mass_kt=30.0, depth_meters=1000.0, depth_mwe=0.0, facility='Kamioka Observatory', latitude=36.4256, longitude=-137.3103, city='Hida', region='Gifu', country='JP', website=Url('http://www-sk.icrr.u-tokyo.ac.jp/sk/index-e.html'), logo=Url('http://www-sk.icrr.u-tokyo.ac.jp/sk/images/sk_logo.gif'), snews_member_status=True, snews_member_since=datetime.date(2014, 1, 1))\n",
      "\n",
      "{'id': 1,\n",
      " 'name': 'Super-K',\n",
      " 'name_full': 'Super-Kamiokande',\n",
      " 'type': <DetectorType.WATER_CERENKOV: 'Water Cerenkov'>,\n",
      " 'experiment': 'Super-Kamiokande',\n",
      " 'mass_kt': 30.0,\n",
      " 'depth_meters': 1000.0,\n",
      " 'depth_mwe': 0.0,\n",
      " 'facility': 'Kamioka Observatory',\n",
      " 'latitude': 36.4256,\n",
      " 'longitude': -137.3103,\n",
      " 'city': 'Hida',\n",
      " 'region': 'Gifu',\n",
      " 'country': 'JP',\n",
      " 'website': Url('http://www-sk.icrr.u-tokyo.ac.jp/sk/index-e.html'),\n",
      " 'logo': Url('http://www-sk.icrr.u-tokyo.ac.jp/sk/images/sk_logo.gif'),\n",
      " 'snews_member_status': True,\n",
      " 'snews_member_since': datetime.date(2014, 1, 1)}\n",
      "\n"
     ]
    }
   ],
   "source": [
    "# Available attributes\n",
    "pprint.pp(data.detectors.__all__)\n",
    "print()\n",
    "\n",
    "# All known detectors\n",
    "all_detectors = data.detectors.all\n",
    "pprint.pp(all_detectors)\n",
    "print()\n",
    "\n",
    "# List all known detector names\n",
    "names = data.detectors.names\n",
    "pprint.pp(names)\n",
    "print()\n",
    "\n",
    "# A specific detector model\n",
    "detector_model = data.query(data.detectors.all, {\"name\": \"Super-K\"})[0]\n",
    "pprint.pp(detector_model)\n",
    "print()\n",
    "\n",
    "# A specific detector in JSON\n",
    "detector_json = detector_model.model_dump()\n",
    "pprint.pp(detector_json)\n",
    "print()"
   ]
  },
  {
   "cell_type": "markdown",
   "metadata": {},
   "source": [
    "### Mock data for testing"
   ]
  },
  {
   "cell_type": "code",
   "execution_count": 7,
   "metadata": {},
   "outputs": [
    {
     "name": "stdout",
     "output_type": "stream",
     "text": [
      "['coincidence_scenarios', 'time_formats']\n",
      "\n",
      "['2023-06-12 18:30',\n",
      " '2023-06-12 18:30:10',\n",
      " '2023-06-12 18:30:10.123',\n",
      " '2023-06-12 18:30:10.123456',\n",
      " '2023-06-12 18:30:10.123456789',\n",
      " '2023-06-12T18:30:10',\n",
      " '2023-06-12T18:30:10.123',\n",
      " '2023-06-12T18:30:10.123456',\n",
      " '2023-06-12T18:30:10.123456789']\n",
      "\n",
      "{'id': 'simple-coincidence',\n",
      " 'label': 'Simple Coincidence',\n",
      " 'events': [{'detector_name': 'XENONnT',\n",
      "             'neutrino_time': '2030-01-01T12:34:45.678999',\n",
      "             'p_val': 0.98,\n",
      "             'is_test': True},\n",
      "            {'detector_name': 'DS-20K',\n",
      "             'neutrino_time': '2030-01-01T12:34:47.678999',\n",
      "             'p_val': 0.98,\n",
      "             'is_test': True}]}\n",
      "\n"
     ]
    }
   ],
   "source": [
    "# See available mock data\n",
    "pprint.pp(data.mock.__all__)\n",
    "print()\n",
    "\n",
    "# Mock time formats\n",
    "time_format_mock_data = data.mock.time_formats\n",
    "pprint.pp(time_format_mock_data)\n",
    "print()\n",
    "\n",
    "# Mock coincidence scenarios\n",
    "coin_scenarios_mock_data = data.mock.coincidence_scenarios\n",
    "pprint.pp(coin_scenarios_mock_data[0])\n",
    "print()"
   ]
  },
  {
   "cell_type": "markdown",
   "metadata": {},
   "source": [
    "### Time data (leap seconds)"
   ]
  },
  {
   "cell_type": "code",
   "execution_count": 8,
   "metadata": {},
   "outputs": [
    {
     "name": "stdout",
     "output_type": "stream",
     "text": [
      "['leap_seconds']\n",
      "\n",
      "[numpy.datetime64('1972-06-30T23:59:59'),\n",
      " numpy.datetime64('1972-12-31T23:59:59'),\n",
      " numpy.datetime64('1973-12-31T23:59:59'),\n",
      " numpy.datetime64('1974-12-31T23:59:59'),\n",
      " numpy.datetime64('1975-12-31T23:59:59'),\n",
      " numpy.datetime64('1976-12-31T23:59:59'),\n",
      " numpy.datetime64('1977-12-31T23:59:59'),\n",
      " numpy.datetime64('1978-12-31T23:59:59'),\n",
      " numpy.datetime64('1979-12-31T23:59:59'),\n",
      " numpy.datetime64('1981-06-30T23:59:59'),\n",
      " numpy.datetime64('1982-06-30T23:59:59'),\n",
      " numpy.datetime64('1983-06-30T23:59:59'),\n",
      " numpy.datetime64('1985-06-30T23:59:59'),\n",
      " numpy.datetime64('1987-12-31T23:59:59'),\n",
      " numpy.datetime64('1989-12-31T23:59:59'),\n",
      " numpy.datetime64('1990-12-31T23:59:59'),\n",
      " numpy.datetime64('1992-06-30T23:59:59'),\n",
      " numpy.datetime64('1993-06-30T23:59:59'),\n",
      " numpy.datetime64('1994-06-30T23:59:59'),\n",
      " numpy.datetime64('1995-12-31T23:59:59'),\n",
      " numpy.datetime64('1997-06-30T23:59:59'),\n",
      " numpy.datetime64('1998-12-31T23:59:59'),\n",
      " numpy.datetime64('2005-12-31T23:59:59'),\n",
      " numpy.datetime64('2008-12-31T23:59:59'),\n",
      " numpy.datetime64('2012-06-30T23:59:59'),\n",
      " numpy.datetime64('2015-06-30T23:59:59'),\n",
      " numpy.datetime64('2016-12-31T23:59:59')]\n",
      "\n"
     ]
    }
   ],
   "source": [
    "# See available timing data\n",
    "pprint.pp(data.timing.__all__)\n",
    "print()\n",
    "\n",
    "# Leap second data\n",
    "leap_seconds = data.timing.leap_seconds\n",
    "pprint.pp(leap_seconds)\n",
    "print()\n"
   ]
  },
  {
   "cell_type": "markdown",
   "metadata": {},
   "source": [
    "---"
   ]
  },
  {
   "cell_type": "markdown",
   "metadata": {},
   "source": [
    "## Data Models"
   ]
  },
  {
   "cell_type": "markdown",
   "metadata": {},
   "source": [
    "### Timing Models"
   ]
  },
  {
   "cell_type": "code",
   "execution_count": 9,
   "metadata": {},
   "outputs": [
    {
     "name": "stdout",
     "output_type": "stream",
     "text": [
      "A timestamp with up to nanosecond precision\n",
      "\n",
      "    This class is a wrapper around the `numpy.datetime64` class. It provides a convenient way to\n",
      "    convert between different timestamp formats and to perform arithmetic operations on timestamps\n",
      "    with different precisions, while accounting for leap seconds.\n",
      "\n",
      "    Args:\n",
      "        timestamp (optional): Timestamp input. Defaults to current UTC time.\n",
      "            Supported datatypes: `numpy.datetime64`, `datetime`, `str`.\n",
      "        precision (optional): Precision on the number of seconds. Defaults to \"ns\".\n",
      "            Supported values: \"s\", \"ms\", \"us\", \"ns\".\n",
      "    \n"
     ]
    }
   ],
   "source": [
    "from snews.models.timing import PrecisionTimestamp\n",
    "print(PrecisionTimestamp.__doc__)"
   ]
  },
  {
   "cell_type": "code",
   "execution_count": 10,
   "metadata": {},
   "outputs": [
    {
     "data": {
      "text/plain": [
       "'2024-01-01T12:34:56.000000000Z'"
      ]
     },
     "execution_count": 10,
     "metadata": {},
     "output_type": "execute_result"
    }
   ],
   "source": [
    "pt = PrecisionTimestamp(timestamp=\"2024-01-01T12:34:56\")\n",
    "str(pt)"
   ]
  },
  {
   "cell_type": "markdown",
   "metadata": {},
   "source": [
    "### Message Models"
   ]
  },
  {
   "cell_type": "code",
   "execution_count": 12,
   "metadata": {},
   "outputs": [
    {
     "name": "stdout",
     "output_type": "stream",
     "text": [
      "Model categories: ['detectors', 'messages']\n",
      "Detector models: ['Detector', 'DetectorType']\n",
      "Message models: ['HeartbeatMessage', 'RetractionMessage', 'CoincidenceTierMessage', 'SignificanceTierMessage', 'TimingTierMessage']\n"
     ]
    }
   ],
   "source": [
    "from snews import models\n",
    "print(\"Model categories:\", models.__all__)\n",
    "\n",
    "# Detector Models\n",
    "print(\"Detector models:\", models.detectors.__all__)\n",
    "\n",
    "# Message Models\n",
    "import inspect\n",
    "print(\"Message models:\", [m for m in models.messages.__all__ if inspect.isclass(getattr(models.messages, m))])"
   ]
  },
  {
   "cell_type": "markdown",
   "metadata": {},
   "source": [
    "#### Heartbeat Messages"
   ]
  },
  {
   "cell_type": "code",
   "execution_count": 14,
   "metadata": {},
   "outputs": [
    {
     "name": "stdout",
     "output_type": "stream",
     "text": [
      "VALID MESSAGE INITIALIZATION:\n",
      "{'id': 'Super-K_Heartbeat_None',\n",
      " 'uuid': 'c1134bd9-d4f7-43b8-a590-4d04d661423c',\n",
      " 'tier': <Tier.HEART_BEAT: 'Heartbeat'>,\n",
      " 'sent_time_utc': None,\n",
      " 'machine_time_utc': None,\n",
      " 'is_pre_sn': False,\n",
      " 'is_test': False,\n",
      " 'is_firedrill': False,\n",
      " 'meta': None,\n",
      " 'schema_version': '0.1',\n",
      " 'detector_name': 'Super-K',\n",
      " 'detector_status': 'OFF'}\n"
     ]
    }
   ],
   "source": [
    "# Required fields = [detector_status, detector_name]\n",
    "msg = models.messages.HeartbeatMessage(detector_status=\"OFF\", detector_name=\"Super-K\")\n",
    "\n",
    "print(\"VALID MESSAGE INITIALIZATION:\")\n",
    "pprint.pp(msg.model_dump())"
   ]
  },
  {
   "cell_type": "code",
   "execution_count": 15,
   "metadata": {},
   "outputs": [
    {
     "name": "stdout",
     "output_type": "stream",
     "text": [
      "\n",
      "INVALID MESSAGE INITIALIZATION: detector_status\n"
     ]
    },
    {
     "ename": "ValidationError",
     "evalue": "1 validation error for HeartbeatMessage\ndetector_status\n  Value error, Detector status must be either ON or OFF [type=value_error, input_value='No', input_type=str]\n    For further information visit https://errors.pydantic.dev/2.5/v/value_error",
     "output_type": "error",
     "traceback": [
      "\u001b[0;31m---------------------------------------------------------------------------\u001b[0m",
      "\u001b[0;31mValidationError\u001b[0m                           Traceback (most recent call last)",
      "Cell \u001b[0;32mIn[15], line 2\u001b[0m\n\u001b[1;32m      1\u001b[0m \u001b[38;5;28mprint\u001b[39m(\u001b[38;5;124m\"\u001b[39m\u001b[38;5;130;01m\\n\u001b[39;00m\u001b[38;5;124mINVALID MESSAGE INITIALIZATION: detector_status\u001b[39m\u001b[38;5;124m\"\u001b[39m)\n\u001b[0;32m----> 2\u001b[0m msg \u001b[38;5;241m=\u001b[39m \u001b[43mmodels\u001b[49m\u001b[38;5;241;43m.\u001b[39;49m\u001b[43mmessages\u001b[49m\u001b[38;5;241;43m.\u001b[39;49m\u001b[43mHeartbeatMessage\u001b[49m\u001b[43m(\u001b[49m\u001b[43mdetector_status\u001b[49m\u001b[38;5;241;43m=\u001b[39;49m\u001b[38;5;124;43m\"\u001b[39;49m\u001b[38;5;124;43mNo\u001b[39;49m\u001b[38;5;124;43m\"\u001b[39;49m\u001b[43m,\u001b[49m\u001b[43m \u001b[49m\u001b[43mdetector_name\u001b[49m\u001b[38;5;241;43m=\u001b[39;49m\u001b[38;5;124;43m\"\u001b[39;49m\u001b[38;5;124;43mSuper-K\u001b[39;49m\u001b[38;5;124;43m\"\u001b[39;49m\u001b[43m)\u001b[49m\n",
      "File \u001b[0;32m~/Library/Caches/pypoetry/virtualenvs/snews-data-services-hhK1y8sx-py3.11/lib/python3.11/site-packages/pydantic/main.py:164\u001b[0m, in \u001b[0;36mBaseModel.__init__\u001b[0;34m(__pydantic_self__, **data)\u001b[0m\n\u001b[1;32m    162\u001b[0m \u001b[38;5;66;03m# `__tracebackhide__` tells pytest and some other tools to omit this function from tracebacks\u001b[39;00m\n\u001b[1;32m    163\u001b[0m __tracebackhide__ \u001b[38;5;241m=\u001b[39m \u001b[38;5;28;01mTrue\u001b[39;00m\n\u001b[0;32m--> 164\u001b[0m \u001b[43m__pydantic_self__\u001b[49m\u001b[38;5;241;43m.\u001b[39;49m\u001b[43m__pydantic_validator__\u001b[49m\u001b[38;5;241;43m.\u001b[39;49m\u001b[43mvalidate_python\u001b[49m\u001b[43m(\u001b[49m\u001b[43mdata\u001b[49m\u001b[43m,\u001b[49m\u001b[43m \u001b[49m\u001b[43mself_instance\u001b[49m\u001b[38;5;241;43m=\u001b[39;49m\u001b[43m__pydantic_self__\u001b[49m\u001b[43m)\u001b[49m\n",
      "\u001b[0;31mValidationError\u001b[0m: 1 validation error for HeartbeatMessage\ndetector_status\n  Value error, Detector status must be either ON or OFF [type=value_error, input_value='No', input_type=str]\n    For further information visit https://errors.pydantic.dev/2.5/v/value_error"
     ]
    }
   ],
   "source": [
    "print(\"\\nINVALID MESSAGE INITIALIZATION: detector_status\")\n",
    "msg = models.messages.HeartbeatMessage(detector_status=\"No\", detector_name=\"Super-K\")"
   ]
  },
  {
   "cell_type": "code",
   "execution_count": 17,
   "metadata": {},
   "outputs": [
    {
     "name": "stdout",
     "output_type": "stream",
     "text": [
      "\n",
      "INVALID MESSAGE INITIALIZATION: detector_name\n"
     ]
    },
    {
     "ename": "ValidationError",
     "evalue": "1 validation error for HeartbeatMessage\n  Value error, Invalid detector name. Options are: ['Super-K'] [type=value_error, input_value=HeartbeatMessage(id='Supe...', detector_status='ON'), input_type=HeartbeatMessage]\n    For further information visit https://errors.pydantic.dev/2.5/v/value_error",
     "output_type": "error",
     "traceback": [
      "\u001b[0;31m---------------------------------------------------------------------------\u001b[0m",
      "\u001b[0;31mValidationError\u001b[0m                           Traceback (most recent call last)",
      "Cell \u001b[0;32mIn[17], line 2\u001b[0m\n\u001b[1;32m      1\u001b[0m \u001b[38;5;28mprint\u001b[39m(\u001b[38;5;124m\"\u001b[39m\u001b[38;5;130;01m\\n\u001b[39;00m\u001b[38;5;124mINVALID MESSAGE INITIALIZATION: detector_name\u001b[39m\u001b[38;5;124m\"\u001b[39m)\n\u001b[0;32m----> 2\u001b[0m msg \u001b[38;5;241m=\u001b[39m \u001b[43mmodels\u001b[49m\u001b[38;5;241;43m.\u001b[39;49m\u001b[43mmessages\u001b[49m\u001b[38;5;241;43m.\u001b[39;49m\u001b[43mHeartbeatMessage\u001b[49m\u001b[43m(\u001b[49m\u001b[43mdetector_status\u001b[49m\u001b[38;5;241;43m=\u001b[39;49m\u001b[38;5;124;43m\"\u001b[39;49m\u001b[38;5;124;43mON\u001b[39;49m\u001b[38;5;124;43m\"\u001b[39;49m\u001b[43m,\u001b[49m\u001b[43m \u001b[49m\u001b[43mdetector_name\u001b[49m\u001b[38;5;241;43m=\u001b[39;49m\u001b[38;5;124;43m\"\u001b[39;49m\u001b[38;5;124;43mSuper-J\u001b[39;49m\u001b[38;5;124;43m\"\u001b[39;49m\u001b[43m)\u001b[49m\n",
      "File \u001b[0;32m~/Library/Caches/pypoetry/virtualenvs/snews-data-services-hhK1y8sx-py3.11/lib/python3.11/site-packages/pydantic/main.py:164\u001b[0m, in \u001b[0;36mBaseModel.__init__\u001b[0;34m(__pydantic_self__, **data)\u001b[0m\n\u001b[1;32m    162\u001b[0m \u001b[38;5;66;03m# `__tracebackhide__` tells pytest and some other tools to omit this function from tracebacks\u001b[39;00m\n\u001b[1;32m    163\u001b[0m __tracebackhide__ \u001b[38;5;241m=\u001b[39m \u001b[38;5;28;01mTrue\u001b[39;00m\n\u001b[0;32m--> 164\u001b[0m \u001b[43m__pydantic_self__\u001b[49m\u001b[38;5;241;43m.\u001b[39;49m\u001b[43m__pydantic_validator__\u001b[49m\u001b[38;5;241;43m.\u001b[39;49m\u001b[43mvalidate_python\u001b[49m\u001b[43m(\u001b[49m\u001b[43mdata\u001b[49m\u001b[43m,\u001b[49m\u001b[43m \u001b[49m\u001b[43mself_instance\u001b[49m\u001b[38;5;241;43m=\u001b[39;49m\u001b[43m__pydantic_self__\u001b[49m\u001b[43m)\u001b[49m\n",
      "\u001b[0;31mValidationError\u001b[0m: 1 validation error for HeartbeatMessage\n  Value error, Invalid detector name. Options are: ['Super-K'] [type=value_error, input_value=HeartbeatMessage(id='Supe...', detector_status='ON'), input_type=HeartbeatMessage]\n    For further information visit https://errors.pydantic.dev/2.5/v/value_error"
     ]
    }
   ],
   "source": [
    "print(\"\\nINVALID MESSAGE INITIALIZATION: detector_name\")\n",
    "msg = models.messages.HeartbeatMessage(detector_status=\"ON\", detector_name=\"Super-J\")"
   ]
  },
  {
   "cell_type": "code",
   "execution_count": 18,
   "metadata": {},
   "outputs": [
    {
     "name": "stdout",
     "output_type": "stream",
     "text": [
      "\n",
      "INVALID MESSAGE INITIALIZATION: Missing values\n"
     ]
    },
    {
     "ename": "ValidationError",
     "evalue": "2 validation errors for HeartbeatMessage\ndetector_name\n  Field required [type=missing, input_value={'tier': <Tier.HEART_BEAT: 'Heartbeat'>}, input_type=dict]\n    For further information visit https://errors.pydantic.dev/2.5/v/missing\ndetector_status\n  Field required [type=missing, input_value={'tier': <Tier.HEART_BEAT: 'Heartbeat'>}, input_type=dict]\n    For further information visit https://errors.pydantic.dev/2.5/v/missing",
     "output_type": "error",
     "traceback": [
      "\u001b[0;31m---------------------------------------------------------------------------\u001b[0m",
      "\u001b[0;31mValidationError\u001b[0m                           Traceback (most recent call last)",
      "Cell \u001b[0;32mIn[18], line 2\u001b[0m\n\u001b[1;32m      1\u001b[0m \u001b[38;5;28mprint\u001b[39m(\u001b[38;5;124m\"\u001b[39m\u001b[38;5;130;01m\\n\u001b[39;00m\u001b[38;5;124mINVALID MESSAGE INITIALIZATION: Missing values\u001b[39m\u001b[38;5;124m\"\u001b[39m)\n\u001b[0;32m----> 2\u001b[0m msg \u001b[38;5;241m=\u001b[39m \u001b[43mmodels\u001b[49m\u001b[38;5;241;43m.\u001b[39;49m\u001b[43mmessages\u001b[49m\u001b[38;5;241;43m.\u001b[39;49m\u001b[43mHeartbeatMessage\u001b[49m\u001b[43m(\u001b[49m\u001b[43m)\u001b[49m\n",
      "File \u001b[0;32m~/Library/Caches/pypoetry/virtualenvs/snews-data-services-hhK1y8sx-py3.11/lib/python3.11/site-packages/pydantic/main.py:164\u001b[0m, in \u001b[0;36mBaseModel.__init__\u001b[0;34m(__pydantic_self__, **data)\u001b[0m\n\u001b[1;32m    162\u001b[0m \u001b[38;5;66;03m# `__tracebackhide__` tells pytest and some other tools to omit this function from tracebacks\u001b[39;00m\n\u001b[1;32m    163\u001b[0m __tracebackhide__ \u001b[38;5;241m=\u001b[39m \u001b[38;5;28;01mTrue\u001b[39;00m\n\u001b[0;32m--> 164\u001b[0m \u001b[43m__pydantic_self__\u001b[49m\u001b[38;5;241;43m.\u001b[39;49m\u001b[43m__pydantic_validator__\u001b[49m\u001b[38;5;241;43m.\u001b[39;49m\u001b[43mvalidate_python\u001b[49m\u001b[43m(\u001b[49m\u001b[43mdata\u001b[49m\u001b[43m,\u001b[49m\u001b[43m \u001b[49m\u001b[43mself_instance\u001b[49m\u001b[38;5;241;43m=\u001b[39;49m\u001b[43m__pydantic_self__\u001b[49m\u001b[43m)\u001b[49m\n",
      "\u001b[0;31mValidationError\u001b[0m: 2 validation errors for HeartbeatMessage\ndetector_name\n  Field required [type=missing, input_value={'tier': <Tier.HEART_BEAT: 'Heartbeat'>}, input_type=dict]\n    For further information visit https://errors.pydantic.dev/2.5/v/missing\ndetector_status\n  Field required [type=missing, input_value={'tier': <Tier.HEART_BEAT: 'Heartbeat'>}, input_type=dict]\n    For further information visit https://errors.pydantic.dev/2.5/v/missing"
     ]
    }
   ],
   "source": [
    "print(\"\\nINVALID MESSAGE INITIALIZATION: Missing values\")\n",
    "msg = models.messages.HeartbeatMessage()"
   ]
  },
  {
   "cell_type": "code",
   "execution_count": 20,
   "metadata": {},
   "outputs": [
    {
     "name": "stdout",
     "output_type": "stream",
     "text": [
      "\n",
      "VALID MESSAGE CREATION\n",
      "{'id': 'Super-K_Heartbeat_None',\n",
      " 'uuid': '3438376d-1d6e-4221-8611-d42d76b8465d',\n",
      " 'tier': <Tier.HEART_BEAT: 'Heartbeat'>,\n",
      " 'sent_time_utc': None,\n",
      " 'machine_time_utc': None,\n",
      " 'is_pre_sn': False,\n",
      " 'is_test': False,\n",
      " 'is_firedrill': False,\n",
      " 'meta': None,\n",
      " 'schema_version': '0.1',\n",
      " 'detector_name': 'Super-K',\n",
      " 'detector_status': 'ON'}\n",
      "\n",
      "INVALID MESSAGE UPDATE: detector_status\n"
     ]
    },
    {
     "ename": "ValidationError",
     "evalue": "1 validation error for HeartbeatMessage\ndetector_status\n  Value error, Detector status must be either ON or OFF [type=value_error, input_value='No', input_type=str]\n    For further information visit https://errors.pydantic.dev/2.5/v/value_error",
     "output_type": "error",
     "traceback": [
      "\u001b[0;31m---------------------------------------------------------------------------\u001b[0m",
      "\u001b[0;31mValidationError\u001b[0m                           Traceback (most recent call last)",
      "Cell \u001b[0;32mIn[20], line 6\u001b[0m\n\u001b[1;32m      3\u001b[0m pprint\u001b[38;5;241m.\u001b[39mpp(msg\u001b[38;5;241m.\u001b[39mmodel_dump())\n\u001b[1;32m      5\u001b[0m \u001b[38;5;28mprint\u001b[39m(\u001b[38;5;124m\"\u001b[39m\u001b[38;5;130;01m\\n\u001b[39;00m\u001b[38;5;124mINVALID MESSAGE UPDATE: detector_status\u001b[39m\u001b[38;5;124m\"\u001b[39m)\n\u001b[0;32m----> 6\u001b[0m \u001b[43mmsg\u001b[49m\u001b[38;5;241;43m.\u001b[39;49m\u001b[43mdetector_status\u001b[49m \u001b[38;5;241m=\u001b[39m \u001b[38;5;124m\"\u001b[39m\u001b[38;5;124mNo\u001b[39m\u001b[38;5;124m\"\u001b[39m\n",
      "File \u001b[0;32m~/Library/Caches/pypoetry/virtualenvs/snews-data-services-hhK1y8sx-py3.11/lib/python3.11/site-packages/pydantic/main.py:786\u001b[0m, in \u001b[0;36mBaseModel.__setattr__\u001b[0;34m(self, name, value)\u001b[0m\n\u001b[1;32m    784\u001b[0m     attr\u001b[38;5;241m.\u001b[39m\u001b[38;5;21m__set__\u001b[39m(\u001b[38;5;28mself\u001b[39m, value)\n\u001b[1;32m    785\u001b[0m \u001b[38;5;28;01melif\u001b[39;00m \u001b[38;5;28mself\u001b[39m\u001b[38;5;241m.\u001b[39mmodel_config\u001b[38;5;241m.\u001b[39mget(\u001b[38;5;124m'\u001b[39m\u001b[38;5;124mvalidate_assignment\u001b[39m\u001b[38;5;124m'\u001b[39m, \u001b[38;5;28;01mNone\u001b[39;00m):\n\u001b[0;32m--> 786\u001b[0m     \u001b[38;5;28;43mself\u001b[39;49m\u001b[38;5;241;43m.\u001b[39;49m\u001b[43m__pydantic_validator__\u001b[49m\u001b[38;5;241;43m.\u001b[39;49m\u001b[43mvalidate_assignment\u001b[49m\u001b[43m(\u001b[49m\u001b[38;5;28;43mself\u001b[39;49m\u001b[43m,\u001b[49m\u001b[43m \u001b[49m\u001b[43mname\u001b[49m\u001b[43m,\u001b[49m\u001b[43m \u001b[49m\u001b[43mvalue\u001b[49m\u001b[43m)\u001b[49m\n\u001b[1;32m    787\u001b[0m \u001b[38;5;28;01melif\u001b[39;00m \u001b[38;5;28mself\u001b[39m\u001b[38;5;241m.\u001b[39mmodel_config\u001b[38;5;241m.\u001b[39mget(\u001b[38;5;124m'\u001b[39m\u001b[38;5;124mextra\u001b[39m\u001b[38;5;124m'\u001b[39m) \u001b[38;5;241m!=\u001b[39m \u001b[38;5;124m'\u001b[39m\u001b[38;5;124mallow\u001b[39m\u001b[38;5;124m'\u001b[39m \u001b[38;5;129;01mand\u001b[39;00m name \u001b[38;5;129;01mnot\u001b[39;00m \u001b[38;5;129;01min\u001b[39;00m \u001b[38;5;28mself\u001b[39m\u001b[38;5;241m.\u001b[39mmodel_fields:\n\u001b[1;32m    788\u001b[0m     \u001b[38;5;66;03m# TODO - matching error\u001b[39;00m\n\u001b[1;32m    789\u001b[0m     \u001b[38;5;28;01mraise\u001b[39;00m \u001b[38;5;167;01mValueError\u001b[39;00m(\u001b[38;5;124mf\u001b[39m\u001b[38;5;124m'\u001b[39m\u001b[38;5;124m\"\u001b[39m\u001b[38;5;132;01m{\u001b[39;00m\u001b[38;5;28mself\u001b[39m\u001b[38;5;241m.\u001b[39m\u001b[38;5;18m__class__\u001b[39m\u001b[38;5;241m.\u001b[39m\u001b[38;5;18m__name__\u001b[39m\u001b[38;5;132;01m}\u001b[39;00m\u001b[38;5;124m\"\u001b[39m\u001b[38;5;124m object has no field \u001b[39m\u001b[38;5;124m\"\u001b[39m\u001b[38;5;132;01m{\u001b[39;00mname\u001b[38;5;132;01m}\u001b[39;00m\u001b[38;5;124m\"\u001b[39m\u001b[38;5;124m'\u001b[39m)\n",
      "\u001b[0;31mValidationError\u001b[0m: 1 validation error for HeartbeatMessage\ndetector_status\n  Value error, Detector status must be either ON or OFF [type=value_error, input_value='No', input_type=str]\n    For further information visit https://errors.pydantic.dev/2.5/v/value_error"
     ]
    }
   ],
   "source": [
    "print(\"\\nVALID MESSAGE CREATION\")\n",
    "msg = models.messages.HeartbeatMessage(detector_status=\"ON\", detector_name=\"Super-K\")\n",
    "pprint.pp(msg.model_dump())\n",
    "\n",
    "print(\"\\nINVALID MESSAGE UPDATE: detector_status\")\n",
    "msg.detector_status = \"No\""
   ]
  },
  {
   "cell_type": "code",
   "execution_count": 22,
   "metadata": {},
   "outputs": [
    {
     "name": "stdout",
     "output_type": "stream",
     "text": [
      "\n",
      "VALID MESSAGE INITIALIZATION: fake detector_name when is_test=True\n",
      "{'id': 'Super-J_Heartbeat_None',\n",
      " 'uuid': '603b5735-706f-43a8-92fe-542828925355',\n",
      " 'tier': <Tier.HEART_BEAT: 'Heartbeat'>,\n",
      " 'sent_time_utc': None,\n",
      " 'machine_time_utc': None,\n",
      " 'is_pre_sn': False,\n",
      " 'is_test': True,\n",
      " 'is_firedrill': False,\n",
      " 'meta': None,\n",
      " 'schema_version': '0.1',\n",
      " 'detector_name': 'Super-J',\n",
      " 'detector_status': 'ON'}\n"
     ]
    }
   ],
   "source": [
    "print(\"\\nVALID MESSAGE INITIALIZATION: fake detector_name when is_test=True\")\n",
    "msg = models.messages.HeartbeatMessage(detector_status=\"ON\", detector_name=\"Super-J\", is_test=True)\n",
    "pprint.pp(msg.model_dump())"
   ]
  },
  {
   "cell_type": "code",
   "execution_count": 23,
   "metadata": {},
   "outputs": [
    {
     "name": "stdout",
     "output_type": "stream",
     "text": [
      "MESSAGE 1\n",
      "id='Super-J_Heartbeat_None' uuid='1a5a2454-6982-42b8-a204-f6567380e2a0' tier=<Tier.HEART_BEAT: 'Heartbeat'> sent_time_utc=None machine_time_utc=None is_pre_sn=False is_test=True is_firedrill=False meta=None schema_version='0.1' detector_name='Super-J' detector_status='ON'\n",
      "\n",
      "MESSAGE 2\n",
      "None\n",
      "\n",
      "\n",
      "MESSAGE 1\n",
      "id='Super-J_Heartbeat_None' uuid='1a5a2454-6982-42b8-a204-f6567380e2a0' tier=<Tier.HEART_BEAT: 'Heartbeat'> sent_time_utc=None machine_time_utc=None is_pre_sn=False is_test=True is_firedrill=False meta=None schema_version='0.1' detector_name='Super-J' detector_status='ON'\n",
      "\n",
      "MESSAGE 2\n",
      "id='Super-J_Heartbeat_None' uuid='1a5a2454-6982-42b8-a204-f6567380e2a0' tier=<Tier.HEART_BEAT: 'Heartbeat'> sent_time_utc=None machine_time_utc=None is_pre_sn=False is_test=True is_firedrill=False meta=None schema_version='0.1' detector_name='Super-J' detector_status='ON'\n"
     ]
    }
   ],
   "source": [
    "msg1 = models.messages.HeartbeatMessage(detector_status=\"ON\", detector_name=\"Super-J\", is_test=True)\n",
    "msg2 = None\n",
    "print(f\"MESSAGE 1\\n{msg1}\\n\\nMESSAGE 2\\n{msg2}\\n\")\n",
    "\n",
    "msg1_dict = msg1.model_dump()\n",
    "\n",
    "msg2 = models.messages.HeartbeatMessage(**msg1_dict)\n",
    "print(f\"\\nMESSAGE 1\\n{msg1}\\n\\nMESSAGE 2\\n{msg2}\")"
   ]
  },
  {
   "cell_type": "code",
   "execution_count": null,
   "metadata": {},
   "outputs": [],
   "source": []
  }
 ],
 "metadata": {
  "kernelspec": {
   "display_name": "Python 3 (ipykernel)",
   "language": "python",
   "name": "python3"
  },
  "language_info": {
   "codemirror_mode": {
    "name": "ipython",
    "version": 3
   },
   "file_extension": ".py",
   "mimetype": "text/x-python",
   "name": "python",
   "nbconvert_exporter": "python",
   "pygments_lexer": "ipython3",
   "version": "3.11.9"
  }
 },
 "nbformat": 4,
 "nbformat_minor": 4
}
