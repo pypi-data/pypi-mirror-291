{
 "cells": [
  {
   "cell_type": "code",
   "execution_count": null,
   "metadata": {},
   "outputs": [],
   "source": [
    "import os\n",
    "import pandas as pd\n",
    "import mddrt\n",
    "\n",
    "blasting_event_log_path = os.path.join(\"blasting_with_rework_event_log.csv\")\n",
    "\n",
    "# Read event log\n",
    "blasting_event_log = pd.read_csv(blasting_event_log_path, sep=\";\")\n",
    "\n",
    "# Key is the column format name of pm4py\n",
    "# Value is the column name of the specific log and soon to be changed\n",
    "# We will always need 3 columns for case, activity and timestamp\n",
    "blasting_format = {\n",
    "    \"case:concept:name\": \"Case ID\",\n",
    "    \"concept:name\": \"Activity\",\n",
    "    \"time:timestamp\": \"Complete\",\n",
    "    \"start_timestamp\": \"Start\",\n",
    "    \"org:resource\": \"Resource\",\n",
    "    \"cost:total\": \"Cost\",\n",
    "}\n",
    "\n",
    "# Format event log \n",
    "blasting_event_log = mddrt.log_formatter(blasting_event_log, blasting_format)"
   ]
  },
  {
   "cell_type": "code",
   "execution_count": null,
   "metadata": {},
   "outputs": [],
   "source": [
    "\n",
    "# Discover of multi-dimensional DRT\n",
    "\n",
    "drt = mddrt.discover_multi_dimensional_drt(\n",
    "    blasting_event_log,\n",
    "    calculate_cost=True,\n",
    "    calculate_time=True,\n",
    "    calculate_flexibility=True,\n",
    "    calculate_quality=True,\n",
    "    group_activities=False,\n",
    ")"
   ]
  },
  {
   "cell_type": "code",
   "execution_count": null,
   "metadata": {},
   "outputs": [],
   "source": [
    "# Discover of multi-dimensional DRT with automatic agroupation of activities\n",
    "\n",
    "drt_grouped = mddrt.discover_multi_dimensional_drt(\n",
    "    blasting_event_log,\n",
    "    calculate_cost=True,\n",
    "    calculate_time=True,\n",
    "    calculate_flexibility=True,\n",
    "    calculate_quality=True,\n",
    "    group_activities=True,\n",
    ")"
   ]
  },
  {
   "cell_type": "code",
   "execution_count": null,
   "metadata": {},
   "outputs": [],
   "source": [
    "# Visualize the diagram of the multi-dimensional DRT\n",
    "mddrt.view_multi_dimensional_drt(\n",
    "    drt,\n",
    "    visualize_cost=True,\n",
    "    visualize_time=True,\n",
    "    visualize_quality=True,\n",
    "    visualize_flexibility=True\n",
    ")"
   ]
  },
  {
   "cell_type": "code",
   "execution_count": null,
   "metadata": {},
   "outputs": [],
   "source": [
    "# Save the diagram to file_name location with especified format\n",
    "mddrt.save_vis_dimension_drt(\n",
    "    drt,\n",
    "    visualize_cost=True,\n",
    "    visualize_time=True,\n",
    "    visualize_flexibility=True,\n",
    "    visualize_quality=True,\n",
    "    file_path=\"blasting_process_diagram\",\n",
    ")"
   ]
  }
 ],
 "metadata": {
  "language_info": {
   "name": "python"
  }
 },
 "nbformat": 4,
 "nbformat_minor": 2
}
