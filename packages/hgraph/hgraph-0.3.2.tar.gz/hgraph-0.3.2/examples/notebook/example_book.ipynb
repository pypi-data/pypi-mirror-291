{
 "cells": [
  {
   "metadata": {
    "ExecuteTime": {
     "end_time": "2024-04-09T15:58:05.270668Z",
     "start_time": "2024-04-09T15:58:05.105210Z"
    }
   },
   "cell_type": "code",
   "source": [
    "from hgraph.notebook import *\n",
    "from hgraph import const"
   ],
   "id": "83091c3c54e93614",
   "outputs": [],
   "execution_count": 1
  },
  {
   "metadata": {
    "ExecuteTime": {
     "end_time": "2024-04-09T15:58:05.289952Z",
     "start_time": "2024-04-09T15:58:05.275967Z"
    }
   },
   "cell_type": "code",
   "source": "start_wiring_graph(\"test\")",
   "id": "ffcea363a77eccaa",
   "outputs": [],
   "execution_count": 2
  },
  {
   "metadata": {
    "ExecuteTime": {
     "end_time": "2024-04-09T15:58:05.302837Z",
     "start_time": "2024-04-09T15:58:05.291638Z"
    }
   },
   "cell_type": "code",
   "source": "c = const(\"Hello World\")",
   "id": "b75e040e76e2c332",
   "outputs": [],
   "execution_count": 3
  },
  {
   "metadata": {
    "ExecuteTime": {
     "end_time": "2024-04-09T15:58:05.342768Z",
     "start_time": "2024-04-09T15:58:05.311140Z"
    }
   },
   "cell_type": "code",
   "source": "c.eval()",
   "id": "e365347f6bf95e97",
   "outputs": [
    {
     "name": "stderr",
     "output_type": "stream",
     "text": [
      "2024-04-09 19:58:05,313 [hgraph][DEBUG] Creating graph engine: EvaluationMode.SIMULATION\n",
      "2024-04-09 19:58:05,320 [hgraph][DEBUG] Starting to run graph from: 1970-01-01 00:00:00.000001 to 2299-12-31 23:59:59.999999\n",
      "2024-04-09 19:58:05,329 [hgraph][DEBUG] Finished running graph\n"
     ]
    },
    {
     "data": {
      "text/plain": [
       "[(datetime.datetime(1970, 1, 1, 0, 0, 0, 1), 'Hello World')]"
      ]
     },
     "execution_count": 4,
     "metadata": {},
     "output_type": "execute_result"
    }
   ],
   "execution_count": 4
  },
  {
   "metadata": {
    "ExecuteTime": {
     "end_time": "2024-04-09T16:10:04.195811Z",
     "start_time": "2024-04-09T16:10:04.193461Z"
    }
   },
   "cell_type": "code",
   "source": [
    "from hgraph import debug_print\n",
    "debug_print(\"Message\", c)"
   ],
   "id": "29632fec8dfd3da9",
   "outputs": [],
   "execution_count": 6
  },
  {
   "metadata": {
    "ExecuteTime": {
     "end_time": "2024-04-09T16:10:06.031871Z",
     "start_time": "2024-04-09T16:10:06.027611Z"
    }
   },
   "cell_type": "code",
   "source": "notebook_evaluate_graph()",
   "id": "b3368bcddad353c9",
   "outputs": [
    {
     "name": "stderr",
     "output_type": "stream",
     "text": [
      "2024-04-09 20:10:06,028 [hgraph][DEBUG] Creating graph engine: EvaluationMode.SIMULATION\n",
      "2024-04-09 20:10:06,029 [hgraph][DEBUG] Starting to run graph from: 1970-01-01 00:00:00.000001 to 2299-12-31 23:59:59.999999\n",
      "2024-04-09 20:10:06,030 [hgraph][DEBUG] Finished running graph\n"
     ]
    },
    {
     "name": "stdout",
     "output_type": "stream",
     "text": [
      "[1970-01-01 00:00:00.000175][1970-01-01 00:00:00.000001] Message: Hello World\n"
     ]
    }
   ],
   "execution_count": 7
  },
  {
   "metadata": {},
   "cell_type": "code",
   "outputs": [],
   "execution_count": null,
   "source": "",
   "id": "34a18e94f10865d4"
  }
 ],
 "metadata": {
  "kernelspec": {
   "display_name": "Python 3",
   "language": "python",
   "name": "python3"
  },
  "language_info": {
   "codemirror_mode": {
    "name": "ipython",
    "version": 2
   },
   "file_extension": ".py",
   "mimetype": "text/x-python",
   "name": "python",
   "nbconvert_exporter": "python",
   "pygments_lexer": "ipython2",
   "version": "2.7.6"
  }
 },
 "nbformat": 4,
 "nbformat_minor": 5
}
