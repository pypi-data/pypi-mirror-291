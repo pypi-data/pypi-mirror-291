{
 "cells": [
  {
   "cell_type": "code",
   "execution_count": 1,
   "metadata": {},
   "outputs": [
    {
     "name": "stderr",
     "output_type": "stream",
     "text": [
      "2024-08-21 23:58:31 fperez-gcloud-stupid-sailor-twift root[3546602] INFO Logger root configured\n"
     ]
    },
    {
     "name": "stdout",
     "output_type": "stream",
     "text": [
      "Trying to configure logger root in module llm_foundation\n",
      "root # of associated handlers - 0\n",
      "Logging is not configured yet. Configuring it now.\n",
      "Basic logging config\n"
     ]
    }
   ],
   "source": [
    "from llm_foundation.lm import get_model_catalog\n",
    "from llm_foundation.basic_structs import Provider"
   ]
  },
  {
   "cell_type": "code",
   "execution_count": 6,
   "metadata": {},
   "outputs": [
    {
     "name": "stdout",
     "output_type": "stream",
     "text": [
      "Provider.LC LC\n"
     ]
    },
    {
     "name": "stderr",
     "output_type": "stream",
     "text": [
      "2024-08-21 23:59:55 fperez-gcloud-stupid-sailor-twift httpx[3546602] INFO HTTP Request: GET https://api.openai.com/v1/models \"HTTP/1.1 200 OK\"\n"
     ]
    },
    {
     "name": "stdout",
     "output_type": "stream",
     "text": [
      "Provider.OpenAI OpenAI\n"
     ]
    },
    {
     "name": "stderr",
     "output_type": "stream",
     "text": [
      "2024-08-21 23:59:55 fperez-gcloud-stupid-sailor-twift httpx[3546602] INFO HTTP Request: GET https://api.openai.com/v1/models \"HTTP/1.1 200 OK\"\n"
     ]
    },
    {
     "data": {
      "text/plain": [
       "{'lc_gpt-4o': 'gpt-4o',\n",
       " 'lc_gpt-4o-2024-08-06': 'gpt-4o-2024-08-06',\n",
       " 'lc_gpt-4o-2024-05-13': 'gpt-4o-2024-05-13',\n",
       " 'lc_gpt-4o-mini-2024-07-18': 'gpt-4o-mini-2024-07-18',\n",
       " 'lc_gpt-4o-mini': 'gpt-4o-mini',\n",
       " 'openai_gpt-4o': 'gpt-4o',\n",
       " 'openai_gpt-4o-2024-08-06': 'gpt-4o-2024-08-06',\n",
       " 'openai_gpt-4o-2024-05-13': 'gpt-4o-2024-05-13',\n",
       " 'openai_gpt-4o-mini-2024-07-18': 'gpt-4o-mini-2024-07-18',\n",
       " 'openai_gpt-4o-mini': 'gpt-4o-mini'}"
      ]
     },
     "execution_count": 6,
     "metadata": {},
     "output_type": "execute_result"
    }
   ],
   "source": [
    "get_model_catalog(Provider.LC, [\"gpt-4o\"])"
   ]
  },
  {
   "cell_type": "code",
   "execution_count": null,
   "metadata": {},
   "outputs": [],
   "source": [
    "\n"
   ]
  },
  {
   "cell_type": "code",
   "execution_count": null,
   "metadata": {},
   "outputs": [],
   "source": []
  }
 ],
 "metadata": {
  "kernelspec": {
   "display_name": "default",
   "language": "python",
   "name": "python3"
  },
  "language_info": {
   "codemirror_mode": {
    "name": "ipython",
    "version": 3
   },
   "file_extension": ".py",
   "mimetype": "text/x-python",
   "name": "python",
   "nbconvert_exporter": "python",
   "pygments_lexer": "ipython3",
   "version": "3.12.5"
  }
 },
 "nbformat": 4,
 "nbformat_minor": 2
}
