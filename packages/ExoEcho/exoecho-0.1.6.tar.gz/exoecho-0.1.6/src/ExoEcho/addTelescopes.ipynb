{
 "cells": [
  {
   "cell_type": "code",
   "execution_count": 1,
   "metadata": {},
   "outputs": [],
   "source": [
    "import modin.pandas as pd\n",
    "from Functions import *\n",
    "from Telescope import *\n",
    "# import Ariel\n",
    "\n",
    "import warnings\n",
    "warnings.filterwarnings('ignore')"
   ]
  },
  {
   "attachments": {},
   "cell_type": "markdown",
   "metadata": {},
   "source": [
    "## Constructing Ariel instrument objects (with known targets)"
   ]
  },
  {
   "cell_type": "code",
   "execution_count": 5,
   "metadata": {},
   "outputs": [],
   "source": [
    "## TIER 1 ##\n",
    "Telescope(\"Ariel NIRSpec\", 1, (1.10, 1.95), 1, 0.27).constructTable()\n",
    "Telescope(\"Ariel AIRS CH0\", 1, (1.95, 3.9), 3, 0.18).constructTable()\n",
    "Telescope(\"Ariel AIRS CH1\", 1, (3.9, 7.8), 1, 0.18).constructTable()\n",
    "\n",
    "\n",
    "## TIER 2 ##\n",
    "Telescope(\"Ariel NIRSpec\", 1, (1.10, 1.95), 10, 0.27).constructTable()\n",
    "Telescope(\"Ariel AIRS CH0\", 1, (1.95, 3.9), 50, 0.18).constructTable()\n",
    "Telescope(\"Ariel AIRS CH1\", 1, (3.9, 7.8), 10, 0.18).constructTable()\n",
    "\n",
    "\n",
    "## TIER 3 ##\n",
    "Telescope(\"Ariel NIRSpec\", 1, (1.10, 1.95), 20, 0.27).constructTable()\n",
    "Telescope(\"Ariel AIRS CH0\", 1, (1.95, 3.9), 100, 0.18).constructTable()\n",
    "Telescope(\"Ariel AIRS CH1\", 1, (3.9, 7.8), 30, 0.18).constructTable()\n",
    "\n",
    "# photometric instruments\n",
    "Telescope(\"Ariel FGS1\", 1, (0.6, .8), 1, 0.17).constructTable()\n",
    "Telescope(\"Ariel FGS2\", 1, (0.8, 1.10), 1, 0.25).constructTable()\n",
    "Telescope(\"Ariel VISPhot\", 1, (0.5, .6), 1, 0.2).constructTable()\n",
    "\n",
    "# Extra Instruments\n",
    "# Telescope(\"Ariel NIRSpec\", 1, (1.10, 1.95), 15, 0.27).constructTable()\n",
    "# Telescope(\"Ariel NIRSpec\", 1, (1.10, 1.95), 10, 0.27).constructTable()\n",
    "# Telescope(\"Ariel AIRS CH0\", 1, (1.95, 3.9), 100, 0.18).constructTable()\n",
    "# Telescope(\"Ariel AIRS CH1\", 1, (3.9, 7.8), 100, 0.18).constructTable()\n",
    "# Telescope(\"Ariel AIRS CH0\", 1, (1.95, 3.9), 30, 0.18).constructTable()\n",
    "# Telescope(\"Ariel AIRS CH1\", 1, (3.9, 7.8), 30, 0.18).constructTable()"
   ]
  },
  {
   "cell_type": "markdown",
   "metadata": {},
   "source": [
    "## Constructing Ariel instrument objects (with TPCs)"
   ]
  },
  {
   "cell_type": "code",
   "execution_count": 2,
   "metadata": {},
   "outputs": [],
   "source": [
    "## TIER 1 ##\n",
    "Telescope(\"Ariel NIRSpec\", 1, (1.10, 1.95), 1, 0.27, target_list_name=\"Ariel_MCS_TPCs_2024-03-27\").constructTable()\n",
    "Telescope(\"Ariel AIRS CH0\", 1, (1.95, 3.9), 3, 0.18, target_list_name=\"Ariel_MCS_TPCs_2024-03-27\").constructTable()\n",
    "Telescope(\"Ariel AIRS CH1\", 1, (3.9, 7.8), 1, 0.18, target_list_name=\"Ariel_MCS_TPCs_2024-03-27\").constructTable()\n",
    "\n",
    "\n",
    "## TIER 2 ##\n",
    "Telescope(\"Ariel NIRSpec\", 1, (1.10, 1.95), 10, 0.27, target_list_name=\"Ariel_MCS_TPCs_2024-03-27\").constructTable()\n",
    "Telescope(\"Ariel AIRS CH0\", 1, (1.95, 3.9), 50, 0.18, target_list_name=\"Ariel_MCS_TPCs_2024-03-27\").constructTable()\n",
    "Telescope(\"Ariel AIRS CH1\", 1, (3.9, 7.8), 10, 0.18, target_list_name=\"Ariel_MCS_TPCs_2024-03-27\").constructTable()\n",
    "\n",
    "\n",
    "## TIER 3 ##\n",
    "Telescope(\"Ariel NIRSpec\", 1, (1.10, 1.95), 20, 0.27, target_list_name=\"Ariel_MCS_TPCs_2024-03-27\").constructTable()\n",
    "Telescope(\"Ariel AIRS CH0\", 1, (1.95, 3.9), 100, 0.18, target_list_name=\"Ariel_MCS_TPCs_2024-03-27\").constructTable()\n",
    "Telescope(\"Ariel AIRS CH1\", 1, (3.9, 7.8), 30, 0.18, target_list_name=\"Ariel_MCS_TPCs_2024-03-27\").constructTable()\n",
    "\n",
    "# photometric instruments\n",
    "Telescope(\"Ariel FGS1\", 1, (0.6, .8), 1, 0.17, target_list_name=\"Ariel_MCS_TPCs_2024-03-27\").constructTable()\n",
    "Telescope(\"Ariel FGS2\", 1, (0.8, 1.10), 1, 0.25, target_list_name=\"Ariel_MCS_TPCs_2024-03-27\").constructTable()\n",
    "Telescope(\"Ariel VISPhot\", 1, (0.5, .6), 1, 0.2, target_list_name=\"Ariel_MCS_TPCs_2024-03-27\").constructTable()\n",
    "\n",
    "# Extra Instruments\n",
    "# Telescope(\"Ariel NIRSpec\", 1, (1.10, 1.95), 15, 0.27, target_list_name=\"Ariel_MCS_TPCs_2024-03-27\").constructTable()\n",
    "# Telescope(\"Ariel NIRSpec\", 1, (1.10, 1.95), 10, 0.27, target_list_name=\"Ariel_MCS_TPCs_2024-03-27\").constructTable()\n",
    "# Telescope(\"Ariel AIRS CH0\", 1, (1.95, 3.9), 100, 0.18, target_list_name=\"Ariel_MCS_TPCs_2024-03-27\").constructTable()\n",
    "# Telescope(\"Ariel AIRS CH1\", 1, (3.9, 7.8), 100, 0.18, target_list_name=\"Ariel_MCS_TPCs_2024-03-27\").constructTable()\n",
    "# Telescope(\"Ariel AIRS CH0\", 1, (1.95, 3.9), 30, 0.18, target_list_name=\"Ariel_MCS_TPCs_2024-03-27\").constructTable()\n",
    "# Telescope(\"Ariel AIRS CH1\", 1, (3.9, 7.8), 30, 0.18, target_list_name=\"Ariel_MCS_TPCs_2024-03-27\").constructTable()"
   ]
  },
  {
   "cell_type": "code",
   "execution_count": 3,
   "metadata": {},
   "outputs": [
    {
     "name": "stdout",
     "output_type": "stream",
     "text": [
      "Improvement: 1.0\n",
      "Deterioration: 1.0\n"
     ]
    }
   ],
   "source": [
    "before = 60+10 #(+- 977ms)\n",
    "after = 60+10 # (+- 1.55s)\n",
    "improvement = before/after\n",
    "deterioration = after/before\n",
    "\n",
    "print(f\"Improvement: {improvement}\")\n",
    "print(f\"Deterioration: {deterioration}\")"
   ]
  },
  {
   "cell_type": "code",
   "execution_count": 4,
   "metadata": {},
   "outputs": [],
   "source": [
    "# \"JWST/NIRSpec 0.6-1.0 um\", 6.5, 0.6, 1.0, 0.30\n",
    "\n",
    "df_known = pd.read_csv(\"target_lists/Ariel_MCS_Known_2024-03-27.csv\")\n",
    "df_tpcs = pd.read_csv(\"target_lists/Ariel_MCS_TPCs_2024-03-27.csv\")"
   ]
  },
  {
   "cell_type": "code",
   "execution_count": null,
   "metadata": {},
   "outputs": [],
   "source": [
    "Telescope(\"JWST NIRSpec 0.6-5.3um R=100\", 6.5, (0.6, 5.3), 100, 0.36).constructTable()"
   ]
  },
  {
   "cell_type": "code",
   "execution_count": null,
   "metadata": {},
   "outputs": [],
   "source": [
    "addTelescope(df_known, \"JWST NIRCam R=1600\", 6.5, (2.4, 5.0), 1600, 0.36)"
   ]
  },
  {
   "cell_type": "code",
   "execution_count": null,
   "metadata": {},
   "outputs": [],
   "source": [
    "addTelescope(df_known, \"JWST NIRSpec 0.6-5.3um R=100\", 6.5, (0.6, 5.3), 100, 0.36)"
   ]
  },
  {
   "cell_type": "code",
   "execution_count": null,
   "metadata": {},
   "outputs": [],
   "source": [
    "addTelescope(df_known, \"JWST NIRSpec 0.6-5.3um R=1000\", 6.5, (0.6, 5.3), 1000, 0.36)"
   ]
  },
  {
   "cell_type": "code",
   "execution_count": null,
   "metadata": {},
   "outputs": [],
   "source": [
    "# addTelescope(df_known, \"JWST NIRSpec 0.6-5.3um R=2700\", 6.5, (0.6, 5.3), 2700, 0.30)"
   ]
  },
  {
   "cell_type": "code",
   "execution_count": null,
   "metadata": {},
   "outputs": [],
   "source": [
    "addTelescope(df_known,\"JWST MIRI MRS 4.9-28.8um R=1500\", 6.5, (4.9, 28.8), 1500, 0.18)"
   ]
  },
  {
   "cell_type": "code",
   "execution_count": null,
   "metadata": {},
   "outputs": [],
   "source": [
    "addTelescope(df_known, \"JWST MIRI LRS 5.0-12.0um R=100\", 6.5, (5, 12), 100, 0.18)"
   ]
  },
  {
   "cell_type": "code",
   "execution_count": null,
   "metadata": {},
   "outputs": [],
   "source": [
    "addTelescope(df_known, \"JWST NIRISS SOSS 0.6-2.8um R=700\", 6.5, (0.6, 2.8), 700, 0.2)  # http://jwst.astro.umontreal.ca/?page_id=51#:~:text=The%20SOSS%20throughput%20is%20the,with%20respect%20to%20the%20pupil.\n",
    "\n",
    "#FOR MORE PLOTS WITH VARIOUS FILTERS: https://jwst-docs.stsci.edu/jwst-near-infrared-imager-and-slitless-spectrograph/niriss-instrumentation/niriss-filters#gsc.tab=0"
   ]
  },
  {
   "cell_type": "code",
   "execution_count": null,
   "metadata": {},
   "outputs": [],
   "source": [
    "addTelescope(df_known, \"JWST NIRSpec G395H 2.87-5.14um R=100\", 6.5, (2.87, 5.14), 100, 0.4)\n",
    "# For NIRSpec G395H throughput and other: https://jwst-docs.stsci.edu/jwst-near-infrared-spectrograph/nirspec-performance#gsc.tab=0\n",
    "# https://jwst-docs.stsci.edu/jwst-near-infrared-spectrograph/nirspec-instrumentation/nirspec-dispersers-and-filters#gsc.tab=0"
   ]
  },
  {
   "cell_type": "code",
   "execution_count": null,
   "metadata": {},
   "outputs": [],
   "source": [
    "addTelescope(df_known, \"Ariel VISPhot 0.5-0.6um R=1\", 1, (0.5, .6), 1, 0.27)\n",
    "addTelescope(df_known, \"Ariel FGS1 0.6-0.8um R=1\", 1, (0.6, .8), 1, 0.17)\n",
    "addTelescope(df_known, \"Ariel FGS2 0.8-1.1um R=1\", 1, (0.8, 1.10), 1, 0.25)\n",
    "addTelescope(df_known, \"Ariel NIRSpec 1.1-1.95um R=15\", 1, (1.10, 1.95), 15, 0.27)\n",
    "addTelescope(df_known, \"Ariel AIRS-CH0 1.95-3.9um R=100\", 1, (1.95, 3.9), 100, 0.18)\n",
    "addTelescope(df_known, \"Ariel AIRS-CH1 3.9-7.8um R=100\", 1, (3.9, 7.8), 100, 0.18)\n",
    "addTelescope(df_known, \"Ariel AIRS-CH0 1.95-3.9um R=30\", 1, (1.95, 3.9), 30, 0.18)\n",
    "addTelescope(df_known, \"Ariel AIRS-CH1 3.9-7.8um R=30\", 1, (3.9, 7.8), 30, 0.18)\n",
    "\n",
    "# See Ariel Definition of Study Report / Red Book"
   ]
  },
  {
   "cell_type": "code",
   "execution_count": null,
   "metadata": {},
   "outputs": [],
   "source": [
    "fig, ax = plt.subplots()\n",
    "\n",
    "plotNoise(\"Telescopes/Ariel NIRSpec 1.1-1.95um R=15.csv\", \"Ariel NIRSpec\", ax=ax, fill_between=True)\n",
    "plotNoise(\"Telescopes/Ariel AIRS-CH0 1.95-3.9um R=30.csv\", \"Ariel AIRS-CH0\", ax=ax, fill_between=True)\n",
    "plotNoise(\"Telescopes/Ariel AIRS-CH1 3.9-7.8um R=30.csv\", \"Ariel AIRS-CH1\", ax=ax, fill_between=True)\n",
    "\n",
    "ax.text(1.1, 0.00019, \"NIRSpec\")\n",
    "ax.text(1.25, 0.00000, \"R=15\")\n",
    "ax.text(2.3, 0.00039, \"AIRS-CH0\")\n",
    "ax.text(2.7, 0.00004, \"R=30\")\n",
    "ax.text(5.2, 0.00065, \"AIRS-CH1\")\n",
    "ax.text(5.7, 0.0001, \"R=30\")\n",
    "\n",
    "ax.set_title(\"Noise Estimates for Various Ariel Instruments\")\n",
    "\n",
    "fig.savefig(\"Noise Estimate Plots/Noise Estimates for Various Ariel Instruments (R15 and R30).png\", bbox_inches='tight', dpi=300)\n",
    "\n",
    "plt.show()"
   ]
  },
  {
   "cell_type": "code",
   "execution_count": null,
   "metadata": {},
   "outputs": [],
   "source": [
    "fig, ax = plt.subplots()\n",
    "\n",
    "\n",
    "\n",
    "plotNoise(\"Telescopes/Ariel NIRSpec 1.1-1.95um R=15.csv\", \"Ariel NIRSpec\", ax=ax, fill_between=True)\n",
    "plotNoise(\"Telescopes/Ariel AIRS-CH0 1.95-3.9um R=100.csv\", \"Ariel AIRS-CH0\", ax=ax, fill_between=True)\n",
    "plotNoise(\"Telescopes/Ariel AIRS-CH1 3.9-7.8um R=100.csv\", \"Ariel AIRS-CH1\", ax=ax, fill_between=True)\n",
    "\n",
    "ax.text(1.05, 0.0002, \"NIRSpec\")\n",
    "ax.text(1.25, -0.00003, \"R=15\")\n",
    "ax.text(2.3, 0.00071, \"AIRS-CH0\")\n",
    "ax.text(2.7, 0.00009, \"R=100\")\n",
    "ax.text(5.2, 0.00118, \"AIRS-CH1\")\n",
    "ax.text(5.7, 0.00021, \"R=100\")\n",
    "\n",
    "ax.set_title(\"Noise Estimates for Various Ariel Instruments\")\n",
    "\n",
    "fig.savefig(\"Noise Estimate Plots/Noise Estimates for Various Ariel Instruments (R15 and R100).png\", bbox_inches='tight', dpi=300)\n",
    "\n",
    "plt.show()"
   ]
  }
 ],
 "metadata": {
  "kernelspec": {
   "display_name": "Python 3",
   "language": "python",
   "name": "python3"
  },
  "language_info": {
   "codemirror_mode": {
    "name": "ipython",
    "version": 3
   },
   "file_extension": ".py",
   "mimetype": "text/x-python",
   "name": "python",
   "nbconvert_exporter": "python",
   "pygments_lexer": "ipython3",
   "version": "3.11.4"
  }
 },
 "nbformat": 4,
 "nbformat_minor": 2
}
