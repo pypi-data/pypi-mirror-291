{
 "cells": [
  {
   "cell_type": "code",
   "execution_count": 1,
   "metadata": {},
   "outputs": [],
   "source": [
    "from __future__ import annotations\n",
    "from matplotlib import pyplot as plt\n",
    "import torch\n",
    "from jrmpc import jrmpc"
   ]
  },
  {
   "cell_type": "code",
   "execution_count": 2,
   "metadata": {},
   "outputs": [],
   "source": [
    "# required only for interactive plot\n",
    "import plotly.graph_objects as go"
   ]
  },
  {
   "cell_type": "code",
   "execution_count": 3,
   "metadata": {},
   "outputs": [],
   "source": [
    "def interactive_plot(\n",
    "    data,\n",
    "    point_size: int = 3,\n",
    "    opacity: float = 0.8,\n",
    "    width: int = 500,\n",
    "    height: int = 500,\n",
    "):\n",
    "    if not isinstance(data, (list, tuple)):\n",
    "        data = [data]\n",
    "    if isinstance(data, tuple):\n",
    "        data = list(data)\n",
    "    for i, x in enumerate(data):\n",
    "        if isinstance(x, torch.Tensor) and x.is_cuda:\n",
    "            data[i] = x.cpu()\n",
    "    traces = list()\n",
    "    for pointcloud in data:\n",
    "        x, y, z = pointcloud\n",
    "        c = pointcloud.norm(dim=0)\n",
    "        marker_kwargs = dict(size=point_size, opacity=opacity, color=c)\n",
    "        scatter_kwargs = dict(visible=True, mode='markers', marker=marker_kwargs)\n",
    "        traces.append(go.Scatter3d(x=x, y=y, z=z, **scatter_kwargs))\n",
    "    layout = dict(\n",
    "        width=width, height=height,\n",
    "        xaxis=dict(range=[0, 1]), yaxis=dict(range=[0, 1]), margin=dict(t=50)\n",
    "    )\n",
    "    fig = go.Figure(data=traces, layout=layout)\n",
    "    fig.show()"
   ]
  },
  {
   "cell_type": "code",
   "execution_count": 4,
   "metadata": {},
   "outputs": [],
   "source": [
    "def so3_relative_angle(R1, R2):\n",
    "    \"\"\" Geodesic distance in SO(3). R1 & R2 are batches of rotation matrices (B, 3, 3). \"\"\"\n",
    "    cos_theta = (torch.einsum('bij,bij->b', R1, R2) - 1) / 2\n",
    "    cos_theta = torch.clamp(cos_theta, -1, 1)\n",
    "    return torch.acos(cos_theta) * 180 / torch.pi"
   ]
  },
  {
   "cell_type": "markdown",
   "metadata": {},
   "source": [
    "___"
   ]
  },
  {
   "cell_type": "code",
   "execution_count": 5,
   "metadata": {},
   "outputs": [],
   "source": [
    "data = torch.load('sample_data.pt')\n",
    "views, R_gt = data['views'], data['R_gt']"
   ]
  },
  {
   "cell_type": "code",
   "execution_count": 6,
   "metadata": {},
   "outputs": [
    {
     "name": "stdout",
     "output_type": "stream",
     "text": [
      "torch.Size([100, 3, 1024])\n",
      "torch.Size([100, 3, 3])\n"
     ]
    }
   ],
   "source": [
    "print(views.shape)\n",
    "print(R_gt.shape)"
   ]
  },
  {
   "cell_type": "code",
   "execution_count": 7,
   "metadata": {},
   "outputs": [
    {
     "data": {
      "application/vnd.jupyter.widget-view+json": {
       "model_id": "4e5d556fc6564fd4a2fbd16aa2919bd7",
       "version_major": 2,
       "version_minor": 0
      },
      "text/plain": [
       "  0%|          | 0/20 [00:00<?, ?it/s]"
      ]
     },
     "metadata": {},
     "output_type": "display_data"
    }
   ],
   "source": [
    "R_hat, t_hat, history = jrmpc(views.cuda(), max_num_iter=20, progress_bar=True, track_history=True)"
   ]
  },
  {
   "cell_type": "code",
   "execution_count": 8,
   "metadata": {},
   "outputs": [],
   "source": [
    "R_hat, t_hat = R_hat.cpu(), t_hat.cpu()"
   ]
  },
  {
   "cell_type": "code",
   "execution_count": 10,
   "metadata": {},
   "outputs": [],
   "source": [
    "avg_rotation_error_evolution = [so3_relative_angle(r.mT, R_gt).mean() for r in history['R']] "
   ]
  },
  {
   "cell_type": "code",
   "execution_count": 11,
   "metadata": {},
   "outputs": [
    {
     "data": {
      "image/png": "[encoded data removed]",
      "text/plain": [
       "<Figure size 640x480 with 1 Axes>"
      ]
     },
     "metadata": {},
     "output_type": "display_data"
    }
   ],
   "source": [
    "plt.plot(avg_rotation_error_evolution)\n",
    "plt.show()"
   ]
  },
  {
   "cell_type": "code",
   "execution_count": 12,
   "metadata": {},
   "outputs": [],
   "source": [
    "final_rotation_errors = so3_relative_angle(R_hat.mT, R_gt)"
   ]
  },
  {
   "cell_type": "code",
   "execution_count": 13,
   "metadata": {},
   "outputs": [
    {
     "data": {
      "image/png": "[encoded data removed]",
      "text/plain": [
       "<Figure size 640x480 with 1 Axes>"
      ]
     },
     "metadata": {},
     "output_type": "display_data"
    }
   ],
   "source": [
    "plt.hist(final_rotation_errors, bins=50, edgecolor='k', alpha=0.5)\n",
    "plt.tight_layout()\n",
    "plt.show()"
   ]
  },
  {
   "cell_type": "code",
   "execution_count": 15,
   "metadata": {},
   "outputs": [],
   "source": [
    "V_registered = [r @ v + t for v, r, t in zip(views, R_hat, t_hat)]"
   ]
  },
  {
   "cell_type": "code",
   "execution_count": 17,
   "metadata": {},
   "outputs": [],
   "source": [
    "# interactive_plot((*views[:5],))\n",
    "# interactive_plot((*V_registered[:5],))"
   ]
  },
  {
   "cell_type": "code",
   "execution_count": null,
   "metadata": {},
   "outputs": [],
   "source": []
  },
  {
   "cell_type": "code",
   "execution_count": null,
   "metadata": {},
   "outputs": [],
   "source": []
  }
 ],
 "metadata": {
  "kernelspec": {
   "display_name": "geom",
   "language": "python",
   "name": "python3"
  },
  "language_info": {
   "codemirror_mode": {
    "name": "ipython",
    "version": 3
   },
   "file_extension": ".py",
   "mimetype": "text/x-python",
   "name": "python",
   "nbconvert_exporter": "python",
   "pygments_lexer": "ipython3",
   "version": "3.8.18"
  }
 },
 "nbformat": 4,
 "nbformat_minor": 2
}
