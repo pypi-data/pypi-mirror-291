{
 "cells": [
  {
   "cell_type": "code",
   "execution_count": 1,
   "metadata": {},
   "outputs": [],
   "source": [
    "import sys\n",
    "\n",
    "import polars as pl\n",
    "\n",
    "sys.path.append(\"../src/\")\n",
    "sys.path.append(\"../tests/\")\n",
    "from conftest import sample_df_\n",
    "from showstats.showstats import show_stats  # noqa"
   ]
  },
  {
   "cell_type": "code",
   "execution_count": 2,
   "metadata": {},
   "outputs": [],
   "source": [
    "df = sample_df_(1_000_000)"
   ]
  },
  {
   "cell_type": "code",
   "execution_count": 3,
   "metadata": {},
   "outputs": [
    {
     "data": {
      "text/plain": [
       "(1000000, 1000)"
      ]
     },
     "execution_count": 3,
     "metadata": {},
     "output_type": "execute_result"
    }
   ],
   "source": [
    "# Add columns\n",
    "n_missing = 1000 - df.width\n",
    "for i in range(n_missing):\n",
    "    df = df.with_columns(pl.lit(i).alias(f\"x_{i}\"))\n",
    "df.shape"
   ]
  },
  {
   "cell_type": "code",
   "execution_count": 4,
   "metadata": {},
   "outputs": [],
   "source": [
    "%%capture capt\n",
    "# Capture results\n",
    "%timeit show_stats(df)"
   ]
  },
  {
   "cell_type": "markdown",
   "metadata": {},
   "source": [
    "Comparison with ``pl.DataFrame.describe()``. Because ``describe`` performs more computation, its only roughly comparable, but should be in the same zip code."
   ]
  },
  {
   "cell_type": "code",
   "execution_count": 5,
   "metadata": {},
   "outputs": [
    {
     "name": "stdout",
     "output_type": "stream",
     "text": [
      "showstats:\n",
      "578 ms +- 4.19 ms per loop (mean +- std. dev. of 7 runs, 1 loop each)\n",
      "pl.DataFrame.describe():\n"
     ]
    },
    {
     "name": "stdout",
     "output_type": "stream",
     "text": [
      "911 ms ± 26.5 ms per loop (mean ± std. dev. of 7 runs, 1 loop each)\n"
     ]
    }
   ],
   "source": [
    "print(\"showstats:\")\n",
    "print(capt.stdout.split(\"\\n\")[-2])  # noqa: F821\n",
    "print(\"pl.DataFrame.describe():\")\n",
    "%timeit df.describe()"
   ]
  },
  {
   "cell_type": "code",
   "execution_count": null,
   "metadata": {},
   "outputs": [],
   "source": []
  }
 ],
 "metadata": {
  "language_info": {
   "name": "python"
  }
 },
 "nbformat": 4,
 "nbformat_minor": 2
}
