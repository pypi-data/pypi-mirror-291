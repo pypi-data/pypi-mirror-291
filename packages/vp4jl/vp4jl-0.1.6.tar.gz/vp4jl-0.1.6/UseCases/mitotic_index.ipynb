{
 "cells": [
  {
   "cell_type": "markdown",
   "id": "4d854c72-6187-4bbe-a13a-70281a57c381",
   "metadata": {},
   "source": [
    "## Mitotic Index Calculation\n",
    "Cell biology employs the mitotic index as a critical measure to quantify cell division and, consequently, cell proliferation.\n",
    "Defined as the ratio of cells undergoing mitosis to the total cell count, the mitotic index serves as a vital indicator in understanding cellular processes. cite from [here]()\n",
    "\n",
    "Here is a workflow designed to calculate the mitotic index from the provided example image"
   ]
  },
  {
   "cell_type": "code",
   "execution_count": 6,
   "id": "201621f8-75cb-486b-96ed-1cdd504f4cd7",
   "metadata": {
    "code type": "visual code"
   },
   "outputs": [
    {
     "name": "stdout",
     "output_type": "stream",
     "text": [
      "0.1\n"
     ]
    }
   ],
   "source": [
    "{\"nodes\":[{\"id\":\"1\",\"type\":\"Flow Control.main\",\"position\":{\"x\":172.79281542745122,\"y\":567.9317192090126},\"outputs\":{\"execOut\":{\"dataType\":\"exec\"}},\"title\":\"main\"},{\"id\":\"0\",\"type\":\"imageio.read_image\",\"position\":{\"x\":247.6825252174438,\"y\":568.5284605063362},\"inputs\":{\"execIn\":{\"title\":\"execIn\",\"dataType\":\"exec\"},\"path\":{\"title\":\"path\",\"value\":\"mitosis.jpg\",\"dataType\":\"string\"},\"mode\":{\"title\":\"mode\",\"value\":\"ImageReadMode.GRAY\",\"dataType\":\"imageio.ImageReadMode\"}},\"outputs\":{\"execOut\":{\"title\":\"execOut\",\"dataType\":\"exec\"},\"image\":{\"title\":\"image\",\"dataType\":\"image\"}},\"title\":\"read_image\"},{\"id\":\"4\",\"type\":\"Function & Variable Creation.new function\",\"position\":{\"x\":169.55268384210513,\"y\":292.65208820113264},\"outputs\":{\"execOut\":{\"title\":\"execOut\",\"dataType\":\"exec\"},\"out_0\":{\"title\":\"image\",\"dataType\":\"anyDataType\"}},\"nodeRef\":\"6\",\"title\":\"count_dividing_nuclei\"},{\"id\":\"6\",\"type\":\"Function & Variable Creation.return\",\"position\":{\"x\":417.67152852146444,\"y\":291.27365017513637},\"inputs\":{\"execIn\":{\"title\":\"execIn\",\"dataType\":\"exec\"},\"in_0\":{\"title\":\"count\",\"value\":\"0.1\",\"dataType\":\"anyDataType\"}},\"title\":\"return\"},{\"id\":\"13\",\"type\":\"Function & Variable Creation.new function\",\"position\":{\"x\":591.354719797016,\"y\":323.66694378605257},\"outputs\":{\"execOut\":{\"title\":\"execOut\",\"dataType\":\"exec\"},\"out_0\":{\"title\":\"image\",\"dataType\":\"anyDataType\"}},\"nodeRef\":\"15\",\"title\":\"count_segment_nuclei\"},{\"id\":\"15\",\"type\":\"Function & Variable Creation.return\",\"position\":{\"x\":796.0527666574876,\"y\":300.23349734411306},\"inputs\":{\"execIn\":{\"title\":\"execIn\",\"dataType\":\"exec\"},\"in_0\":{\"title\":\"count\",\"value\":\"1\",\"dataType\":\"anyDataType\"}},\"title\":\"return\"},{\"id\":\"16\",\"type\":\"Function & Variable Creation.function call\",\"position\":{\"x\":709.9479695195627,\"y\":570.0116259117844},\"inputs\":{\"execOut\":{\"title\":\"execOut\",\"dataType\":\"exec\"},\"out_0\":{\"title\":\"image\",\"dataType\":\"anyDataType\"}},\"outputs\":{\"functionCallExecOut\":{\"title\":\"functionCallExecOut\",\"dataType\":\"exec\"},\"in_0\":{\"title\":\"count\",\"dataType\":\"anyDataType\"}},\"nodeRef\":\"4\",\"title\":\"count_dividing_nuclei\"},{\"id\":\"18\",\"type\":\"Function & Variable Creation.function call\",\"position\":{\"x\":537.9248904478825,\"y\":569.3204825640479},\"inputs\":{\"execOut\":{\"title\":\"execOut\",\"dataType\":\"exec\"},\"out_0\":{\"title\":\"image\",\"dataType\":\"anyDataType\"}},\"outputs\":{\"functionCallExecOut\":{\"title\":\"functionCallExecOut\",\"dataType\":\"exec\"},\"in_0\":{\"title\":\"count\",\"dataType\":\"anyDataType\"}},\"nodeRef\":\"13\",\"title\":\"count_segment_nuclei\"},{\"id\":\"19\",\"type\":\"Operators./\",\"position\":{\"x\":872.3435132356851,\"y\":644.6723058141639},\"inputs\":{\"in1\":{\"dataType\":\"anyDataType\"},\"in2\":{\"value\":1,\"dataType\":\"anyDataType\"}},\"outputs\":{\"out\":{\"dataType\":\"anyDataType\"}},\"title\":\"/\"},{\"id\":\"2\",\"type\":\"Log.print\",\"position\":{\"x\":1241.1704917965978,\"y\":569.7776756690058},\"inputs\":{\"execIn\":{\"title\":\"execIn\",\"dataType\":\"exec\"},\"input\":{\"title\":\"objects\",\"value\":\"\",\"dataType\":\"anyDataType\"}},\"outputs\":{\"execOut\":{\"dataType\":\"exec\"}},\"title\":\"Print\"},{\"id\":\"3\",\"type\":\"reroute\",\"position\":{\"x\":622.896743943942,\"y\":681.5975757598732},\"inputs\":{\"input\":{\"title\":\"input\",\"dataType\":\"anyDataType\"}},\"outputs\":{\"output\":{\"title\":\"output\",\"dataType\":\"anyDataType\"}},\"dataType\":\"anyDataType\",\"title\":\"reroute\"},{\"id\":\"5\",\"type\":\"reroute\",\"position\":{\"x\":712.0854970662665,\"y\":680.9631754058195},\"inputs\":{\"input\":{\"title\":\"input\",\"dataType\":\"anyDataType\"}},\"outputs\":{\"output\":{\"title\":\"output\",\"dataType\":\"anyDataType\"}},\"dataType\":\"anyDataType\",\"title\":\"reroute\"},{\"id\":\"7\",\"type\":\"reroute\",\"position\":{\"x\":537.5854970662665,\"y\":681.4631754058195},\"inputs\":{\"input\":{\"title\":\"input\",\"dataType\":\"image\"}},\"outputs\":{\"output\":{\"title\":\"output\",\"dataType\":\"image\"}},\"dataType\":\"image\",\"title\":\"reroute\"},{\"id\":\"8\",\"type\":\"fake.print\",\"position\":{\"x\":997.4522700512562,\"y\":570.0537606830407},\"inputs\":{\"execIn\":{\"title\":\"execIn\",\"dataType\":\"exec\"},\"input\":{\"title\":\"number\",\"value\":\"\",\"dataType\":\"anyDataType\"},\"dim\":{\"title\":\"digits\",\"dataType\":\"integer\"}},\"outputs\":{\"execOut\":{\"dataType\":\"exec\"},\"input\":{\"title\":\"number\",\"dataType\":\"anyDataType\"}},\"title\":\"round\"}],\"edges\":[{\"id\":\"reactflow__edge-1execOut-0execIn\",\"output\":\"1\",\"input\":\"0\",\"outputHandle\":\"execOut\",\"inputHandle\":\"execIn\",\"dataType\":\"exec\",\"style\":{\"strokeWidth\":2,\"stroke\":\"hsl(0, 0%, 0%)\"}},{\"id\":\"reactflow__edge-4execOut-6execIn\",\"output\":\"4\",\"input\":\"6\",\"outputHandle\":\"execOut\",\"inputHandle\":\"execIn\",\"dataType\":\"exec\",\"style\":{\"strokeWidth\":2,\"stroke\":\"hsl(0, 0%, 0%)\"}},{\"id\":\"reactflow__edge-13execOut-15execIn\",\"output\":\"13\",\"input\":\"15\",\"outputHandle\":\"execOut\",\"inputHandle\":\"execIn\",\"dataType\":\"exec\",\"style\":{\"strokeWidth\":2,\"stroke\":\"hsl(0, 0%, 0%)\"}},{\"id\":\"reactflow__edge-18functionCallExecOut-16execOut\",\"output\":\"18\",\"input\":\"16\",\"outputHandle\":\"functionCallExecOut\",\"inputHandle\":\"execOut\",\"dataType\":\"exec\",\"style\":{\"strokeWidth\":2,\"stroke\":\"hsl(0, 0%, 0%)\"}},{\"id\":\"reactflow__edge-16in_0-19in1\",\"output\":\"16\",\"input\":\"19\",\"outputHandle\":\"in_0\",\"inputHandle\":\"in1\",\"dataType\":\"anyDataType\",\"style\":{\"strokeWidth\":2,\"stroke\":\"hsl(0, 0%, 50%)\"}},{\"id\":\"reactflow__edge-3output-16out_0\",\"output\":\"3\",\"input\":\"16\",\"outputHandle\":\"output\",\"inputHandle\":\"out_0\",\"dataType\":\"anyDataType\",\"style\":{\"strokeWidth\":2,\"stroke\":\"hsl(0, 0%, 50%)\"}},{\"id\":\"reactflow__edge-18in_0-5input\",\"output\":\"18\",\"input\":\"5\",\"outputHandle\":\"in_0\",\"inputHandle\":\"input\",\"dataType\":\"anyDataType\",\"style\":{\"strokeWidth\":2,\"stroke\":\"hsl(0, 0%, 50%)\"}},{\"id\":\"reactflow__edge-5output-19in2\",\"output\":\"5\",\"input\":\"19\",\"outputHandle\":\"output\",\"inputHandle\":\"in2\",\"dataType\":\"anyDataType\",\"style\":{\"strokeWidth\":2,\"stroke\":\"hsl(0, 0%, 50%)\"}},{\"id\":\"reactflow__edge-7output-3input\",\"output\":\"7\",\"input\":\"3\",\"outputHandle\":\"output\",\"inputHandle\":\"input\",\"dataType\":\"anyDataType\",\"style\":{\"strokeWidth\":2,\"stroke\":\"hsl(0, 0%, 50%)\"}},{\"id\":\"reactflow__edge-16functionCallExecOut-8execIn\",\"output\":\"16\",\"input\":\"8\",\"outputHandle\":\"functionCallExecOut\",\"inputHandle\":\"execIn\",\"dataType\":\"exec\",\"style\":{\"strokeWidth\":2,\"stroke\":\"hsl(0, 0%, 0%)\"}},{\"id\":\"reactflow__edge-8input-2input\",\"output\":\"8\",\"input\":\"2\",\"outputHandle\":\"input\",\"inputHandle\":\"input\",\"dataType\":\"anyDataType\",\"style\":{\"strokeWidth\":2,\"stroke\":\"hsl(0, 0%, 50%)\"}},{\"id\":\"reactflow__edge-19out-8input\",\"output\":\"19\",\"input\":\"8\",\"outputHandle\":\"out\",\"inputHandle\":\"input\",\"dataType\":\"anyDataType\",\"style\":{\"strokeWidth\":2,\"stroke\":\"hsl(0, 0%, 50%)\"}},{\"id\":\"reactflow__edge-0image-18out_0\",\"output\":\"0\",\"input\":\"18\",\"outputHandle\":\"image\",\"inputHandle\":\"out_0\",\"dataType\":\"anyDataType\",\"style\":{\"strokeWidth\":2,\"stroke\":\"hsl(0, 0%, 50%)\"}},{\"id\":\"reactflow__edge-0execOut-18execOut\",\"output\":\"0\",\"input\":\"18\",\"outputHandle\":\"execOut\",\"inputHandle\":\"execOut\",\"dataType\":\"exec\",\"style\":{\"strokeWidth\":2,\"stroke\":\"hsl(0, 0%, 0%)\"}},{\"id\":\"reactflow__edge-0image-7input\",\"output\":\"0\",\"input\":\"7\",\"outputHandle\":\"image\",\"inputHandle\":\"input\",\"dataType\":\"image\",\"style\":{\"strokeWidth\":2,\"stroke\":\"hsl(300, 200%, 25%)\"}},{\"id\":\"reactflow__edge-8execOut-2execIn\",\"output\":\"8\",\"input\":\"2\",\"outputHandle\":\"execOut\",\"inputHandle\":\"execIn\",\"dataType\":\"exec\",\"style\":{\"strokeWidth\":2,\"stroke\":\"hsl(0, 0%, 0%)\"}}]}"
   ]
  },
  {
   "cell_type": "markdown",
   "id": "d6802376-8ce8-4b55-836d-908fd833352b",
   "metadata": {},
   "source": [
    "From the output, we can know around 10% of the cells are currently undergoing mitosis for this example."
   ]
  }
 ],
 "metadata": {
  "kernelspec": {
   "display_name": "Python 3 (ipykernel)",
   "language": "python",
   "name": "python3"
  },
  "language_info": {
   "codemirror_mode": {
    "name": "ipython",
    "version": 3
   },
   "file_extension": ".py",
   "mimetype": "text/x-python",
   "name": "python",
   "nbconvert_exporter": "python",
   "pygments_lexer": "ipython3",
   "version": "3.10.12"
  }
 },
 "nbformat": 4,
 "nbformat_minor": 5
}
