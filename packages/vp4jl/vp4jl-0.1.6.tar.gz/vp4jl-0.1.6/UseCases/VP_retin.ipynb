{
 "cells": [
  {
   "cell_type": "code",
   "execution_count": 4,
   "id": "4b7cc8c3-d473-4589-a17d-1716f8934de1",
   "metadata": {
    "code type": "visual code"
   },
   "outputs": [],
   "source": [
    "{\"nodes\":[{\"id\":\"0\",\"type\":\"Flow Control.main\",\"position\":{\"x\":16,\"y\":87.60164251991357},\"outputs\":{\"execOut\":{\"dataType\":\"exec\"}},\"title\":\"main\"},{\"id\":\"1\",\"type\":\"imageio.read_image\",\"position\":{\"x\":122,\"y\":121.56695967721336},\"inputs\":{\"execIn\":{\"title\":\"execIn\",\"dataType\":\"exec\"},\"path\":{\"title\":\"path\",\"value\":\"retina.jpg\",\"dataType\":\"string\"},\"mode\":{\"title\":\"mode\",\"dataType\":\"imageio.ImageReadMode\"}},\"outputs\":{\"execOut\":{\"title\":\"execOut\",\"dataType\":\"exec\"},\"image\":{\"title\":\"image\",\"dataType\":\"image\"}},\"title\":\"read_image\"},{\"id\":\"2\",\"type\":\"sciKitImage.exposure.equalizeAdapthist\",\"position\":{\"x\":447,\"y\":31.999999999999993},\"inputs\":{\"execIn\":{\"title\":\"execIn\",\"dataType\":\"exec\"},\"image\":{\"title\":\"image\",\"value\":{\"dataType\":\"numpy.ndarray\",\"metadata\":[{\"colorChannel\":\"rgb\",\"isMiniBatched\":false,\"channelOrder\":\"channelLast\",\"intensityRange\":\"0-255\",\"device\":\"cpu\"}]},\"dataType\":\"image\"},\"kernel_size\":{\"title\":\"kernel_size\",\"dataType\":\"anyDataType\"},\"clip_limit\":{\"title\":\"clip_limit\",\"dataType\":\"anyDataType\"},\"nbins\":{\"title\":\"nbins\",\"dataType\":\"anyDataType\"}},\"outputs\":{\"execOut\":{\"title\":\"execOut\",\"dataType\":\"exec\"},\"image\":{\"title\":\"image\",\"dataType\":\"image\"}},\"title\":\"equalize_adapthist\"},{\"id\":\"3\",\"type\":\"Kornia.filters.canny\",\"position\":{\"x\":796,\"y\":49.953702986146894},\"inputs\":{\"execIn\":{\"title\":\"execIn\",\"dataType\":\"exec\"},\"image\":{\"title\":\"image\",\"value\":{\"dataType\":\"torch.tensor\",\"metadata\":[{\"colorChannel\":[\"rgb\",\"grayscale\"],\"isMiniBatched\":true,\"channelOrder\":\"channelFirst\",\"intensityRange\":[\"0-1\"],\"device\":[\"cpu\",\"gpu\"]}]},\"dataType\":\"image\"},\"low_threshold\":{\"title\":\"low_threshold\",\"dataType\":\"float\"},\"high_threshold\":{\"title\":\"high_threshold\",\"dataType\":\"float\"},\"kernel_size\":{\"title\":\"kernel_size\",\"dataType\":\"tuple\"},\"sigma\":{\"title\":\"sigma\",\"dataType\":\"tuple\"},\"hysteresis\":{\"title\":\"hysteresis\",\"dataType\":\"boolean\"},\"eps\":{\"title\":\"eps\",\"dataType\":\"float\"}},\"outputs\":{\"execOut\":{\"title\":\"execOut\",\"dataType\":\"exec\"},\"magnitudes\":{\"title\":\"magnitudes\",\"dataType\":\"image\"},\"edge\":{\"title\":\"edge\",\"dataType\":\"image\"}},\"title\":\"canny_edge_detection\"}],\"edges\":[{\"id\":\"reactflow__edge-0execOut-1execIn\",\"output\":\"0\",\"input\":\"1\",\"outputHandle\":\"execOut\",\"inputHandle\":\"execIn\",\"dataType\":\"exec\",\"style\":{\"strokeWidth\":2,\"stroke\":\"hsl(0, 0%, 0%)\"}},{\"id\":\"reactflow__edge-1execOut-2execIn\",\"output\":\"1\",\"input\":\"2\",\"outputHandle\":\"execOut\",\"inputHandle\":\"execIn\",\"dataType\":\"exec\",\"style\":{\"strokeWidth\":2,\"stroke\":\"hsl(0, 0%, 0%)\"}},{\"id\":\"reactflow__edge-1image-2image\",\"output\":\"1\",\"input\":\"2\",\"outputHandle\":\"image\",\"inputHandle\":\"image\",\"dataType\":\"image\",\"style\":{\"strokeWidth\":2,\"stroke\":\"hsl(300, 200%, 25%)\"}},{\"id\":\"reactflow__edge-2execOut-3execIn\",\"output\":\"2\",\"input\":\"3\",\"outputHandle\":\"execOut\",\"inputHandle\":\"execIn\",\"dataType\":\"exec\",\"style\":{\"strokeWidth\":2,\"stroke\":\"hsl(0, 0%, 0%)\"}},{\"id\":\"reactflow__edge-2image-3image\",\"output\":\"2\",\"input\":\"3\",\"outputHandle\":\"image\",\"inputHandle\":\"image\",\"dataType\":\"image\",\"style\":{\"strokeWidth\":2,\"stroke\":\"hsl(300, 200%, 25%)\"}}]}"
   ]
  },
  {
   "cell_type": "code",
   "execution_count": null,
   "id": "7fa797dd-0624-4ec3-ac59-f65f889dc3ad",
   "metadata": {},
   "outputs": [],
   "source": []
  }
 ],
 "metadata": {
  "kernelspec": {
   "display_name": "Python 3 (ipykernel)",
   "language": "python",
   "name": "python3"
  },
  "language_info": {
   "codemirror_mode": {
    "name": "ipython",
    "version": 3
   },
   "file_extension": ".py",
   "mimetype": "text/x-python",
   "name": "python",
   "nbconvert_exporter": "python",
   "pygments_lexer": "ipython3",
   "version": "3.10.12"
  }
 },
 "nbformat": 4,
 "nbformat_minor": 5
}
