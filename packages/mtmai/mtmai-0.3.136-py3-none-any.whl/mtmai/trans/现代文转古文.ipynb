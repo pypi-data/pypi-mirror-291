{
 "cells": [
  {
   "cell_type": "code",
   "execution_count": null,
   "metadata": {},
   "outputs": [],
   "source": []
  },
  {
   "cell_type": "markdown",
   "metadata": {},
   "source": [
    "# 模型训练，让llama3.18b模型具备将现代汉语转换为古文风格的文章\n",
    "- 资料库：https://github.com/NiuTrans/Classical-Modern\n",
    "- 参考别人的训练数据集： https://huggingface.co/datasets/AISPIN/shiji-70liezhuan\n",
    "- 别人训练好的模型 参考： https://huggingface.co/AISPIN/Llama-3.1-8B-bnb-4bit-wenyanwen\n",
    "- 参考视频： https://www.youtube.com/watch?v=Tq6qPw8EUVg\n"
   ]
  },
  {
   "cell_type": "code",
   "execution_count": null,
   "metadata": {},
   "outputs": [],
   "source": [
    "'''\n",
    "数据转换\n",
    "convert.py is a script that reads the content of the source and target files in the subfolders of the folder_path\n",
    "and combines them into a dataset. The source file is the input field, and the target file is the output field.\n",
    "Please refer to the youtube video for more details: https://youtu.be/Tq6qPw8EUVg\n",
    "'''\n",
    "import os\n",
    "import json\n",
    "import pandas as pd\n",
    "\n",
    "\n",
    "folder_path = \"双语数据\\史记\\七十列传\"\n",
    "\n",
    "\n",
    "# get all subfolders in the folder, then for each subfolder, get source file and target file,\n",
    "# then read the content of the files then combine them into a dateset, the source file is the input field,\n",
    "# the target file is the output field, and the target file is the output field\n",
    "\n",
    "def get_files(folder_path):\n",
    "    subfolders = [f.path for f in os.scandir(folder_path) if f.is_dir()]\n",
    "    print(subfolders)\n",
    "    dataset = []\n",
    "\n",
    "    source_file = \"source.txt\"\n",
    "    target_file = \"target.txt\"\n",
    "    for x in subfolders:\n",
    "        with open(os.path.join(x,source_file) , \"r\", encoding=\"utf-8\") as f:\n",
    "            source_content = f.read()\n",
    "        with open(os.path.join(x,target_file), \"r\", encoding=\"utf-8\") as f:\n",
    "            target_content = f.read()\n",
    "\n",
    "        # source and target needs to be split by \"\\n\"\n",
    "        source_content = source_content.split(\"\\n\")\n",
    "        target_content = target_content.split(\"\\n\")\n",
    "\n",
    "        # source and target should be saved into dateset line by line\n",
    "        for i in range(len(source_content)):\n",
    "            dataset.append([source_content[i], target_content[i]])\n",
    "\n",
    "    return dataset\n",
    "\n",
    "dataset = get_files(folder_path)\n",
    "\n",
    "# add one column \"instruction\" with the content \"请把古文翻译成现代汉语\" to the dataset\n",
    "df = pd.DataFrame(dataset, columns=[\"source\", \"target\"])\n",
    "df[\"instruction\"] = \"请把现代汉语翻译成古文\"\n",
    "\n",
    "# rename the columns: source -> output, target -> input\n",
    "df.rename(columns={\"source\": \"output\", \"target\": \"input\"}, inplace=True)\n",
    "\n",
    "# print length of the dataset\n",
    "print(len(df))\n",
    "\n",
    "# save the dataset into a jsonl file\n",
    "df.to_json(\"dataset.jsonl\", orient=\"records\", lines=True, force_ascii=False)"
   ]
  }
 ],
 "metadata": {
  "language_info": {
   "name": "python"
  }
 },
 "nbformat": 4,
 "nbformat_minor": 2
}
