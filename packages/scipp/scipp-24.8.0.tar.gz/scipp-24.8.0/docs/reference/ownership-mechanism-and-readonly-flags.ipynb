{
 "cells": [
  {
   "cell_type": "markdown",
   "id": "030ca40b-8de7-4ab7-a71c-63685298be5d",
   "metadata": {
    "tags": []
   },
   "source": [
    "# Ownership mechanism and readonly flags\n",
    "\n",
    "The Scipp data structures (variables, data arrays, and datasets) behave mostly like nested Python objects, i.e., sub-objects are shared by default.\n",
    "Some of the effects are exemplified in the following.\n",
    "\n",
    "## Shared ownership\n",
    "\n",
    "### Variables\n",
    "\n",
    "Slices or other views of variables are also of type `Variable` and all views share ownership of the underlying data.\n",
    "\n",
    "If a variable refers only to a section of the underlying data buffer this is indicated in the HTML view in the title line as part of the size (*\"x Bytes out of y Bytes\"*).\n",
    "This allows for identification of \"small\" variables that keep alive potentially large buffers:"
   ]
  },
  {
   "cell_type": "code",
   "execution_count": null,
   "id": "11645e21-4977-4796-8e24-a5eff607adeb",
   "metadata": {},
   "outputs": [],
   "source": [
    "import scipp as sc\n",
    "\n",
    "var = sc.arange(dim='x', unit='m', start=0, stop=12)\n",
    "var['x', 4:6]"
   ]
  },
  {
   "cell_type": "markdown",
   "id": "4964a047-7428-4bfc-8133-ad97ac201b5e",
   "metadata": {},
   "source": [
    "To create a variable with sole ownership of a buffer, use the `copy()` method:"
   ]
  },
  {
   "cell_type": "code",
   "execution_count": null,
   "id": "ab601216-6657-45b8-81cf-54d3f1e73e76",
   "metadata": {},
   "outputs": [],
   "source": [
    "var['x', 4:6].copy()"
   ]
  },
  {
   "cell_type": "markdown",
   "id": "8b00d395-8fa9-4f38-99a7-2572b3ae39d6",
   "metadata": {},
   "source": [
    "By default, `copy()` returns a deep copy.\n",
    "Shallow copies can be made by specifying `deep=False`, which preserves shared ownership of underlying buffers:"
   ]
  },
  {
   "cell_type": "code",
   "execution_count": null,
   "id": "f9c888bc-3439-4cd5-9120-28e20634a3e6",
   "metadata": {},
   "outputs": [],
   "source": [
    "shallow_copy = var['x', 4:6].copy(deep=False)\n",
    "shallow_copy"
   ]
  },
  {
   "cell_type": "markdown",
   "id": "be0a620c-db87-4c06-967a-ff1ec260c567",
   "metadata": {},
   "source": [
    "### Data arrays\n",
    "\n",
    "As a result of the sharing mechanism, extra care must be taken in some cases, just like when working with any other Python library.\n",
    "Consider the following example, using the same variable as data and as a coordinate:"
   ]
  },
  {
   "cell_type": "code",
   "execution_count": null,
   "id": "13230d53-de54-4ab0-9422-494141263c68",
   "metadata": {},
   "outputs": [],
   "source": [
    "da = sc.DataArray(data=var, coords={'x': var})\n",
    "da += 666 * sc.units.m\n",
    "da"
   ]
  },
  {
   "cell_type": "markdown",
   "id": "2df62313-8ecc-49bf-874b-dbd40786015a",
   "metadata": {},
   "source": [
    "The modification unintentionally also affected the coordinate.\n",
    "However, if we think of data arrays and coordinate dicts as Python-like objects, then the behavior should not be surprising.\n",
    "\n",
    "Note that the original `var` is also affected:"
   ]
  },
  {
   "cell_type": "code",
   "execution_count": null,
   "id": "f6997509-8f8c-4cb4-ab71-26ab671aa6b1",
   "metadata": {},
   "outputs": [],
   "source": [
    "var"
   ]
  },
  {
   "cell_type": "markdown",
   "id": "8e9387ab-75a9-4c8f-aa5e-63491f2efa41",
   "metadata": {},
   "source": [
    "To avoid this, use `copy()`, e.g.,:"
   ]
  },
  {
   "cell_type": "code",
   "execution_count": null,
   "id": "50f43a3d-7f6d-4717-a0f5-5df5dbb5f719",
   "metadata": {},
   "outputs": [],
   "source": [
    "da = sc.DataArray(data=var.copy(), coords={'x': var.copy()})\n",
    "da += 666 * sc.units.m\n",
    "da"
   ]
  },
  {
   "cell_type": "markdown",
   "id": "2a9d161c-a051-48d9-8ecd-0b8e92df1d81",
   "metadata": {},
   "source": [
    "Apart from the standard and pythonic behavior, one advantage of this is that creating data arrays from variables is typically cheap, without inflicting copies of potentially large objects."
   ]
  },
  {
   "cell_type": "markdown",
   "id": "88329f88-e0bf-4bc9-a413-4f76ff03f6a8",
   "metadata": {},
   "source": [
    "### Datasets\n",
    "\n",
    "Just like creating data arrays from variables is cheap (without deep-copies), inserting items into datasets does not inflict potentially expensive deep copies:"
   ]
  },
  {
   "cell_type": "code",
   "execution_count": null,
   "id": "c6c9a93e-0a66-4ad4-8b14-34296691c06b",
   "metadata": {
    "tags": []
   },
   "outputs": [],
   "source": [
    "ds = sc.Dataset({'a': da})  # shallow copy"
   ]
  },
  {
   "cell_type": "markdown",
   "id": "dc18c382-ac1b-4427-bfc0-55e0cc35b8c8",
   "metadata": {},
   "source": [
    "Note that while the buffers are shared, the meta-data dicts `coords` and `masks` are not.\n",
    "Compare:"
   ]
  },
  {
   "cell_type": "code",
   "execution_count": null,
   "id": "b5a3bcd2-314d-40e7-90f5-8668de91a437",
   "metadata": {
    "tags": []
   },
   "outputs": [],
   "source": [
    "ds['a'].masks['m'] = da.coords['x'] < 670 * sc.Unit('m')\n",
    "'m' in da.masks  # the masks *dict* is copied"
   ]
  },
  {
   "cell_type": "markdown",
   "id": "e6f2a020-2438-447d-a64d-a641eb0469e2",
   "metadata": {},
   "source": [
    "with"
   ]
  },
  {
   "cell_type": "code",
   "execution_count": null,
   "id": "918c4cbf-130d-4c9f-a644-16d9a6a82244",
   "metadata": {
    "tags": []
   },
   "outputs": [],
   "source": [
    "da.coords['x'] *= -1\n",
    "# the coords *dict* is copied,\n",
    "# but the 'x' coordinate references same buffer\n",
    "ds.coords['x']"
   ]
  },
  {
   "cell_type": "markdown",
   "id": "b6051d12-a1c0-4a4f-8a0c-c10c83fa3398",
   "metadata": {},
   "source": [
    "## Read-only flags\n",
    "\n",
    "Consider the following attempt to modify the data via a slice:"
   ]
  },
  {
   "cell_type": "code",
   "execution_count": null,
   "id": "8e89f1f8-e053-405a-b2b9-6d2186961bbc",
   "metadata": {
    "tags": []
   },
   "outputs": [],
   "source": [
    "try:\n",
    "    da['x', 0].data = var['x', 2]\n",
    "except sc.DataArrayError as e:\n",
    "    print(e)"
   ]
  },
  {
   "cell_type": "markdown",
   "id": "75b43254-b76d-4057-ac0e-9d0c5c149e23",
   "metadata": {},
   "source": [
    "Since `da['x',0]` is itself a data array, assigning to the `data` property would repoint the data to whatever is given on the right-hand side.\n",
    "However, this would not affect `da`, and the attempt to change the data would silently do nothing, since the temporary `da['x',0]` disappears immediately.\n",
    "The read-only flag protects us from this.\n",
    "\n",
    "To actually modify the slice, use `__setitem__` instead:"
   ]
  },
  {
   "cell_type": "code",
   "execution_count": null,
   "id": "e32a1a73-e1c2-46cf-9ac6-31cdd9971628",
   "metadata": {
    "tags": []
   },
   "outputs": [],
   "source": [
    "da['x', 0] = var['x', 2]"
   ]
  },
  {
   "cell_type": "markdown",
   "id": "2768bdc0-9263-4de6-b07d-a98acd660060",
   "metadata": {},
   "source": [
    "Variables, meta-data dicts (`coords`, `masks`, and `attrs` properties), data arrays, and datasets also have read-only flags.\n",
    "The flags solve a number of conceptual issues and serve as a safeguard against hidden bugs.\n",
    "\n",
    "One example is a broadcast of a variable:"
   ]
  },
  {
   "cell_type": "code",
   "execution_count": null,
   "id": "487951e1-0619-4a54-924f-29d946618953",
   "metadata": {
    "tags": []
   },
   "outputs": [],
   "source": [
    "var = sc.broadcast(sc.scalar(1.0), dims=['x'], shape=[10])\n",
    "try:\n",
    "    var += 7\n",
    "except sc.VariableError as e:\n",
    "    print(e)"
   ]
  },
  {
   "cell_type": "markdown",
   "id": "dc8e93c3-a0ae-4fb6-9613-4cbcdb33e54d",
   "metadata": {},
   "source": [
    "Since `broadcast` returns a view, the readon-only flag is set to avoid multiple additions to the same element."
   ]
  }
 ],
 "metadata": {
  "kernelspec": {
   "display_name": "Python 3 (ipykernel)",
   "language": "python",
   "name": "python3"
  },
  "language_info": {
   "codemirror_mode": {
    "name": "ipython",
    "version": 3
   },
   "file_extension": ".py",
   "mimetype": "text/x-python",
   "name": "python",
   "nbconvert_exporter": "python",
   "pygments_lexer": "ipython3"
  }
 },
 "nbformat": 4,
 "nbformat_minor": 5
}
