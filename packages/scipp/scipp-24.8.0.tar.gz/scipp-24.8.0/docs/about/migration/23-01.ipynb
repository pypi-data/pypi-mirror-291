{
 "cells": [
  {
   "cell_type": "markdown",
   "id": "65d543e8-a4c5-4eaa-b660-ce9f38a6b1bd",
   "metadata": {},
   "source": [
    "# Migrating to Scipp 23.01.0 "
   ]
  },
  {
   "cell_type": "markdown",
   "id": "921d565c-0e5a-4a9e-9467-b3d066d08f5c",
   "metadata": {},
   "source": [
    "## Overview\n",
    "\n",
    "Starting with Scipp 23.01.0, a `VariancesError` is raised when an operand with variances (statistical uncertianties) is implicitly or explicitly broadcast.\n",
    "This is a necessary bugfix, since Scipp is not capable of tracking correlations and would thus silently underestimate uncertainties."
   ]
  },
  {
   "cell_type": "markdown",
   "id": "6eaaff9a-e08d-4e84-a299-0bbf4ff56b3e",
   "metadata": {
    "tags": []
   },
   "source": [
    "## What is affected?\n",
    "\n",
    "Any operation with a broadcast of an operand with variances is affected.\n",
    "This can happen for dense data as well as for binned data.\n",
    "We give two examples:"
   ]
  },
  {
   "cell_type": "code",
   "execution_count": null,
   "id": "7ee57dea-da15-439b-8cde-17924a8f3289",
   "metadata": {},
   "outputs": [],
   "source": [
    "import scipp as sc\n",
    "\n",
    "var = sc.ones(dims=['x', 'y'], shape=(4, 3))\n",
    "norm = sc.array(\n",
    "    dims=['y'],\n",
    "    values=[0.1, 0.2, 0.3],\n",
    "    variances=[0.1, 0.2, 0.3],\n",
    ")"
   ]
  },
  {
   "cell_type": "markdown",
   "id": "5a3501a6-e855-4667-b2fc-a10a5a8bb669",
   "metadata": {},
   "source": [
    "An operation between `var` and `norm` will raise `VariancesError` since `norm` is broadcast into dimension `'x'`:"
   ]
  },
  {
   "cell_type": "code",
   "execution_count": null,
   "id": "f6f16545-caa4-453d-9e67-18663ca5281e",
   "metadata": {
    "tags": [
     "raises-exception"
    ]
   },
   "outputs": [],
   "source": [
    "var / norm"
   ]
  },
  {
   "cell_type": "code",
   "execution_count": null,
   "id": "e0bd3114-3502-424f-a70b-ee7306264fae",
   "metadata": {},
   "outputs": [],
   "source": [
    "binned = sc.data.table_xyz(100).bin(y=3)"
   ]
  },
  {
   "cell_type": "markdown",
   "id": "65722b75-6aba-4a30-a9e3-2cbe1eb23394",
   "metadata": {},
   "source": [
    "An operation between `binned` and `norm` will raise `VariancesError` since `norm` is broadcast to all bin elements:"
   ]
  },
  {
   "cell_type": "code",
   "execution_count": null,
   "id": "c33fce46-a1be-41aa-9660-c69b83a70548",
   "metadata": {
    "tags": [
     "raises-exception"
    ]
   },
   "outputs": [],
   "source": [
    "binned / norm"
   ]
  },
  {
   "cell_type": "markdown",
   "id": "9dd8781c-6003-4243-a1e3-810a4088219d",
   "metadata": {},
   "source": [
    "## Working around the new behavior\n",
    "\n",
    "Scipp will not be able to support an automatic approach for handling these cases correctly, since this would be either very costly or very problem-specific.\n",
    "An easy **but wrong** work around (equivalent to the old behavior in almost all cases) is to set the variances of the term being broadcast to `None`:"
   ]
  },
  {
   "cell_type": "code",
   "execution_count": null,
   "id": "212a76f9-18b0-4390-a557-3c9cdd251c69",
   "metadata": {},
   "outputs": [],
   "source": [
    "import logging\n",
    "\n",
    "stream_handler = logging.StreamHandler()\n",
    "logger = sc.get_logger()\n",
    "logger.addHandler(stream_handler)"
   ]
  },
  {
   "cell_type": "code",
   "execution_count": null,
   "id": "656d28de-d695-4523-a1c4-269853aa94ad",
   "metadata": {},
   "outputs": [],
   "source": [
    "logger.warning(\n",
    "    \"\"\"ATTENTION:\n",
    "    Statistical uncertainties of the normalization term were IGNORED.\n",
    "    This is probably incorrect.\"\"\"\n",
    ")\n",
    "norm.variances = None\n",
    "var / norm\n",
    "binned / norm"
   ]
  },
  {
   "cell_type": "markdown",
   "id": "ab2df54b-0af1-4cbd-96eb-cabae9247f0b",
   "metadata": {},
   "source": [
    "We repeat that this is **incorrect**.\n",
    "We strongly recommend to issue an explicit warning to the user, as shown in the example."
   ]
  },
  {
   "cell_type": "markdown",
   "id": "800f1743-9031-4923-9712-1ab9e703f505",
   "metadata": {},
   "source": [
    "## Fixing the problem\n",
    "\n",
    "For many applications there is no simple solution to this, as it may involve an intractably large correlation matrix.\n",
    "See our publication (preprint submitted to Journal of Neutron Science) for solutions in certain cases.\n",
    "\n",
    "We recommend to derive the actual expression for uncertainties of the entire calculation, using a first-order truncated Taylor expansion.\n",
    "In a number of our own applications it turned out that the final expression can be computed rather cheaply &mdash; without dealing with the intractably large intermediate correlation matrices.\n",
    "\n",
    "If this is not possible, approaches such as Bootstrapping may be used."
   ]
  }
 ],
 "metadata": {
  "kernelspec": {
   "display_name": "Python 3 (ipykernel)",
   "language": "python",
   "name": "python3"
  },
  "language_info": {
   "codemirror_mode": {
    "name": "ipython",
    "version": 3
   },
   "file_extension": ".py",
   "mimetype": "text/x-python",
   "name": "python",
   "nbconvert_exporter": "python",
   "pygments_lexer": "ipython3"
  }
 },
 "nbformat": 4,
 "nbformat_minor": 5
}
