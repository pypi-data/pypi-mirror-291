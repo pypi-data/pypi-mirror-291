{
 "cells": [
  {
   "cell_type": "markdown",
   "id": "e9ebfe66-3d7d-44b2-b1cf-0d1bf47393de",
   "metadata": {
    "editable": true,
    "slideshow": {
     "slide_type": ""
    },
    "tags": []
   },
   "source": [
    "**Audience**: Advanced beginner / intermediate (*requires basic knowledge of* `scipp.DataArray`)\n",
    "\n",
    "**Objectives**: Constructing binned data from an event list, modifying binning in order to extract different quantities, and basic masking and filtering of event and binned data."
   ]
  },
  {
   "cell_type": "markdown",
   "id": "ae0c6664-2a07-47e7-a411-f45773fd6eeb",
   "metadata": {
    "editable": true,
    "slideshow": {
     "slide_type": ""
    },
    "tags": []
   },
   "source": [
    "# RHESSI Solar Flares"
   ]
  },
  {
   "cell_type": "markdown",
   "id": "b467cb78-845d-4d0f-a31b-f8df93419de5",
   "metadata": {
    "editable": true,
    "slideshow": {
     "slide_type": ""
    },
    "tags": []
   },
   "source": [
    "This tutorial covers the basics of binned data in Scipp by analyzing the list of solar flares recorded by NASA's RHESSI small explorer [[Lin *et al*](#lin2002)].\n",
    "\n",
    "The input data has been constructed from the official [flare list](https://hesperia.gsfc.nasa.gov/rhessi3/data-access/rhessi-data/flare-list/index.html).\n",
    "It is available as a HDF5 file in Scipp's own format and can be downloaded and accessed directly via `scipp.data` as shown below.\n",
    "\n",
    "<div class=\"alert alert-warning\">\n",
    "\n",
    "**Attention**\n",
    "\n",
    "The tutorial data has been filtered and modified.\n",
    "It should not be used for any actual scientific analyses!\n",
    "\n",
    "See `docs/getting-started/tutorials/prepare_data_rhessi.py` in the [scipp source](https://github.com/scipp/scipp) for details.\n",
    "</div>"
   ]
  },
  {
   "cell_type": "markdown",
   "id": "d1c256c4-f55c-49e0-bff0-99da53c4f47a",
   "metadata": {
    "editable": true,
    "slideshow": {
     "slide_type": ""
    },
    "tags": []
   },
   "source": [
    "## 1 Loading and preprocessing data"
   ]
  },
  {
   "cell_type": "code",
   "execution_count": null,
   "id": "31ded75c-b917-4db4-9117-e5546b2dd9bb",
   "metadata": {
    "editable": true,
    "slideshow": {
     "slide_type": ""
    },
    "tags": []
   },
   "outputs": [],
   "source": [
    "import scipp as sc"
   ]
  },
  {
   "cell_type": "markdown",
   "id": "3cdb853b-8382-4b37-bcbb-dd75857e7d1e",
   "metadata": {
    "editable": true,
    "slideshow": {
     "slide_type": ""
    },
    "tags": []
   },
   "source": [
    "### 1.1 Load Flare List"
   ]
  },
  {
   "cell_type": "markdown",
   "id": "dbb321a3-0993-44cd-bb8a-1802cc9ed71d",
   "metadata": {
    "editable": true,
    "slideshow": {
     "slide_type": ""
    },
    "tags": []
   },
   "source": [
    "The file contains a number of items that are loaded together as a data group.\n",
    "- `flares`: The actual flare list.\n",
    "- `non_solar`: Indicates whether a flare event actually originated from a source that is not the Sun.\n",
    "- `detector_efficiency`: Relative efficiencies of the detector components. This is faked for the purposes of this tutorial! The official flare list is already corrected for such effects."
   ]
  },
  {
   "cell_type": "code",
   "execution_count": null,
   "id": "86c3f363-21d8-47f5-9ec7-992544e6fdf6",
   "metadata": {
    "editable": true,
    "slideshow": {
     "slide_type": ""
    },
    "tags": []
   },
   "outputs": [],
   "source": [
    "filename = sc.data.rhessi_flares()\n",
    "flare_datagroup = sc.io.load_hdf5(filename)\n",
    "flare_datagroup"
   ]
  },
  {
   "cell_type": "markdown",
   "id": "8e4ecc8f-de1e-40cf-ad29-38bf4d84d9c1",
   "metadata": {},
   "source": [
    "For ease of use, we extract the `flares` data array.\n",
    "Its data (`flares.data`) contains a weight for each flare.\n",
    "Initially, all weights are 1.\n",
    "\n",
    "Its coordinates have the following meanings:\n",
    "\n",
    "- `start_time`, `end_time`: Time interval of flare.\n",
    "- `peak_time`: Date and time of the highest x-ray flux.\n",
    "- `x`, `y`: Position in the image seen by RHESSI.\n",
    "- `min_energy`, `max_energy`: Energy band that a flare was observed in. Bands do not overlap."
   ]
  },
  {
   "cell_type": "code",
   "execution_count": null,
   "id": "ce2378ba-4360-4912-8777-9d2e39fce024",
   "metadata": {},
   "outputs": [],
   "source": [
    "flares = flare_datagroup['flares']\n",
    "flares"
   ]
  },
  {
   "cell_type": "markdown",
   "id": "3aa11b4b-c769-4a7d-a114-cc496be4ed93",
   "metadata": {
    "editable": true,
    "slideshow": {
     "slide_type": ""
    },
    "tags": []
   },
   "source": [
    "### 1.2 Inspect the Loaded Data"
   ]
  },
  {
   "cell_type": "markdown",
   "id": "28450a77-9148-491f-983b-bd120a9ea3d5",
   "metadata": {
    "editable": true,
    "slideshow": {
     "slide_type": ""
    },
    "tags": []
   },
   "source": [
    "Begin by inspecting the data group and flares data array to gain a basic understanding of the data.\n",
    "This task is open-ended, and you can continue when you feel confident that you know what `flares` (and `flare_datagroup`) contains.\n",
    "\n",
    "Possible actions:\n",
    "\n",
    "- Use [scipp.show](https://scipp.github.io/generated/functions/scipp.show.html) and [scipp.table](https://scipp.github.io/generated/functions/scipp.table.html) in addition to the HTML output of the cell above.\n",
    "- Inspect individual coordinates using `flares.coords['<name>']`.\n",
    "\n",
    "For guidance, you can answer the following questions. Or find your own.\n",
    "\n",
    "- How many flares are there in the dataset?\n",
    "- How many flares are flagged as 'non_solar'?\n",
    "- What is the time range of the data?\n",
    "\n",
    "**Tip**: Use [scipp.sum](https://scipp.github.io/generated/functions/scipp.sum.html), [scipp.max](https://scipp.github.io/generated/functions/scipp.max.html), and [scipp.min](https://scipp.github.io/generated/functions/scipp.min.html) with the coordinates of `flares` and items of `flare_datagroup`."
   ]
  },
  {
   "cell_type": "code",
   "execution_count": null,
   "id": "dab75b95-8b00-41e0-a3b6-50a1b0d71321",
   "metadata": {
    "editable": true,
    "slideshow": {
     "slide_type": ""
    },
    "tags": []
   },
   "outputs": [],
   "source": [
    "# YOUR CODE"
   ]
  },
  {
   "cell_type": "markdown",
   "id": "44486819-1a13-40a2-a80b-e0bf5c9de3ab",
   "metadata": {
    "tags": []
   },
   "source": [
    "#### Solution"
   ]
  },
  {
   "cell_type": "code",
   "execution_count": null,
   "id": "7903232a-07f0-487a-a177-026fe5196246",
   "metadata": {
    "tags": []
   },
   "outputs": [],
   "source": [
    "# Number of flares\n",
    "flares.sizes['flare']"
   ]
  },
  {
   "cell_type": "code",
   "execution_count": null,
   "id": "20eff55f-2cb7-4645-ba6c-9891f56b72c9",
   "metadata": {
    "tags": []
   },
   "outputs": [],
   "source": [
    "# Number of flares flagged as non-solar\n",
    "flare_datagroup['non_solar'].sum()"
   ]
  },
  {
   "cell_type": "code",
   "execution_count": null,
   "id": "ad38c88d-9ec7-4333-976b-51f5ac2de843",
   "metadata": {
    "tags": []
   },
   "outputs": [],
   "source": [
    "# Start of time range\n",
    "flares.coords['start_time'].min()"
   ]
  },
  {
   "cell_type": "code",
   "execution_count": null,
   "id": "f37f3588-fcf9-48e4-9df4-c19e9729ca7e",
   "metadata": {
    "tags": []
   },
   "outputs": [],
   "source": [
    "# End of time range\n",
    "flares.coords['end_time'].max()"
   ]
  },
  {
   "cell_type": "markdown",
   "id": "043d7773-c568-4ac0-9fbc-5e51f6b66d82",
   "metadata": {
    "editable": true,
    "slideshow": {
     "slide_type": ""
    },
    "tags": []
   },
   "source": [
    "---"
   ]
  },
  {
   "cell_type": "markdown",
   "id": "e93c038d-564f-4a73-8f8a-190a42e18aaa",
   "metadata": {},
   "source": [
    "### 1.3 Compute Duration"
   ]
  },
  {
   "cell_type": "markdown",
   "id": "e42adacc-4a6f-431b-af35-0b1e4dd2b2ed",
   "metadata": {},
   "source": [
    "Calculate the duration of flares as `end_time - start_time` and store the result as a new coordinate in `flares`.\n",
    "Remember that `flares.coords` functions like a Python `dict`."
   ]
  },
  {
   "cell_type": "code",
   "execution_count": null,
   "id": "923be2ea-e1bf-47bf-9f3f-46d2556512cf",
   "metadata": {
    "tags": []
   },
   "outputs": [],
   "source": [
    "# YOUR CODE"
   ]
  },
  {
   "cell_type": "markdown",
   "id": "9cb29a55-0956-45a2-bc3d-a6e727dfc581",
   "metadata": {
    "tags": []
   },
   "source": [
    "#### Solution"
   ]
  },
  {
   "cell_type": "markdown",
   "id": "22c02b11-4adc-4248-8fc8-ff974ccfa61f",
   "metadata": {},
   "source": [
    "Simple:"
   ]
  },
  {
   "cell_type": "code",
   "execution_count": null,
   "id": "12a58486-89db-4af8-ab0e-c0380c0ec081",
   "metadata": {
    "tags": []
   },
   "outputs": [],
   "source": [
    "duration = flares.coords['end_time'] - flares.coords['start_time']\n",
    "flares.coords['duration'] = duration"
   ]
  },
  {
   "cell_type": "markdown",
   "id": "aadd13a6-10eb-44a7-b451-be3269c05b4c",
   "metadata": {},
   "source": [
    "Advanced, using a [coordinate transformation](https://scipp.github.io/user-guide/coordinate-transformations.html):"
   ]
  },
  {
   "cell_type": "code",
   "execution_count": null,
   "id": "dd4a37f4-b50e-490d-b725-d43f12f00220",
   "metadata": {
    "tags": []
   },
   "outputs": [],
   "source": [
    "def compute_duration(start_time, end_time):\n",
    "    return end_time - start_time\n",
    "\n",
    "\n",
    "flares = flares.transform_coords('duration', {'duration': compute_duration})"
   ]
  },
  {
   "cell_type": "code",
   "execution_count": null,
   "id": "dcd87fde-d81e-4eb3-b214-88452b8f38ea",
   "metadata": {
    "tags": []
   },
   "outputs": [],
   "source": [
    "flares"
   ]
  },
  {
   "cell_type": "markdown",
   "id": "9df21c44-5781-49d4-8718-4c18c5ace9c9",
   "metadata": {},
   "source": [
    "---"
   ]
  },
  {
   "cell_type": "markdown",
   "id": "6457ac49-10b6-4027-b146-d5f06ca43628",
   "metadata": {},
   "source": [
    "####  \n",
    "What is the combined duration of flares?\n",
    "(Find an appropriate function in https://scipp.github.io/reference/free-functions.html#reduction)"
   ]
  },
  {
   "cell_type": "code",
   "execution_count": null,
   "id": "8346ed0f-a8f1-4b76-a739-a45dcbcb1e32",
   "metadata": {
    "tags": []
   },
   "outputs": [],
   "source": [
    "# YOUR CODE"
   ]
  },
  {
   "cell_type": "markdown",
   "id": "e20382fc-b277-4a16-acf7-207dd1536442",
   "metadata": {
    "tags": []
   },
   "source": [
    "#### Solution"
   ]
  },
  {
   "cell_type": "code",
   "execution_count": null,
   "id": "02d7fcdd-3fcb-400c-a0c8-01f376605d18",
   "metadata": {
    "tags": []
   },
   "outputs": [],
   "source": [
    "sc.sum(duration).to(unit='D', dtype='float64')"
   ]
  },
  {
   "cell_type": "markdown",
   "id": "ad5f7181-c02e-48ae-991d-5ff41ec00633",
   "metadata": {
    "editable": true,
    "slideshow": {
     "slide_type": ""
    },
    "tags": []
   },
   "source": [
    "---"
   ]
  },
  {
   "cell_type": "markdown",
   "id": "b5097a65-69cb-4869-a59f-3659ec507f9f",
   "metadata": {},
   "source": [
    "### 1.4 Create Masks"
   ]
  },
  {
   "cell_type": "markdown",
   "id": "dc6d5a37-f492-4500-b083-51139611b4c5",
   "metadata": {},
   "source": [
    "Some events in the input data did not originate from the Sun.\n",
    "\n",
    "There are two options for handling those events, removing them or masking them.\n",
    "You can choose a solution, but the descriptions guide you through masking, which is a method for removing events non-destructively.\n",
    "That is, the masks can be removed later to get the full event list back in order to determine the impact of the masks.\n",
    "\n",
    "#### Non-solar mask\n",
    "First, store `'non_solar'` as a mask.\n",
    "Use `flare_datagroup` and `flares.masks` which are `dict`-like objects (similar to `flares.coords`)."
   ]
  },
  {
   "cell_type": "code",
   "execution_count": null,
   "id": "32eea6cf-382d-4599-a9a9-0598e00065bf",
   "metadata": {
    "tags": []
   },
   "outputs": [],
   "source": [
    "# YOUR CODE"
   ]
  },
  {
   "cell_type": "markdown",
   "id": "5aed2960-d89e-45db-aed7-106a5daea6d1",
   "metadata": {
    "tags": []
   },
   "source": [
    "#### Solution"
   ]
  },
  {
   "cell_type": "code",
   "execution_count": null,
   "id": "1ca38b96-0e36-428d-8598-be70a2bea883",
   "metadata": {
    "tags": []
   },
   "outputs": [],
   "source": [
    "flares.masks['non_solar'] = flare_datagroup['non_solar']"
   ]
  },
  {
   "cell_type": "markdown",
   "id": "9c059f7e-0ed7-4ec4-8c67-60a0c9b71577",
   "metadata": {
    "editable": true,
    "slideshow": {
     "slide_type": ""
    },
    "tags": []
   },
   "source": [
    "---"
   ]
  },
  {
   "cell_type": "markdown",
   "id": "baf4b39e-1349-4ffd-bd3f-820e0a318202",
   "metadata": {},
   "source": [
    "#### Unknown position mask\n",
    "\n",
    "Second, there are some flares whose positions could not be determined.\n",
    "Those are stored with `x == y == 0` and need to be removed, as well.\n",
    "\n",
    "Construct a boolean variable by comparing `flares.coords['<x_or_y>']` to 0.\n",
    "Note that `x` and `y` have unit 'asec'.\n",
    "This means that you have to construct a '0' with the same unit which can be done using `0 * sc.Unit('asec')`.\n",
    "\n",
    "Finally, combine the variables for `x` and `y` using `mask_x & mask_y` and store the result as a new mask in `flares`."
   ]
  },
  {
   "cell_type": "code",
   "execution_count": null,
   "id": "2d6da120-aa3a-4122-8403-da3fb274927a",
   "metadata": {
    "tags": []
   },
   "outputs": [],
   "source": [
    "# YOUR CODE"
   ]
  },
  {
   "cell_type": "markdown",
   "id": "379dac75-6b1d-4b46-8eed-2bf31a8fec4f",
   "metadata": {
    "tags": []
   },
   "source": [
    "#### Solution"
   ]
  },
  {
   "cell_type": "code",
   "execution_count": null,
   "id": "e21f1c3d-cf78-458e-a915-373f286c4c4c",
   "metadata": {
    "tags": []
   },
   "outputs": [],
   "source": [
    "flares.masks['unknown_position'] = (flares.coords['x'] == 0 * sc.Unit('asec')) & (\n",
    "    flares.coords['y'] == 0 * sc.Unit('asec')\n",
    ")"
   ]
  },
  {
   "cell_type": "markdown",
   "id": "3c47bb59-87ed-4c8d-ab41-23929dc95409",
   "metadata": {},
   "source": [
    "---"
   ]
  },
  {
   "cell_type": "markdown",
   "id": "b24196a9-76ba-4a03-90ca-4d1e9192c99b",
   "metadata": {},
   "source": [
    "####  \n",
    "How many flares are now masked? (By each mask individually and by the combination.)\n",
    "\n",
    "**Tip**: You can `sum` booleans."
   ]
  },
  {
   "cell_type": "code",
   "execution_count": null,
   "id": "37ece29c-a823-4a77-9a17-8e1e33345b06",
   "metadata": {
    "tags": []
   },
   "outputs": [],
   "source": [
    "# YOUR CODE"
   ]
  },
  {
   "cell_type": "markdown",
   "id": "ad1412df-fb93-4e4a-80e2-c1592b99d464",
   "metadata": {
    "tags": []
   },
   "source": [
    "#### Solution"
   ]
  },
  {
   "cell_type": "code",
   "execution_count": null,
   "id": "0523915c-0231-4be2-af30-520e411ba76a",
   "metadata": {
    "tags": []
   },
   "outputs": [],
   "source": [
    "ns_mask = flares.masks['non_solar']\n",
    "pos_mask = flares.masks['unknown_position']\n",
    "{\n",
    "    'non_solar': ns_mask.sum().value,\n",
    "    'unknown_position': pos_mask.sum().value,\n",
    "    'combined': sc.sum(ns_mask | pos_mask).value,\n",
    "}"
   ]
  },
  {
   "cell_type": "markdown",
   "id": "79424a2e-1ccb-4536-9d51-06ff572a02db",
   "metadata": {},
   "source": [
    "---"
   ]
  },
  {
   "cell_type": "markdown",
   "id": "13b063d3-a932-41c9-a63c-1a9566e9417e",
   "metadata": {},
   "source": [
    "## 2 Spatial Distribution"
   ]
  },
  {
   "cell_type": "markdown",
   "id": "eac62e2d-c2cf-4749-b211-df7d561ea6fc",
   "metadata": {
    "editable": true,
    "slideshow": {
     "slide_type": ""
    },
    "tags": []
   },
   "source": [
    "### 2.1 Bin by x and y"
   ]
  },
  {
   "cell_type": "markdown",
   "id": "f34e4191-aaf5-4d3b-b3ba-375f745f8ba9",
   "metadata": {
    "editable": true,
    "slideshow": {
     "slide_type": ""
    },
    "tags": []
   },
   "source": [
    "Plot the spatial distribution of flares.\n",
    "\n",
    "Plotting the event list `flares` would yield a scatter plot which is not particularly useful.\n",
    "A better approach is computing and plotting the density as a function of `x` and `y`.\n",
    "This is commonly done by histogramming the events.\n",
    "But Scipp offers an alternative: binning.\n",
    "\n",
    "Scipp's 'binned data' is similar to a histogram, except that the individual events are preserved.\n",
    "They are simply collected into bins as defined by bin-edge coordinates.\n",
    "\n",
    "Define bin-edges for `x` and `y`, use [scipp.bin](https://scipp.github.io/generated/functions/scipp.bin.html) to create binned data from `flares`, and plot the result.\n",
    "\n",
    "**Tip**:\n",
    "\n",
    "- Use [scipp.arange](https://scipp.github.io/generated/functions/scipp.arange.html) or [scipp.linspace](https://scipp.github.io/generated/functions/scipp.linspace.html) to construct the edges. Make sure to use the correct unit!\n",
    "- Use `sc.bin(flares, edges=[<edge_x>, <edge_y>])`.\n",
    "- Turn your binned data into a histogram before plotting using `<binned>.bins.sum()`.\n",
    "- See the [Plopp documentation](https://scipp.github.io/plopp/) for the relevant parts of the plotting API."
   ]
  },
  {
   "cell_type": "code",
   "execution_count": null,
   "id": "9cd94184-605e-4942-9a37-66ef1bfe9836",
   "metadata": {
    "tags": []
   },
   "outputs": [],
   "source": [
    "# YOUR CODE"
   ]
  },
  {
   "cell_type": "markdown",
   "id": "45c4239e-4674-4a4e-88c0-9a03ad3861e6",
   "metadata": {
    "editable": true,
    "slideshow": {
     "slide_type": ""
    },
    "tags": []
   },
   "source": [
    "#### Solution"
   ]
  },
  {
   "cell_type": "markdown",
   "id": "7bafba16-0f96-497b-b5b5-12310d5ca79a",
   "metadata": {},
   "source": [
    "Bin spatially."
   ]
  },
  {
   "cell_type": "code",
   "execution_count": null,
   "id": "abf5dc78-3f0f-4a99-9c23-107b23053155",
   "metadata": {
    "tags": []
   },
   "outputs": [],
   "source": [
    "spatial = flares.bin(\n",
    "    y=sc.linspace('y', -1200, 1200, 100, unit='asec'),\n",
    "    x=sc.linspace('x', -1200, 1200, 100, unit='asec'),\n",
    ")"
   ]
  },
  {
   "cell_type": "markdown",
   "id": "8632881c-3552-435e-9f75-9bdcaf56d292",
   "metadata": {},
   "source": [
    "Histogram and plot.\n",
    "The arguments to `plot` are optional but improve the result here."
   ]
  },
  {
   "cell_type": "code",
   "execution_count": null,
   "id": "c5944897-da22-40fa-af98-71a01d1fba09",
   "metadata": {
    "tags": []
   },
   "outputs": [],
   "source": [
    "p = spatial.hist().plot(aspect='equal', norm='log', cmap='inferno')\n",
    "p.canvas.xlabel = 'x [asec]'\n",
    "p.canvas.ylabel = 'y [asec]'\n",
    "p"
   ]
  },
  {
   "cell_type": "markdown",
   "id": "4b2759de-767f-49da-93df-9e96f0c19b88",
   "metadata": {
    "editable": true,
    "slideshow": {
     "slide_type": ""
    },
    "tags": []
   },
   "source": [
    "---"
   ]
  },
  {
   "cell_type": "markdown",
   "id": "51110da7-380d-4148-b6ca-aa2d0b7d0e9c",
   "metadata": {},
   "source": [
    "### 2.2 Remove Outliers"
   ]
  },
  {
   "cell_type": "markdown",
   "id": "ec304dcf-0026-4abb-a758-eca093219b5a",
   "metadata": {},
   "source": [
    "The plot shows a lot of outliers.\n",
    "They are not the non-solar events from before because those are not visible in the plot as they were masked out.\n",
    "Instead, the outliers are caused by RHESSI's electronics or analysis software glitching out and assigning bad positions to the flares.\n",
    "This includes the circular shape even though it looks deceptively Sun-like.\n",
    "\n",
    "The flare list does not include enough information to exclude all such bad positions.\n",
    "But the instrument can only detect x-rays for $x \\in [-1000~\\text{asec}, 1000~\\text{asec}]$ and $y \\in [-600~\\text{asec}, 600~\\text{asec}]$.\n",
    "So to first order, all events outside that range should be removed.\n",
    "\n",
    "Instead of using a mask as before, use binning this time.\n",
    "Create new bin-edges for `x` and `y` with the proper limits and bin the data with them, this will remove all events outside the valid range.\n",
    "Plot the result.\n",
    "(You can either bin the original `flares` data array or apply new bins to the previously binned array; both via [scipp.bin](https://scipp.github.io/generated/functions/scipp.bin.html))."
   ]
  },
  {
   "cell_type": "code",
   "execution_count": null,
   "id": "3aca7442-6d7f-484f-9250-e4aa4a76ad56",
   "metadata": {
    "tags": []
   },
   "outputs": [],
   "source": [
    "# YOUR CODE"
   ]
  },
  {
   "cell_type": "markdown",
   "id": "9113724b-e546-4698-bae9-c9c397a23b58",
   "metadata": {
    "tags": []
   },
   "source": [
    "#### Solution\n",
    "\n",
    "Bin into a more narrow range.\n",
    "Bin sizes are chosen such that bins are square."
   ]
  },
  {
   "cell_type": "code",
   "execution_count": null,
   "id": "6900f4ba-a69b-43b3-a730-10c4b97e9473",
   "metadata": {
    "tags": []
   },
   "outputs": [],
   "source": [
    "spatial = flares.bin(\n",
    "    y=sc.linspace('y', -600, 600, 90, unit='asec'),\n",
    "    x=sc.linspace('x', -1000, 1000, 150, unit='asec'),\n",
    ")"
   ]
  },
  {
   "cell_type": "markdown",
   "id": "9140bb7a-3e31-404e-9b4c-fbf941ac52b6",
   "metadata": {},
   "source": [
    "And plot like before."
   ]
  },
  {
   "cell_type": "code",
   "execution_count": null,
   "id": "a3eaaba5-5a1e-4073-b841-c91e2453a571",
   "metadata": {
    "tags": []
   },
   "outputs": [],
   "source": [
    "p = spatial.hist().plot(aspect='equal', norm='log', cmap='inferno')\n",
    "p.canvas.xlabel = 'x [asec]'\n",
    "p.canvas.ylabel = 'y [asec]'\n",
    "p"
   ]
  },
  {
   "cell_type": "markdown",
   "id": "e3ca35c4-6f3c-4e94-b293-5f8fa49a3519",
   "metadata": {
    "editable": true,
    "slideshow": {
     "slide_type": ""
    },
    "tags": []
   },
   "source": [
    "---"
   ]
  },
  {
   "cell_type": "markdown",
   "id": "ef565c40-3bd4-46a8-8b2d-bef301518705",
   "metadata": {},
   "source": [
    "### 2.3 Correct for Detector Efficiency"
   ]
  },
  {
   "cell_type": "markdown",
   "id": "1bf0f6ea-e3a6-41db-8b18-7239b34071e0",
   "metadata": {},
   "source": [
    "In this tutorial, we assume that the instrument consists of a 3x3 grid of detectors which each record x-rays from distinct directions.\n",
    "(The reality is more complicated, of course. See the [wiki](https://sprg.ssl.berkeley.edu/~tohban/wiki/index.php/Category:RHESSI) for more information.)\n",
    "Furthermore, the tutorial data has been manipulated to simulate different efficiencies of the individual detectors.\n",
    "\n",
    "The efficiency is available in the input data group:"
   ]
  },
  {
   "cell_type": "code",
   "execution_count": null,
   "id": "6064650d-13cf-4321-a26d-8c95a6cc2d87",
   "metadata": {
    "tags": []
   },
   "outputs": [],
   "source": [
    "efficiency = flare_datagroup['detector_efficiency']\n",
    "efficiency"
   ]
  },
  {
   "cell_type": "markdown",
   "id": "09e44b83-25dd-45fe-b9e1-57d5b1bd3467",
   "metadata": {},
   "source": [
    "Normalize the data by dividing by `efficiency`.\n",
    "You first need to bin into the correct bins as defined by the coordinates of `efficiency`."
   ]
  },
  {
   "cell_type": "code",
   "execution_count": null,
   "id": "a1a31620-f3a1-4e4d-9727-1a751006447c",
   "metadata": {},
   "outputs": [],
   "source": [
    "# YOUR CODE"
   ]
  },
  {
   "cell_type": "markdown",
   "id": "c1fcefac-1d52-479b-beaa-129f0ca3065a",
   "metadata": {
    "tags": []
   },
   "source": [
    "#### Solution"
   ]
  },
  {
   "cell_type": "code",
   "execution_count": null,
   "id": "84109959-e44f-4935-8d61-41a08753dca1",
   "metadata": {},
   "outputs": [],
   "source": [
    "coarse_spatial = spatial.bin(x=efficiency.coords['x'], y=efficiency.coords['y'])\n",
    "corrected = coarse_spatial / efficiency"
   ]
  },
  {
   "cell_type": "markdown",
   "id": "fc49a135-bac8-46f2-8eb4-19e6c2818f4f",
   "metadata": {
    "editable": true,
    "slideshow": {
     "slide_type": ""
    },
    "tags": []
   },
   "source": [
    "---"
   ]
  },
  {
   "cell_type": "markdown",
   "id": "b8b78bf0-362b-4e17-903e-37261f08a2b9",
   "metadata": {},
   "source": [
    "####  \n",
    "You can plot the corrected data as before. But it makes sense to return to smaller bins in order to resolve the distribution properly.\n",
    "This can be done using [scipp.bin](https://scipp.github.io/generated/functions/scipp.bin.html) with finer edges because the data was only binned and not histogrammed."
   ]
  },
  {
   "cell_type": "code",
   "execution_count": null,
   "id": "33135bc5-794a-4d6b-8a76-21466b69e4f0",
   "metadata": {},
   "outputs": [],
   "source": [
    "# YOUR CODE"
   ]
  },
  {
   "cell_type": "markdown",
   "id": "1c95f462-89c8-4d3f-85b6-97b8bff9c083",
   "metadata": {
    "tags": []
   },
   "source": [
    "#### Solution"
   ]
  },
  {
   "cell_type": "markdown",
   "id": "e5d0bf24-c8cf-4892-b7ca-c6d6fc27d8da",
   "metadata": {},
   "source": [
    "Bin in the same way as before but using `corrected` as input"
   ]
  },
  {
   "cell_type": "code",
   "execution_count": null,
   "id": "55c8a211-e4d0-48f1-a445-7fb71833f9e5",
   "metadata": {},
   "outputs": [],
   "source": [
    "spatial = corrected.bin(\n",
    "    y=sc.linspace('y', -600, 600, 90, unit='asec'),\n",
    "    x=sc.linspace('x', -1000, 1000, 150, unit='asec'),\n",
    ")"
   ]
  },
  {
   "cell_type": "markdown",
   "id": "e388a4bf-af0b-456b-8ad5-6ec796b6d030",
   "metadata": {},
   "source": [
    "And plot like before."
   ]
  },
  {
   "cell_type": "code",
   "execution_count": null,
   "id": "b0c7ddd7-ab76-48be-8b5e-7aaf4765f303",
   "metadata": {},
   "outputs": [],
   "source": [
    "p = spatial.hist().plot(aspect='equal', norm='log', cmap='inferno')\n",
    "p.canvas.xlabel = 'x [asec]'\n",
    "p.canvas.ylabel = 'y [asec]'\n",
    "p"
   ]
  },
  {
   "cell_type": "markdown",
   "id": "c6ee4eb6-b1ba-455e-a441-b1a38c0e546c",
   "metadata": {
    "editable": true,
    "slideshow": {
     "slide_type": ""
    },
    "tags": []
   },
   "source": [
    "---"
   ]
  },
  {
   "cell_type": "markdown",
   "id": "aa228f77-04fb-49ca-afea-d2644fc4ce21",
   "metadata": {},
   "source": [
    "## 3 Time Series"
   ]
  },
  {
   "cell_type": "markdown",
   "id": "957d42ca-84a1-43ac-9e30-c2d91d9e3452",
   "metadata": {},
   "source": [
    "Now, we want to look at the distribution of flares over time.\n",
    "The temporal distribution can be obtained like the spatial one using binning.\n",
    "\n",
    "### 3.1 Bin on time coordinate\n",
    "\n",
    "Select one of the time coordinates (e.g. 'peak_time') and bin with an appropriate bin size.\n",
    "Plot the result.\n",
    "\n",
    "**Important**: Use the pre-binned data from the previous task in order to include the detector normalization.\n",
    "\n",
    "**Tip**:\n",
    "\n",
    "- The time coordinates are event-coordinates, that is, they are not defined at the top level of the binned data (i.e. per bin) but inside of the bins (i.e. per event). You can access them using `<binned>.bins.coords['peak_time']`.\n",
    "- You can add binning by time using `<binned>.bin(peak_time=<n_bins>)` and produce a three-dimensional array.\n",
    "  But here, we are more interested in a one-dimensional distribution.\n",
    "  So we need to erase the binning in `x` and `y` which can be achieved, e.g., using `<binned>.bins.concat('x')`.\n",
    "  \n",
    "  Alternatively, the lower level function [scipp.binning.make_binned](https://scipp.github.io/generated/modules/scipp.binning.make_binned.html) can be used to bin in time and erase spatial binning at the same time."
   ]
  },
  {
   "cell_type": "code",
   "execution_count": null,
   "id": "dcacee40-c14b-4650-85dd-d43f9db00f51",
   "metadata": {},
   "outputs": [],
   "source": [
    "# YOUR CODE"
   ]
  },
  {
   "cell_type": "markdown",
   "id": "61d012c3-76f6-41e8-9294-686bad746738",
   "metadata": {
    "tags": []
   },
   "source": [
    "#### Solution"
   ]
  },
  {
   "cell_type": "markdown",
   "id": "ba688905-28cf-4147-8d87-fa8e81c6d30f",
   "metadata": {},
   "source": [
    "Here we keep the existing binning and plot time slices of the distribution of the events using the `plopp.slicer` tool.\n",
    "The slicer returns two widgets, a figure and a slider, to change properties of the figure we access the widget at index 0.\n",
    "Notice that the color scale is kept fixed by setting `vmin` and `vmax` keyword arguments in the call to plot."
   ]
  },
  {
   "cell_type": "code",
   "execution_count": null,
   "id": "1ec0b5a7-ede2-4bdf-b638-708187c5e50a",
   "metadata": {},
   "outputs": [],
   "source": [
    "%matplotlib widget\n",
    "import plopp as pp\n",
    "\n",
    "temporal_and_spatial = spatial.bin(peak_time=10)\n",
    "p = pp.slicer(\n",
    "    temporal_and_spatial.hist(),\n",
    "    keep=['y', 'x'],\n",
    "    vmin=sc.scalar(1),\n",
    "    autoscale='fixed',\n",
    "    aspect='equal',\n",
    "    cmap='magma',\n",
    "    norm='log',\n",
    ")\n",
    "p.canvas.xlabel = 'x [asec]'\n",
    "p.canvas.ylabel = 'y [asec]'\n",
    "p"
   ]
  },
  {
   "cell_type": "markdown",
   "id": "0f5fa729-b782-4e02-9545-bd0bf5a352b4",
   "metadata": {},
   "source": [
    "Or you can remove the existing binning and bin in time to yield a 1D-variable representing the number of flares in each time bin."
   ]
  },
  {
   "cell_type": "code",
   "execution_count": null,
   "id": "0987fcf5-8ac4-4f20-ac20-5a3905b97283",
   "metadata": {},
   "outputs": [],
   "source": [
    "temporal = spatial.bins.concat('x').bins.concat('y').bin(peak_time=200)\n",
    "temporal.hist().plot()"
   ]
  },
  {
   "cell_type": "markdown",
   "id": "60ae22e3-3478-4cf1-9a2e-133b91a4e914",
   "metadata": {},
   "source": [
    "Note that it is important to first remove the binning in x and y by using `concat`.\n",
    "Binning in time first and then removing other binning would use too much memory.\n",
    "It is possible to do everything in one step using a lower-level API:"
   ]
  },
  {
   "cell_type": "code",
   "execution_count": null,
   "id": "41e8ab61-176d-4634-9c93-c78a96f69ee4",
   "metadata": {},
   "outputs": [],
   "source": [
    "from scipp.binning import make_binned\n",
    "\n",
    "time = spatial.bins.coords['peak_time']\n",
    "min_time = time.min().value\n",
    "max_time = time.max().value\n",
    "step = (max_time - min_time) / 200\n",
    "time_edges = sc.arange('peak_time', min_time, max_time, step, unit=time.bins.unit)\n",
    "temporal = make_binned(spatial, edges=[time_edges], erase=('x', 'y'))\n",
    "temporal.hist().plot()"
   ]
  },
  {
   "cell_type": "markdown",
   "id": "8b1ec693-d842-4cd0-9789-5d7ef985b4ea",
   "metadata": {},
   "source": [
    "---"
   ]
  },
  {
   "cell_type": "markdown",
   "id": "4eac1ac7-aba8-4a78-a72c-9cdedbb82308",
   "metadata": {},
   "source": [
    "### 3.2 Flare Durations"
   ]
  },
  {
   "cell_type": "markdown",
   "id": "b0e83bdb-2a7e-4dc3-ae81-1596ad7eb533",
   "metadata": {},
   "source": [
    "Another interesting quantity to look at is the duration of flares.\n",
    "The duration was computed earlier and should already be stored as an event coordinate.\n",
    "\n",
    "Plot the duration as a function of time.\n",
    "\n",
    "**Tip**:\n",
    "\n",
    "- Construct a new data array from the previous result: `duration = <binned_by_time>.copy()`.\n",
    "  And assign new data using `duration.bins.data = <duration_data>`.\n",
    "- Previously, we used `.hist()` (which is an alias for `.bins.sum()`) to make histograms because the data was given as counts.\n",
    "  Now the data is seconds which should be averaged instead of summed.\n",
    "  So use `.bins.mean()` instead."
   ]
  },
  {
   "cell_type": "code",
   "execution_count": null,
   "id": "ce5e6a81-3bfd-4cf3-91e4-cef76626af8f",
   "metadata": {},
   "outputs": [],
   "source": [
    "# YOUR CODE"
   ]
  },
  {
   "cell_type": "markdown",
   "id": "aa907e4b-524c-4ef2-8cf4-38d68b3c7b61",
   "metadata": {
    "tags": []
   },
   "source": [
    "#### Solution"
   ]
  },
  {
   "cell_type": "markdown",
   "id": "530eab56-2f70-41d5-9442-bfd361fe047f",
   "metadata": {},
   "source": [
    "Create a new data array containing the duration as its `data`."
   ]
  },
  {
   "cell_type": "code",
   "execution_count": null,
   "id": "85226ea0-12a2-4c2d-a726-1f0ebdb52453",
   "metadata": {},
   "outputs": [],
   "source": [
    "duration = temporal.copy()\n",
    "duration.name = 'duration'\n",
    "duration.bins.data = duration.bins.coords.pop('duration')"
   ]
  },
  {
   "cell_type": "markdown",
   "id": "cd1c8d3b-312a-4e62-9acb-d487a95786f5",
   "metadata": {},
   "source": [
    "Plot duration vs time."
   ]
  },
  {
   "cell_type": "code",
   "execution_count": null,
   "id": "90a2fd7d-d0d6-4bce-beca-04966859738c",
   "metadata": {},
   "outputs": [],
   "source": [
    "duration.bins.mean().plot()"
   ]
  },
  {
   "cell_type": "markdown",
   "id": "12b9912f-53c3-437a-8180-dc260805b46b",
   "metadata": {
    "editable": true,
    "slideshow": {
     "slide_type": ""
    },
    "tags": []
   },
   "source": [
    "---"
   ]
  },
  {
   "cell_type": "markdown",
   "id": "b43eb0ed-7147-4078-83f7-d16a78e1472e",
   "metadata": {
    "tags": []
   },
   "source": [
    "## 4 Energy Bands"
   ]
  },
  {
   "cell_type": "markdown",
   "id": "f04eee29-e902-4ac9-bbe2-9e9af10c6269",
   "metadata": {},
   "source": [
    "The flares were recorded in several non-overlapping energy bands.\n",
    "Those are identified by the 'min_energy' and 'max_energy' coordinates in `flares`.\n",
    "Since the bands do not overlap, it is sufficient to label them with 'min_energy' for simplicity.\n",
    "\n",
    "### 4.1 Group by energy content\n",
    "\n",
    "In this section, we want to split the temporal distribution from above into the different energy bands.\n",
    "Group the temporal distribution by 'min_energy' to obtain two-dimensional data.\n",
    "Use [scipp.group](https://scipp.github.io/generated/functions/scipp.group.html) instead of `scipp.bin` this time because every event has exactly one of a set of possible energies instead of a value in a range."
   ]
  },
  {
   "cell_type": "code",
   "execution_count": null,
   "id": "3d0568f0-fbb8-43f6-9b69-2148d2567e13",
   "metadata": {},
   "outputs": [],
   "source": [
    "# YOUR CODE"
   ]
  },
  {
   "cell_type": "markdown",
   "id": "e6548d37-73bd-4270-b814-d17b94b4176d",
   "metadata": {
    "jp-MarkdownHeadingCollapsed": true,
    "tags": []
   },
   "source": [
    "#### Solution"
   ]
  },
  {
   "cell_type": "markdown",
   "id": "1ddbc0e1-3bb3-4a5c-bf59-400e72f660a8",
   "metadata": {},
   "source": [
    "Skipping the lowest energy band here because those events are not confirmed to be solar flares.\n",
    "This is optional."
   ]
  },
  {
   "cell_type": "code",
   "execution_count": null,
   "id": "c136468d-7204-4a8c-8f05-f420b24357e9",
   "metadata": {},
   "outputs": [],
   "source": [
    "grouped_by_energy = temporal.group('min_energy')['min_energy', 1:]"
   ]
  },
  {
   "cell_type": "markdown",
   "id": "e4612c2d-6163-46e4-90ab-ef52ab006afc",
   "metadata": {
    "editable": true,
    "slideshow": {
     "slide_type": ""
    },
    "tags": []
   },
   "source": [
    "---"
   ]
  },
  {
   "cell_type": "markdown",
   "id": "5e30c365-a6b0-4bcf-9453-eb0b714828a7",
   "metadata": {},
   "source": [
    "####  \n",
    "Plot the result.\n",
    "A 2D plot is not very useful here, so split the data by 'min_energy' and either plot each energy in a separate plot or combine them into a dictionary and plot that:\n",
    "```python\n",
    "lines = {'<name>': <data_array>}\n",
    "sc.plot(lines)\n",
    "```"
   ]
  },
  {
   "cell_type": "code",
   "execution_count": null,
   "id": "636e5f80-e2bb-4717-9a2a-2aa426232187",
   "metadata": {},
   "outputs": [],
   "source": [
    "# YOUR CODE"
   ]
  },
  {
   "cell_type": "markdown",
   "id": "f8c62519-5e18-44c2-9fa2-f8abc43e2b15",
   "metadata": {
    "tags": []
   },
   "source": [
    "#### Solution"
   ]
  },
  {
   "cell_type": "code",
   "execution_count": null,
   "id": "13f99fd8-f402-4de0-bb6c-89b7e66de9b1",
   "metadata": {},
   "outputs": [],
   "source": [
    "lines = {\n",
    "    f\"min_energy={energy.value} {energy.unit}\": grouped_by_energy[\n",
    "        'min_energy', energy\n",
    "    ].bins.sum()\n",
    "    for energy in grouped_by_energy.coords['min_energy']\n",
    "}\n",
    "sc.plot(lines)"
   ]
  },
  {
   "cell_type": "markdown",
   "id": "b0072401-b6df-459f-894d-a15d235be2c6",
   "metadata": {},
   "source": [
    "---"
   ]
  },
  {
   "cell_type": "markdown",
   "id": "583e4f9b-0329-4ccc-87fc-69c2d855e29e",
   "metadata": {},
   "source": [
    "## References"
   ]
  },
  {
   "cell_type": "markdown",
   "id": "e4aded2c-d89e-4d4e-9ce1-f19074b7edcd",
   "metadata": {},
   "source": [
    "<div id='lin2002'></div>\n",
    "\n",
    "Lin, R., Dennis, B., Hurford, G. et al. *The Reuven Ramaty High-Energy Solar Spectroscopic Imager (RHESSI)*. Sol Phys 210, 3–32 (**2002**). [doi:10.1023/A:1022428818870](https://doi.org/10.1023/A:1022428818870)"
   ]
  }
 ],
 "metadata": {
  "kernelspec": {
   "display_name": "Python 3 (ipykernel)",
   "language": "python",
   "name": "python3"
  },
  "language_info": {
   "codemirror_mode": {
    "name": "ipython",
    "version": 3
   },
   "file_extension": ".py",
   "mimetype": "text/x-python",
   "name": "python",
   "nbconvert_exporter": "python",
   "pygments_lexer": "ipython3",
   "version": "3.11.5"
  }
 },
 "nbformat": 4,
 "nbformat_minor": 5
}
