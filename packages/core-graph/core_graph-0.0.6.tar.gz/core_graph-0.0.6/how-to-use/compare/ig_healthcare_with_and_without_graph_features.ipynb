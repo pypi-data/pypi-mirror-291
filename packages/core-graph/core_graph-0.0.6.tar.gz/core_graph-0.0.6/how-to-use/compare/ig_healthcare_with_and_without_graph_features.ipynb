{
 "cells": [
  {
   "metadata": {},
   "cell_type": "code",
   "outputs": [],
   "execution_count": null,
   "source": "# https://www.kaggle.com/datasets/rohitrox/healthcare-provider-fraud-detection-analysis",
   "id": "13db5026a378ac4f"
  },
  {
   "cell_type": "code",
   "execution_count": 1,
   "id": "cafaacefbcfea400",
   "metadata": {
    "ExecuteTime": {
     "end_time": "2024-07-18T06:59:37.504626Z",
     "start_time": "2024-07-18T06:59:37.407796Z"
    }
   },
   "outputs": [],
   "source": [
    "from pathlib import Path\n",
    "import polars as pl\n",
    "import networkx as nx\n",
    "import numpy as np\n",
    "import seaborn as sns\n",
    "import matplotlib.pyplot as plt\n",
    "\n",
    "import sys\n",
    "sys.path.extend([str(Path.home() / 'PycharmProjects/core_graph')])\n",
    "\n",
    "from core_graph.pipeline_nx import GraphPipelineNX, GraphPlotNX\n",
    "from core_graph.pipeline_ig import GraphPipelineIG, GraphPlotIG\n",
    "from core_graph.plot_interactive import GraphInteractive"
   ]
  },
  {
   "cell_type": "code",
   "execution_count": 2,
   "id": "71833660869d6b43",
   "metadata": {
    "ExecuteTime": {
     "end_time": "2024-07-18T06:59:37.506760Z",
     "start_time": "2024-07-18T06:59:37.505155Z"
    }
   },
   "outputs": [],
   "source": [
    "path = Path('/media/kevin/data_4t/healthcare_fraud')"
   ]
  },
  {
   "cell_type": "code",
   "execution_count": 3,
   "id": "7880c9e350fac424",
   "metadata": {
    "ExecuteTime": {
     "end_time": "2024-07-18T06:59:37.522520Z",
     "start_time": "2024-07-18T06:59:37.507637Z"
    }
   },
   "outputs": [
    {
     "data": {
      "text/html": [
       "<div><style>\n",
       ".dataframe > thead > tr,\n",
       ".dataframe > tbody > tr {\n",
       "  text-align: right;\n",
       "  white-space: pre-wrap;\n",
       "}\n",
       "</style>\n",
       "<small>shape: (5, 6)</small><table border=\"1\" class=\"dataframe\"><thead><tr><th>BeneID</th><th>ClaimID</th><th>Provider</th><th>InscClaimAmtReimbursed</th><th>AttendingPhysician</th><th>DeductibleAmtPaid</th></tr><tr><td>str</td><td>str</td><td>str</td><td>i64</td><td>str</td><td>str</td></tr></thead><tbody><tr><td>&quot;BENE11001&quot;</td><td>&quot;CLM46614&quot;</td><td>&quot;PRV55912&quot;</td><td>26000</td><td>&quot;PHY390922&quot;</td><td>&quot;1068&quot;</td></tr><tr><td>&quot;BENE11001&quot;</td><td>&quot;CLM66048&quot;</td><td>&quot;PRV55907&quot;</td><td>5000</td><td>&quot;PHY318495&quot;</td><td>&quot;1068&quot;</td></tr><tr><td>&quot;BENE11001&quot;</td><td>&quot;CLM68358&quot;</td><td>&quot;PRV56046&quot;</td><td>5000</td><td>&quot;PHY372395&quot;</td><td>&quot;1068&quot;</td></tr><tr><td>&quot;BENE11011&quot;</td><td>&quot;CLM38412&quot;</td><td>&quot;PRV52405&quot;</td><td>5000</td><td>&quot;PHY369659&quot;</td><td>&quot;1068&quot;</td></tr><tr><td>&quot;BENE11014&quot;</td><td>&quot;CLM63689&quot;</td><td>&quot;PRV56614&quot;</td><td>10000</td><td>&quot;PHY379376&quot;</td><td>&quot;1068&quot;</td></tr></tbody></table></div>"
      ],
      "text/plain": [
       "shape: (5, 6)\n",
       "┌───────────┬──────────┬──────────┬───────────────────────┬────────────────────┬───────────────────┐\n",
       "│ BeneID    ┆ ClaimID  ┆ Provider ┆ InscClaimAmtReimburse ┆ AttendingPhysician ┆ DeductibleAmtPaid │\n",
       "│ ---       ┆ ---      ┆ ---      ┆ d                     ┆ ---                ┆ ---               │\n",
       "│ str       ┆ str      ┆ str      ┆ ---                   ┆ str                ┆ str               │\n",
       "│           ┆          ┆          ┆ i64                   ┆                    ┆                   │\n",
       "╞═══════════╪══════════╪══════════╪═══════════════════════╪════════════════════╪═══════════════════╡\n",
       "│ BENE11001 ┆ CLM46614 ┆ PRV55912 ┆ 26000                 ┆ PHY390922          ┆ 1068              │\n",
       "│ BENE11001 ┆ CLM66048 ┆ PRV55907 ┆ 5000                  ┆ PHY318495          ┆ 1068              │\n",
       "│ BENE11001 ┆ CLM68358 ┆ PRV56046 ┆ 5000                  ┆ PHY372395          ┆ 1068              │\n",
       "│ BENE11011 ┆ CLM38412 ┆ PRV52405 ┆ 5000                  ┆ PHY369659          ┆ 1068              │\n",
       "│ BENE11014 ┆ CLM63689 ┆ PRV56614 ┆ 10000                 ┆ PHY379376          ┆ 1068              │\n",
       "└───────────┴──────────┴──────────┴───────────────────────┴────────────────────┴───────────────────┘"
      ]
     },
     "execution_count": 3,
     "metadata": {},
     "output_type": "execute_result"
    }
   ],
   "source": [
    "schema = ['BeneID', 'ClaimID', 'Provider', 'InscClaimAmtReimbursed', 'AttendingPhysician','DeductibleAmtPaid']\n",
    "inpatients = pl.read_csv(path / 'Train_Inpatientdata-1542865627584.csv', ignore_errors=True, columns=schema)\n",
    "inpatients.head()"
   ]
  },
  {
   "cell_type": "code",
   "execution_count": 4,
   "id": "e2ec2c4302f50360",
   "metadata": {
    "ExecuteTime": {
     "end_time": "2024-07-18T06:59:37.543265Z",
     "start_time": "2024-07-18T06:59:37.522968Z"
    }
   },
   "outputs": [
    {
     "data": {
      "text/html": [
       "<div><style>\n",
       ".dataframe > thead > tr,\n",
       ".dataframe > tbody > tr {\n",
       "  text-align: right;\n",
       "  white-space: pre-wrap;\n",
       "}\n",
       "</style>\n",
       "<small>shape: (5, 6)</small><table border=\"1\" class=\"dataframe\"><thead><tr><th>BeneID</th><th>ClaimID</th><th>Provider</th><th>InscClaimAmtReimbursed</th><th>AttendingPhysician</th><th>DeductibleAmtPaid</th></tr><tr><td>str</td><td>str</td><td>str</td><td>i64</td><td>str</td><td>i64</td></tr></thead><tbody><tr><td>&quot;BENE11002&quot;</td><td>&quot;CLM624349&quot;</td><td>&quot;PRV56011&quot;</td><td>30</td><td>&quot;PHY326117&quot;</td><td>0</td></tr><tr><td>&quot;BENE11003&quot;</td><td>&quot;CLM189947&quot;</td><td>&quot;PRV57610&quot;</td><td>80</td><td>&quot;PHY362868&quot;</td><td>0</td></tr><tr><td>&quot;BENE11003&quot;</td><td>&quot;CLM438021&quot;</td><td>&quot;PRV57595&quot;</td><td>10</td><td>&quot;PHY328821&quot;</td><td>0</td></tr><tr><td>&quot;BENE11004&quot;</td><td>&quot;CLM121801&quot;</td><td>&quot;PRV56011&quot;</td><td>40</td><td>&quot;PHY334319&quot;</td><td>0</td></tr><tr><td>&quot;BENE11004&quot;</td><td>&quot;CLM150998&quot;</td><td>&quot;PRV56011&quot;</td><td>200</td><td>&quot;PHY403831&quot;</td><td>0</td></tr></tbody></table></div>"
      ],
      "text/plain": [
       "shape: (5, 6)\n",
       "┌───────────┬───────────┬──────────┬──────────────────────┬────────────────────┬───────────────────┐\n",
       "│ BeneID    ┆ ClaimID   ┆ Provider ┆ InscClaimAmtReimburs ┆ AttendingPhysician ┆ DeductibleAmtPaid │\n",
       "│ ---       ┆ ---       ┆ ---      ┆ ed                   ┆ ---                ┆ ---               │\n",
       "│ str       ┆ str       ┆ str      ┆ ---                  ┆ str                ┆ i64               │\n",
       "│           ┆           ┆          ┆ i64                  ┆                    ┆                   │\n",
       "╞═══════════╪═══════════╪══════════╪══════════════════════╪════════════════════╪═══════════════════╡\n",
       "│ BENE11002 ┆ CLM624349 ┆ PRV56011 ┆ 30                   ┆ PHY326117          ┆ 0                 │\n",
       "│ BENE11003 ┆ CLM189947 ┆ PRV57610 ┆ 80                   ┆ PHY362868          ┆ 0                 │\n",
       "│ BENE11003 ┆ CLM438021 ┆ PRV57595 ┆ 10                   ┆ PHY328821          ┆ 0                 │\n",
       "│ BENE11004 ┆ CLM121801 ┆ PRV56011 ┆ 40                   ┆ PHY334319          ┆ 0                 │\n",
       "│ BENE11004 ┆ CLM150998 ┆ PRV56011 ┆ 200                  ┆ PHY403831          ┆ 0                 │\n",
       "└───────────┴───────────┴──────────┴──────────────────────┴────────────────────┴───────────────────┘"
      ]
     },
     "execution_count": 4,
     "metadata": {},
     "output_type": "execute_result"
    }
   ],
   "source": [
    "outpatients = pl.read_csv(path / 'Train_Outpatientdata-1542865627584.csv', columns=schema)\n",
    "outpatients.head()"
   ]
  },
  {
   "cell_type": "code",
   "execution_count": 5,
   "id": "7807fcf7ea926100",
   "metadata": {
    "ExecuteTime": {
     "end_time": "2024-07-18T06:59:37.549841Z",
     "start_time": "2024-07-18T06:59:37.543726Z"
    }
   },
   "outputs": [
    {
     "data": {
      "text/html": [
       "<div><style>\n",
       ".dataframe > thead > tr,\n",
       ".dataframe > tbody > tr {\n",
       "  text-align: right;\n",
       "  white-space: pre-wrap;\n",
       "}\n",
       "</style>\n",
       "<small>shape: (5, 9)</small><table border=\"1\" class=\"dataframe\"><thead><tr><th>BeneID</th><th>Gender</th><th>Race</th><th>NoOfMonths_PartACov</th><th>NoOfMonths_PartBCov</th><th>IPAnnualReimbursementAmt</th><th>IPAnnualDeductibleAmt</th><th>OPAnnualReimbursementAmt</th><th>OPAnnualDeductibleAmt</th></tr><tr><td>str</td><td>i64</td><td>i64</td><td>i64</td><td>i64</td><td>i64</td><td>i64</td><td>i64</td><td>i64</td></tr></thead><tbody><tr><td>&quot;BENE11001&quot;</td><td>1</td><td>1</td><td>12</td><td>12</td><td>36000</td><td>3204</td><td>60</td><td>70</td></tr><tr><td>&quot;BENE11002&quot;</td><td>2</td><td>1</td><td>12</td><td>12</td><td>0</td><td>0</td><td>30</td><td>50</td></tr><tr><td>&quot;BENE11003&quot;</td><td>1</td><td>1</td><td>12</td><td>12</td><td>0</td><td>0</td><td>90</td><td>40</td></tr><tr><td>&quot;BENE11004&quot;</td><td>1</td><td>1</td><td>12</td><td>12</td><td>0</td><td>0</td><td>1810</td><td>760</td></tr><tr><td>&quot;BENE11005&quot;</td><td>1</td><td>1</td><td>12</td><td>12</td><td>0</td><td>0</td><td>1790</td><td>1200</td></tr></tbody></table></div>"
      ],
      "text/plain": [
       "shape: (5, 9)\n",
       "┌───────────┬────────┬──────┬─────────────┬───┬─────────────┬────────────┬────────────┬────────────┐\n",
       "│ BeneID    ┆ Gender ┆ Race ┆ NoOfMonths_ ┆ … ┆ IPAnnualRei ┆ IPAnnualDe ┆ OPAnnualRe ┆ OPAnnualDe │\n",
       "│ ---       ┆ ---    ┆ ---  ┆ PartACov    ┆   ┆ mbursementA ┆ ductibleAm ┆ imbursemen ┆ ductibleAm │\n",
       "│ str       ┆ i64    ┆ i64  ┆ ---         ┆   ┆ mt          ┆ t          ┆ tAmt       ┆ t          │\n",
       "│           ┆        ┆      ┆ i64         ┆   ┆ ---         ┆ ---        ┆ ---        ┆ ---        │\n",
       "│           ┆        ┆      ┆             ┆   ┆ i64         ┆ i64        ┆ i64        ┆ i64        │\n",
       "╞═══════════╪════════╪══════╪═════════════╪═══╪═════════════╪════════════╪════════════╪════════════╡\n",
       "│ BENE11001 ┆ 1      ┆ 1    ┆ 12          ┆ … ┆ 36000       ┆ 3204       ┆ 60         ┆ 70         │\n",
       "│ BENE11002 ┆ 2      ┆ 1    ┆ 12          ┆ … ┆ 0           ┆ 0          ┆ 30         ┆ 50         │\n",
       "│ BENE11003 ┆ 1      ┆ 1    ┆ 12          ┆ … ┆ 0           ┆ 0          ┆ 90         ┆ 40         │\n",
       "│ BENE11004 ┆ 1      ┆ 1    ┆ 12          ┆ … ┆ 0           ┆ 0          ┆ 1810       ┆ 760        │\n",
       "│ BENE11005 ┆ 1      ┆ 1    ┆ 12          ┆ … ┆ 0           ┆ 0          ┆ 1790       ┆ 1200       │\n",
       "└───────────┴────────┴──────┴─────────────┴───┴─────────────┴────────────┴────────────┴────────────┘"
      ]
     },
     "execution_count": 5,
     "metadata": {},
     "output_type": "execute_result"
    }
   ],
   "source": [
    "schema = [\n",
    "    'BeneID', 'Gender', 'Race', 'NoOfMonths_PartACov', 'NoOfMonths_PartBCov', 'IPAnnualReimbursementAmt', \n",
    "    'IPAnnualDeductibleAmt', 'OPAnnualReimbursementAmt', 'OPAnnualDeductibleAmt'\n",
    "]\n",
    "beneficiaries = pl.read_csv(path / 'Train_Beneficiarydata-1542865627584.csv', columns=schema)\n",
    "beneficiaries.head()"
   ]
  },
  {
   "cell_type": "code",
   "execution_count": 6,
   "id": "initial_id",
   "metadata": {
    "ExecuteTime": {
     "end_time": "2024-07-18T06:59:37.556246Z",
     "start_time": "2024-07-18T06:59:37.550281Z"
    }
   },
   "outputs": [
    {
     "data": {
      "text/html": [
       "<div><style>\n",
       ".dataframe > thead > tr,\n",
       ".dataframe > tbody > tr {\n",
       "  text-align: right;\n",
       "  white-space: pre-wrap;\n",
       "}\n",
       "</style>\n",
       "<small>shape: (5, 2)</small><table border=\"1\" class=\"dataframe\"><thead><tr><th>Provider</th><th>PotentialFraud</th></tr><tr><td>str</td><td>str</td></tr></thead><tbody><tr><td>&quot;PRV51001&quot;</td><td>&quot;No&quot;</td></tr><tr><td>&quot;PRV51003&quot;</td><td>&quot;Yes&quot;</td></tr><tr><td>&quot;PRV51004&quot;</td><td>&quot;No&quot;</td></tr><tr><td>&quot;PRV51005&quot;</td><td>&quot;Yes&quot;</td></tr><tr><td>&quot;PRV51007&quot;</td><td>&quot;No&quot;</td></tr></tbody></table></div>"
      ],
      "text/plain": [
       "shape: (5, 2)\n",
       "┌──────────┬────────────────┐\n",
       "│ Provider ┆ PotentialFraud │\n",
       "│ ---      ┆ ---            │\n",
       "│ str      ┆ str            │\n",
       "╞══════════╪════════════════╡\n",
       "│ PRV51001 ┆ No             │\n",
       "│ PRV51003 ┆ Yes            │\n",
       "│ PRV51004 ┆ No             │\n",
       "│ PRV51005 ┆ Yes            │\n",
       "│ PRV51007 ┆ No             │\n",
       "└──────────┴────────────────┘"
      ]
     },
     "execution_count": 6,
     "metadata": {},
     "output_type": "execute_result"
    }
   ],
   "source": [
    "labels = pl.read_csv(path / 'Train-1542865627584.csv')\n",
    "labels.head()"
   ]
  },
  {
   "cell_type": "code",
   "execution_count": 7,
   "id": "4d0953d2af0a77f1",
   "metadata": {
    "ExecuteTime": {
     "end_time": "2024-07-18T06:59:37.636457Z",
     "start_time": "2024-07-18T06:59:37.556667Z"
    }
   },
   "outputs": [
    {
     "data": {
      "text/html": [
       "<div><style>\n",
       ".dataframe > thead > tr,\n",
       ".dataframe > tbody > tr {\n",
       "  text-align: right;\n",
       "  white-space: pre-wrap;\n",
       "}\n",
       "</style>\n",
       "<small>shape: (5, 15)</small><table border=\"1\" class=\"dataframe\"><thead><tr><th>BeneID</th><th>ClaimID</th><th>Provider</th><th>InscClaimAmtReimbursed</th><th>AttendingPhysician</th><th>DeductibleAmtPaid</th><th>PotentialFraud</th><th>Gender</th><th>Race</th><th>NoOfMonths_PartACov</th><th>NoOfMonths_PartBCov</th><th>IPAnnualReimbursementAmt</th><th>IPAnnualDeductibleAmt</th><th>OPAnnualReimbursementAmt</th><th>OPAnnualDeductibleAmt</th></tr><tr><td>str</td><td>str</td><td>i32</td><td>i64</td><td>i32</td><td>i32</td><td>i8</td><td>i64</td><td>i64</td><td>i64</td><td>i64</td><td>i64</td><td>i64</td><td>i64</td><td>i64</td></tr></thead><tbody><tr><td>&quot;BENE11001&quot;</td><td>&quot;CLM46614&quot;</td><td>1055912</td><td>26000</td><td>2390922</td><td>1068</td><td>1</td><td>1</td><td>1</td><td>12</td><td>12</td><td>36000</td><td>3204</td><td>60</td><td>70</td></tr><tr><td>&quot;BENE11001&quot;</td><td>&quot;CLM66048&quot;</td><td>1055907</td><td>5000</td><td>2318495</td><td>1068</td><td>0</td><td>1</td><td>1</td><td>12</td><td>12</td><td>36000</td><td>3204</td><td>60</td><td>70</td></tr><tr><td>&quot;BENE11001&quot;</td><td>&quot;CLM68358&quot;</td><td>1056046</td><td>5000</td><td>2372395</td><td>1068</td><td>0</td><td>1</td><td>1</td><td>12</td><td>12</td><td>36000</td><td>3204</td><td>60</td><td>70</td></tr><tr><td>&quot;BENE11011&quot;</td><td>&quot;CLM38412&quot;</td><td>1052405</td><td>5000</td><td>2369659</td><td>1068</td><td>0</td><td>2</td><td>2</td><td>12</td><td>12</td><td>5000</td><td>1068</td><td>250</td><td>320</td></tr><tr><td>&quot;BENE11014&quot;</td><td>&quot;CLM63689&quot;</td><td>1056614</td><td>10000</td><td>2379376</td><td>1068</td><td>0</td><td>2</td><td>1</td><td>12</td><td>12</td><td>21260</td><td>2136</td><td>120</td><td>100</td></tr></tbody></table></div>"
      ],
      "text/plain": [
       "shape: (5, 15)\n",
       "┌───────────┬──────────┬──────────┬────────────┬───┬───────────┬───────────┬───────────┬───────────┐\n",
       "│ BeneID    ┆ ClaimID  ┆ Provider ┆ InscClaimA ┆ … ┆ IPAnnualR ┆ IPAnnualD ┆ OPAnnualR ┆ OPAnnualD │\n",
       "│ ---       ┆ ---      ┆ ---      ┆ mtReimburs ┆   ┆ eimbursem ┆ eductible ┆ eimbursem ┆ eductible │\n",
       "│ str       ┆ str      ┆ i32      ┆ ed         ┆   ┆ entAmt    ┆ Amt       ┆ entAmt    ┆ Amt       │\n",
       "│           ┆          ┆          ┆ ---        ┆   ┆ ---       ┆ ---       ┆ ---       ┆ ---       │\n",
       "│           ┆          ┆          ┆ i64        ┆   ┆ i64       ┆ i64       ┆ i64       ┆ i64       │\n",
       "╞═══════════╪══════════╪══════════╪════════════╪═══╪═══════════╪═══════════╪═══════════╪═══════════╡\n",
       "│ BENE11001 ┆ CLM46614 ┆ 1055912  ┆ 26000      ┆ … ┆ 36000     ┆ 3204      ┆ 60        ┆ 70        │\n",
       "│ BENE11001 ┆ CLM66048 ┆ 1055907  ┆ 5000       ┆ … ┆ 36000     ┆ 3204      ┆ 60        ┆ 70        │\n",
       "│ BENE11001 ┆ CLM68358 ┆ 1056046  ┆ 5000       ┆ … ┆ 36000     ┆ 3204      ┆ 60        ┆ 70        │\n",
       "│ BENE11011 ┆ CLM38412 ┆ 1052405  ┆ 5000       ┆ … ┆ 5000      ┆ 1068      ┆ 250       ┆ 320       │\n",
       "│ BENE11014 ┆ CLM63689 ┆ 1056614  ┆ 10000      ┆ … ┆ 21260     ┆ 2136      ┆ 120       ┆ 100       │\n",
       "└───────────┴──────────┴──────────┴────────────┴───┴───────────┴───────────┴───────────┴───────────┘"
      ]
     },
     "execution_count": 7,
     "metadata": {},
     "output_type": "execute_result"
    }
   ],
   "source": [
    "df = (\n",
    "    pl.concat([inpatients, outpatients], how='vertical_relaxed')\n",
    "    .join(labels, on='Provider', how='left')\n",
    "    .join(beneficiaries, on='BeneID', how='left')\n",
    "    .with_columns(pl.col('PotentialFraud').replace_strict({'Yes': 1}, default=0, return_dtype=pl.Int8))\n",
    "    .with_columns(\n",
    "        (pl.col('Provider').str.strip_prefix('PRV').cast(pl.Int32) + 1_000_000).name.keep(),\n",
    "        (pl.col('AttendingPhysician').str.strip_prefix('PHY').str.replace('NA', 0).cast(pl.Int32) + 2_000_000).name.keep()\n",
    "    )\n",
    "    .with_columns(pl.col('DeductibleAmtPaid').str.replace('NA', 0).cast(pl.Int32))\n",
    ")\n",
    "print(df.shape)\n",
    "df.head()"
   ]
  },
  {
   "cell_type": "code",
   "execution_count": 8,
   "id": "ab7e41e1f2b389aa",
   "metadata": {
    "ExecuteTime": {
     "end_time": "2024-07-18T06:59:38.078183Z",
     "start_time": "2024-07-18T06:59:37.637008Z"
    }
   },
   "outputs": [],
   "source": [
    "# full\n",
    "source = 'Provider'\n",
    "target = 'AttendingPhysician'\n",
    "G = nx.from_pandas_edgelist(df, source=source, target = target)\n",
    "\n",
    "# sample\n",
    "df_plotting = df.sample(n=1_000, seed=42)\n",
    "H = nx.from_pandas_edgelist(df_plotting, source=source, target=target)"
   ]
  },
  {
   "cell_type": "code",
   "execution_count": 9,
   "id": "7c4e86119832c208",
   "metadata": {
    "ExecuteTime": {
     "end_time": "2024-07-18T06:59:41.240905Z",
     "start_time": "2024-07-18T06:59:40.891109Z"
    }
   },
   "outputs": [
    {
     "data": {
      "text/html": [
       "<div><style>\n",
       ".dataframe > thead > tr,\n",
       ".dataframe > tbody > tr {\n",
       "  text-align: right;\n",
       "  white-space: pre-wrap;\n",
       "}\n",
       "</style>\n",
       "<small>shape: (5, 21)</small><table border=\"1\" class=\"dataframe\"><thead><tr><th>BeneID</th><th>ClaimID</th><th>Provider</th><th>InscClaimAmtReimbursed</th><th>AttendingPhysician</th><th>DeductibleAmtPaid</th><th>PotentialFraud</th><th>Gender</th><th>Race</th><th>NoOfMonths_PartACov</th><th>NoOfMonths_PartBCov</th><th>IPAnnualReimbursementAmt</th><th>IPAnnualDeductibleAmt</th><th>OPAnnualReimbursementAmt</th><th>OPAnnualDeductibleAmt</th><th>Provider_degree</th><th>Provider_eigenvector_centrality</th><th>Provider_pagerank</th><th>AttendingPhysician_degree</th><th>AttendingPhysician_eigenvector_centrality</th><th>AttendingPhysician_pagerank</th></tr><tr><td>str</td><td>str</td><td>i32</td><td>i64</td><td>i32</td><td>i32</td><td>i8</td><td>i64</td><td>i64</td><td>i64</td><td>i64</td><td>i64</td><td>i64</td><td>i64</td><td>i64</td><td>i64</td><td>f64</td><td>f64</td><td>i64</td><td>f64</td><td>f64</td></tr></thead><tbody><tr><td>&quot;BENE11001&quot;</td><td>&quot;CLM46614&quot;</td><td>1055912</td><td>26000</td><td>2390922</td><td>1068</td><td>1</td><td>1</td><td>1</td><td>12</td><td>12</td><td>36000</td><td>3204</td><td>60</td><td>70</td><td>69</td><td>0.024105</td><td>0.000371</td><td>1</td><td>0.000784</td><td>0.000006</td></tr><tr><td>&quot;BENE11001&quot;</td><td>&quot;CLM66048&quot;</td><td>1055907</td><td>5000</td><td>2318495</td><td>1068</td><td>0</td><td>1</td><td>1</td><td>12</td><td>12</td><td>36000</td><td>3204</td><td>60</td><td>70</td><td>81</td><td>0.000027</td><td>0.000438</td><td>1</td><td>8.6875e-7</td><td>0.000006</td></tr><tr><td>&quot;BENE11001&quot;</td><td>&quot;CLM68358&quot;</td><td>1056046</td><td>5000</td><td>2372395</td><td>1068</td><td>0</td><td>1</td><td>1</td><td>12</td><td>12</td><td>36000</td><td>3204</td><td>60</td><td>70</td><td>5</td><td>1.0766e-20</td><td>0.000033</td><td>1</td><td>1.9298e-19</td><td>0.000007</td></tr><tr><td>&quot;BENE11011&quot;</td><td>&quot;CLM38412&quot;</td><td>1052405</td><td>5000</td><td>2369659</td><td>1068</td><td>0</td><td>2</td><td>2</td><td>12</td><td>12</td><td>5000</td><td>1068</td><td>250</td><td>320</td><td>17</td><td>2.6328e-7</td><td>0.000073</td><td>2</td><td>8.0371e-7</td><td>0.000009</td></tr><tr><td>&quot;BENE11014&quot;</td><td>&quot;CLM63689&quot;</td><td>1056614</td><td>10000</td><td>2379376</td><td>1068</td><td>0</td><td>2</td><td>1</td><td>12</td><td>12</td><td>21260</td><td>2136</td><td>120</td><td>100</td><td>14</td><td>2.8407e-11</td><td>0.000077</td><td>1</td><td>9.2370e-13</td><td>0.000006</td></tr></tbody></table></div>"
      ],
      "text/plain": [
       "shape: (5, 21)\n",
       "┌───────────┬──────────┬──────────┬────────────┬───┬───────────┬───────────┬───────────┬───────────┐\n",
       "│ BeneID    ┆ ClaimID  ┆ Provider ┆ InscClaimA ┆ … ┆ Provider_ ┆ Attending ┆ Attending ┆ Attending │\n",
       "│ ---       ┆ ---      ┆ ---      ┆ mtReimburs ┆   ┆ pagerank  ┆ Physician ┆ Physician ┆ Physician │\n",
       "│ str       ┆ str      ┆ i32      ┆ ed         ┆   ┆ ---       ┆ _degree   ┆ _eigenvec ┆ _pagerank │\n",
       "│           ┆          ┆          ┆ ---        ┆   ┆ f64       ┆ ---       ┆ tor…      ┆ ---       │\n",
       "│           ┆          ┆          ┆ i64        ┆   ┆           ┆ i64       ┆ ---       ┆ f64       │\n",
       "│           ┆          ┆          ┆            ┆   ┆           ┆           ┆ f64       ┆           │\n",
       "╞═══════════╪══════════╪══════════╪════════════╪═══╪═══════════╪═══════════╪═══════════╪═══════════╡\n",
       "│ BENE11001 ┆ CLM46614 ┆ 1055912  ┆ 26000      ┆ … ┆ 0.000371  ┆ 1         ┆ 0.000784  ┆ 0.000006  │\n",
       "│ BENE11001 ┆ CLM66048 ┆ 1055907  ┆ 5000       ┆ … ┆ 0.000438  ┆ 1         ┆ 8.6875e-7 ┆ 0.000006  │\n",
       "│ BENE11001 ┆ CLM68358 ┆ 1056046  ┆ 5000       ┆ … ┆ 0.000033  ┆ 1         ┆ 1.9298e-1 ┆ 0.000007  │\n",
       "│           ┆          ┆          ┆            ┆   ┆           ┆           ┆ 9         ┆           │\n",
       "│ BENE11011 ┆ CLM38412 ┆ 1052405  ┆ 5000       ┆ … ┆ 0.000073  ┆ 2         ┆ 8.0371e-7 ┆ 0.000009  │\n",
       "│ BENE11014 ┆ CLM63689 ┆ 1056614  ┆ 10000      ┆ … ┆ 0.000077  ┆ 1         ┆ 9.2370e-1 ┆ 0.000006  │\n",
       "│           ┆          ┆          ┆            ┆   ┆           ┆           ┆ 3         ┆           │\n",
       "└───────────┴──────────┴──────────┴────────────┴───┴───────────┴───────────┴───────────┴───────────┘"
      ]
     },
     "execution_count": 9,
     "metadata": {},
     "output_type": "execute_result"
    }
   ],
   "source": [
    "nodes_info_dict = {\n",
    "    'eigenvector_centrality': nx.eigenvector_centrality_numpy,\n",
    "    'pagerank': nx.pagerank\n",
    "}\n",
    "\n",
    "dict_ = dict(nx.degree(G))\n",
    "nodes_info = pl.DataFrame({\n",
    "    'Physician': list(dict_.keys()),\n",
    "    'degree': list(dict_.values())\n",
    "})\n",
    "for i, f in nodes_info_dict.items():\n",
    "    dict_ = dict(f(G))\n",
    "    tmp = pl.DataFrame({\n",
    "        'Physician': list(dict_.keys()),\n",
    "        i: list(dict_.values())\n",
    "    })\n",
    "    nodes_info = nodes_info.join(tmp, on='Physician', how='left')\n",
    "nodes_info = nodes_info.with_columns(pl.col('Physician').cast(pl.Int32))\n",
    "\n",
    "df_enriched = (\n",
    "    df\n",
    "    .join(nodes_info, left_on='Provider', right_on='Physician', how='left')\n",
    "    .rename({i: f'Provider_{i}' for i in nodes_info.columns[1:]})\n",
    "    .join(nodes_info, left_on='AttendingPhysician', right_on='Physician', how='left')\n",
    "    .rename({i: f'AttendingPhysician_{i}' for i in nodes_info.columns[1:]})\n",
    ")\n",
    "df_enriched.head()"
   ]
  },
  {
   "cell_type": "code",
   "execution_count": 10,
   "id": "194068cc-d34f-4564-ade8-9d8db60f96fb",
   "metadata": {},
   "outputs": [],
   "source": [
    "communities = GraphPipelineIG(G).find_communities()"
   ]
  },
  {
   "cell_type": "code",
   "execution_count": null,
   "id": "aeb404d8-921d-488a-8264-3392cd0a9563",
   "metadata": {},
   "outputs": [],
   "source": []
  },
  {
   "cell_type": "code",
   "execution_count": 12,
   "id": "3b6c89b7-f8b4-4c11-a263-e3af35a454d7",
   "metadata": {
    "ExecuteTime": {
     "end_time": "2024-07-18T06:59:42.118707Z",
     "start_time": "2024-07-18T06:59:41.450640Z"
    }
   },
   "outputs": [
    {
     "name": "stdout",
     "output_type": "stream",
     "text": [
      "Building Infomap network from a NetworkX graph\n",
      "Found 4352 modules with codelength 4.48282697 bits\n"
     ]
    }
   ],
   "source": [
    "G = GraphPipelineNX(G).find_communities()\n",
    "I = G.subgraph(list(H.nodes()))"
   ]
  },
  {
   "cell_type": "code",
   "execution_count": 13,
   "id": "cc53bd8a-0ac4-413d-9367-55e8dc1ed47c",
   "metadata": {
    "ExecuteTime": {
     "end_time": "2024-07-18T06:59:42.245538Z",
     "start_time": "2024-07-18T06:59:42.119623Z"
    }
   },
   "outputs": [
    {
     "data": {
      "image/png": "[encoded data removed]",
      "text/plain": [
       "<Figure size 1000x600 with 1 Axes>"
      ]
     },
     "metadata": {},
     "output_type": "display_data"
    }
   ],
   "source": [
    "GraphPlotNX(I, community='community').draw_network()"
   ]
  },
  {
   "cell_type": "code",
   "execution_count": 14,
   "id": "7661d94c-34bf-49bb-8143-3a8aec01fec8",
   "metadata": {
    "ExecuteTime": {
     "end_time": "2024-07-18T06:59:42.498126Z",
     "start_time": "2024-07-18T06:59:42.246064Z"
    }
   },
   "outputs": [],
   "source": [
    "tmp = pl.DataFrame(\n",
    "    [(k, v) for k, v in nx.get_node_attributes(G, 'community').items()],\n",
    ").transpose()\n",
    "tmp.columns = [\"AttendingPhysician\", \"AttendingPhysician_cluster\"]\n",
    "tmp = tmp.with_columns(pl.col('AttendingPhysician').cast(pl.Int32))\n",
    "tmp.head()\n",
    "\n",
    "df_enriched = df_enriched.join(tmp, on='AttendingPhysician', how='left')"
   ]
  },
  {
   "cell_type": "code",
   "execution_count": 15,
   "id": "c14ba65be3bf70a7",
   "metadata": {
    "ExecuteTime": {
     "end_time": "2024-07-18T06:59:42.506041Z",
     "start_time": "2024-07-18T06:59:42.498990Z"
    }
   },
   "outputs": [
    {
     "name": "stdout",
     "output_type": "stream",
     "text": [
      "Original shapes:  X: (558211, 17)  y: (558211,)\n"
     ]
    }
   ],
   "source": [
    "# Splitting feature data from label data\n",
    "col = [\n",
    "    'InscClaimAmtReimbursed',\n",
    "    'DeductibleAmtPaid',\n",
    "    'Gender',\n",
    "    'Race',\n",
    "    'NoOfMonths_PartACov',\n",
    "    'NoOfMonths_PartBCov',\n",
    "    'IPAnnualReimbursementAmt',\n",
    "    'IPAnnualDeductibleAmt',\n",
    "    'OPAnnualReimbursementAmt',\n",
    "    'OPAnnualDeductibleAmt',\n",
    "    'Provider_degree',\n",
    "    #  'Provider_closeness_centrality',\n",
    "    'Provider_eigenvector_centrality',\n",
    "    'Provider_pagerank',\n",
    "    'AttendingPhysician_degree',\n",
    "    #  'AttendingPhysician_closeness_centrality',\n",
    "    'AttendingPhysician_eigenvector_centrality',\n",
    "    'AttendingPhysician_pagerank',\n",
    "    'AttendingPhysician_cluster'\n",
    "]\n",
    "X, y = df_enriched[col].to_pandas(), df_enriched['PotentialFraud']\n",
    "\n",
    "print(\"Original shapes: \", \"X:\", X.shape, \" y:\", y.shape)"
   ]
  },
  {
   "cell_type": "code",
   "execution_count": 16,
   "id": "73f196107daa240",
   "metadata": {
    "ExecuteTime": {
     "end_time": "2024-07-18T06:59:42.704605Z",
     "start_time": "2024-07-18T06:59:42.506521Z"
    }
   },
   "outputs": [
    {
     "name": "stdout",
     "output_type": "stream",
     "text": [
      "Shapes after splitting:\n",
      "\n",
      "X_train: (334926, 17), y_train: (334926,)      \n",
      "X_test: (223285, 17), y_test: (223285,)\n"
     ]
    }
   ],
   "source": [
    "from sklearn.model_selection import train_test_split\n",
    "from sklearn.pipeline import Pipeline\n",
    "from sklearn.preprocessing import StandardScaler\n",
    "from sklearn.ensemble import RandomForestClassifier\n",
    "\n",
    "\n",
    "# Splitting data into train and test sets\n",
    "X_train, X_test, y_train, y_test = train_test_split(X, y, test_size=0.4, random_state=69)\n",
    "print(f\"Shapes after splitting:\\n\\nX_train: {X_train.shape}, y_train: {y_train.shape}\\\n",
    "      \\nX_test: {X_test.shape}, y_test: {y_test.shape}\")"
   ]
  },
  {
   "cell_type": "code",
   "execution_count": 17,
   "id": "600ab1e7-3e88-477e-a1b3-533fc849326e",
   "metadata": {
    "ExecuteTime": {
     "end_time": "2024-07-18T06:59:42.707287Z",
     "start_time": "2024-07-18T06:59:42.705222Z"
    }
   },
   "outputs": [],
   "source": [
    "baseline = [\n",
    "    'InscClaimAmtReimbursed',\n",
    "     'DeductibleAmtPaid',\n",
    "     'Gender',\n",
    "     'Race',\n",
    "     'NoOfMonths_PartACov',\n",
    "     'NoOfMonths_PartBCov',\n",
    "     'IPAnnualReimbursementAmt',\n",
    "     'IPAnnualDeductibleAmt',\n",
    "     'OPAnnualReimbursementAmt',\n",
    "     'OPAnnualDeductibleAmt'\n",
    "]\n",
    "\n",
    "graph_features = [\n",
    "    'Provider_degree',\n",
    "    #  'Provider_closeness_centrality',\n",
    "    'Provider_eigenvector_centrality',\n",
    "    'Provider_pagerank',\n",
    "    'AttendingPhysician_degree',\n",
    "    #  'AttendingPhysician_closeness_centrality',\n",
    "    'AttendingPhysician_eigenvector_centrality',\n",
    "    'AttendingPhysician_pagerank'\n",
    "]\n",
    "\n",
    "communities_features = [\n",
    "    'AttendingPhysician_cluster'\n",
    "]\n",
    "\n",
    "feature_dict = {\n",
    "    'baseline': baseline,\n",
    "    'graph': baseline + graph_features,\n",
    "    'community': baseline + graph_features + communities_features\n",
    "}"
   ]
  },
  {
   "cell_type": "code",
   "execution_count": 18,
   "id": "7b611352b8e45d4",
   "metadata": {
    "ExecuteTime": {
     "start_time": "2024-07-18T06:59:42.707741Z"
    },
    "jupyter": {
     "is_executing": true
    }
   },
   "outputs": [
    {
     "name": "stdout",
     "output_type": "stream",
     "text": [
      "baseline Accuracy: 62.9\n",
      "graph Accuracy: 95.37\n",
      "community Accuracy: 99.48\n"
     ]
    }
   ],
   "source": [
    "pipeline_RFC = Pipeline([('scaler', StandardScaler()), ('rf', RandomForestClassifier(random_state=42))])\n",
    "accuracy = {'name': [], 'accuracy': []}\n",
    "for i, feature in feature_dict.items():\n",
    "    X_train_subset = X_train[feature]\n",
    "    X_test_subset = X_test[feature]\n",
    "\n",
    "    pipeline_RFC.fit(X_train_subset, y_train)\n",
    "    \n",
    "    acc = round(pipeline_RFC.score(X_test_subset, y_test) * 100, 2)\n",
    "    print(f\"{i} Accuracy: {acc}\")\n",
    "    accuracy['name'].append(i)\n",
    "    accuracy['accuracy'].append(acc)"
   ]
  },
  {
   "cell_type": "code",
   "execution_count": 19,
   "id": "29ef28d4-9aee-486e-bcaa-1687e1b55a90",
   "metadata": {
    "jupyter": {
     "is_executing": true
    }
   },
   "outputs": [
    {
     "data": {
      "application/javascript": "(function(root) {\n  function now() {\n    return new Date();\n  }\n\n  var force = true;\n  var py_version = '3.4.2'.replace('rc', '-rc.').replace('.dev', '-dev.');\n  var reloading = false;\n  var Bokeh = root.Bokeh;\n\n  if (typeof (root._bokeh_timeout) === \"undefined\" || force) {\n    root._bokeh_timeout = Date.now() + 5000;\n    root._bokeh_failed_load = false;\n  }\n\n  function run_callbacks() {\n    try {\n      root._bokeh_onload_callbacks.forEach(function(callback) {\n        if (callback != null)\n          callback();\n      });\n    } finally {\n      delete root._bokeh_onload_callbacks;\n    }\n    console.debug(\"Bokeh: all callbacks have finished\");\n  }\n\n  function load_libs(css_urls, js_urls, js_modules, js_exports, callback) {\n    if (css_urls == null) css_urls = [];\n    if (js_urls == null) js_urls = [];\n    if (js_modules == null) js_modules = [];\n    if (js_exports == null) js_exports = {};\n\n    root._bokeh_onload_callbacks.push(callback);\n\n    if (root._bokeh_is_loading > 0) {\n      console.debug(\"Bokeh: BokehJS is being loaded, scheduling callback at\", now());\n      return null;\n    }\n    if (js_urls.length === 0 && js_modules.length === 0 && Object.keys(js_exports).length === 0) {\n      run_callbacks();\n      return null;\n    }\n    if (!reloading) {\n      console.debug(\"Bokeh: BokehJS not loaded, scheduling load and callback at\", now());\n    }\n\n    function on_load() {\n      root._bokeh_is_loading--;\n      if (root._bokeh_is_loading === 0) {\n        console.debug(\"Bokeh: all BokehJS libraries/stylesheets loaded\");\n        run_callbacks()\n      }\n    }\n    window._bokeh_on_load = on_load\n\n    function on_error() {\n      console.error(\"failed to load \" + url);\n    }\n\n    var skip = [];\n    if (window.requirejs) {\n      window.requirejs.config({'packages': {}, 'paths': {}, 'shim': {}});\n      root._bokeh_is_loading = css_urls.length + 0;\n    } else {\n      root._bokeh_is_loading = css_urls.length + js_urls.length + js_modules.length + Object.keys(js_exports).length;\n    }\n\n    var existing_stylesheets = []\n    var links = document.getElementsByTagName('link')\n    for (var i = 0; i < links.length; i++) {\n      var link = links[i]\n      if (link.href != null) {\n\texisting_stylesheets.push(link.href)\n      }\n    }\n    for (var i = 0; i < css_urls.length; i++) {\n      var url = css_urls[i];\n      if (existing_stylesheets.indexOf(url) !== -1) {\n\ton_load()\n\tcontinue;\n      }\n      const element = document.createElement(\"link\");\n      element.onload = on_load;\n      element.onerror = on_error;\n      element.rel = \"stylesheet\";\n      element.type = \"text/css\";\n      element.href = url;\n      console.debug(\"Bokeh: injecting link tag for BokehJS stylesheet: \", url);\n      document.body.appendChild(element);\n    }    var existing_scripts = []\n    var scripts = document.getElementsByTagName('script')\n    for (var i = 0; i < scripts.length; i++) {\n      var script = scripts[i]\n      if (script.src != null) {\n\texisting_scripts.push(script.src)\n      }\n    }\n    for (var i = 0; i < js_urls.length; i++) {\n      var url = js_urls[i];\n      if (skip.indexOf(url) !== -1 || existing_scripts.indexOf(url) !== -1) {\n\tif (!window.requirejs) {\n\t  on_load();\n\t}\n\tcontinue;\n      }\n      var element = document.createElement('script');\n      element.onload = on_load;\n      element.onerror = on_error;\n      element.async = false;\n      element.src = url;\n      console.debug(\"Bokeh: injecting script tag for BokehJS library: \", url);\n      document.head.appendChild(element);\n    }\n    for (var i = 0; i < js_modules.length; i++) {\n      var url = js_modules[i];\n      if (skip.indexOf(url) !== -1 || existing_scripts.indexOf(url) !== -1) {\n\tif (!window.requirejs) {\n\t  on_load();\n\t}\n\tcontinue;\n      }\n      var element = document.createElement('script');\n      element.onload = on_load;\n      element.onerror = on_error;\n      element.async = false;\n      element.src = url;\n      element.type = \"module\";\n      console.debug(\"Bokeh: injecting script tag for BokehJS library: \", url);\n      document.head.appendChild(element);\n    }\n    for (const name in js_exports) {\n      var url = js_exports[name];\n      if (skip.indexOf(url) >= 0 || root[name] != null) {\n\tif (!window.requirejs) {\n\t  on_load();\n\t}\n\tcontinue;\n      }\n      var element = document.createElement('script');\n      element.onerror = on_error;\n      element.async = false;\n      element.type = \"module\";\n      console.debug(\"Bokeh: injecting script tag for BokehJS library: \", url);\n      element.textContent = `\n      import ${name} from \"${url}\"\n      window.${name} = ${name}\n      window._bokeh_on_load()\n      `\n      document.head.appendChild(element);\n    }\n    if (!js_urls.length && !js_modules.length) {\n      on_load()\n    }\n  };\n\n  function inject_raw_css(css) {\n    const element = document.createElement(\"style\");\n    element.appendChild(document.createTextNode(css));\n    document.body.appendChild(element);\n  }\n\n  var js_urls = [\"https://cdn.bokeh.org/bokeh/release/bokeh-3.4.2.min.js\", \"https://cdn.bokeh.org/bokeh/release/bokeh-gl-3.4.2.min.js\", \"https://cdn.bokeh.org/bokeh/release/bokeh-widgets-3.4.2.min.js\", \"https://cdn.bokeh.org/bokeh/release/bokeh-tables-3.4.2.min.js\", \"https://cdn.holoviz.org/panel/1.4.4/dist/panel.min.js\"];\n  var js_modules = [];\n  var js_exports = {};\n  var css_urls = [];\n  var inline_js = [    function(Bokeh) {\n      Bokeh.set_log_level(\"info\");\n    },\nfunction(Bokeh) {} // ensure no trailing comma for IE\n  ];\n\n  function run_inline_js() {\n    if ((root.Bokeh !== undefined) || (force === true)) {\n      for (var i = 0; i < inline_js.length; i++) {\n\ttry {\n          inline_js[i].call(root, root.Bokeh);\n\t} catch(e) {\n\t  if (!reloading) {\n\t    throw e;\n\t  }\n\t}\n      }\n      // Cache old bokeh versions\n      if (Bokeh != undefined && !reloading) {\n\tvar NewBokeh = root.Bokeh;\n\tif (Bokeh.versions === undefined) {\n\t  Bokeh.versions = new Map();\n\t}\n\tif (NewBokeh.version !== Bokeh.version) {\n\t  Bokeh.versions.set(NewBokeh.version, NewBokeh)\n\t}\n\troot.Bokeh = Bokeh;\n      }} else if (Date.now() < root._bokeh_timeout) {\n      setTimeout(run_inline_js, 100);\n    } else if (!root._bokeh_failed_load) {\n      console.log(\"Bokeh: BokehJS failed to load within specified timeout.\");\n      root._bokeh_failed_load = true;\n    }\n    root._bokeh_is_initializing = false\n  }\n\n  function load_or_wait() {\n    // Implement a backoff loop that tries to ensure we do not load multiple\n    // versions of Bokeh and its dependencies at the same time.\n    // In recent versions we use the root._bokeh_is_initializing flag\n    // to determine whether there is an ongoing attempt to initialize\n    // bokeh, however for backward compatibility we also try to ensure\n    // that we do not start loading a newer (Panel>=1.0 and Bokeh>3) version\n    // before older versions are fully initialized.\n    if (root._bokeh_is_initializing && Date.now() > root._bokeh_timeout) {\n      root._bokeh_is_initializing = false;\n      root._bokeh_onload_callbacks = undefined;\n      console.log(\"Bokeh: BokehJS was loaded multiple times but one version failed to initialize.\");\n      load_or_wait();\n    } else if (root._bokeh_is_initializing || (typeof root._bokeh_is_initializing === \"undefined\" && root._bokeh_onload_callbacks !== undefined)) {\n      setTimeout(load_or_wait, 100);\n    } else {\n      root._bokeh_is_initializing = true\n      root._bokeh_onload_callbacks = []\n      var bokeh_loaded = Bokeh != null && (Bokeh.version === py_version || (Bokeh.versions !== undefined && Bokeh.versions.has(py_version)));\n      if (!reloading && !bokeh_loaded) {\n\troot.Bokeh = undefined;\n      }\n      load_libs(css_urls, js_urls, js_modules, js_exports, function() {\n\tconsole.debug(\"Bokeh: BokehJS plotting callback run at\", now());\n\trun_inline_js();\n      });\n    }\n  }\n  // Give older versions of the autoload script a head-start to ensure\n  // they initialize before we start loading newer version.\n  setTimeout(load_or_wait, 100)\n}(window));",
      "application/vnd.holoviews_load.v0+json": ""
     },
     "metadata": {},
     "output_type": "display_data"
    },
    {
     "data": {
      "application/javascript": "\nif ((window.PyViz === undefined) || (window.PyViz instanceof HTMLElement)) {\n  window.PyViz = {comms: {}, comm_status:{}, kernels:{}, receivers: {}, plot_index: []}\n}\n\n\n    function JupyterCommManager() {\n    }\n\n    JupyterCommManager.prototype.register_target = function(plot_id, comm_id, msg_handler) {\n      if (window.comm_manager || ((window.Jupyter !== undefined) && (Jupyter.notebook.kernel != null))) {\n        var comm_manager = window.comm_manager || Jupyter.notebook.kernel.comm_manager;\n        comm_manager.register_target(comm_id, function(comm) {\n          comm.on_msg(msg_handler);\n        });\n      } else if ((plot_id in window.PyViz.kernels) && (window.PyViz.kernels[plot_id])) {\n        window.PyViz.kernels[plot_id].registerCommTarget(comm_id, function(comm) {\n          comm.onMsg = msg_handler;\n        });\n      } else if (typeof google != 'undefined' && google.colab.kernel != null) {\n        google.colab.kernel.comms.registerTarget(comm_id, (comm) => {\n          var messages = comm.messages[Symbol.asyncIterator]();\n          function processIteratorResult(result) {\n            var message = result.value;\n            console.log(message)\n            var content = {data: message.data, comm_id};\n            var buffers = []\n            for (var buffer of message.buffers || []) {\n              buffers.push(new DataView(buffer))\n            }\n            var metadata = message.metadata || {};\n            var msg = {content, buffers, metadata}\n            msg_handler(msg);\n            return messages.next().then(processIteratorResult);\n          }\n          return messages.next().then(processIteratorResult);\n        })\n      }\n    }\n\n    JupyterCommManager.prototype.get_client_comm = function(plot_id, comm_id, msg_handler) {\n      if (comm_id in window.PyViz.comms) {\n        return window.PyViz.comms[comm_id];\n      } else if (window.comm_manager || ((window.Jupyter !== undefined) && (Jupyter.notebook.kernel != null))) {\n        var comm_manager = window.comm_manager || Jupyter.notebook.kernel.comm_manager;\n        var comm = comm_manager.new_comm(comm_id, {}, {}, {}, comm_id);\n        if (msg_handler) {\n          comm.on_msg(msg_handler);\n        }\n      } else if ((plot_id in window.PyViz.kernels) && (window.PyViz.kernels[plot_id])) {\n        var comm = window.PyViz.kernels[plot_id].connectToComm(comm_id);\n        comm.open();\n        if (msg_handler) {\n          comm.onMsg = msg_handler;\n        }\n      } else if (typeof google != 'undefined' && google.colab.kernel != null) {\n        var comm_promise = google.colab.kernel.comms.open(comm_id)\n        comm_promise.then((comm) => {\n          window.PyViz.comms[comm_id] = comm;\n          if (msg_handler) {\n            var messages = comm.messages[Symbol.asyncIterator]();\n            function processIteratorResult(result) {\n              var message = result.value;\n              var content = {data: message.data};\n              var metadata = message.metadata || {comm_id};\n              var msg = {content, metadata}\n              msg_handler(msg);\n              return messages.next().then(processIteratorResult);\n            }\n            return messages.next().then(processIteratorResult);\n          }\n        }) \n        var sendClosure = (data, metadata, buffers, disposeOnDone) => {\n          return comm_promise.then((comm) => {\n            comm.send(data, metadata, buffers, disposeOnDone);\n          });\n        };\n        var comm = {\n          send: sendClosure\n        };\n      }\n      window.PyViz.comms[comm_id] = comm;\n      return comm;\n    }\n    window.PyViz.comm_manager = new JupyterCommManager();\n    \n\n\nvar JS_MIME_TYPE = 'application/javascript';\nvar HTML_MIME_TYPE = 'text/html';\nvar EXEC_MIME_TYPE = 'application/vnd.holoviews_exec.v0+json';\nvar CLASS_NAME = 'output';\n\n/**\n * Render data to the DOM node\n */\nfunction render(props, node) {\n  var div = document.createElement(\"div\");\n  var script = document.createElement(\"script\");\n  node.appendChild(div);\n  node.appendChild(script);\n}\n\n/**\n * Handle when a new output is added\n */\nfunction handle_add_output(event, handle) {\n  var output_area = handle.output_area;\n  var output = handle.output;\n  if ((output.data == undefined) || (!output.data.hasOwnProperty(EXEC_MIME_TYPE))) {\n    return\n  }\n  var id = output.metadata[EXEC_MIME_TYPE][\"id\"];\n  var toinsert = output_area.element.find(\".\" + CLASS_NAME.split(' ')[0]);\n  if (id !== undefined) {\n    var nchildren = toinsert.length;\n    var html_node = toinsert[nchildren-1].children[0];\n    html_node.innerHTML = output.data[HTML_MIME_TYPE];\n    var scripts = [];\n    var nodelist = html_node.querySelectorAll(\"script\");\n    for (var i in nodelist) {\n      if (nodelist.hasOwnProperty(i)) {\n        scripts.push(nodelist[i])\n      }\n    }\n\n    scripts.forEach( function (oldScript) {\n      var newScript = document.createElement(\"script\");\n      var attrs = [];\n      var nodemap = oldScript.attributes;\n      for (var j in nodemap) {\n        if (nodemap.hasOwnProperty(j)) {\n          attrs.push(nodemap[j])\n        }\n      }\n      attrs.forEach(function(attr) { newScript.setAttribute(attr.name, attr.value) });\n      newScript.appendChild(document.createTextNode(oldScript.innerHTML));\n      oldScript.parentNode.replaceChild(newScript, oldScript);\n    });\n    if (JS_MIME_TYPE in output.data) {\n      toinsert[nchildren-1].children[1].textContent = output.data[JS_MIME_TYPE];\n    }\n    output_area._hv_plot_id = id;\n    if ((window.Bokeh !== undefined) && (id in Bokeh.index)) {\n      window.PyViz.plot_index[id] = Bokeh.index[id];\n    } else {\n      window.PyViz.plot_index[id] = null;\n    }\n  } else if (output.metadata[EXEC_MIME_TYPE][\"server_id\"] !== undefined) {\n    var bk_div = document.createElement(\"div\");\n    bk_div.innerHTML = output.data[HTML_MIME_TYPE];\n    var script_attrs = bk_div.children[0].attributes;\n    for (var i = 0; i < script_attrs.length; i++) {\n      toinsert[toinsert.length - 1].childNodes[1].setAttribute(script_attrs[i].name, script_attrs[i].value);\n    }\n    // store reference to server id on output_area\n    output_area._bokeh_server_id = output.metadata[EXEC_MIME_TYPE][\"server_id\"];\n  }\n}\n\n/**\n * Handle when an output is cleared or removed\n */\nfunction handle_clear_output(event, handle) {\n  var id = handle.cell.output_area._hv_plot_id;\n  var server_id = handle.cell.output_area._bokeh_server_id;\n  if (((id === undefined) || !(id in PyViz.plot_index)) && (server_id !== undefined)) { return; }\n  var comm = window.PyViz.comm_manager.get_client_comm(\"hv-extension-comm\", \"hv-extension-comm\", function () {});\n  if (server_id !== null) {\n    comm.send({event_type: 'server_delete', 'id': server_id});\n    return;\n  } else if (comm !== null) {\n    comm.send({event_type: 'delete', 'id': id});\n  }\n  delete PyViz.plot_index[id];\n  if ((window.Bokeh !== undefined) & (id in window.Bokeh.index)) {\n    var doc = window.Bokeh.index[id].model.document\n    doc.clear();\n    const i = window.Bokeh.documents.indexOf(doc);\n    if (i > -1) {\n      window.Bokeh.documents.splice(i, 1);\n    }\n  }\n}\n\n/**\n * Handle kernel restart event\n */\nfunction handle_kernel_cleanup(event, handle) {\n  delete PyViz.comms[\"hv-extension-comm\"];\n  window.PyViz.plot_index = {}\n}\n\n/**\n * Handle update_display_data messages\n */\nfunction handle_update_output(event, handle) {\n  handle_clear_output(event, {cell: {output_area: handle.output_area}})\n  handle_add_output(event, handle)\n}\n\nfunction register_renderer(events, OutputArea) {\n  function append_mime(data, metadata, element) {\n    // create a DOM node to render to\n    var toinsert = this.create_output_subarea(\n    metadata,\n    CLASS_NAME,\n    EXEC_MIME_TYPE\n    );\n    this.keyboard_manager.register_events(toinsert);\n    // Render to node\n    var props = {data: data, metadata: metadata[EXEC_MIME_TYPE]};\n    render(props, toinsert[0]);\n    element.append(toinsert);\n    return toinsert\n  }\n\n  events.on('output_added.OutputArea', handle_add_output);\n  events.on('output_updated.OutputArea', handle_update_output);\n  events.on('clear_output.CodeCell', handle_clear_output);\n  events.on('delete.Cell', handle_clear_output);\n  events.on('kernel_ready.Kernel', handle_kernel_cleanup);\n\n  OutputArea.prototype.register_mime_type(EXEC_MIME_TYPE, append_mime, {\n    safe: true,\n    index: 0\n  });\n}\n\nif (window.Jupyter !== undefined) {\n  try {\n    var events = require('base/js/events');\n    var OutputArea = require('notebook/js/outputarea').OutputArea;\n    if (OutputArea.prototype.mime_types().indexOf(EXEC_MIME_TYPE) == -1) {\n      register_renderer(events, OutputArea);\n    }\n  } catch(err) {\n  }\n}\n",
      "application/vnd.holoviews_load.v0+json": ""
     },
     "metadata": {},
     "output_type": "display_data"
    },
    {
     "data": {
      "text/html": [
       "<style>*[data-root-id],\n",
       "*[data-root-id] > * {\n",
       "  box-sizing: border-box;\n",
       "  font-family: var(--jp-ui-font-family);\n",
       "  font-size: var(--jp-ui-font-size1);\n",
       "  color: var(--vscode-editor-foreground, var(--jp-ui-font-color1));\n",
       "}\n",
       "\n",
       "/* Override VSCode background color */\n",
       ".cell-output-ipywidget-background:has(\n",
       "    > .cell-output-ipywidget-background > .lm-Widget > *[data-root-id]\n",
       "  ),\n",
       ".cell-output-ipywidget-background:has(> .lm-Widget > *[data-root-id]) {\n",
       "  background-color: transparent !important;\n",
       "}\n",
       "</style>"
      ]
     },
     "metadata": {},
     "output_type": "display_data"
    },
    {
     "data": {
      "application/vnd.holoviews_exec.v0+json": "",
      "text/html": [
       "<div id='p1002'>\n",
       "  <div id=\"b1039179-9d56-4af2-a5f0-3ca0cf68588f\" data-root-id=\"p1002\" style=\"display: contents;\"></div>\n",
       "</div>\n",
       "<script type=\"application/javascript\">(function(root) {\n",
       "  var docs_json = {\"90129712-3066-4be9-89d2-09dd1a09d965\":{\"version\":\"3.4.2\",\"title\":\"Bokeh Application\",\"roots\":[{\"type\":\"object\",\"name\":\"panel.models.browser.BrowserInfo\",\"id\":\"p1002\"},{\"type\":\"object\",\"name\":\"panel.models.comm_manager.CommManager\",\"id\":\"p1003\",\"attributes\":{\"plot_id\":\"p1002\",\"comm_id\":\"3d26a154f64945219730c65759f75968\",\"client_comm_id\":\"37e143b6885b496fbfeda1617be9cd3c\"}}],\"defs\":[{\"type\":\"model\",\"name\":\"ReactiveHTML1\"},{\"type\":\"model\",\"name\":\"FlexBox1\",\"properties\":[{\"name\":\"align_content\",\"kind\":\"Any\",\"default\":\"flex-start\"},{\"name\":\"align_items\",\"kind\":\"Any\",\"default\":\"flex-start\"},{\"name\":\"flex_direction\",\"kind\":\"Any\",\"default\":\"row\"},{\"name\":\"flex_wrap\",\"kind\":\"Any\",\"default\":\"wrap\"},{\"name\":\"gap\",\"kind\":\"Any\",\"default\":\"\"},{\"name\":\"justify_content\",\"kind\":\"Any\",\"default\":\"flex-start\"}]},{\"type\":\"model\",\"name\":\"FloatPanel1\",\"properties\":[{\"name\":\"config\",\"kind\":\"Any\",\"default\":{\"type\":\"map\"}},{\"name\":\"contained\",\"kind\":\"Any\",\"default\":true},{\"name\":\"position\",\"kind\":\"Any\",\"default\":\"right-top\"},{\"name\":\"offsetx\",\"kind\":\"Any\",\"default\":null},{\"name\":\"offsety\",\"kind\":\"Any\",\"default\":null},{\"name\":\"theme\",\"kind\":\"Any\",\"default\":\"primary\"},{\"name\":\"status\",\"kind\":\"Any\",\"default\":\"normalized\"}]},{\"type\":\"model\",\"name\":\"GridStack1\",\"properties\":[{\"name\":\"mode\",\"kind\":\"Any\",\"default\":\"warn\"},{\"name\":\"ncols\",\"kind\":\"Any\",\"default\":null},{\"name\":\"nrows\",\"kind\":\"Any\",\"default\":null},{\"name\":\"allow_resize\",\"kind\":\"Any\",\"default\":true},{\"name\":\"allow_drag\",\"kind\":\"Any\",\"default\":true},{\"name\":\"state\",\"kind\":\"Any\",\"default\":[]}]},{\"type\":\"model\",\"name\":\"drag1\",\"properties\":[{\"name\":\"slider_width\",\"kind\":\"Any\",\"default\":5},{\"name\":\"slider_color\",\"kind\":\"Any\",\"default\":\"black\"},{\"name\":\"value\",\"kind\":\"Any\",\"default\":50}]},{\"type\":\"model\",\"name\":\"click1\",\"properties\":[{\"name\":\"terminal_output\",\"kind\":\"Any\",\"default\":\"\"},{\"name\":\"debug_name\",\"kind\":\"Any\",\"default\":\"\"},{\"name\":\"clears\",\"kind\":\"Any\",\"default\":0}]},{\"type\":\"model\",\"name\":\"FastWrapper1\",\"properties\":[{\"name\":\"object\",\"kind\":\"Any\",\"default\":null},{\"name\":\"style\",\"kind\":\"Any\",\"default\":null}]},{\"type\":\"model\",\"name\":\"NotificationAreaBase1\",\"properties\":[{\"name\":\"js_events\",\"kind\":\"Any\",\"default\":{\"type\":\"map\"}},{\"name\":\"position\",\"kind\":\"Any\",\"default\":\"bottom-right\"},{\"name\":\"_clear\",\"kind\":\"Any\",\"default\":0}]},{\"type\":\"model\",\"name\":\"NotificationArea1\",\"properties\":[{\"name\":\"js_events\",\"kind\":\"Any\",\"default\":{\"type\":\"map\"}},{\"name\":\"notifications\",\"kind\":\"Any\",\"default\":[]},{\"name\":\"position\",\"kind\":\"Any\",\"default\":\"bottom-right\"},{\"name\":\"_clear\",\"kind\":\"Any\",\"default\":0},{\"name\":\"types\",\"kind\":\"Any\",\"default\":[{\"type\":\"map\",\"entries\":[[\"type\",\"warning\"],[\"background\",\"#ffc107\"],[\"icon\",{\"type\":\"map\",\"entries\":[[\"className\",\"fas fa-exclamation-triangle\"],[\"tagName\",\"i\"],[\"color\",\"white\"]]}]]},{\"type\":\"map\",\"entries\":[[\"type\",\"info\"],[\"background\",\"#007bff\"],[\"icon\",{\"type\":\"map\",\"entries\":[[\"className\",\"fas fa-info-circle\"],[\"tagName\",\"i\"],[\"color\",\"white\"]]}]]}]}]},{\"type\":\"model\",\"name\":\"Notification\",\"properties\":[{\"name\":\"background\",\"kind\":\"Any\",\"default\":null},{\"name\":\"duration\",\"kind\":\"Any\",\"default\":3000},{\"name\":\"icon\",\"kind\":\"Any\",\"default\":null},{\"name\":\"message\",\"kind\":\"Any\",\"default\":\"\"},{\"name\":\"notification_type\",\"kind\":\"Any\",\"default\":null},{\"name\":\"_destroyed\",\"kind\":\"Any\",\"default\":false}]},{\"type\":\"model\",\"name\":\"TemplateActions1\",\"properties\":[{\"name\":\"open_modal\",\"kind\":\"Any\",\"default\":0},{\"name\":\"close_modal\",\"kind\":\"Any\",\"default\":0}]},{\"type\":\"model\",\"name\":\"BootstrapTemplateActions1\",\"properties\":[{\"name\":\"open_modal\",\"kind\":\"Any\",\"default\":0},{\"name\":\"close_modal\",\"kind\":\"Any\",\"default\":0}]},{\"type\":\"model\",\"name\":\"TemplateEditor1\",\"properties\":[{\"name\":\"layout\",\"kind\":\"Any\",\"default\":[]}]},{\"type\":\"model\",\"name\":\"MaterialTemplateActions1\",\"properties\":[{\"name\":\"open_modal\",\"kind\":\"Any\",\"default\":0},{\"name\":\"close_modal\",\"kind\":\"Any\",\"default\":0}]},{\"type\":\"model\",\"name\":\"copy_to_clipboard1\",\"properties\":[{\"name\":\"fill\",\"kind\":\"Any\",\"default\":\"none\"},{\"name\":\"value\",\"kind\":\"Any\",\"default\":null}]}]}};\n",
       "  var render_items = [{\"docid\":\"90129712-3066-4be9-89d2-09dd1a09d965\",\"roots\":{\"p1002\":\"b1039179-9d56-4af2-a5f0-3ca0cf68588f\"},\"root_ids\":[\"p1002\"]}];\n",
       "  var docs = Object.values(docs_json)\n",
       "  if (!docs) {\n",
       "    return\n",
       "  }\n",
       "  const py_version = docs[0].version.replace('rc', '-rc.').replace('.dev', '-dev.')\n",
       "  async function embed_document(root) {\n",
       "    var Bokeh = get_bokeh(root)\n",
       "    await Bokeh.embed.embed_items_notebook(docs_json, render_items);\n",
       "    for (const render_item of render_items) {\n",
       "      for (const root_id of render_item.root_ids) {\n",
       "\tconst id_el = document.getElementById(root_id)\n",
       "\tif (id_el.children.length && id_el.children[0].hasAttribute('data-root-id')) {\n",
       "\t  const root_el = id_el.children[0]\n",
       "\t  root_el.id = root_el.id + '-rendered'\n",
       "\t  for (const child of root_el.children) {\n",
       "            // Ensure JupyterLab does not capture keyboard shortcuts\n",
       "            // see: https://jupyterlab.readthedocs.io/en/4.1.x/extension/notebook.html#keyboard-interaction-model\n",
       "\t    child.setAttribute('data-lm-suppress-shortcuts', 'true')\n",
       "\t  }\n",
       "\t}\n",
       "      }\n",
       "    }\n",
       "  }\n",
       "  function get_bokeh(root) {\n",
       "    if (root.Bokeh === undefined) {\n",
       "      return null\n",
       "    } else if (root.Bokeh.version !== py_version) {\n",
       "      if (root.Bokeh.versions === undefined || !root.Bokeh.versions.has(py_version)) {\n",
       "\treturn null\n",
       "      }\n",
       "      return root.Bokeh.versions.get(py_version);\n",
       "    } else if (root.Bokeh.version === py_version) {\n",
       "      return root.Bokeh\n",
       "    }\n",
       "    return null\n",
       "  }\n",
       "  function is_loaded(root) {\n",
       "    var Bokeh = get_bokeh(root)\n",
       "    return (Bokeh != null && Bokeh.Panel !== undefined)\n",
       "  }\n",
       "  if (is_loaded(root)) {\n",
       "    embed_document(root);\n",
       "  } else {\n",
       "    var attempts = 0;\n",
       "    var timer = setInterval(function(root) {\n",
       "      if (is_loaded(root)) {\n",
       "        clearInterval(timer);\n",
       "        embed_document(root);\n",
       "      } else if (document.readyState == \"complete\") {\n",
       "        attempts++;\n",
       "        if (attempts > 200) {\n",
       "          clearInterval(timer);\n",
       "\t  var Bokeh = get_bokeh(root)\n",
       "\t  if (Bokeh == null || Bokeh.Panel == null) {\n",
       "            console.warn(\"Panel: ERROR: Unable to run Panel code because Bokeh or Panel library is missing\");\n",
       "\t  } else {\n",
       "\t    console.warn(\"Panel: WARNING: Attempting to render but not all required libraries could be resolved.\")\n",
       "\t    embed_document(root)\n",
       "\t  }\n",
       "        }\n",
       "      }\n",
       "    }, 25, root)\n",
       "  }\n",
       "})(window);</script>"
      ]
     },
     "metadata": {
      "application/vnd.holoviews_exec.v0+json": {
       "id": "p1002"
      }
     },
     "output_type": "display_data"
    },
    {
     "data": {},
     "metadata": {},
     "output_type": "display_data"
    },
    {
     "data": {
      "application/vnd.holoviews_exec.v0+json": "",
      "text/html": [
       "<div id='p1004'>\n",
       "  <div id=\"cec8aec6-dcb0-40b5-82e2-ef35db971b8c\" data-root-id=\"p1004\" style=\"display: contents;\"></div>\n",
       "</div>\n",
       "<script type=\"application/javascript\">(function(root) {\n",
       "  var docs_json = {\"9556d6e6-b4c6-4fb6-bc84-c7c385e8917f\":{\"version\":\"3.4.2\",\"title\":\"Bokeh Application\",\"roots\":[{\"type\":\"object\",\"name\":\"Row\",\"id\":\"p1004\",\"attributes\":{\"name\":\"Row00939\",\"tags\":[\"embedded\"],\"stylesheets\":[\"\\n:host(.pn-loading):before, .pn-loading:before {\\n  background-color: #c3c3c3;\\n  mask-size: auto calc(min(50%, 400px));\\n  -webkit-mask-size: auto calc(min(50%, 400px));\\n}\",{\"type\":\"object\",\"name\":\"ImportedStyleSheet\",\"id\":\"p1007\",\"attributes\":{\"url\":\"https://cdn.holoviz.org/panel/1.4.4/dist/css/loading.css\"}},{\"type\":\"object\",\"name\":\"ImportedStyleSheet\",\"id\":\"p1063\",\"attributes\":{\"url\":\"https://cdn.holoviz.org/panel/1.4.4/dist/css/listpanel.css\"}},{\"type\":\"object\",\"name\":\"ImportedStyleSheet\",\"id\":\"p1005\",\"attributes\":{\"url\":\"https://cdn.holoviz.org/panel/1.4.4/dist/bundled/theme/default.css\"}},{\"type\":\"object\",\"name\":\"ImportedStyleSheet\",\"id\":\"p1006\",\"attributes\":{\"url\":\"https://cdn.holoviz.org/panel/1.4.4/dist/bundled/theme/native.css\"}}],\"min_width\":700,\"margin\":0,\"sizing_mode\":\"stretch_width\",\"align\":\"start\",\"children\":[{\"type\":\"object\",\"name\":\"Spacer\",\"id\":\"p1008\",\"attributes\":{\"name\":\"HSpacer00946\",\"stylesheets\":[\"\\n:host(.pn-loading):before, .pn-loading:before {\\n  background-color: #c3c3c3;\\n  mask-size: auto calc(min(50%, 400px));\\n  -webkit-mask-size: auto calc(min(50%, 400px));\\n}\",{\"id\":\"p1007\"},{\"id\":\"p1005\"},{\"id\":\"p1006\"}],\"margin\":0,\"sizing_mode\":\"stretch_width\",\"align\":\"start\"}},{\"type\":\"object\",\"name\":\"Figure\",\"id\":\"p1016\",\"attributes\":{\"width\":700,\"height\":300,\"margin\":[5,10],\"sizing_mode\":\"fixed\",\"align\":\"start\",\"x_range\":{\"type\":\"object\",\"name\":\"FactorRange\",\"id\":\"p1009\",\"attributes\":{\"tags\":[[[\"name\",null]],[]],\"factors\":[\"baseline\",\"graph\",\"community\"]}},\"y_range\":{\"type\":\"object\",\"name\":\"Range1d\",\"id\":\"p1010\",\"attributes\":{\"tags\":[[[\"accuracy\",null]],{\"type\":\"map\",\"entries\":[[\"invert_yaxis\",false],[\"autorange\",false]]}],\"end\":103.138,\"reset_start\":0.0,\"reset_end\":103.138}},\"x_scale\":{\"type\":\"object\",\"name\":\"CategoricalScale\",\"id\":\"p1026\"},\"y_scale\":{\"type\":\"object\",\"name\":\"LinearScale\",\"id\":\"p1027\"},\"title\":{\"type\":\"object\",\"name\":\"Title\",\"id\":\"p1019\",\"attributes\":{\"text_color\":\"black\",\"text_font_size\":\"12pt\"}},\"renderers\":[{\"type\":\"object\",\"name\":\"GlyphRenderer\",\"id\":\"p1056\",\"attributes\":{\"data_source\":{\"type\":\"object\",\"name\":\"ColumnDataSource\",\"id\":\"p1047\",\"attributes\":{\"selected\":{\"type\":\"object\",\"name\":\"Selection\",\"id\":\"p1048\",\"attributes\":{\"indices\":[],\"line_indices\":[]}},\"selection_policy\":{\"type\":\"object\",\"name\":\"UnionRenderers\",\"id\":\"p1049\"},\"data\":{\"type\":\"map\",\"entries\":[[\"name\",[\"baseline\",\"graph\",\"community\"]],[\"accuracy\",{\"type\":\"ndarray\",\"array\":{\"type\":\"bytes\",\"data\":\"MzMzMzNzT0BI4XoUrtdXQB+F61G43lhA\"},\"shape\":[3],\"dtype\":\"float64\",\"order\":\"little\"}]]}}},\"view\":{\"type\":\"object\",\"name\":\"CDSView\",\"id\":\"p1057\",\"attributes\":{\"filter\":{\"type\":\"object\",\"name\":\"AllIndices\",\"id\":\"p1058\"}}},\"glyph\":{\"type\":\"object\",\"name\":\"VBar\",\"id\":\"p1053\",\"attributes\":{\"tags\":[\"apply_ranges\"],\"x\":{\"type\":\"field\",\"field\":\"name\"},\"width\":{\"type\":\"value\",\"value\":0.8},\"top\":{\"type\":\"field\",\"field\":\"accuracy\"},\"fill_color\":{\"type\":\"value\",\"value\":\"#30a2da\"},\"hatch_color\":{\"type\":\"value\",\"value\":\"#30a2da\"}}},\"selection_glyph\":{\"type\":\"object\",\"name\":\"VBar\",\"id\":\"p1059\",\"attributes\":{\"tags\":[\"apply_ranges\"],\"x\":{\"type\":\"field\",\"field\":\"name\"},\"width\":{\"type\":\"value\",\"value\":0.8},\"bottom\":{\"type\":\"value\",\"value\":0},\"top\":{\"type\":\"field\",\"field\":\"accuracy\"},\"line_color\":{\"type\":\"value\",\"value\":\"black\"},\"line_alpha\":{\"type\":\"value\",\"value\":1.0},\"line_width\":{\"type\":\"value\",\"value\":1},\"line_join\":{\"type\":\"value\",\"value\":\"bevel\"},\"line_cap\":{\"type\":\"value\",\"value\":\"butt\"},\"line_dash\":{\"type\":\"value\",\"value\":[]},\"line_dash_offset\":{\"type\":\"value\",\"value\":0},\"fill_color\":{\"type\":\"value\",\"value\":\"#30a2da\"},\"fill_alpha\":{\"type\":\"value\",\"value\":1.0},\"hatch_color\":{\"type\":\"value\",\"value\":\"#30a2da\"},\"hatch_alpha\":{\"type\":\"value\",\"value\":1.0},\"hatch_scale\":{\"type\":\"value\",\"value\":12.0},\"hatch_pattern\":{\"type\":\"value\",\"value\":null},\"hatch_weight\":{\"type\":\"value\",\"value\":1.0}}},\"nonselection_glyph\":{\"type\":\"object\",\"name\":\"VBar\",\"id\":\"p1054\",\"attributes\":{\"tags\":[\"apply_ranges\"],\"x\":{\"type\":\"field\",\"field\":\"name\"},\"width\":{\"type\":\"value\",\"value\":0.8},\"top\":{\"type\":\"field\",\"field\":\"accuracy\"},\"line_alpha\":{\"type\":\"value\",\"value\":0.1},\"fill_color\":{\"type\":\"value\",\"value\":\"#30a2da\"},\"fill_alpha\":{\"type\":\"value\",\"value\":0.1},\"hatch_color\":{\"type\":\"value\",\"value\":\"#30a2da\"},\"hatch_alpha\":{\"type\":\"value\",\"value\":0.1}}},\"muted_glyph\":{\"type\":\"object\",\"name\":\"VBar\",\"id\":\"p1055\",\"attributes\":{\"tags\":[\"apply_ranges\"],\"x\":{\"type\":\"field\",\"field\":\"name\"},\"width\":{\"type\":\"value\",\"value\":0.8},\"top\":{\"type\":\"field\",\"field\":\"accuracy\"},\"line_alpha\":{\"type\":\"value\",\"value\":0.2},\"fill_color\":{\"type\":\"value\",\"value\":\"#30a2da\"},\"fill_alpha\":{\"type\":\"value\",\"value\":0.2},\"hatch_color\":{\"type\":\"value\",\"value\":\"#30a2da\"},\"hatch_alpha\":{\"type\":\"value\",\"value\":0.2}}}}}],\"toolbar\":{\"type\":\"object\",\"name\":\"Toolbar\",\"id\":\"p1025\",\"attributes\":{\"tools\":[{\"type\":\"object\",\"name\":\"WheelZoomTool\",\"id\":\"p1014\",\"attributes\":{\"tags\":[\"hv_created\"],\"renderers\":\"auto\",\"zoom_together\":\"none\"}},{\"type\":\"object\",\"name\":\"HoverTool\",\"id\":\"p1015\",\"attributes\":{\"tags\":[\"hv_created\"],\"renderers\":[{\"id\":\"p1056\"}],\"tooltips\":[[\"name\",\"@{name}\"],[\"accuracy\",\"@{accuracy}\"]]}},{\"type\":\"object\",\"name\":\"SaveTool\",\"id\":\"p1038\"},{\"type\":\"object\",\"name\":\"PanTool\",\"id\":\"p1039\"},{\"type\":\"object\",\"name\":\"BoxZoomTool\",\"id\":\"p1040\",\"attributes\":{\"overlay\":{\"type\":\"object\",\"name\":\"BoxAnnotation\",\"id\":\"p1041\",\"attributes\":{\"syncable\":false,\"level\":\"overlay\",\"visible\":false,\"left\":{\"type\":\"number\",\"value\":\"nan\"},\"right\":{\"type\":\"number\",\"value\":\"nan\"},\"top\":{\"type\":\"number\",\"value\":\"nan\"},\"bottom\":{\"type\":\"number\",\"value\":\"nan\"},\"left_units\":\"canvas\",\"right_units\":\"canvas\",\"top_units\":\"canvas\",\"bottom_units\":\"canvas\",\"line_color\":\"black\",\"line_alpha\":1.0,\"line_width\":2,\"line_dash\":[4,4],\"fill_color\":\"lightgrey\",\"fill_alpha\":0.5}}}},{\"type\":\"object\",\"name\":\"ResetTool\",\"id\":\"p1046\"}],\"active_drag\":{\"id\":\"p1039\"},\"active_scroll\":{\"id\":\"p1014\"}}},\"left\":[{\"type\":\"object\",\"name\":\"LinearAxis\",\"id\":\"p1033\",\"attributes\":{\"ticker\":{\"type\":\"object\",\"name\":\"BasicTicker\",\"id\":\"p1034\",\"attributes\":{\"mantissas\":[1,2,5]}},\"formatter\":{\"type\":\"object\",\"name\":\"BasicTickFormatter\",\"id\":\"p1035\"},\"axis_label\":\"accuracy\",\"major_label_policy\":{\"type\":\"object\",\"name\":\"AllLabels\",\"id\":\"p1036\"}}}],\"below\":[{\"type\":\"object\",\"name\":\"CategoricalAxis\",\"id\":\"p1028\",\"attributes\":{\"ticker\":{\"type\":\"object\",\"name\":\"CategoricalTicker\",\"id\":\"p1029\"},\"formatter\":{\"type\":\"object\",\"name\":\"CategoricalTickFormatter\",\"id\":\"p1030\"},\"axis_label\":\"name\",\"major_label_policy\":{\"type\":\"object\",\"name\":\"AllLabels\",\"id\":\"p1031\"}}}],\"center\":[{\"type\":\"object\",\"name\":\"Grid\",\"id\":\"p1032\",\"attributes\":{\"axis\":{\"id\":\"p1028\"},\"grid_line_color\":null}},{\"type\":\"object\",\"name\":\"Grid\",\"id\":\"p1037\",\"attributes\":{\"dimension\":1,\"axis\":{\"id\":\"p1033\"},\"grid_line_color\":null}}],\"min_border_top\":10,\"min_border_bottom\":10,\"min_border_left\":10,\"min_border_right\":10,\"output_backend\":\"webgl\"}},{\"type\":\"object\",\"name\":\"Spacer\",\"id\":\"p1061\",\"attributes\":{\"name\":\"HSpacer00947\",\"stylesheets\":[\"\\n:host(.pn-loading):before, .pn-loading:before {\\n  background-color: #c3c3c3;\\n  mask-size: auto calc(min(50%, 400px));\\n  -webkit-mask-size: auto calc(min(50%, 400px));\\n}\",{\"id\":\"p1007\"},{\"id\":\"p1005\"},{\"id\":\"p1006\"}],\"margin\":0,\"sizing_mode\":\"stretch_width\",\"align\":\"start\"}}]}}],\"defs\":[{\"type\":\"model\",\"name\":\"ReactiveHTML1\"},{\"type\":\"model\",\"name\":\"FlexBox1\",\"properties\":[{\"name\":\"align_content\",\"kind\":\"Any\",\"default\":\"flex-start\"},{\"name\":\"align_items\",\"kind\":\"Any\",\"default\":\"flex-start\"},{\"name\":\"flex_direction\",\"kind\":\"Any\",\"default\":\"row\"},{\"name\":\"flex_wrap\",\"kind\":\"Any\",\"default\":\"wrap\"},{\"name\":\"gap\",\"kind\":\"Any\",\"default\":\"\"},{\"name\":\"justify_content\",\"kind\":\"Any\",\"default\":\"flex-start\"}]},{\"type\":\"model\",\"name\":\"FloatPanel1\",\"properties\":[{\"name\":\"config\",\"kind\":\"Any\",\"default\":{\"type\":\"map\"}},{\"name\":\"contained\",\"kind\":\"Any\",\"default\":true},{\"name\":\"position\",\"kind\":\"Any\",\"default\":\"right-top\"},{\"name\":\"offsetx\",\"kind\":\"Any\",\"default\":null},{\"name\":\"offsety\",\"kind\":\"Any\",\"default\":null},{\"name\":\"theme\",\"kind\":\"Any\",\"default\":\"primary\"},{\"name\":\"status\",\"kind\":\"Any\",\"default\":\"normalized\"}]},{\"type\":\"model\",\"name\":\"GridStack1\",\"properties\":[{\"name\":\"mode\",\"kind\":\"Any\",\"default\":\"warn\"},{\"name\":\"ncols\",\"kind\":\"Any\",\"default\":null},{\"name\":\"nrows\",\"kind\":\"Any\",\"default\":null},{\"name\":\"allow_resize\",\"kind\":\"Any\",\"default\":true},{\"name\":\"allow_drag\",\"kind\":\"Any\",\"default\":true},{\"name\":\"state\",\"kind\":\"Any\",\"default\":[]}]},{\"type\":\"model\",\"name\":\"drag1\",\"properties\":[{\"name\":\"slider_width\",\"kind\":\"Any\",\"default\":5},{\"name\":\"slider_color\",\"kind\":\"Any\",\"default\":\"black\"},{\"name\":\"value\",\"kind\":\"Any\",\"default\":50}]},{\"type\":\"model\",\"name\":\"click1\",\"properties\":[{\"name\":\"terminal_output\",\"kind\":\"Any\",\"default\":\"\"},{\"name\":\"debug_name\",\"kind\":\"Any\",\"default\":\"\"},{\"name\":\"clears\",\"kind\":\"Any\",\"default\":0}]},{\"type\":\"model\",\"name\":\"FastWrapper1\",\"properties\":[{\"name\":\"object\",\"kind\":\"Any\",\"default\":null},{\"name\":\"style\",\"kind\":\"Any\",\"default\":null}]},{\"type\":\"model\",\"name\":\"NotificationAreaBase1\",\"properties\":[{\"name\":\"js_events\",\"kind\":\"Any\",\"default\":{\"type\":\"map\"}},{\"name\":\"position\",\"kind\":\"Any\",\"default\":\"bottom-right\"},{\"name\":\"_clear\",\"kind\":\"Any\",\"default\":0}]},{\"type\":\"model\",\"name\":\"NotificationArea1\",\"properties\":[{\"name\":\"js_events\",\"kind\":\"Any\",\"default\":{\"type\":\"map\"}},{\"name\":\"notifications\",\"kind\":\"Any\",\"default\":[]},{\"name\":\"position\",\"kind\":\"Any\",\"default\":\"bottom-right\"},{\"name\":\"_clear\",\"kind\":\"Any\",\"default\":0},{\"name\":\"types\",\"kind\":\"Any\",\"default\":[{\"type\":\"map\",\"entries\":[[\"type\",\"warning\"],[\"background\",\"#ffc107\"],[\"icon\",{\"type\":\"map\",\"entries\":[[\"className\",\"fas fa-exclamation-triangle\"],[\"tagName\",\"i\"],[\"color\",\"white\"]]}]]},{\"type\":\"map\",\"entries\":[[\"type\",\"info\"],[\"background\",\"#007bff\"],[\"icon\",{\"type\":\"map\",\"entries\":[[\"className\",\"fas fa-info-circle\"],[\"tagName\",\"i\"],[\"color\",\"white\"]]}]]}]}]},{\"type\":\"model\",\"name\":\"Notification\",\"properties\":[{\"name\":\"background\",\"kind\":\"Any\",\"default\":null},{\"name\":\"duration\",\"kind\":\"Any\",\"default\":3000},{\"name\":\"icon\",\"kind\":\"Any\",\"default\":null},{\"name\":\"message\",\"kind\":\"Any\",\"default\":\"\"},{\"name\":\"notification_type\",\"kind\":\"Any\",\"default\":null},{\"name\":\"_destroyed\",\"kind\":\"Any\",\"default\":false}]},{\"type\":\"model\",\"name\":\"TemplateActions1\",\"properties\":[{\"name\":\"open_modal\",\"kind\":\"Any\",\"default\":0},{\"name\":\"close_modal\",\"kind\":\"Any\",\"default\":0}]},{\"type\":\"model\",\"name\":\"BootstrapTemplateActions1\",\"properties\":[{\"name\":\"open_modal\",\"kind\":\"Any\",\"default\":0},{\"name\":\"close_modal\",\"kind\":\"Any\",\"default\":0}]},{\"type\":\"model\",\"name\":\"TemplateEditor1\",\"properties\":[{\"name\":\"layout\",\"kind\":\"Any\",\"default\":[]}]},{\"type\":\"model\",\"name\":\"MaterialTemplateActions1\",\"properties\":[{\"name\":\"open_modal\",\"kind\":\"Any\",\"default\":0},{\"name\":\"close_modal\",\"kind\":\"Any\",\"default\":0}]},{\"type\":\"model\",\"name\":\"copy_to_clipboard1\",\"properties\":[{\"name\":\"fill\",\"kind\":\"Any\",\"default\":\"none\"},{\"name\":\"value\",\"kind\":\"Any\",\"default\":null}]}]}};\n",
       "  var render_items = [{\"docid\":\"9556d6e6-b4c6-4fb6-bc84-c7c385e8917f\",\"roots\":{\"p1004\":\"cec8aec6-dcb0-40b5-82e2-ef35db971b8c\"},\"root_ids\":[\"p1004\"]}];\n",
       "  var docs = Object.values(docs_json)\n",
       "  if (!docs) {\n",
       "    return\n",
       "  }\n",
       "  const py_version = docs[0].version.replace('rc', '-rc.').replace('.dev', '-dev.')\n",
       "  async function embed_document(root) {\n",
       "    var Bokeh = get_bokeh(root)\n",
       "    await Bokeh.embed.embed_items_notebook(docs_json, render_items);\n",
       "    for (const render_item of render_items) {\n",
       "      for (const root_id of render_item.root_ids) {\n",
       "\tconst id_el = document.getElementById(root_id)\n",
       "\tif (id_el.children.length && id_el.children[0].hasAttribute('data-root-id')) {\n",
       "\t  const root_el = id_el.children[0]\n",
       "\t  root_el.id = root_el.id + '-rendered'\n",
       "\t  for (const child of root_el.children) {\n",
       "            // Ensure JupyterLab does not capture keyboard shortcuts\n",
       "            // see: https://jupyterlab.readthedocs.io/en/4.1.x/extension/notebook.html#keyboard-interaction-model\n",
       "\t    child.setAttribute('data-lm-suppress-shortcuts', 'true')\n",
       "\t  }\n",
       "\t}\n",
       "      }\n",
       "    }\n",
       "  }\n",
       "  function get_bokeh(root) {\n",
       "    if (root.Bokeh === undefined) {\n",
       "      return null\n",
       "    } else if (root.Bokeh.version !== py_version) {\n",
       "      if (root.Bokeh.versions === undefined || !root.Bokeh.versions.has(py_version)) {\n",
       "\treturn null\n",
       "      }\n",
       "      return root.Bokeh.versions.get(py_version);\n",
       "    } else if (root.Bokeh.version === py_version) {\n",
       "      return root.Bokeh\n",
       "    }\n",
       "    return null\n",
       "  }\n",
       "  function is_loaded(root) {\n",
       "    var Bokeh = get_bokeh(root)\n",
       "    return (Bokeh != null && Bokeh.Panel !== undefined)\n",
       "  }\n",
       "  if (is_loaded(root)) {\n",
       "    embed_document(root);\n",
       "  } else {\n",
       "    var attempts = 0;\n",
       "    var timer = setInterval(function(root) {\n",
       "      if (is_loaded(root)) {\n",
       "        clearInterval(timer);\n",
       "        embed_document(root);\n",
       "      } else if (document.readyState == \"complete\") {\n",
       "        attempts++;\n",
       "        if (attempts > 200) {\n",
       "          clearInterval(timer);\n",
       "\t  var Bokeh = get_bokeh(root)\n",
       "\t  if (Bokeh == null || Bokeh.Panel == null) {\n",
       "            console.warn(\"Panel: ERROR: Unable to run Panel code because Bokeh or Panel library is missing\");\n",
       "\t  } else {\n",
       "\t    console.warn(\"Panel: WARNING: Attempting to render but not all required libraries could be resolved.\")\n",
       "\t    embed_document(root)\n",
       "\t  }\n",
       "        }\n",
       "      }\n",
       "    }, 25, root)\n",
       "  }\n",
       "})(window);</script>"
      ],
      "text/plain": [
       ":Bars   [name]   (accuracy)"
      ]
     },
     "execution_count": 19,
     "metadata": {
      "application/vnd.holoviews_exec.v0+json": {
       "id": "p1004"
      }
     },
     "output_type": "execute_result"
    }
   ],
   "source": [
    "pl.DataFrame(accuracy).plot.bar(\n",
    "    x='name', \n",
    "    y='accuracy'\n",
    ")"
   ]
  },
  {
   "cell_type": "code",
   "execution_count": null,
   "id": "412c6e59-15e8-42b8-9bf6-bf62bef359dc",
   "metadata": {
    "jupyter": {
     "is_executing": true
    }
   },
   "outputs": [],
   "source": []
  }
 ],
 "metadata": {
  "kernelspec": {
   "display_name": "Python 3 (ipykernel)",
   "language": "python",
   "name": "python3"
  },
  "language_info": {
   "codemirror_mode": {
    "name": "ipython",
    "version": 3
   },
   "file_extension": ".py",
   "mimetype": "text/x-python",
   "name": "python",
   "nbconvert_exporter": "python",
   "pygments_lexer": "ipython3",
   "version": "3.12.4"
  }
 },
 "nbformat": 4,
 "nbformat_minor": 5
}
